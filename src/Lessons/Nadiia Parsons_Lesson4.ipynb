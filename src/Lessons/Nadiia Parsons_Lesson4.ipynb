{
 "cells": [
  {
   "cell_type": "code",
   "execution_count": 1,
   "metadata": {},
   "outputs": [],
   "source": [
    "import pandas as pd"
   ]
  },
  {
   "cell_type": "code",
   "execution_count": 8,
   "metadata": {},
   "outputs": [
    {
     "data": {
      "text/html": [
       "<div>\n",
       "<style scoped>\n",
       "    .dataframe tbody tr th:only-of-type {\n",
       "        vertical-align: middle;\n",
       "    }\n",
       "\n",
       "    .dataframe tbody tr th {\n",
       "        vertical-align: top;\n",
       "    }\n",
       "\n",
       "    .dataframe thead th {\n",
       "        text-align: right;\n",
       "    }\n",
       "</style>\n",
       "<table border=\"1\" class=\"dataframe\">\n",
       "  <thead>\n",
       "    <tr style=\"text-align: right;\">\n",
       "      <th></th>\n",
       "      <th>VegetableName</th>\n",
       "      <th>Fat</th>\n",
       "      <th>Carbs</th>\n",
       "      <th>Protein</th>\n",
       "    </tr>\n",
       "  </thead>\n",
       "  <tbody>\n",
       "    <tr>\n",
       "      <th>0</th>\n",
       "      <td>Cucumber</td>\n",
       "      <td>0.1</td>\n",
       "      <td>1.4</td>\n",
       "      <td>0.4</td>\n",
       "    </tr>\n",
       "    <tr>\n",
       "      <th>1</th>\n",
       "      <td>Tomato</td>\n",
       "      <td>0.3</td>\n",
       "      <td>4.2</td>\n",
       "      <td>0.8</td>\n",
       "    </tr>\n",
       "    <tr>\n",
       "      <th>2</th>\n",
       "      <td>Potato</td>\n",
       "      <td>0.0</td>\n",
       "      <td>13.0</td>\n",
       "      <td>1.0</td>\n",
       "    </tr>\n",
       "    <tr>\n",
       "      <th>3</th>\n",
       "      <td>Onion</td>\n",
       "      <td>0.1</td>\n",
       "      <td>6.9</td>\n",
       "      <td>0.9</td>\n",
       "    </tr>\n",
       "  </tbody>\n",
       "</table>\n",
       "</div>"
      ],
      "text/plain": [
       "  VegetableName  Fat  Carbs  Protein\n",
       "0      Cucumber  0.1    1.4      0.4\n",
       "1        Tomato  0.3    4.2      0.8\n",
       "2        Potato  0.0   13.0      1.0\n",
       "3         Onion  0.1    6.9      0.9"
      ]
     },
     "execution_count": 8,
     "metadata": {},
     "output_type": "execute_result"
    }
   ],
   "source": [
    "df = pd.DataFrame(\n",
    "    data = {\n",
    "        'VegetableName': ['Cucumber', 'Tomato', 'Potato', 'Onion'],\n",
    "        'Fat': [0.1, 0.3, 0., 0.1],\n",
    "        'Carbs': [1.4, 4.2, 13., 6.9],\n",
    "        'Protein': [0.4, 0.8, 1., 0.9]\n",
    "    }\n",
    ")\n",
    "\n",
    "df\n"
   ]
  },
  {
   "cell_type": "code",
   "execution_count": 9,
   "metadata": {},
   "outputs": [
    {
     "name": "stdout",
     "output_type": "stream",
     "text": [
      "RangeIndex(start=0, stop=4, step=1)\n",
      "Index(['VegetableName', 'Fat', 'Carbs', 'Protein'], dtype='object')\n"
     ]
    },
    {
     "data": {
      "text/html": [
       "<div>\n",
       "<style scoped>\n",
       "    .dataframe tbody tr th:only-of-type {\n",
       "        vertical-align: middle;\n",
       "    }\n",
       "\n",
       "    .dataframe tbody tr th {\n",
       "        vertical-align: top;\n",
       "    }\n",
       "\n",
       "    .dataframe thead th {\n",
       "        text-align: right;\n",
       "    }\n",
       "</style>\n",
       "<table border=\"1\" class=\"dataframe\">\n",
       "  <thead>\n",
       "    <tr style=\"text-align: right;\">\n",
       "      <th></th>\n",
       "      <th>Fat</th>\n",
       "      <th>Carbs</th>\n",
       "      <th>Protein</th>\n",
       "    </tr>\n",
       "    <tr>\n",
       "      <th>VegetableName</th>\n",
       "      <th></th>\n",
       "      <th></th>\n",
       "      <th></th>\n",
       "    </tr>\n",
       "  </thead>\n",
       "  <tbody>\n",
       "    <tr>\n",
       "      <th>Cucumber</th>\n",
       "      <td>0.1</td>\n",
       "      <td>1.4</td>\n",
       "      <td>0.4</td>\n",
       "    </tr>\n",
       "    <tr>\n",
       "      <th>Tomato</th>\n",
       "      <td>0.3</td>\n",
       "      <td>4.2</td>\n",
       "      <td>0.8</td>\n",
       "    </tr>\n",
       "    <tr>\n",
       "      <th>Potato</th>\n",
       "      <td>0.0</td>\n",
       "      <td>13.0</td>\n",
       "      <td>1.0</td>\n",
       "    </tr>\n",
       "    <tr>\n",
       "      <th>Onion</th>\n",
       "      <td>0.1</td>\n",
       "      <td>6.9</td>\n",
       "      <td>0.9</td>\n",
       "    </tr>\n",
       "  </tbody>\n",
       "</table>\n",
       "</div>"
      ],
      "text/plain": [
       "               Fat  Carbs  Protein\n",
       "VegetableName                     \n",
       "Cucumber       0.1    1.4      0.4\n",
       "Tomato         0.3    4.2      0.8\n",
       "Potato         0.0   13.0      1.0\n",
       "Onion          0.1    6.9      0.9"
      ]
     },
     "execution_count": 9,
     "metadata": {},
     "output_type": "execute_result"
    }
   ],
   "source": [
    "print(df.index)\n",
    "print(df.columns)\n",
    "df.set_index('VegetableName', inplace=True)\n",
    "df"
   ]
  },
  {
   "cell_type": "code",
   "execution_count": 10,
   "metadata": {},
   "outputs": [
    {
     "data": {
      "text/plain": [
       "Fat        0.1\n",
       "Carbs      1.4\n",
       "Protein    0.4\n",
       "Name: Cucumber, dtype: float64"
      ]
     },
     "execution_count": 10,
     "metadata": {},
     "output_type": "execute_result"
    }
   ],
   "source": [
    "df.loc['Cucumber']"
   ]
  },
  {
   "cell_type": "code",
   "execution_count": 12,
   "metadata": {},
   "outputs": [
    {
     "data": {
      "text/plain": [
       "Fat         0.0\n",
       "Carbs      13.0\n",
       "Protein     1.0\n",
       "Name: Potato, dtype: float64"
      ]
     },
     "execution_count": 12,
     "metadata": {},
     "output_type": "execute_result"
    }
   ],
   "source": [
    "df.iloc[2]"
   ]
  },
  {
   "cell_type": "code",
   "execution_count": 13,
   "metadata": {},
   "outputs": [
    {
     "data": {
      "text/html": [
       "<div>\n",
       "<style scoped>\n",
       "    .dataframe tbody tr th:only-of-type {\n",
       "        vertical-align: middle;\n",
       "    }\n",
       "\n",
       "    .dataframe tbody tr th {\n",
       "        vertical-align: top;\n",
       "    }\n",
       "\n",
       "    .dataframe thead th {\n",
       "        text-align: right;\n",
       "    }\n",
       "</style>\n",
       "<table border=\"1\" class=\"dataframe\">\n",
       "  <thead>\n",
       "    <tr style=\"text-align: right;\">\n",
       "      <th></th>\n",
       "      <th>Fat</th>\n",
       "      <th>Carbs</th>\n",
       "      <th>Protein</th>\n",
       "    </tr>\n",
       "    <tr>\n",
       "      <th>VegetableName</th>\n",
       "      <th></th>\n",
       "      <th></th>\n",
       "      <th></th>\n",
       "    </tr>\n",
       "  </thead>\n",
       "  <tbody>\n",
       "    <tr>\n",
       "      <th>Cucumber</th>\n",
       "      <td>0.1</td>\n",
       "      <td>1.4</td>\n",
       "      <td>0.4</td>\n",
       "    </tr>\n",
       "    <tr>\n",
       "      <th>Tomato</th>\n",
       "      <td>0.3</td>\n",
       "      <td>4.2</td>\n",
       "      <td>0.8</td>\n",
       "    </tr>\n",
       "  </tbody>\n",
       "</table>\n",
       "</div>"
      ],
      "text/plain": [
       "               Fat  Carbs  Protein\n",
       "VegetableName                     \n",
       "Cucumber       0.1    1.4      0.4\n",
       "Tomato         0.3    4.2      0.8"
      ]
     },
     "execution_count": 13,
     "metadata": {},
     "output_type": "execute_result"
    }
   ],
   "source": [
    "df.iloc[:2]"
   ]
  },
  {
   "cell_type": "code",
   "execution_count": 15,
   "metadata": {},
   "outputs": [
    {
     "data": {
      "text/plain": [
       "VegetableName\n",
       "Cucumber    0.4\n",
       "Tomato      0.8\n",
       "Potato      1.0\n",
       "Onion       0.9\n",
       "Name: Protein, dtype: float64"
      ]
     },
     "execution_count": 15,
     "metadata": {},
     "output_type": "execute_result"
    }
   ],
   "source": [
    "df['Protein']"
   ]
  },
  {
   "cell_type": "code",
   "execution_count": 16,
   "metadata": {},
   "outputs": [
    {
     "name": "stdout",
     "output_type": "stream",
     "text": [
      "<class 'pandas.core.series.Series'>\n"
     ]
    }
   ],
   "source": [
    "print(type(df['Protein']))"
   ]
  },
  {
   "cell_type": "code",
   "execution_count": 17,
   "metadata": {},
   "outputs": [
    {
     "name": "stdout",
     "output_type": "stream",
     "text": [
      "<class 'pandas.core.frame.DataFrame'>\n"
     ]
    }
   ],
   "source": [
    "# DataFrame needs to be a list\n",
    "print(type(df[['Protein']]))"
   ]
  },
  {
   "cell_type": "code",
   "execution_count": 25,
   "metadata": {},
   "outputs": [
    {
     "name": "stdout",
     "output_type": "stream",
     "text": [
      "<class 'numpy.ndarray'>\n"
     ]
    }
   ],
   "source": [
    "protein = df['Protein']\n",
    "print(type(protein.values))"
   ]
  },
  {
   "cell_type": "code",
   "execution_count": 24,
   "metadata": {},
   "outputs": [
    {
     "name": "stderr",
     "output_type": "stream",
     "text": [
      "<>:2: SyntaxWarning: list indices must be integers or slices, not tuple; perhaps you missed a comma?\n",
      "<>:2: SyntaxWarning: list indices must be integers or slices, not tuple; perhaps you missed a comma?\n",
      "/var/folders/g2/jdj1wm7n7lqg0315d1ylkc7xw_5p47/T/ipykernel_5078/616544878.py:2: SyntaxWarning: list indices must be integers or slices, not tuple; perhaps you missed a comma?\n",
      "  [0.1, 0.3, 0., 0.1]\n",
      "/var/folders/g2/jdj1wm7n7lqg0315d1ylkc7xw_5p47/T/ipykernel_5078/616544878.py:2: SyntaxWarning: list indices must be integers or slices, not tuple; perhaps you missed a comma?\n",
      "  [0.1, 0.3, 0., 0.1]\n",
      "/var/folders/g2/jdj1wm7n7lqg0315d1ylkc7xw_5p47/T/ipykernel_5078/616544878.py:2: SyntaxWarning: list indices must be integers or slices, not tuple; perhaps you missed a comma?\n",
      "  [0.1, 0.3, 0., 0.1]\n",
      "/var/folders/g2/jdj1wm7n7lqg0315d1ylkc7xw_5p47/T/ipykernel_5078/616544878.py:2: SyntaxWarning: list indices must be integers or slices, not tuple; perhaps you missed a comma?\n",
      "  [0.1, 0.3, 0., 0.1]\n"
     ]
    },
    {
     "ename": "TypeError",
     "evalue": "list indices must be integers or slices, not tuple",
     "output_type": "error",
     "traceback": [
      "\u001b[0;31m---------------------------------------------------------------------------\u001b[0m",
      "\u001b[0;31mTypeError\u001b[0m                                 Traceback (most recent call last)",
      "Cell \u001b[0;32mIn [24], line 2\u001b[0m\n\u001b[1;32m      1\u001b[0m dataF \u001b[39m=\u001b[39m {\n\u001b[0;32m----> 2\u001b[0m    [\u001b[39m0.1\u001b[39;49m, \u001b[39m0.3\u001b[39;49m, \u001b[39m0.\u001b[39;49m, \u001b[39m0.1\u001b[39;49m]\n\u001b[1;32m      3\u001b[0m    [\u001b[39m1.4\u001b[39;49m, \u001b[39m4.2\u001b[39;49m, \u001b[39m13.\u001b[39;49m, \u001b[39m6.9\u001b[39;49m]\n\u001b[1;32m      4\u001b[0m    [\u001b[39m0.4\u001b[39m, \u001b[39m0.8\u001b[39m, \u001b[39m1.\u001b[39m, \u001b[39m0.9\u001b[39m]\n\u001b[1;32m      5\u001b[0m    }\n\u001b[1;32m      7\u001b[0m df \u001b[39m=\u001b[39m pd\u001b[39m.\u001b[39mDataFrame(\n\u001b[1;32m      8\u001b[0m    data\u001b[39m=\u001b[39mdataF,\n\u001b[1;32m      9\u001b[0m )\n\u001b[1;32m     10\u001b[0m df\n",
      "\u001b[0;31mTypeError\u001b[0m: list indices must be integers or slices, not tuple"
     ]
    }
   ],
   "source": [
    " dataF = {\n",
    "    [0.1, 0.3, 0., 0.1],\n",
    "    [1.4, 4.2, 13., 6.9],\n",
    "    [0.4, 0.8, 1., 0.9]\n",
    "    }\n",
    "\n",
    "df = pd.DataFrame(\n",
    "    data=dataF,\n",
    ")\n",
    "df"
   ]
  },
  {
   "cell_type": "code",
   "execution_count": 27,
   "metadata": {},
   "outputs": [
    {
     "ename": "OperationalError",
     "evalue": "unable to open database file",
     "output_type": "error",
     "traceback": [
      "\u001b[0;31m---------------------------------------------------------------------------\u001b[0m",
      "\u001b[0;31mOperationalError\u001b[0m                          Traceback (most recent call last)",
      "Cell \u001b[0;32mIn [27], line 3\u001b[0m\n\u001b[1;32m      1\u001b[0m \u001b[39mimport\u001b[39;00m \u001b[39msqlite3\u001b[39;00m\n\u001b[0;32m----> 3\u001b[0m connection \u001b[39m=\u001b[39m sqlite3\u001b[39m.\u001b[39;49mconnect(\u001b[39m'\u001b[39;49m\u001b[39mFiles/TitanicDataset.db\u001b[39;49m\u001b[39m'\u001b[39;49m)\n",
      "\u001b[0;31mOperationalError\u001b[0m: unable to open database file"
     ]
    }
   ],
   "source": [
    "import sqlite3\n",
    "\n",
    "connection = sqlite3.connect('Files/TitanicDataset.db')"
   ]
  },
  {
   "cell_type": "code",
   "execution_count": 32,
   "metadata": {},
   "outputs": [
    {
     "data": {
      "text/plain": [
       "0.1    2\n",
       "0.3    1\n",
       "0.0    1\n",
       "Name: Fat, dtype: int64"
      ]
     },
     "execution_count": 32,
     "metadata": {},
     "output_type": "execute_result"
    }
   ],
   "source": [
    "df['Fat'].value_counts()"
   ]
  },
  {
   "cell_type": "code",
   "execution_count": null,
   "metadata": {},
   "outputs": [],
   "source": []
  }
 ],
 "metadata": {
  "kernelspec": {
   "display_name": "Python 3.10.8 64-bit",
   "language": "python",
   "name": "python3"
  },
  "language_info": {
   "codemirror_mode": {
    "name": "ipython",
    "version": 3
   },
   "file_extension": ".py",
   "mimetype": "text/x-python",
   "name": "python",
   "nbconvert_exporter": "python",
   "pygments_lexer": "ipython3",
   "version": "3.10.8"
  },
  "orig_nbformat": 4,
  "vscode": {
   "interpreter": {
    "hash": "b0fa6594d8f4cbf19f97940f81e996739fb7646882a419484c72d19e05852a7e"
   }
  }
 },
 "nbformat": 4,
 "nbformat_minor": 2
}
