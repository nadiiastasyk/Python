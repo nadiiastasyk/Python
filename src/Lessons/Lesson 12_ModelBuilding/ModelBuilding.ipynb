{
 "cells": [
  {
   "cell_type": "markdown",
   "metadata": {
    "slideshow": {
     "slide_type": "slide"
    }
   },
   "source": [
    "# Робота з неперервними змінними"
   ]
  },
  {
   "cell_type": "markdown",
   "metadata": {
    "slideshow": {
     "slide_type": "slide"
    }
   },
   "source": [
    "&emsp;&emsp;Для ілюстрації прикладів скористаємося моделлю лінійної регресії, яка оцінює вартість квадратного метра нерухомості:"
   ]
  },
  {
   "cell_type": "code",
   "execution_count": 66,
   "metadata": {
    "slideshow": {
     "slide_type": "skip"
    }
   },
   "outputs": [],
   "source": [
    "import pandas as pd\n",
    "from sklearn.linear_model import LinearRegression\n",
    "from sklearn.model_selection import train_test_split\n",
    "from sklearn.metrics import mean_squared_error\n",
    "from matplotlib import pyplot as plt"
   ]
  },
  {
   "cell_type": "code",
   "execution_count": 67,
   "metadata": {
    "slideshow": {
     "slide_type": "subslide"
    }
   },
   "outputs": [],
   "source": [
    "# прочитаємо дані з файлу\n",
    "data = pd.read_csv('RealEstate.csv', sep=',', header=0)\n",
    "\n",
    "# оберемо незалежні змінні\n",
    "X = data[['X2 house age', 'X3 distance to the nearest MRT station',\n",
    "          'X4 number of convenience stores', 'X1 transaction date']]\n",
    "\n",
    "# виберемо цільову змінну\n",
    "y = data['Y house price of unit area'].values"
   ]
  },
  {
   "cell_type": "code",
   "execution_count": 68,
   "metadata": {
    "slideshow": {
     "slide_type": "subslide"
    }
   },
   "outputs": [],
   "source": [
    "# розділимо дані на 2 набори: навчальну та тестову групу\n",
    "X_train, X_test, y_train, y_test = train_test_split(\n",
    "    X,  # перший масив, який потрібно розділити\n",
    "    y,  # другий масив, який потрібно роздолити\n",
    "    test_size=0.2,  # розмір меншої групи (20% від загальної кількості даних)\n",
    "    random_state=42  # фіксація випадкового стану: тепер при перезапуску групи будуть однаковими\n",
    ")\n",
    "\n",
    "# формальність для того, щоб не бачити попередження про зміни на зрізі з таблиці\n",
    "X_train, X_test = X_train.copy(), X_test.copy()"
   ]
  },
  {
   "cell_type": "code",
   "execution_count": 69,
   "metadata": {
    "slideshow": {
     "slide_type": "subslide"
    }
   },
   "outputs": [
    {
     "name": "stdout",
     "output_type": "stream",
     "text": [
      "Помилка на навчальному наборі:  88.6734346626267\n",
      "Помилка на тестовому наборі:  56.11619009787597\n"
     ]
    }
   ],
   "source": [
    "# побудуємо модель\n",
    "mdl = LinearRegression().fit(X_train, y_train)\n",
    "\n",
    "# оцінимо точність моделі\n",
    "train_predictions = mdl.predict(X_train)\n",
    "test_predictions = mdl.predict(X_test)\n",
    "\n",
    "print('Помилка на навчальному наборі: ', mean_squared_error(y_train, train_predictions))\n",
    "print('Помилка на тестовому наборі: ', mean_squared_error(y_test, test_predictions))"
   ]
  },
  {
   "cell_type": "markdown",
   "metadata": {
    "slideshow": {
     "slide_type": "slide"
    }
   },
   "source": [
    "&emsp;&emsp;Маючи базову модель, можемо приступати до поліпшень.\n",
    "\n",
    "&emsp;&emsp;Перше про що варто сказати - більшість моделей, які не засновані на деревах прийняття рішень (моделі лінійної та логістичної регресії, нейронні мережі та багато інших), краще працюють, коли змінні нормально розподілені.\n",
    "\n",
    "&emsp;&emsp;Подивимось на розподіл наших змінних:"
   ]
  },
  {
   "cell_type": "code",
   "execution_count": 74,
   "metadata": {
    "slideshow": {
     "slide_type": "subslide"
    }
   },
   "outputs": [
    {
     "data": {
      "image/png": "[encoded data removed]",
      "text/plain": [
       "<Figure size 1296x216 with 4 Axes>"
      ]
     },
     "metadata": {
      "needs_background": "light"
     },
     "output_type": "display_data"
    }
   ],
   "source": [
    "plt.figure(figsize=(18, 3))\n",
    "\n",
    "plt.subplot(141)\n",
    "plt.hist(X['X3 distance to the nearest MRT station'])\n",
    "plt.title('X3 distance to the nearest MRT station')\n",
    "\n",
    "plt.subplot(142)\n",
    "plt.hist(X['X4 number of convenience stores'])\n",
    "plt.title('X4 number of convenience stores')\n",
    "\n",
    "plt.subplot(143)\n",
    "plt.hist(X['X1 transaction date'])\n",
    "plt.title('X1 transaction date')\n",
    "\n",
    "plt.subplot(144)\n",
    "plt.hist(X['X2 house age'], bins=20)\n",
    "plt.title('X2 house age')\n",
    "\n",
    "plt.show()"
   ]
  },
  {
   "cell_type": "markdown",
   "metadata": {
    "slideshow": {
     "slide_type": "slide"
    }
   },
   "source": [
    "&emsp;&emsp;Вік будинку, схоже, містить усередині 2 кластери; до нього ми повернемося згодом. Відстань до найближчої станції виглядає швидше як логнормальний або експоненційний розподіл. Зазвичай, такий розподіл можна приблизно привести до нормального за допомогою логарифмування:"
   ]
  },
  {
   "cell_type": "code",
   "execution_count": 75,
   "metadata": {
    "slideshow": {
     "slide_type": "subslide"
    }
   },
   "outputs": [
    {
     "data": {
      "image/png": "[encoded data removed]",
      "text/plain": [
       "<Figure size 432x288 with 1 Axes>"
      ]
     },
     "metadata": {
      "needs_background": "light"
     },
     "output_type": "display_data"
    }
   ],
   "source": [
    "import numpy as np\n",
    "\n",
    "plt.hist(np.log(X['X3 distance to the nearest MRT station']))\n",
    "plt.title('Log of distance')\n",
    "plt.show()"
   ]
  },
  {
   "cell_type": "markdown",
   "metadata": {
    "slideshow": {
     "slide_type": "slide"
    }
   },
   "source": [
    "&emsp;&emsp;Спробуємо додати цю зміну до моделі:"
   ]
  },
  {
   "cell_type": "code",
   "execution_count": 76,
   "metadata": {
    "slideshow": {
     "slide_type": "subslide"
    }
   },
   "outputs": [
    {
     "name": "stdout",
     "output_type": "stream",
     "text": [
      "Помилка на навчальному наборі:  78.45454226669656\n",
      "Помилка на тестовому наборі:  55.05963686200911\n"
     ]
    }
   ],
   "source": [
    "X_train['X3 distance to the nearest MRT station'] = np.log(X_train['X3 distance to the nearest MRT station'])\n",
    "X_test['X3 distance to the nearest MRT station'] = np.log(X_test['X3 distance to the nearest MRT station'])\n",
    "\n",
    "mdl = LinearRegression().fit(X_train, y_train)\n",
    "\n",
    "train_predictions = mdl.predict(X_train)\n",
    "test_predictions = mdl.predict(X_test)\n",
    "\n",
    "print('Помилка на навчальному наборі: ', mean_squared_error(y_train, train_predictions))\n",
    "print('Помилка на тестовому наборі: ', mean_squared_error(y_test, test_predictions))"
   ]
  },
  {
   "cell_type": "markdown",
   "metadata": {
    "slideshow": {
     "slide_type": "slide"
    }
   },
   "source": [
    "&emsp;&emsp;Як і очікувалося, помилка трохи впала на обох наборах даних. Те саме можна спробувати зробити з роком і кількістю магазинів, проте на рівномірно розподілених змінних це рідко спрацьовує. Більш безпечною функцією, ніж логарифм, є log(x + 1) (log1p в numpy), оскільки ця функція може працювати з даними, у яких є значення 0."
   ]
  },
  {
   "cell_type": "code",
   "execution_count": 77,
   "metadata": {
    "slideshow": {
     "slide_type": "subslide"
    }
   },
   "outputs": [
    {
     "name": "stdout",
     "output_type": "stream",
     "text": [
      "Помилка на навчальному наборі:  78.43600290406138\n",
      "Помилка на тестовому наборі:  53.81152516086925\n"
     ]
    }
   ],
   "source": [
    "X_train['X4 number of convenience stores'] = np.log1p(X_train['X4 number of convenience stores'])\n",
    "X_test['X4 number of convenience stores'] = np.log1p(X_test['X4 number of convenience stores'])\n",
    "\n",
    "mdl = LinearRegression().fit(X_train, y_train)\n",
    "\n",
    "train_predictions = mdl.predict(X_train)\n",
    "test_predictions = mdl.predict(X_test)\n",
    "\n",
    "print('Помилка на навчальному наборі: ', mean_squared_error(y_train, train_predictions))\n",
    "print('Помилка на тестовому наборі: ', mean_squared_error(y_test, test_predictions))"
   ]
  },
  {
   "cell_type": "code",
   "execution_count": 78,
   "metadata": {},
   "outputs": [
    {
     "data": {
      "text/plain": [
       "Text(0.5, 1.0, 'X4 number of convenience stores')"
      ]
     },
     "execution_count": 78,
     "metadata": {},
     "output_type": "execute_result"
    },
    {
     "data": {
      "image/png": "[encoded data removed]",
      "text/plain": [
       "<Figure size 432x288 with 1 Axes>"
      ]
     },
     "metadata": {
      "needs_background": "light"
     },
     "output_type": "display_data"
    }
   ],
   "source": [
    "plt.hist(X_train['X4 number of convenience stores'])\n",
    "plt.title('X4 number of convenience stores')"
   ]
  },
  {
   "cell_type": "code",
   "execution_count": 79,
   "metadata": {
    "slideshow": {
     "slide_type": "subslide"
    }
   },
   "outputs": [
    {
     "name": "stdout",
     "output_type": "stream",
     "text": [
      "Помилка на навчальному наборі:  78.43610464138904\n",
      "Помилка на тестовому наборі:  53.81127112824963\n"
     ]
    }
   ],
   "source": [
    "X_train['X1 transaction date'] = np.log1p(X_train['X1 transaction date'])\n",
    "X_test['X1 transaction date'] = np.log1p(X_test['X1 transaction date'])\n",
    "\n",
    "mdl = LinearRegression().fit(X_train, y_train)\n",
    "\n",
    "train_predictions = mdl.predict(X_train)\n",
    "test_predictions = mdl.predict(X_test)\n",
    "\n",
    "print('Помилка на навчальному наборі: ', mean_squared_error(y_train, train_predictions))\n",
    "print('Помилка на тестовому наборі: ', mean_squared_error(y_test, test_predictions))"
   ]
  },
  {
   "cell_type": "markdown",
   "metadata": {
    "slideshow": {
     "slide_type": "subslide"
    }
   },
   "source": [
    "&emsp;&emsp;Фінально, можна залишити кількість магазинів у форматі логарифму, при цьому рік транзакції після перетворення майже ніяк не вплинув на результат моделі."
   ]
  },
  {
   "cell_type": "markdown",
   "metadata": {
    "slideshow": {
     "slide_type": "slide"
    }
   },
   "source": [
    "&emsp;&emsp;Логорифмування варто спробувати застосувати і до цільової змінної. При цьому варто не забувати застосовувати зворотне перетворення до прогнозів:"
   ]
  },
  {
   "cell_type": "code",
   "execution_count": 80,
   "metadata": {
    "slideshow": {
     "slide_type": "subslide"
    }
   },
   "outputs": [
    {
     "data": {
      "image/png": "[encoded data removed]",
      "text/plain": [
       "<Figure size 432x288 with 1 Axes>"
      ]
     },
     "metadata": {
      "needs_background": "light"
     },
     "output_type": "display_data"
    }
   ],
   "source": [
    "plt.hist(y_train)\n",
    "plt.title('Target variable')\n",
    "plt.show()"
   ]
  },
  {
   "cell_type": "code",
   "execution_count": 81,
   "metadata": {},
   "outputs": [
    {
     "data": {
      "text/plain": [
       "2.0"
      ]
     },
     "execution_count": 81,
     "metadata": {},
     "output_type": "execute_result"
    }
   ],
   "source": [
    "np.exp(np.log(2))"
   ]
  },
  {
   "cell_type": "code",
   "execution_count": 82,
   "metadata": {
    "slideshow": {
     "slide_type": "subslide"
    }
   },
   "outputs": [
    {
     "name": "stdout",
     "output_type": "stream",
     "text": [
      "Помилка на навчальному наборі:  88.06539253830377\n",
      "Помилка на тестовому наборі:  71.26289140300945\n"
     ]
    }
   ],
   "source": [
    "log_y_train = np.log(y_train)\n",
    "\n",
    "mdl = LinearRegression().fit(X_train, log_y_train)\n",
    "\n",
    "train_predictions = np.exp(mdl.predict(X_train))  # беремо експоненту як зворотне перетворення до логарифму\n",
    "test_predictions = np.exp(mdl.predict(X_test))\n",
    "\n",
    "print('Помилка на навчальному наборі: ', mean_squared_error(y_train, train_predictions))\n",
    "print('Помилка на тестовому наборі: ', mean_squared_error(y_test, test_predictions))"
   ]
  },
  {
   "cell_type": "markdown",
   "metadata": {
    "slideshow": {
     "slide_type": "subslide"
    }
   },
   "source": [
    "&emsp;&emsp;У нашому випадку це перетворення не допомогло і помилка тільки зросла. Тому застосуватиме його надалі не будемо."
   ]
  },
  {
   "cell_type": "markdown",
   "metadata": {
    "slideshow": {
     "slide_type": "slide"
    }
   },
   "source": [
    "&emsp;&emsp;Наступний трюк - поділ змінної. Судячи з наших даних, можна припустити, що до певного моменту вік будинку впливає на ціну негативно, але після тенденція змінюється:"
   ]
  },
  {
   "cell_type": "code",
   "execution_count": 83,
   "metadata": {
    "slideshow": {
     "slide_type": "subslide"
    }
   },
   "outputs": [
    {
     "data": {
      "image/png": "[encoded data removed]",
      "text/plain": [
       "<Figure size 432x288 with 1 Axes>"
      ]
     },
     "metadata": {
      "needs_background": "light"
     },
     "output_type": "display_data"
    }
   ],
   "source": [
    "plt.scatter(X['X2 house age'], y)\n",
    "plt.xlabel('X2 house age')\n",
    "plt.ylabel('Price')\n",
    "plt.show()"
   ]
  },
  {
   "cell_type": "markdown",
   "metadata": {
    "slideshow": {
     "slide_type": "subslide"
    }
   },
   "source": [
    "&emsp;&emsp;При чому настає цей момент при віці близько 33 років. Створимо 2 нові змінні: одна набуває значення віку, якщо вік не більше 33 та 0, якщо вік більше 33, а інша навпаки:"
   ]
  },
  {
   "cell_type": "code",
   "execution_count": 84,
   "metadata": {
    "slideshow": {
     "slide_type": "subslide"
    }
   },
   "outputs": [
    {
     "name": "stdout",
     "output_type": "stream",
     "text": [
      "Помилка на навчальному наборі:  74.71641917730415\n",
      "Помилка на тестовому наборі:  46.757105575494236\n"
     ]
    }
   ],
   "source": [
    "age_threshold = 33\n",
    "\n",
    "X_train['LowAge'] = np.where(X_train['X2 house age'] <= age_threshold, X_train['X2 house age'], 0)\n",
    "X_train['HighAge'] = np.where(X_train['X2 house age'] > age_threshold, X_train['X2 house age'], 0)\n",
    "X_test['LowAge'] = np.where(X_test['X2 house age'] <= age_threshold, X_test['X2 house age'], 0)\n",
    "X_test['HighAge'] = np.where(X_test['X2 house age'] > age_threshold, X_test['X2 house age'], 0)\n",
    "\n",
    "mdl = LinearRegression().fit(X_train, y_train)\n",
    "\n",
    "train_predictions = mdl.predict(X_train)\n",
    "test_predictions = mdl.predict(X_test)\n",
    "\n",
    "print('Помилка на навчальному наборі: ', mean_squared_error(y_train, train_predictions))\n",
    "print('Помилка на тестовому наборі: ', mean_squared_error(y_test, test_predictions))"
   ]
  },
  {
   "cell_type": "markdown",
   "metadata": {
    "slideshow": {
     "slide_type": "subslide"
    }
   },
   "source": [
    "&emsp;&emsp;Помилка значно знизилася. Подивимося на отримані коефіцієнти:"
   ]
  },
  {
   "cell_type": "code",
   "execution_count": 14,
   "metadata": {
    "slideshow": {
     "slide_type": "subslide"
    }
   },
   "outputs": [
    {
     "name": "stdout",
     "output_type": "stream",
     "text": [
      "X2 house age :  -0.18755006658272785\n",
      "X3 distance to the nearest MRT station :  -7.430400536775403\n",
      "X4 number of convenience stores :  2.338226073866826\n",
      "X1 transaction date :  14208.51521695304\n",
      "LowAge :  -0.2046401041918287\n",
      "HighAge :  0.017090144968608716\n",
      "constant term:  -108009.5596020216\n"
     ]
    }
   ],
   "source": [
    "for var_name, coef_value in zip(X_train.columns, mdl.coef_):\n",
    "    print(var_name, ': ', coef_value)\n",
    "    \n",
    "print('constant term: ', mdl.intercept_)"
   ]
  },
  {
   "cell_type": "markdown",
   "metadata": {
    "slideshow": {
     "slide_type": "subslide"
    }
   },
   "source": [
    "&emsp;&emsp;Тепер, як і очікувалося, при змінній \"LowAge\" стоїть від'ємний коефіцієнт, що означає, що при зростанні віку до певного порога ціна на нерухомість падає. Коефіцієнт при \"HighAge\" говорить про інше.\n",
    "\n",
    "&emsp;&emsp;Зверніть увагу, що сума коефіцієнтів при \"LowAge\" та \"HighAge\" приблизно дорівнює коефіцієнту при \"X2 house age\". Це тому, що змінні перебувають у лінійної залежності (сума 2х дорівнює 3-ї). Ситуація прямої залежності практично майже не виникає, проте часто можна зустріти дані, в яких деякі змінні дуже сильно корелюють один з одною. Такий ефект називається мультиколлінеарністю і зазвичай призводить до нестабільності моделі. У нашому випадку змінної \"X2 house age\" краще позбутися як зайвої."
   ]
  },
  {
   "cell_type": "code",
   "execution_count": 85,
   "metadata": {
    "slideshow": {
     "slide_type": "subslide"
    }
   },
   "outputs": [
    {
     "name": "stdout",
     "output_type": "stream",
     "text": [
      "Помилка на навчальному наборі:  74.71641917729403\n",
      "Помилка на тестовому наборі:  46.75710557551884\n"
     ]
    }
   ],
   "source": [
    "X_train.drop('X2 house age', axis=1, inplace=True)\n",
    "X_test.drop('X2 house age', axis=1, inplace=True)\n",
    "\n",
    "mdl = LinearRegression().fit(X_train, y_train)\n",
    "\n",
    "train_predictions = mdl.predict(X_train)\n",
    "test_predictions = mdl.predict(X_test)\n",
    "\n",
    "print('Помилка на навчальному наборі: ', mean_squared_error(y_train, train_predictions))\n",
    "print('Помилка на тестовому наборі: ', mean_squared_error(y_test, test_predictions))"
   ]
  },
  {
   "cell_type": "markdown",
   "metadata": {
    "slideshow": {
     "slide_type": "subslide"
    }
   },
   "source": [
    "&emsp;&emsp;Видалення зайвої змінної практично не змінило помилку моделі"
   ]
  },
  {
   "cell_type": "markdown",
   "metadata": {
    "slideshow": {
     "slide_type": "slide"
    }
   },
   "source": [
    "# Робота з дискретними змінними"
   ]
  },
  {
   "cell_type": "markdown",
   "metadata": {
    "slideshow": {
     "slide_type": "slide"
    }
   },
   "source": [
    "&emsp;&emsp;Дискретна (факторна, категоріальна) змінна - це така, яка набуває значення на зліченній (як правило скінченній) множині значень. Прикладом такої змінної може бути клас каюти або стать пасажира в даних про Титанік:"
   ]
  },
  {
   "cell_type": "code",
   "execution_count": 86,
   "metadata": {
    "slideshow": {
     "slide_type": "subslide"
    }
   },
   "outputs": [
    {
     "name": "stdout",
     "output_type": "stream",
     "text": [
      "можливі значення класу каюти:  [3 1 2]\n",
      "можливі значення статі пасажира:  ['male' 'female']\n"
     ]
    }
   ],
   "source": [
    "data = pd.read_csv('TitanicDataset.csv', sep=',', header=0)\n",
    "print('можливі значення класу каюти: ', data['Pclass'].unique())\n",
    "print('можливі значення статі пасажира: ', data['Sex'].unique())"
   ]
  },
  {
   "cell_type": "markdown",
   "metadata": {
    "slideshow": {
     "slide_type": "slide"
    }
   },
   "source": [
    "&emsp;&emsp;Приклади роботи з дискретними змінними розбиратимемо при побудові моделі передбачення ймовірності виживання на Титаніку. Для цього виберемо деякі змінні з наявних даних і розіб'єм їх на навчальну та тестову вибірку:"
   ]
  },
  {
   "cell_type": "code",
   "execution_count": 88,
   "metadata": {
    "slideshow": {
     "slide_type": "subslide"
    }
   },
   "outputs": [],
   "source": [
    "# виберемо кілька змінних з наявних + цільову; при цьому проігноруємо рядки, в яких вік невідомий\n",
    "X = data[['Sex', 'Age', 'Fare', 'Pclass']][~data['Age'].isna()].copy()\n",
    "y = data['Survived'][~data['Age'].isna()].copy()\n",
    "\n",
    "# розділимо дані на 2 набори: навчальну та тестову групу\n",
    "X_train, X_test, y_train, y_test = train_test_split(\n",
    "    X,  # перший масив, який потрібно розділити\n",
    "    y,  # другий масив, який потрібно роздолити\n",
    "    test_size=0.2,  # розмір меншої групи (20% від загальної кількості даних)\n",
    "    random_state=42  # фіксація випадкового стану: тепер при перезапуску групи будуть однаковими\n",
    ")\n",
    "\n",
    "# формальність для того, щоб не бачити попередження про зміни на зрізі з таблиці\n",
    "X_train, X_test = X_train.copy(), X_test.copy()"
   ]
  },
  {
   "cell_type": "markdown",
   "metadata": {
    "slideshow": {
     "slide_type": "subslide"
    }
   },
   "source": [
    "&emsp;&emsp;Працювати безпосередньо з катигорними змінними неможливо. Перед введенням у модель необхідно надати їм числове значення.\n",
    "\n",
    "&emsp;&emsp;У найпростішому випадку, якщо змінна бінарна (приймає лише 2 можливі значення), то зазвичай одному з її значень надають значення 0, а іншому 1. При цьому вибір довільний:"
   ]
  },
  {
   "cell_type": "code",
   "execution_count": 89,
   "metadata": {
    "slideshow": {
     "slide_type": "subslide"
    }
   },
   "outputs": [],
   "source": [
    "X_train['Sex'] = np.where(X_train['Sex'] == 'male', 1, 0)\n",
    "X_test['Sex'] = np.where(X_test['Sex'] == 'male', 1, 0)"
   ]
  },
  {
   "cell_type": "markdown",
   "metadata": {
    "slideshow": {
     "slide_type": "subslide"
    }
   },
   "source": [
    "&emsp;&emsp;Якщо змінна приймає більше двох можливих значень (як у випадку з класом каюти), то її можна представити як n або n-1 бінарних змінних, де n - кількість можливих значень оригінальної змінної:"
   ]
  },
  {
   "cell_type": "code",
   "execution_count": 90,
   "metadata": {
    "slideshow": {
     "slide_type": "subslide"
    }
   },
   "outputs": [
    {
     "data": {
      "text/html": [
       "<div>\n",
       "<style scoped>\n",
       "    .dataframe tbody tr th:only-of-type {\n",
       "        vertical-align: middle;\n",
       "    }\n",
       "\n",
       "    .dataframe tbody tr th {\n",
       "        vertical-align: top;\n",
       "    }\n",
       "\n",
       "    .dataframe thead th {\n",
       "        text-align: right;\n",
       "    }\n",
       "</style>\n",
       "<table border=\"1\" class=\"dataframe\">\n",
       "  <thead>\n",
       "    <tr style=\"text-align: right;\">\n",
       "      <th></th>\n",
       "      <th>x_1</th>\n",
       "      <th>x_2</th>\n",
       "      <th>x_3</th>\n",
       "      <th>Pclass</th>\n",
       "    </tr>\n",
       "  </thead>\n",
       "  <tbody>\n",
       "    <tr>\n",
       "      <th>0</th>\n",
       "      <td>0</td>\n",
       "      <td>1</td>\n",
       "      <td>0</td>\n",
       "      <td>2</td>\n",
       "    </tr>\n",
       "    <tr>\n",
       "      <th>1</th>\n",
       "      <td>0</td>\n",
       "      <td>1</td>\n",
       "      <td>0</td>\n",
       "      <td>2</td>\n",
       "    </tr>\n",
       "    <tr>\n",
       "      <th>2</th>\n",
       "      <td>0</td>\n",
       "      <td>1</td>\n",
       "      <td>0</td>\n",
       "      <td>2</td>\n",
       "    </tr>\n",
       "    <tr>\n",
       "      <th>3</th>\n",
       "      <td>1</td>\n",
       "      <td>0</td>\n",
       "      <td>0</td>\n",
       "      <td>1</td>\n",
       "    </tr>\n",
       "    <tr>\n",
       "      <th>4</th>\n",
       "      <td>0</td>\n",
       "      <td>0</td>\n",
       "      <td>1</td>\n",
       "      <td>3</td>\n",
       "    </tr>\n",
       "  </tbody>\n",
       "</table>\n",
       "</div>"
      ],
      "text/plain": [
       "   x_1  x_2  x_3  Pclass\n",
       "0    0    1    0       2\n",
       "1    0    1    0       2\n",
       "2    0    1    0       2\n",
       "3    1    0    0       1\n",
       "4    0    0    1       3"
      ]
     },
     "execution_count": 90,
     "metadata": {},
     "output_type": "execute_result"
    }
   ],
   "source": [
    "# представлення змінної у вигляді набору бінарних змінних\n",
    "ohe = pd.get_dummies(\n",
    "    X_test['Pclass'],  # значення змінної, яку потрібно перетворити\n",
    "    prefix='x'  # префікс до назви колонки, яка вийде в результаті\n",
    ").reset_index(drop=True)\n",
    "\n",
    "ohe['Pclass'] = X_test['Pclass'].values  # додамо оригінальну змінну до отриманої таблиці для ілюстрації\n",
    "ohe.head()"
   ]
  },
  {
   "cell_type": "markdown",
   "metadata": {
    "slideshow": {
     "slide_type": "subslide"
    }
   },
   "source": [
    "&emsp;&emsp;Суть отриманих змінних така: х_1 набуває значення 1, якщо оригінальна змінна набуває значення 1 і 0 в іншому випадку; х_2 набуває значення 1, якщо оригінальна змінна набуває значення 2 і 0 в іншому випадку і т.д. Отримані змінні називаються фіктивними (dummie), а перетворення називається one-hot-encoding. \n",
    "\n",
    "&emsp;&emsp;Формально, n-я фіктивна змінна є зайвою: знаючи значення n-1 отриманих змінних можна однозначно зрозуміти значення останньої. Однак часто її в моделях залишають через те, що в майбутньому може з'явитися приклад, для якого значення оригінальної змінної таке, якого не було в навчальних даних. У такій ситуації значення 0 для n-1 фіктивних змінних не означає, що n-а змінна прийняла значення 1. У нашому випадку ми впевнені, що інших класів, окрім {1,2,3}, не з'явиться, тому можемо прибрати одну колонку."
   ]
  },
  {
   "cell_type": "code",
   "execution_count": 91,
   "metadata": {
    "slideshow": {
     "slide_type": "subslide"
    }
   },
   "outputs": [],
   "source": [
    "# додамо фіктивні змінні на основі класу каюти в навчальні та тестові дані\n",
    "X_train = pd.concat([X_train, pd.get_dummies(X_train['Pclass'], prefix='class')], axis=1)\n",
    "X_test = pd.concat([X_test, pd.get_dummies(X_test['Pclass'], prefix='class')], axis=1)\n",
    "\n",
    "# видалимо оригінальну змінну\n",
    "X_train.drop('Pclass', axis=1, inplace=True)\n",
    "X_test.drop('Pclass', axis=1, inplace=True)"
   ]
  },
  {
   "cell_type": "code",
   "execution_count": 92,
   "metadata": {
    "slideshow": {
     "slide_type": "subslide"
    }
   },
   "outputs": [
    {
     "data": {
      "text/html": [
       "<div>\n",
       "<style scoped>\n",
       "    .dataframe tbody tr th:only-of-type {\n",
       "        vertical-align: middle;\n",
       "    }\n",
       "\n",
       "    .dataframe tbody tr th {\n",
       "        vertical-align: top;\n",
       "    }\n",
       "\n",
       "    .dataframe thead th {\n",
       "        text-align: right;\n",
       "    }\n",
       "</style>\n",
       "<table border=\"1\" class=\"dataframe\">\n",
       "  <thead>\n",
       "    <tr style=\"text-align: right;\">\n",
       "      <th></th>\n",
       "      <th>Sex</th>\n",
       "      <th>Age</th>\n",
       "      <th>Fare</th>\n",
       "      <th>class_1</th>\n",
       "      <th>class_2</th>\n",
       "      <th>class_3</th>\n",
       "    </tr>\n",
       "  </thead>\n",
       "  <tbody>\n",
       "    <tr>\n",
       "      <th>328</th>\n",
       "      <td>0</td>\n",
       "      <td>31.0</td>\n",
       "      <td>20.5250</td>\n",
       "      <td>0</td>\n",
       "      <td>0</td>\n",
       "      <td>1</td>\n",
       "    </tr>\n",
       "    <tr>\n",
       "      <th>73</th>\n",
       "      <td>1</td>\n",
       "      <td>26.0</td>\n",
       "      <td>14.4542</td>\n",
       "      <td>0</td>\n",
       "      <td>0</td>\n",
       "      <td>1</td>\n",
       "    </tr>\n",
       "    <tr>\n",
       "      <th>253</th>\n",
       "      <td>1</td>\n",
       "      <td>30.0</td>\n",
       "      <td>16.1000</td>\n",
       "      <td>0</td>\n",
       "      <td>0</td>\n",
       "      <td>1</td>\n",
       "    </tr>\n",
       "    <tr>\n",
       "      <th>719</th>\n",
       "      <td>1</td>\n",
       "      <td>33.0</td>\n",
       "      <td>7.7750</td>\n",
       "      <td>0</td>\n",
       "      <td>0</td>\n",
       "      <td>1</td>\n",
       "    </tr>\n",
       "    <tr>\n",
       "      <th>666</th>\n",
       "      <td>1</td>\n",
       "      <td>25.0</td>\n",
       "      <td>13.0000</td>\n",
       "      <td>0</td>\n",
       "      <td>1</td>\n",
       "      <td>0</td>\n",
       "    </tr>\n",
       "  </tbody>\n",
       "</table>\n",
       "</div>"
      ],
      "text/plain": [
       "     Sex   Age     Fare  class_1  class_2  class_3\n",
       "328    0  31.0  20.5250        0        0        1\n",
       "73     1  26.0  14.4542        0        0        1\n",
       "253    1  30.0  16.1000        0        0        1\n",
       "719    1  33.0   7.7750        0        0        1\n",
       "666    1  25.0  13.0000        0        1        0"
      ]
     },
     "execution_count": 92,
     "metadata": {},
     "output_type": "execute_result"
    }
   ],
   "source": [
    "X_train.head()"
   ]
  },
  {
   "cell_type": "markdown",
   "metadata": {
    "slideshow": {
     "slide_type": "slide"
    }
   },
   "source": [
    "&emsp;&emsp;Можемо побудувати модель на отриманих змінних та оцінити її за допомогою AUC:"
   ]
  },
  {
   "cell_type": "code",
   "execution_count": 93,
   "metadata": {
    "slideshow": {
     "slide_type": "subslide"
    }
   },
   "outputs": [
    {
     "data": {
      "image/png": "[encoded data removed]",
      "text/plain": [
       "<Figure size 432x288 with 1 Axes>"
      ]
     },
     "metadata": {
      "needs_background": "light"
     },
     "output_type": "display_data"
    }
   ],
   "source": [
    "from sklearn.linear_model import LogisticRegression\n",
    "from sklearn.metrics import roc_curve, auc\n",
    "\n",
    "mdl = LogisticRegression().fit(X_train, y_train)  # оцінимо модель\n",
    "\n",
    "# отримаємо оцінки ймовірностей для навчального та тестового набору\n",
    "train_preds, test_preds = mdl.predict_proba(X_train)[:, 1], mdl.predict_proba(X_test)[:, 1]\n",
    "\n",
    "# отримуємо відсоток хибнопозитивних та хибнонегативних прикладів для різних порогових значень\n",
    "train_fpr, train_tpr, _ = roc_curve(y_train, train_preds)\n",
    "test_fpr, test_tpr, _ = roc_curve(y_test, test_preds)\n",
    "\n",
    "# обчислимо значення AUC для навчального та тестового наборів\n",
    "train_auc, test_auc = np.round(auc(train_fpr, train_tpr), 4), np.round(auc(test_fpr, test_tpr), 4)\n",
    "\n",
    "# побудуємо графік RUC кривою для обох наборів даних\n",
    "plt.plot(train_fpr, train_tpr, label=f'AUC на навчальному наборі: {train_auc}')\n",
    "plt.plot(test_fpr, test_tpr, label=f'AUC на тестовому наборі: {test_auc}')\n",
    "plt.legend()  # додамо легенду, щоб відобразилися значення параметрів \"label\" у кожному графіку\n",
    "plt.show()"
   ]
  },
  {
   "cell_type": "markdown",
   "metadata": {
    "slideshow": {
     "slide_type": "subslide"
    }
   },
   "source": [
    "&emsp;&emsp;Проведемо аналіз отриманих коефіцієнтів моделі:"
   ]
  },
  {
   "cell_type": "code",
   "execution_count": 94,
   "metadata": {
    "slideshow": {
     "slide_type": "subslide"
    }
   },
   "outputs": [
    {
     "name": "stdout",
     "output_type": "stream",
     "text": [
      "Sex :  -2.5272433640557934\n",
      "Age :  -0.04271363933958991\n",
      "Fare :  -0.00016233920019599583\n",
      "class_1 :  1.3216964605906438\n",
      "class_2 :  -0.14942199307154733\n",
      "class_3 :  -1.1722825463348536\n"
     ]
    }
   ],
   "source": [
    "for var_name, coef_value in zip(X_train.columns, mdl.coef_[0]):\n",
    "    print(var_name, ': ', coef_value)"
   ]
  },
  {
   "cell_type": "markdown",
   "metadata": {
    "slideshow": {
     "slide_type": "subslide"
    }
   },
   "source": [
    "&emsp;&emsp;З результатів видно, що ймовірність виживання тим більше, чим вищий клас каюти. Негативний коефіцієнт за вартістю квитка, швидше за все, пов'язаний з тим, що цей ефект вже пояснений класом каюти.\n",
    "\n",
    "&emsp;&emsp;Як зазнечалося вище, у нашому випадку, одна із змінних відповідальних за клас каюти є зайвою. Спробуємо її прибрати:"
   ]
  },
  {
   "cell_type": "code",
   "execution_count": 95,
   "metadata": {
    "slideshow": {
     "slide_type": "subslide"
    }
   },
   "outputs": [
    {
     "data": {
      "image/png": "[encoded data removed]",
      "text/plain": [
       "<Figure size 432x288 with 1 Axes>"
      ]
     },
     "metadata": {
      "needs_background": "light"
     },
     "output_type": "display_data"
    }
   ],
   "source": [
    "X_train.drop('class_1', axis=1, inplace=True)\n",
    "X_test.drop('class_1', axis=1, inplace=True)\n",
    "\n",
    "mdl = LogisticRegression().fit(X_train, y_train)  # оцінемо модель\n",
    "\n",
    "# отримаємо оцінки ймовірностей для навчального та тестового набору\n",
    "train_preds, test_preds = mdl.predict_proba(X_train)[:, 1], mdl.predict_proba(X_test)[:, 1]\n",
    "\n",
    "# отримуємо відсоток хибнопозитивних та хибнонегативних прикладів для різних порогових значень\n",
    "train_fpr, train_tpr, _ = roc_curve(y_train, train_preds)\n",
    "test_fpr, test_tpr, _ = roc_curve(y_test, test_preds)\n",
    "\n",
    "# обчислимо значення AUC для навчального та тестового наборів\n",
    "train_auc, test_auc = np.round(auc(train_fpr, train_tpr), 4), np.round(auc(test_fpr, test_tpr), 4)\n",
    "\n",
    "# побудуємо графік RUC кривою для обох наборів даних\n",
    "plt.plot(train_fpr, train_tpr, label=f'AUC на навчальному наборі: {train_auc}')\n",
    "plt.plot(test_fpr, test_tpr, label=f'AUC на тестовому наборі: {test_auc}')\n",
    "plt.legend()  # додамо легенду, щоб відобразилися значення параметрів \"label\" у кожному графіку\n",
    "plt.show()"
   ]
  },
  {
   "cell_type": "markdown",
   "metadata": {
    "slideshow": {
     "slide_type": "subslide"
    }
   },
   "source": [
    "&emsp;&emsp;Як і очікувалося, модель не втратила якості і навіть стала трохи кращою. При повторному аналізі коефіцієнтів видно, що змінна Fare отримала назад свій додатний коефіцієнт:"
   ]
  },
  {
   "cell_type": "code",
   "execution_count": 96,
   "metadata": {
    "slideshow": {
     "slide_type": "subslide"
    }
   },
   "outputs": [
    {
     "name": "stdout",
     "output_type": "stream",
     "text": [
      "Sex :  -2.4939526693951395\n",
      "Age :  -0.03979903736667623\n",
      "Fare :  0.0010232048771130395\n",
      "class_2 :  -1.2252660604377443\n",
      "class_3 :  -2.2374548715223894\n"
     ]
    }
   ],
   "source": [
    "for var_name, coef_value in zip(X_train.columns, mdl.coef_[0]):\n",
    "    print(var_name, ': ', coef_value)"
   ]
  },
  {
   "cell_type": "markdown",
   "metadata": {
    "slideshow": {
     "slide_type": "slide"
    }
   },
   "source": [
    "&emsp;&emsp;На практиці ми не можемо бути впевнені, що множина можливих значень дискретної змінної в нашому тестовому наборі така ж, як і в навчальному, не кажучи вже про ті дані, яких ми взагалі не бачили.\n",
    "\n",
    "&emsp;&emsp;Наприклад:"
   ]
  },
  {
   "cell_type": "code",
   "execution_count": 99,
   "metadata": {
    "slideshow": {
     "slide_type": "subslide"
    }
   },
   "outputs": [],
   "source": [
    "x_known = np.random.choice(['apple', 'orange', 'banana', 'onion'], size=100, replace=True)\n",
    "x_new = np.random.choice(['apple', 'orange', 'banana'], size=100, replace=True)"
   ]
  },
  {
   "cell_type": "code",
   "execution_count": 100,
   "metadata": {},
   "outputs": [
    {
     "data": {
      "text/plain": [
       "array(['orange', 'orange', 'orange', 'banana', 'apple', 'banana', 'apple',\n",
       "       'banana', 'banana', 'onion', 'banana', 'onion', 'orange', 'orange',\n",
       "       'banana', 'banana', 'banana', 'banana', 'orange', 'apple', 'apple',\n",
       "       'apple', 'orange', 'banana', 'apple', 'banana', 'orange', 'onion',\n",
       "       'apple', 'onion', 'onion', 'orange', 'onion', 'apple', 'apple',\n",
       "       'apple', 'orange', 'banana', 'apple', 'orange', 'apple', 'orange',\n",
       "       'banana', 'onion', 'banana', 'banana', 'banana', 'apple', 'banana',\n",
       "       'onion', 'apple', 'banana', 'onion', 'apple', 'apple', 'orange',\n",
       "       'onion', 'apple', 'apple', 'apple', 'onion', 'orange', 'orange',\n",
       "       'orange', 'onion', 'apple', 'orange', 'banana', 'banana', 'banana',\n",
       "       'apple', 'onion', 'banana', 'apple', 'banana', 'orange', 'orange',\n",
       "       'banana', 'onion', 'apple', 'banana', 'onion', 'orange', 'apple',\n",
       "       'orange', 'onion', 'orange', 'onion', 'banana', 'banana', 'apple',\n",
       "       'apple', 'banana', 'apple', 'apple', 'orange', 'apple', 'orange',\n",
       "       'apple', 'onion'], dtype='<U6')"
      ]
     },
     "execution_count": 100,
     "metadata": {},
     "output_type": "execute_result"
    }
   ],
   "source": [
    "x_known"
   ]
  },
  {
   "cell_type": "code",
   "execution_count": 101,
   "metadata": {},
   "outputs": [],
   "source": [
    "x_known = pd.get_dummies(x_known, prefix='x')\n",
    "x_new = pd.get_dummies(x_new, prefix='x')"
   ]
  },
  {
   "cell_type": "code",
   "execution_count": 102,
   "metadata": {
    "slideshow": {
     "slide_type": "subslide"
    }
   },
   "outputs": [
    {
     "data": {
      "text/html": [
       "<div>\n",
       "<style scoped>\n",
       "    .dataframe tbody tr th:only-of-type {\n",
       "        vertical-align: middle;\n",
       "    }\n",
       "\n",
       "    .dataframe tbody tr th {\n",
       "        vertical-align: top;\n",
       "    }\n",
       "\n",
       "    .dataframe thead th {\n",
       "        text-align: right;\n",
       "    }\n",
       "</style>\n",
       "<table border=\"1\" class=\"dataframe\">\n",
       "  <thead>\n",
       "    <tr style=\"text-align: right;\">\n",
       "      <th></th>\n",
       "      <th>x_apple</th>\n",
       "      <th>x_banana</th>\n",
       "      <th>x_onion</th>\n",
       "      <th>x_orange</th>\n",
       "    </tr>\n",
       "  </thead>\n",
       "  <tbody>\n",
       "    <tr>\n",
       "      <th>0</th>\n",
       "      <td>0</td>\n",
       "      <td>0</td>\n",
       "      <td>0</td>\n",
       "      <td>1</td>\n",
       "    </tr>\n",
       "    <tr>\n",
       "      <th>1</th>\n",
       "      <td>0</td>\n",
       "      <td>0</td>\n",
       "      <td>0</td>\n",
       "      <td>1</td>\n",
       "    </tr>\n",
       "    <tr>\n",
       "      <th>2</th>\n",
       "      <td>0</td>\n",
       "      <td>0</td>\n",
       "      <td>0</td>\n",
       "      <td>1</td>\n",
       "    </tr>\n",
       "    <tr>\n",
       "      <th>3</th>\n",
       "      <td>0</td>\n",
       "      <td>1</td>\n",
       "      <td>0</td>\n",
       "      <td>0</td>\n",
       "    </tr>\n",
       "    <tr>\n",
       "      <th>4</th>\n",
       "      <td>1</td>\n",
       "      <td>0</td>\n",
       "      <td>0</td>\n",
       "      <td>0</td>\n",
       "    </tr>\n",
       "  </tbody>\n",
       "</table>\n",
       "</div>"
      ],
      "text/plain": [
       "   x_apple  x_banana  x_onion  x_orange\n",
       "0        0         0        0         1\n",
       "1        0         0        0         1\n",
       "2        0         0        0         1\n",
       "3        0         1        0         0\n",
       "4        1         0        0         0"
      ]
     },
     "execution_count": 102,
     "metadata": {},
     "output_type": "execute_result"
    }
   ],
   "source": [
    "x_known.head()"
   ]
  },
  {
   "cell_type": "code",
   "execution_count": 103,
   "metadata": {
    "slideshow": {
     "slide_type": "fragment"
    }
   },
   "outputs": [
    {
     "data": {
      "text/html": [
       "<div>\n",
       "<style scoped>\n",
       "    .dataframe tbody tr th:only-of-type {\n",
       "        vertical-align: middle;\n",
       "    }\n",
       "\n",
       "    .dataframe tbody tr th {\n",
       "        vertical-align: top;\n",
       "    }\n",
       "\n",
       "    .dataframe thead th {\n",
       "        text-align: right;\n",
       "    }\n",
       "</style>\n",
       "<table border=\"1\" class=\"dataframe\">\n",
       "  <thead>\n",
       "    <tr style=\"text-align: right;\">\n",
       "      <th></th>\n",
       "      <th>x_apple</th>\n",
       "      <th>x_banana</th>\n",
       "      <th>x_orange</th>\n",
       "    </tr>\n",
       "  </thead>\n",
       "  <tbody>\n",
       "    <tr>\n",
       "      <th>0</th>\n",
       "      <td>0</td>\n",
       "      <td>0</td>\n",
       "      <td>1</td>\n",
       "    </tr>\n",
       "    <tr>\n",
       "      <th>1</th>\n",
       "      <td>0</td>\n",
       "      <td>0</td>\n",
       "      <td>1</td>\n",
       "    </tr>\n",
       "    <tr>\n",
       "      <th>2</th>\n",
       "      <td>0</td>\n",
       "      <td>1</td>\n",
       "      <td>0</td>\n",
       "    </tr>\n",
       "    <tr>\n",
       "      <th>3</th>\n",
       "      <td>0</td>\n",
       "      <td>0</td>\n",
       "      <td>1</td>\n",
       "    </tr>\n",
       "    <tr>\n",
       "      <th>4</th>\n",
       "      <td>1</td>\n",
       "      <td>0</td>\n",
       "      <td>0</td>\n",
       "    </tr>\n",
       "  </tbody>\n",
       "</table>\n",
       "</div>"
      ],
      "text/plain": [
       "   x_apple  x_banana  x_orange\n",
       "0        0         0         1\n",
       "1        0         0         1\n",
       "2        0         1         0\n",
       "3        0         0         1\n",
       "4        1         0         0"
      ]
     },
     "execution_count": 103,
     "metadata": {},
     "output_type": "execute_result"
    }
   ],
   "source": [
    "x_new.head()"
   ]
  },
  {
   "cell_type": "markdown",
   "metadata": {
    "slideshow": {
     "slide_type": "subslide"
    }
   },
   "source": [
    "&emsp;&emsp;Спроба передати моделі дані, в яких менше або більше змінних, ніж вона очікує, в більшості випадків призведе до помилки. Щоб цього уникнути необхідно запам'ятати який був набір значень на навчальному наборі і простежити, щоб на тестовому був такий самий. Зручно цього досягти дозволяє бібліотека для роботи з категоріальними змінними \"category_encoders\":"
   ]
  },
  {
   "cell_type": "code",
   "execution_count": 104,
   "metadata": {},
   "outputs": [],
   "source": [
    "# pip install category_encoders"
   ]
  },
  {
   "cell_type": "code",
   "execution_count": 105,
   "metadata": {
    "slideshow": {
     "slide_type": "subslide"
    }
   },
   "outputs": [
    {
     "name": "stderr",
     "output_type": "stream",
     "text": [
      "D:\\Anaconda3\\lib\\site-packages\\category_encoders\\one_hot.py:145: FutureWarning: iteritems is deprecated and will be removed in a future version. Use .items instead.\n",
      "  for cat_name, class_ in values.iteritems():\n"
     ]
    }
   ],
   "source": [
    "import category_encoders as ce\n",
    "\n",
    "# створимо ті ж дані\n",
    "x_known = np.random.choice(['apple', 'orange', 'banana', 'onion'], size=100, replace=True)\n",
    "x_new = np.random.choice(['apple', 'orange', 'banana'], size=100, replace=True)\n",
    "\n",
    "# приведемо дані до формату DataFrame (category_encoders очікує на вході цей формат)\n",
    "x_known = pd.DataFrame(x_known, columns=['x'])\n",
    "x_new = pd.DataFrame(x_new, columns=['x'])\n",
    "\n",
    "# навчимо модель кодувальника на навчальних даних\n",
    "encoder = ce.OneHotEncoder(\n",
    "    cols=['x'],  # список колонок, які потрібно привести до формату фіктивних змінних\n",
    "    use_cat_names=True  # чи включити імена значень змінної до назв отриманих змінних\n",
    ").fit(x_known)\n",
    "\n",
    "# тепер можемо користуватися нашим кодувальником для будь-якого іншого набору даних\n",
    "x_known_encoded = encoder.transform(x_known)\n",
    "x_new_encoded = encoder.transform(x_new)"
   ]
  },
  {
   "cell_type": "code",
   "execution_count": 106,
   "metadata": {
    "slideshow": {
     "slide_type": "subslide"
    }
   },
   "outputs": [
    {
     "data": {
      "text/html": [
       "<div>\n",
       "<style scoped>\n",
       "    .dataframe tbody tr th:only-of-type {\n",
       "        vertical-align: middle;\n",
       "    }\n",
       "\n",
       "    .dataframe tbody tr th {\n",
       "        vertical-align: top;\n",
       "    }\n",
       "\n",
       "    .dataframe thead th {\n",
       "        text-align: right;\n",
       "    }\n",
       "</style>\n",
       "<table border=\"1\" class=\"dataframe\">\n",
       "  <thead>\n",
       "    <tr style=\"text-align: right;\">\n",
       "      <th></th>\n",
       "      <th>x_orange</th>\n",
       "      <th>x_banana</th>\n",
       "      <th>x_apple</th>\n",
       "      <th>x_onion</th>\n",
       "    </tr>\n",
       "  </thead>\n",
       "  <tbody>\n",
       "    <tr>\n",
       "      <th>0</th>\n",
       "      <td>1</td>\n",
       "      <td>0</td>\n",
       "      <td>0</td>\n",
       "      <td>0</td>\n",
       "    </tr>\n",
       "    <tr>\n",
       "      <th>1</th>\n",
       "      <td>0</td>\n",
       "      <td>1</td>\n",
       "      <td>0</td>\n",
       "      <td>0</td>\n",
       "    </tr>\n",
       "    <tr>\n",
       "      <th>2</th>\n",
       "      <td>0</td>\n",
       "      <td>0</td>\n",
       "      <td>1</td>\n",
       "      <td>0</td>\n",
       "    </tr>\n",
       "    <tr>\n",
       "      <th>3</th>\n",
       "      <td>0</td>\n",
       "      <td>0</td>\n",
       "      <td>0</td>\n",
       "      <td>1</td>\n",
       "    </tr>\n",
       "    <tr>\n",
       "      <th>4</th>\n",
       "      <td>0</td>\n",
       "      <td>1</td>\n",
       "      <td>0</td>\n",
       "      <td>0</td>\n",
       "    </tr>\n",
       "  </tbody>\n",
       "</table>\n",
       "</div>"
      ],
      "text/plain": [
       "   x_orange  x_banana  x_apple  x_onion\n",
       "0         1         0        0        0\n",
       "1         0         1        0        0\n",
       "2         0         0        1        0\n",
       "3         0         0        0        1\n",
       "4         0         1        0        0"
      ]
     },
     "execution_count": 106,
     "metadata": {},
     "output_type": "execute_result"
    }
   ],
   "source": [
    "x_known_encoded.head()"
   ]
  },
  {
   "cell_type": "code",
   "execution_count": 107,
   "metadata": {
    "slideshow": {
     "slide_type": "fragment"
    }
   },
   "outputs": [
    {
     "data": {
      "text/html": [
       "<div>\n",
       "<style scoped>\n",
       "    .dataframe tbody tr th:only-of-type {\n",
       "        vertical-align: middle;\n",
       "    }\n",
       "\n",
       "    .dataframe tbody tr th {\n",
       "        vertical-align: top;\n",
       "    }\n",
       "\n",
       "    .dataframe thead th {\n",
       "        text-align: right;\n",
       "    }\n",
       "</style>\n",
       "<table border=\"1\" class=\"dataframe\">\n",
       "  <thead>\n",
       "    <tr style=\"text-align: right;\">\n",
       "      <th></th>\n",
       "      <th>x_orange</th>\n",
       "      <th>x_banana</th>\n",
       "      <th>x_apple</th>\n",
       "      <th>x_onion</th>\n",
       "    </tr>\n",
       "  </thead>\n",
       "  <tbody>\n",
       "    <tr>\n",
       "      <th>0</th>\n",
       "      <td>0</td>\n",
       "      <td>0</td>\n",
       "      <td>1</td>\n",
       "      <td>0</td>\n",
       "    </tr>\n",
       "    <tr>\n",
       "      <th>1</th>\n",
       "      <td>0</td>\n",
       "      <td>0</td>\n",
       "      <td>1</td>\n",
       "      <td>0</td>\n",
       "    </tr>\n",
       "    <tr>\n",
       "      <th>2</th>\n",
       "      <td>0</td>\n",
       "      <td>0</td>\n",
       "      <td>1</td>\n",
       "      <td>0</td>\n",
       "    </tr>\n",
       "    <tr>\n",
       "      <th>3</th>\n",
       "      <td>0</td>\n",
       "      <td>1</td>\n",
       "      <td>0</td>\n",
       "      <td>0</td>\n",
       "    </tr>\n",
       "    <tr>\n",
       "      <th>4</th>\n",
       "      <td>0</td>\n",
       "      <td>1</td>\n",
       "      <td>0</td>\n",
       "      <td>0</td>\n",
       "    </tr>\n",
       "  </tbody>\n",
       "</table>\n",
       "</div>"
      ],
      "text/plain": [
       "   x_orange  x_banana  x_apple  x_onion\n",
       "0         0         0        1        0\n",
       "1         0         0        1        0\n",
       "2         0         0        1        0\n",
       "3         0         1        0        0\n",
       "4         0         1        0        0"
      ]
     },
     "execution_count": 107,
     "metadata": {},
     "output_type": "execute_result"
    }
   ],
   "source": [
    "x_new_encoded.head()"
   ]
  },
  {
   "cell_type": "markdown",
   "metadata": {
    "slideshow": {
     "slide_type": "subslide"
    }
   },
   "source": [
    "&emsp;&emsp;У такій імплементації ми гарантовано отримаємо ті колонки, які були присутні на етапі навчання моделі. У прикладі вище колонка \"x_onion\" завжди міститиме значення 0, оскільки \"onion\" ніколи не зустрічається в цьому наборі даних."
   ]
  },
  {
   "cell_type": "markdown",
   "metadata": {
    "slideshow": {
     "slide_type": "slide"
    }
   },
   "source": [
    "&emsp;&emsp;Проблеми з представленням у вигляді набору бінарних змінних полягає в тому, що якщо множина можливих значень оригінальної змінної досить велика, то і кількість фіктивних змінних буде дуже великою. Зокрема, воно може перевищувати кількість спостережень у даних, що унеможливлює побудову моделі.\n",
    "\n",
    "&emsp;&emsp;Другий популярний спосіб передставлення змінної, який не призведе до збільшення числа змінних у моделі, - це кодування цільової змінної (target encoding). Ідея полягає в тому, щоб запам'ятати яке середнє значення залежної змінної було при кожному можливому значенні факторної змінної, а потім замінити його на це середнє.\n",
    "\n",
    "&emsp;&emsp;Приклад:"
   ]
  },
  {
   "cell_type": "code",
   "execution_count": 108,
   "metadata": {
    "slideshow": {
     "slide_type": "subslide"
    }
   },
   "outputs": [
    {
     "data": {
      "text/html": [
       "<div>\n",
       "<style scoped>\n",
       "    .dataframe tbody tr th:only-of-type {\n",
       "        vertical-align: middle;\n",
       "    }\n",
       "\n",
       "    .dataframe tbody tr th {\n",
       "        vertical-align: top;\n",
       "    }\n",
       "\n",
       "    .dataframe thead th {\n",
       "        text-align: right;\n",
       "    }\n",
       "</style>\n",
       "<table border=\"1\" class=\"dataframe\">\n",
       "  <thead>\n",
       "    <tr style=\"text-align: right;\">\n",
       "      <th></th>\n",
       "      <th>Pclass</th>\n",
       "      <th>PclassEncoded</th>\n",
       "    </tr>\n",
       "  </thead>\n",
       "  <tbody>\n",
       "    <tr>\n",
       "      <th>0</th>\n",
       "      <td>3</td>\n",
       "      <td>0.242363</td>\n",
       "    </tr>\n",
       "    <tr>\n",
       "      <th>1</th>\n",
       "      <td>1</td>\n",
       "      <td>0.629630</td>\n",
       "    </tr>\n",
       "    <tr>\n",
       "      <th>2</th>\n",
       "      <td>3</td>\n",
       "      <td>0.242363</td>\n",
       "    </tr>\n",
       "    <tr>\n",
       "      <th>3</th>\n",
       "      <td>1</td>\n",
       "      <td>0.629630</td>\n",
       "    </tr>\n",
       "    <tr>\n",
       "      <th>4</th>\n",
       "      <td>3</td>\n",
       "      <td>0.242363</td>\n",
       "    </tr>\n",
       "    <tr>\n",
       "      <th>5</th>\n",
       "      <td>3</td>\n",
       "      <td>0.242363</td>\n",
       "    </tr>\n",
       "    <tr>\n",
       "      <th>6</th>\n",
       "      <td>1</td>\n",
       "      <td>0.629630</td>\n",
       "    </tr>\n",
       "    <tr>\n",
       "      <th>7</th>\n",
       "      <td>3</td>\n",
       "      <td>0.242363</td>\n",
       "    </tr>\n",
       "    <tr>\n",
       "      <th>8</th>\n",
       "      <td>3</td>\n",
       "      <td>0.242363</td>\n",
       "    </tr>\n",
       "    <tr>\n",
       "      <th>9</th>\n",
       "      <td>2</td>\n",
       "      <td>0.472826</td>\n",
       "    </tr>\n",
       "  </tbody>\n",
       "</table>\n",
       "</div>"
      ],
      "text/plain": [
       "   Pclass  PclassEncoded\n",
       "0       3       0.242363\n",
       "1       1       0.629630\n",
       "2       3       0.242363\n",
       "3       1       0.629630\n",
       "4       3       0.242363\n",
       "5       3       0.242363\n",
       "6       1       0.629630\n",
       "7       3       0.242363\n",
       "8       3       0.242363\n",
       "9       2       0.472826"
      ]
     },
     "execution_count": 108,
     "metadata": {},
     "output_type": "execute_result"
    }
   ],
   "source": [
    "data['PclassEncoded'] = data.groupby('Pclass')['Survived'].transform(np.mean)\n",
    "\n",
    "data[['Pclass', 'PclassEncoded']].head(10)"
   ]
  },
  {
   "cell_type": "markdown",
   "metadata": {
    "slideshow": {
     "slide_type": "slide"
    }
   },
   "source": [
    "&emsp;&emsp;Середня ймовірність виживання в 3-му класі приблизно 24%, тому коли значення змінної дорівнює 3, то ми замінимо його на 0.24, для першого класу - на 0.63 і т.д. Таким чином, ми отримаємо неперервну змінну, яку можна помістити в модель.\n",
    "\n",
    "&emsp;&emsp;При такому підході потрібно бути особливо акуратним і слідкувати за такими речами:\n",
    "\n",
    "&emsp;&emsp;1. Якщо ви тестуєте модель на окремому наборі даних, то не можна допускати, щоб значення цільової змінної тестового набору було враховано при розрахунку середніх. Така ситуація називається витоком (target leackage) та призведе до того, що результат на тесті буде менш показовим."
   ]
  },
  {
   "cell_type": "markdown",
   "metadata": {
    "slideshow": {
     "slide_type": "subslide"
    }
   },
   "source": [
    "&emsp;&emsp;2. Часто виникає ситуація, коли деякі значення змінної трапляються досить рідко (скажімо, менше 1% випадків). Тоді спроба оцінити середнє для цих значень може призвести до результату рівно 0 або 1 через те, що ми не спостерігали жодного позитивного або негативного результату таких значень. Така оцінка дуже ненадійна і найчастіше пов'язана з нестачею навчальних прикладів. У такій ситуації слід об'єднати рідкісні значення в новий клас \"інше\" або скористатися середнім значенням змінної на всіх даних замість значення для конкретного класу. Як варіант можна запропонувати таку процедуру згладжування:\n",
    "\n",
    "$$value = alpha \\cdot avg(y | class) + (1 - alpha) \\cdot avg(y)$$\n",
    "\n",
    "&emsp;&emsp;avg(y|class) - середнє значення цільової змінної для даного значення факторної змінної,\n",
    "\n",
    "&emsp;&emsp;avg(y) - середнє значення цільової змінної,\n",
    "\n",
    "&emsp;&emsp;alpha - параметр згладжування (перебуває в інтервалі між 0 і 1). Цей параметр визначає, наскільки ми можемо довіряти середньому значенню для кожної категорії окремо. Значення 0 дасть заміну на глобальне середнє, тоді як 1 означатиме, що ми вважаємо середні рівні серединім кожної категорії, як у прикладі вище.\n",
    "\n",
    "&emsp;&emsp;Приклад:"
   ]
  },
  {
   "cell_type": "code",
   "execution_count": 109,
   "metadata": {
    "slideshow": {
     "slide_type": "subslide"
    }
   },
   "outputs": [
    {
     "data": {
      "text/html": [
       "<div>\n",
       "<style scoped>\n",
       "    .dataframe tbody tr th:only-of-type {\n",
       "        vertical-align: middle;\n",
       "    }\n",
       "\n",
       "    .dataframe tbody tr th {\n",
       "        vertical-align: top;\n",
       "    }\n",
       "\n",
       "    .dataframe thead th {\n",
       "        text-align: right;\n",
       "    }\n",
       "</style>\n",
       "<table border=\"1\" class=\"dataframe\">\n",
       "  <thead>\n",
       "    <tr style=\"text-align: right;\">\n",
       "      <th></th>\n",
       "      <th>Pclass</th>\n",
       "      <th>PclassEncoded</th>\n",
       "      <th>GlobalAverage</th>\n",
       "      <th>PclassEncoded_w_Smoothing</th>\n",
       "    </tr>\n",
       "  </thead>\n",
       "  <tbody>\n",
       "    <tr>\n",
       "      <th>0</th>\n",
       "      <td>3</td>\n",
       "      <td>0.242363</td>\n",
       "      <td>0.383838</td>\n",
       "      <td>0.284805</td>\n",
       "    </tr>\n",
       "    <tr>\n",
       "      <th>1</th>\n",
       "      <td>1</td>\n",
       "      <td>0.629630</td>\n",
       "      <td>0.383838</td>\n",
       "      <td>0.555892</td>\n",
       "    </tr>\n",
       "    <tr>\n",
       "      <th>2</th>\n",
       "      <td>3</td>\n",
       "      <td>0.242363</td>\n",
       "      <td>0.383838</td>\n",
       "      <td>0.284805</td>\n",
       "    </tr>\n",
       "    <tr>\n",
       "      <th>3</th>\n",
       "      <td>1</td>\n",
       "      <td>0.629630</td>\n",
       "      <td>0.383838</td>\n",
       "      <td>0.555892</td>\n",
       "    </tr>\n",
       "    <tr>\n",
       "      <th>4</th>\n",
       "      <td>3</td>\n",
       "      <td>0.242363</td>\n",
       "      <td>0.383838</td>\n",
       "      <td>0.284805</td>\n",
       "    </tr>\n",
       "    <tr>\n",
       "      <th>5</th>\n",
       "      <td>3</td>\n",
       "      <td>0.242363</td>\n",
       "      <td>0.383838</td>\n",
       "      <td>0.284805</td>\n",
       "    </tr>\n",
       "    <tr>\n",
       "      <th>6</th>\n",
       "      <td>1</td>\n",
       "      <td>0.629630</td>\n",
       "      <td>0.383838</td>\n",
       "      <td>0.555892</td>\n",
       "    </tr>\n",
       "    <tr>\n",
       "      <th>7</th>\n",
       "      <td>3</td>\n",
       "      <td>0.242363</td>\n",
       "      <td>0.383838</td>\n",
       "      <td>0.284805</td>\n",
       "    </tr>\n",
       "    <tr>\n",
       "      <th>8</th>\n",
       "      <td>3</td>\n",
       "      <td>0.242363</td>\n",
       "      <td>0.383838</td>\n",
       "      <td>0.284805</td>\n",
       "    </tr>\n",
       "    <tr>\n",
       "      <th>9</th>\n",
       "      <td>2</td>\n",
       "      <td>0.472826</td>\n",
       "      <td>0.383838</td>\n",
       "      <td>0.446130</td>\n",
       "    </tr>\n",
       "  </tbody>\n",
       "</table>\n",
       "</div>"
      ],
      "text/plain": [
       "   Pclass  PclassEncoded  GlobalAverage  PclassEncoded_w_Smoothing\n",
       "0       3       0.242363       0.383838                   0.284805\n",
       "1       1       0.629630       0.383838                   0.555892\n",
       "2       3       0.242363       0.383838                   0.284805\n",
       "3       1       0.629630       0.383838                   0.555892\n",
       "4       3       0.242363       0.383838                   0.284805\n",
       "5       3       0.242363       0.383838                   0.284805\n",
       "6       1       0.629630       0.383838                   0.555892\n",
       "7       3       0.242363       0.383838                   0.284805\n",
       "8       3       0.242363       0.383838                   0.284805\n",
       "9       2       0.472826       0.383838                   0.446130"
      ]
     },
     "execution_count": 109,
     "metadata": {},
     "output_type": "execute_result"
    }
   ],
   "source": [
    "data['GlobalAverage'] = np.mean(data['Survived'])\n",
    "alpha = 0.7\n",
    "data['PclassEncoded_w_Smoothing'] = alpha * data['PclassEncoded'] + (1 - alpha) * data['GlobalAverage']\n",
    "\n",
    "data[['Pclass', 'PclassEncoded', 'GlobalAverage', 'PclassEncoded_w_Smoothing']].head(10)"
   ]
  },
  {
   "cell_type": "markdown",
   "metadata": {
    "slideshow": {
     "slide_type": "subslide"
    }
   },
   "source": [
    "&emsp;&emsp;Таким чином ми отримали більш надійні оцінки для кожної категорії класу каюти, при цьому все ще підкреслюють, що різниця у ймовірності виживання є.\n",
    "\n",
    "&emsp;&emsp;На практиці краще скористатися класом з тієї ж бібліотеки \"category_encoders\":"
   ]
  },
  {
   "cell_type": "code",
   "execution_count": 113,
   "metadata": {
    "slideshow": {
     "slide_type": "subslide"
    }
   },
   "outputs": [
    {
     "data": {
      "text/html": [
       "<div>\n",
       "<style scoped>\n",
       "    .dataframe tbody tr th:only-of-type {\n",
       "        vertical-align: middle;\n",
       "    }\n",
       "\n",
       "    .dataframe tbody tr th {\n",
       "        vertical-align: top;\n",
       "    }\n",
       "\n",
       "    .dataframe thead th {\n",
       "        text-align: right;\n",
       "    }\n",
       "</style>\n",
       "<table border=\"1\" class=\"dataframe\">\n",
       "  <thead>\n",
       "    <tr style=\"text-align: right;\">\n",
       "      <th></th>\n",
       "      <th>Pclass</th>\n",
       "      <th>PclassEncoded</th>\n",
       "      <th>PclassEncoded_w_Smoothing</th>\n",
       "      <th>PclassEncoded_w_Smoothing_external</th>\n",
       "    </tr>\n",
       "  </thead>\n",
       "  <tbody>\n",
       "    <tr>\n",
       "      <th>0</th>\n",
       "      <td>3</td>\n",
       "      <td>0.242363</td>\n",
       "      <td>0.284805</td>\n",
       "      <td>0.242363</td>\n",
       "    </tr>\n",
       "    <tr>\n",
       "      <th>1</th>\n",
       "      <td>1</td>\n",
       "      <td>0.629630</td>\n",
       "      <td>0.555892</td>\n",
       "      <td>0.629374</td>\n",
       "    </tr>\n",
       "    <tr>\n",
       "      <th>2</th>\n",
       "      <td>3</td>\n",
       "      <td>0.242363</td>\n",
       "      <td>0.284805</td>\n",
       "      <td>0.242363</td>\n",
       "    </tr>\n",
       "    <tr>\n",
       "      <th>3</th>\n",
       "      <td>1</td>\n",
       "      <td>0.629630</td>\n",
       "      <td>0.555892</td>\n",
       "      <td>0.629374</td>\n",
       "    </tr>\n",
       "    <tr>\n",
       "      <th>4</th>\n",
       "      <td>3</td>\n",
       "      <td>0.242363</td>\n",
       "      <td>0.284805</td>\n",
       "      <td>0.242363</td>\n",
       "    </tr>\n",
       "  </tbody>\n",
       "</table>\n",
       "</div>"
      ],
      "text/plain": [
       "  Pclass  PclassEncoded  PclassEncoded_w_Smoothing  \\\n",
       "0      3       0.242363                   0.284805   \n",
       "1      1       0.629630                   0.555892   \n",
       "2      3       0.242363                   0.284805   \n",
       "3      1       0.629630                   0.555892   \n",
       "4      3       0.242363                   0.284805   \n",
       "\n",
       "   PclassEncoded_w_Smoothing_external  \n",
       "0                            0.242363  \n",
       "1                            0.629374  \n",
       "2                            0.242363  \n",
       "3                            0.629374  \n",
       "4                            0.242363  "
      ]
     },
     "execution_count": 113,
     "metadata": {},
     "output_type": "execute_result"
    }
   ],
   "source": [
    "# замінимо тип змінної на рядок,\n",
    "# оскільки функції category_encoders бібліотеки трансформують лише рядкові змінні\n",
    "data['Pclass'] = data['Pclass'].astype(str)\n",
    "\n",
    "# створимо об'єкт кодувальника\n",
    "encoder = ce.TargetEncoder(\n",
    "    min_samples_leaf=10, # якщо прикладів у категорії менше 10, то заміна буде зроблена на загальну середню\n",
    "    smoothing=30 # параметр згладжування: чим більше, тим ближче до глобального середнього будуть виходити значення\n",
    ")\n",
    "\n",
    "# тепер кодувальник потрібно навчити використовуючи значення цільової змінної\n",
    "encoder = encoder.fit(data['Pclass'], data['Survived'])\n",
    "\n",
    "# додамо нову змінну закодувавши Pclass\n",
    "data['PclassEncoded_w_Smoothing_external'] = encoder.transform(data['Pclass'])\n",
    "\n",
    "data[['Pclass', 'PclassEncoded', 'PclassEncoded_w_Smoothing', 'PclassEncoded_w_Smoothing_external']].head()"
   ]
  },
  {
   "cell_type": "markdown",
   "metadata": {
    "slideshow": {
     "slide_type": "subslide"
    }
   },
   "source": [
    "&emsp;&emsp;Отримана колонка за значенням набагато ближче до 'PclassEncoded', ніж до нашої попередньої 'PclassEncoded_w_Smoothing'. Це тому, що параметр 'smoothing' працює дещо інакше, як наше згладжування за допомогою 'alpha'. У процесі розрахунку середніх береться до уваги скільки було спостережень для кожного значення категорії. Оскільки у кожному класі у нас є сотні пасажирів, тобто всі підстави \"довіряти\" середньому всередині кожного класу і немає причин робити сильне усереднення із глобальним середнім.\n",
    "\n",
    "&emsp;&emsp;Спробуємо замінити наші фіктивні змінні моделі для Титаніка на target encoding"
   ]
  },
  {
   "cell_type": "code",
   "execution_count": 114,
   "metadata": {
    "slideshow": {
     "slide_type": "subslide"
    }
   },
   "outputs": [
    {
     "data": {
      "text/html": [
       "<div>\n",
       "<style scoped>\n",
       "    .dataframe tbody tr th:only-of-type {\n",
       "        vertical-align: middle;\n",
       "    }\n",
       "\n",
       "    .dataframe tbody tr th {\n",
       "        vertical-align: top;\n",
       "    }\n",
       "\n",
       "    .dataframe thead th {\n",
       "        text-align: right;\n",
       "    }\n",
       "</style>\n",
       "<table border=\"1\" class=\"dataframe\">\n",
       "  <thead>\n",
       "    <tr style=\"text-align: right;\">\n",
       "      <th></th>\n",
       "      <th>Sex</th>\n",
       "      <th>Age</th>\n",
       "      <th>Fare</th>\n",
       "      <th>Pclass</th>\n",
       "      <th>PclassEnc</th>\n",
       "    </tr>\n",
       "  </thead>\n",
       "  <tbody>\n",
       "    <tr>\n",
       "      <th>328</th>\n",
       "      <td>0</td>\n",
       "      <td>31.0</td>\n",
       "      <td>20.5250</td>\n",
       "      <td>3</td>\n",
       "      <td>0.259013</td>\n",
       "    </tr>\n",
       "    <tr>\n",
       "      <th>73</th>\n",
       "      <td>1</td>\n",
       "      <td>26.0</td>\n",
       "      <td>14.4542</td>\n",
       "      <td>3</td>\n",
       "      <td>0.259013</td>\n",
       "    </tr>\n",
       "    <tr>\n",
       "      <th>253</th>\n",
       "      <td>1</td>\n",
       "      <td>30.0</td>\n",
       "      <td>16.1000</td>\n",
       "      <td>3</td>\n",
       "      <td>0.259013</td>\n",
       "    </tr>\n",
       "    <tr>\n",
       "      <th>719</th>\n",
       "      <td>1</td>\n",
       "      <td>33.0</td>\n",
       "      <td>7.7750</td>\n",
       "      <td>3</td>\n",
       "      <td>0.259013</td>\n",
       "    </tr>\n",
       "    <tr>\n",
       "      <th>666</th>\n",
       "      <td>1</td>\n",
       "      <td>25.0</td>\n",
       "      <td>13.0000</td>\n",
       "      <td>2</td>\n",
       "      <td>0.443251</td>\n",
       "    </tr>\n",
       "  </tbody>\n",
       "</table>\n",
       "</div>"
      ],
      "text/plain": [
       "     Sex   Age     Fare Pclass  PclassEnc\n",
       "328    0  31.0  20.5250      3   0.259013\n",
       "73     1  26.0  14.4542      3   0.259013\n",
       "253    1  30.0  16.1000      3   0.259013\n",
       "719    1  33.0   7.7750      3   0.259013\n",
       "666    1  25.0  13.0000      2   0.443251"
      ]
     },
     "execution_count": 114,
     "metadata": {},
     "output_type": "execute_result"
    }
   ],
   "source": [
    "# розділи дані знову, тому що раніше ми вже видалили оригінальну змінну \"Pclass\"\n",
    "X_train, X_test, y_train, y_test = train_test_split(X, y, test_size=0.2, random_state=42)\n",
    "X_train, X_test = X_train.copy(), X_test.copy()\n",
    "X_train['Pclass'], X_test['Pclass'] = X_train['Pclass'].astype(str), X_test['Pclass'].astype(str)\n",
    "X_train['Sex'], X_test['Sex'] = np.where(X_train['Sex'] == 'male', 1, 0), np.where(X_test['Sex'] == 'male', 1, 0)\n",
    "\n",
    "# навчимо кодувальник тільки на навчальному наборі\n",
    "encoder = ce.TargetEncoder(min_samples_leaf=10, smoothing=30).fit(X_train['Pclass'], y_train)\n",
    "\n",
    "# замінимо змінну Pclass в навчальному та тестовому наборі\n",
    "X_train['PclassEnc'] = encoder.transform(X_train['Pclass'])\n",
    "X_test['PclassEnc'] = encoder.transform(X_test['Pclass'])\n",
    "X_train.head()"
   ]
  },
  {
   "cell_type": "markdown",
   "metadata": {
    "slideshow": {
     "slide_type": "subslide"
    }
   },
   "source": [
    "&emsp;&emsp;Зверніть увагу, що значення PclassEnc відрізняються від тих, що ми отримували вище через те, що ми скористалися лише навчальними даними, щоб уникнути витоку.\n",
    "\n",
    "&emsp;&emsp;Тепер нам залишилося лише видалити оригінальну змінну та навчити модель:"
   ]
  },
  {
   "cell_type": "code",
   "execution_count": 37,
   "metadata": {
    "slideshow": {
     "slide_type": "subslide"
    }
   },
   "outputs": [
    {
     "data": {
      "image/png": "[encoded data removed]",
      "text/plain": [
       "<Figure size 432x288 with 1 Axes>"
      ]
     },
     "metadata": {
      "needs_background": "light"
     },
     "output_type": "display_data"
    }
   ],
   "source": [
    "X_train.drop('Pclass', axis=1, inplace=True)\n",
    "X_test.drop('Pclass', axis=1, inplace=True)\n",
    "\n",
    "mdl = LogisticRegression().fit(X_train, y_train)  # оцінимо модель\n",
    "\n",
    "# отримаємо оцінки ймовірностей для навчального та тестового набору\n",
    "train_preds, test_preds = mdl.predict_proba(X_train)[:, 1], mdl.predict_proba(X_test)[:, 1]\n",
    "\n",
    "# отримуємо відсоток хибнопозитивних та хибнонегативних прикладів для різних порогових значень\n",
    "train_fpr, train_tpr, _ = roc_curve(y_train, train_preds)\n",
    "test_fpr, test_tpr, _ = roc_curve(y_test, test_preds)\n",
    "\n",
    "# обчислимо значення AUC для навчального та тестового наборів\n",
    "train_auc, test_auc = np.round(auc(train_fpr, train_tpr), 4), np.round(auc(test_fpr, test_tpr), 4)\n",
    "\n",
    "# побудуємо графік RUC кривою для обох наборів даних\n",
    "plt.plot(train_fpr, train_tpr, label=f'AUC на обучающем наборе: {train_auc}')\n",
    "plt.plot(test_fpr, test_tpr, label=f'AUC на тестовом наборе: {test_auc}')\n",
    "plt.legend()  # додамо легенду, щоб відобразилися значення параметрів \"label\" у кожному графіку\n",
    "plt.show()"
   ]
  },
  {
   "cell_type": "markdown",
   "metadata": {
    "slideshow": {
     "slide_type": "subslide"
    }
   },
   "source": [
    "&emsp;&emsp;Результат вийшов дуже схожим, але трохи гіршим у сенсі значення AUC. Тобто в даному випадку краще залишитися з факторними змінними."
   ]
  },
  {
   "cell_type": "markdown",
   "metadata": {
    "slideshow": {
     "slide_type": "slide"
    }
   },
   "source": [
    "# Важливість змінних"
   ]
  },
  {
   "cell_type": "markdown",
   "metadata": {
    "slideshow": {
     "slide_type": "slide"
    }
   },
   "source": [
    "&emsp;&emsp;Коли модель побудована природно виникає питання, які змінні є більш важливими для прийняття рішення. Для різних моделей є різні способи визначити важливість, однак є один підхід, який дозволяє працювати з усіма моделями.\n",
    "\n",
    "&emsp;&emsp;Ідея наступна: чим більша важливість змінної, тим більше впаде точність моделі, якщо цю змінну прибрати і навпаки. Тобто можна запропонувати наступний алгоритм:\n",
    "\n",
    "&emsp;&emsp;1. Навчити модель на якомусь наборі змінних та обчислити точність\n",
    "\n",
    "&emsp;&emsp;2. Замінити одну змінну на випадковий шум (на практиці зручно просто перемішати значення оригінальної змінної)\n",
    "\n",
    "&emsp;&emsp;3. Обчислити нову точність та порівняти наскільки вона впала порівняно з початковою\n",
    "\n",
    "&emsp;&emsp;4. Вивести значимість змінної пропорційно до зміни точності"
   ]
  },
  {
   "cell_type": "code",
   "execution_count": 38,
   "metadata": {
    "slideshow": {
     "slide_type": "subslide"
    }
   },
   "outputs": [
    {
     "name": "stdout",
     "output_type": "stream",
     "text": [
      "AUC оригінальної моделі:  0.8015188834154352\n"
     ]
    },
    {
     "data": {
      "image/png": "[encoded data removed]",
      "text/plain": [
       "<Figure size 432x288 with 1 Axes>"
      ]
     },
     "metadata": {
      "needs_background": "light"
     },
     "output_type": "display_data"
    }
   ],
   "source": [
    "from sklearn.metrics import roc_auc_score\n",
    "\n",
    "# обчислимо значення AUC для моделі без змін\n",
    "original_auc = roc_auc_score(y_test, mdl.predict_proba(X_test)[:, 1])\n",
    "print('AUC оригінальної моделі: ', original_auc)\n",
    "\n",
    "# оскільки перемішування процедура випадкова, то зафіксуємо випадковий стан\n",
    "np.random.seed(21)\n",
    "\n",
    "# пройдемося по кожній змінній, перемішаємо її та отримаємо новий AUC\n",
    "diffs = []  # ініціалізуємо порожній список, до якого будемо класти значення змін AUC\n",
    "for var in X_test.columns:    \n",
    "    X_test_upd = X_test.copy()  # зробимо копію тестових даних, щоб не вносити зміни до оригінальної таблиці\n",
    "    X_test_upd[var] = np.random.permutation(X_test_upd[var].values)  # переставимо значення місцями\n",
    "    new_auc = roc_auc_score(y_test, mdl.predict_proba(X_test_upd)[:, 1])  # отримаємо нове значення AUC\n",
    "    diff = abs(new_auc - original_auc) / original_auc  # обчислимо відносне відхилення\n",
    "    diffs.append(diff)\n",
    "    \n",
    "# побудуємо графік важливості змінних\n",
    "plt.bar(X_test.columns, diffs)\n",
    "plt.show()"
   ]
  },
  {
   "cell_type": "markdown",
   "metadata": {
    "slideshow": {
     "slide_type": "slide"
    }
   },
   "source": [
    "&emsp;&emsp; Той самий результат можна отримати і за допомогою готової функції зі sklearn.inspection"
   ]
  },
  {
   "cell_type": "code",
   "execution_count": 39,
   "metadata": {
    "slideshow": {
     "slide_type": "fragment"
    }
   },
   "outputs": [
    {
     "name": "stdout",
     "output_type": "stream",
     "text": [
      "Sex 0.2062937062937063 0.03650456821297394\n",
      "Age 0.0013986013986013956 0.013559943657108584\n",
      "Fare 0.011188811188811165 0.006409196776162001\n",
      "PclassEnc 0.03216783216783211 0.008391608391608397\n"
     ]
    }
   ],
   "source": [
    "from sklearn.inspection import permutation_importance\n",
    "\n",
    "importances = permutation_importance(\n",
    "    mdl, X_test, y_test,  # модель та дані, на яких оцінювати важливість\n",
    "    n_repeats=10,  # скільки разів повторити перемішування та оцінку важливості\n",
    "    random_state=42  # фіксація випадкового стану\n",
    ")\n",
    "\n",
    "for i, column in enumerate(X_test.columns):    \n",
    "    # вивести на екран ім'я змінної, середнє значення та стандартне відхилення важливості змінної\n",
    "    print(column, importances.importances_mean[i], importances.importances_std[i])"
   ]
  },
  {
   "cell_type": "markdown",
   "metadata": {
    "slideshow": {
     "slide_type": "subslide"
    }
   },
   "source": [
    "&emsp;&emsp;Як бачимо найважливішою змінною є стать пасажира. На другому місці – ціна каюти. Змінні вік та клас каюти практично неважливі і можемо спробувати прибрати їх із моделі:"
   ]
  },
  {
   "cell_type": "code",
   "execution_count": 40,
   "metadata": {
    "slideshow": {
     "slide_type": "subslide"
    }
   },
   "outputs": [
    {
     "data": {
      "image/png": "[encoded data removed]",
      "text/plain": [
       "<Figure size 432x288 with 1 Axes>"
      ]
     },
     "metadata": {
      "needs_background": "light"
     },
     "output_type": "display_data"
    }
   ],
   "source": [
    "X_train.drop(['Age', 'PclassEnc'], axis=1, inplace=True)\n",
    "X_test.drop(['Age', 'PclassEnc'], axis=1, inplace=True)\n",
    "\n",
    "mdl = LogisticRegression().fit(X_train, y_train)  # оцінимо модель\n",
    "\n",
    "# отримаємо оцінки ймовірностей для навчального та тестового набору\n",
    "train_preds, test_preds = mdl.predict_proba(X_train)[:, 1], mdl.predict_proba(X_test)[:, 1]\n",
    "\n",
    "# отримуємо відсоток хибнопозитивних та хибнонегативних прикладів для різних порогових значень\n",
    "train_fpr, train_tpr, _ = roc_curve(y_train, train_preds)\n",
    "test_fpr, test_tpr, _ = roc_curve(y_test, test_preds)\n",
    "\n",
    "# обчислимо значення AUC для навчального та тестового наборів\n",
    "train_auc, test_auc = np.round(auc(train_fpr, train_tpr), 4), np.round(auc(test_fpr, test_tpr), 4)\n",
    "\n",
    "# побудуємо графік RUC кривою для обох наборів даних\n",
    "plt.plot(train_fpr, train_tpr, label=f'AUC на навчальному наборі: {train_auc}')\n",
    "plt.plot(test_fpr, test_tpr, label=f'AUC на тестовому наборі: {test_auc}')\n",
    "plt.legend()  # додамо легенду, щоб відобразилися значення параметрів \"label\" у кожному графіку\n",
    "plt.show()"
   ]
  },
  {
   "cell_type": "markdown",
   "metadata": {
    "slideshow": {
     "slide_type": "subslide"
    }
   },
   "source": [
    "&emsp;&emsp;Як і очікувалося, прибравши зайві змінні модель не втратила якості і навіть трохи покращила точність на тестовому наборі. У загальному випадку погані змінні завжди варто виключати з моделі.\n",
    "\n",
    "&emsp;&emsp;Слід зазначити, що процедура перемішування значень змінної, якою ми скористалися вище, є випадковою. Для більш надійних результатів можна повторити її кілька разів і усереднити отримані оцінки важливості."
   ]
  },
  {
   "cell_type": "markdown",
   "metadata": {
    "slideshow": {
     "slide_type": "slide"
    }
   },
   "source": [
    "# Робота з відсутніми значеннями"
   ]
  },
  {
   "cell_type": "markdown",
   "metadata": {
    "slideshow": {
     "slide_type": "slide"
    }
   },
   "source": [
    "&emsp;&emsp;Жодна модель не може бути побудована на даних, що містять відсутні в значеннях. Ті алгоритми, які дозволяють це просто неявно замінюють відсутніі значення за якимось своїм вбудованим правилам.\n",
    "Існують такі основні підходи до роботи з відсутніми значень:\n",
    "\n",
    "&emsp;&emsp;1. Якщо відсутніх значень дуже багато, а сама змінна не дуже важлива, то перший і найпростіший варіант, який варто розглянути – це видалити саму змінну. Так, наприклад, у даних про Титаніку, знання про номер каюти пасажира не має значення для моделі виживання, але при цьому містить відсутні значення. Відповідно, тут цю змінну краще видалити.\n",
    "\n",
    "&emsp;&emsp;2. Для дискретних змінних найчастіше відсутні значення відправляють у додатковий клас 'unknown' і продовжують працювати зі змінною, якби вона могла прийняти одне додаткове значення.\n",
    "\n",
    "&emsp;&emsp;Приклад:"
   ]
  },
  {
   "cell_type": "code",
   "execution_count": 41,
   "metadata": {
    "slideshow": {
     "slide_type": "subslide"
    }
   },
   "outputs": [
    {
     "name": "stdout",
     "output_type": "stream",
     "text": [
      "<class 'pandas.core.frame.DataFrame'>\n",
      "RangeIndex: 891 entries, 0 to 890\n",
      "Data columns (total 16 columns):\n",
      " #   Column                              Non-Null Count  Dtype  \n",
      "---  ------                              --------------  -----  \n",
      " 0   PassengerId                         891 non-null    int64  \n",
      " 1   Survived                            891 non-null    int64  \n",
      " 2   Pclass                              791 non-null    object \n",
      " 3   Name                                891 non-null    object \n",
      " 4   Sex                                 891 non-null    object \n",
      " 5   Age                                 714 non-null    float64\n",
      " 6   SibSp                               891 non-null    int64  \n",
      " 7   Parch                               891 non-null    int64  \n",
      " 8   Ticket                              891 non-null    object \n",
      " 9   Fare                                891 non-null    float64\n",
      " 10  Cabin                               204 non-null    object \n",
      " 11  Embarked                            889 non-null    object \n",
      " 12  PclassEncoded                       891 non-null    float64\n",
      " 13  GlobalAverage                       891 non-null    float64\n",
      " 14  PclassEncoded_w_Smoothing           891 non-null    float64\n",
      " 15  PclassEncoded_w_Smoothing_external  891 non-null    float64\n",
      "dtypes: float64(6), int64(4), object(6)\n",
      "memory usage: 111.5+ KB\n"
     ]
    }
   ],
   "source": [
    "# створимо копію даних Титаніка і видалимо деякі значення зі змінної 'Pclass'\n",
    "dt = data.copy()\n",
    "dt.loc[np.random.choice(dt.index, size=100, replace=False), 'Pclass'] = np.nan\n",
    "dt.info()"
   ]
  },
  {
   "cell_type": "markdown",
   "metadata": {
    "slideshow": {
     "slide_type": "subslide"
    }
   },
   "source": [
    "&emsp;&emsp;Як бачимо 100 значень змінної 'Pclass' тепер містять значення null. Заповнимо їх новим фіктивним класом і навчимо кодувальник:"
   ]
  },
  {
   "cell_type": "code",
   "execution_count": 42,
   "metadata": {
    "slideshow": {
     "slide_type": "subslide"
    }
   },
   "outputs": [
    {
     "data": {
      "text/html": [
       "<div>\n",
       "<style scoped>\n",
       "    .dataframe tbody tr th:only-of-type {\n",
       "        vertical-align: middle;\n",
       "    }\n",
       "\n",
       "    .dataframe tbody tr th {\n",
       "        vertical-align: top;\n",
       "    }\n",
       "\n",
       "    .dataframe thead th {\n",
       "        text-align: right;\n",
       "    }\n",
       "</style>\n",
       "<table border=\"1\" class=\"dataframe\">\n",
       "  <thead>\n",
       "    <tr style=\"text-align: right;\">\n",
       "      <th></th>\n",
       "      <th>PclassFilled</th>\n",
       "      <th>PclassEncoded</th>\n",
       "    </tr>\n",
       "  </thead>\n",
       "  <tbody>\n",
       "    <tr>\n",
       "      <th>23</th>\n",
       "      <td>unknown</td>\n",
       "      <td>0.380182</td>\n",
       "    </tr>\n",
       "    <tr>\n",
       "      <th>24</th>\n",
       "      <td>unknown</td>\n",
       "      <td>0.380182</td>\n",
       "    </tr>\n",
       "    <tr>\n",
       "      <th>29</th>\n",
       "      <td>unknown</td>\n",
       "      <td>0.380182</td>\n",
       "    </tr>\n",
       "    <tr>\n",
       "      <th>33</th>\n",
       "      <td>unknown</td>\n",
       "      <td>0.380182</td>\n",
       "    </tr>\n",
       "    <tr>\n",
       "      <th>35</th>\n",
       "      <td>unknown</td>\n",
       "      <td>0.380182</td>\n",
       "    </tr>\n",
       "  </tbody>\n",
       "</table>\n",
       "</div>"
      ],
      "text/plain": [
       "   PclassFilled  PclassEncoded\n",
       "23      unknown       0.380182\n",
       "24      unknown       0.380182\n",
       "29      unknown       0.380182\n",
       "33      unknown       0.380182\n",
       "35      unknown       0.380182"
      ]
     },
     "execution_count": 42,
     "metadata": {},
     "output_type": "execute_result"
    }
   ],
   "source": [
    "dt['PclassFilled'] = dt['Pclass']\n",
    "dt['PclassFilled'].fillna('unknown', inplace=True)\n",
    "\n",
    "encoder = ce.TargetEncoder(min_samples_leaf=10, smoothing=30).fit(dt['PclassFilled'], dt['Survived'])\n",
    "dt['PclassEncoded'] = encoder.transform(dt['PclassFilled'])\n",
    "\n",
    "dt[['PclassFilled', 'PclassEncoded']][dt['Pclass'].isna()].head()"
   ]
  },
  {
   "cell_type": "markdown",
   "metadata": {
    "slideshow": {
     "slide_type": "subslide"
    }
   },
   "source": [
    "&emsp;&emsp;3. Для неперервної змінної найпростішим і найпопулярнішим рішенням є заміна відсутніх значень на середнє або медіанне значення самої змінної.\n",
    "\n",
    "&emsp;&emsp;Приклад:"
   ]
  },
  {
   "cell_type": "code",
   "execution_count": 43,
   "metadata": {
    "slideshow": {
     "slide_type": "subslide"
    }
   },
   "outputs": [
    {
     "data": {
      "text/html": [
       "<div>\n",
       "<style scoped>\n",
       "    .dataframe tbody tr th:only-of-type {\n",
       "        vertical-align: middle;\n",
       "    }\n",
       "\n",
       "    .dataframe tbody tr th {\n",
       "        vertical-align: top;\n",
       "    }\n",
       "\n",
       "    .dataframe thead th {\n",
       "        text-align: right;\n",
       "    }\n",
       "</style>\n",
       "<table border=\"1\" class=\"dataframe\">\n",
       "  <thead>\n",
       "    <tr style=\"text-align: right;\">\n",
       "      <th></th>\n",
       "      <th>Age</th>\n",
       "      <th>AgeFilled</th>\n",
       "    </tr>\n",
       "  </thead>\n",
       "  <tbody>\n",
       "    <tr>\n",
       "      <th>5</th>\n",
       "      <td>NaN</td>\n",
       "      <td>28.0</td>\n",
       "    </tr>\n",
       "    <tr>\n",
       "      <th>17</th>\n",
       "      <td>NaN</td>\n",
       "      <td>28.0</td>\n",
       "    </tr>\n",
       "    <tr>\n",
       "      <th>19</th>\n",
       "      <td>NaN</td>\n",
       "      <td>28.0</td>\n",
       "    </tr>\n",
       "    <tr>\n",
       "      <th>26</th>\n",
       "      <td>NaN</td>\n",
       "      <td>28.0</td>\n",
       "    </tr>\n",
       "    <tr>\n",
       "      <th>28</th>\n",
       "      <td>NaN</td>\n",
       "      <td>28.0</td>\n",
       "    </tr>\n",
       "  </tbody>\n",
       "</table>\n",
       "</div>"
      ],
      "text/plain": [
       "    Age  AgeFilled\n",
       "5   NaN       28.0\n",
       "17  NaN       28.0\n",
       "19  NaN       28.0\n",
       "26  NaN       28.0\n",
       "28  NaN       28.0"
      ]
     },
     "execution_count": 43,
     "metadata": {},
     "output_type": "execute_result"
    }
   ],
   "source": [
    "median_fill = np.median(dt['Age'][~dt['Age'].isna()])\n",
    "dt['AgeFilled'] = dt['Age'].fillna(median_fill, inplace=False)\n",
    "dt[['Age', 'AgeFilled']][dt['Age'].isna()].head()"
   ]
  },
  {
   "cell_type": "markdown",
   "metadata": {
    "slideshow": {
     "slide_type": "subslide"
    }
   },
   "source": [
    "&emsp;&emsp;4. Якщо є причини вважати, що пропущені значення в неперервній змінній несуть якусь інформацію, то краще додати одну додаткову бінарну змінну, яка приймає значення 1, де оригінальна змінна містила пропуски і 0 в іншому випадку. Прикладом такої ситуації може бути соціологічне опитування, в якому відсутнє значення означає відмову відповідати на будь-яке питання, що може бути натяком на відповідь. Самі ж відсутні значенн замінюють у такому разі на 0:"
   ]
  },
  {
   "cell_type": "code",
   "execution_count": 44,
   "metadata": {
    "slideshow": {
     "slide_type": "subslide"
    }
   },
   "outputs": [
    {
     "data": {
      "text/html": [
       "<div>\n",
       "<style scoped>\n",
       "    .dataframe tbody tr th:only-of-type {\n",
       "        vertical-align: middle;\n",
       "    }\n",
       "\n",
       "    .dataframe tbody tr th {\n",
       "        vertical-align: top;\n",
       "    }\n",
       "\n",
       "    .dataframe thead th {\n",
       "        text-align: right;\n",
       "    }\n",
       "</style>\n",
       "<table border=\"1\" class=\"dataframe\">\n",
       "  <thead>\n",
       "    <tr style=\"text-align: right;\">\n",
       "      <th></th>\n",
       "      <th>Age</th>\n",
       "      <th>AgeFilled</th>\n",
       "      <th>IsUnknownAge</th>\n",
       "    </tr>\n",
       "  </thead>\n",
       "  <tbody>\n",
       "    <tr>\n",
       "      <th>5</th>\n",
       "      <td>NaN</td>\n",
       "      <td>0.0</td>\n",
       "      <td>1</td>\n",
       "    </tr>\n",
       "    <tr>\n",
       "      <th>17</th>\n",
       "      <td>NaN</td>\n",
       "      <td>0.0</td>\n",
       "      <td>1</td>\n",
       "    </tr>\n",
       "    <tr>\n",
       "      <th>19</th>\n",
       "      <td>NaN</td>\n",
       "      <td>0.0</td>\n",
       "      <td>1</td>\n",
       "    </tr>\n",
       "    <tr>\n",
       "      <th>26</th>\n",
       "      <td>NaN</td>\n",
       "      <td>0.0</td>\n",
       "      <td>1</td>\n",
       "    </tr>\n",
       "    <tr>\n",
       "      <th>28</th>\n",
       "      <td>NaN</td>\n",
       "      <td>0.0</td>\n",
       "      <td>1</td>\n",
       "    </tr>\n",
       "  </tbody>\n",
       "</table>\n",
       "</div>"
      ],
      "text/plain": [
       "    Age  AgeFilled  IsUnknownAge\n",
       "5   NaN        0.0             1\n",
       "17  NaN        0.0             1\n",
       "19  NaN        0.0             1\n",
       "26  NaN        0.0             1\n",
       "28  NaN        0.0             1"
      ]
     },
     "execution_count": 44,
     "metadata": {},
     "output_type": "execute_result"
    }
   ],
   "source": [
    "dt['AgeFilled'] = np.where(dt['Age'].isna(), 0, dt['Age'])\n",
    "dt['IsUnknownAge'] = np.where(dt['Age'].isna(), 1, 0)\n",
    "dt[['Age', 'AgeFilled', 'IsUnknownAge']][dt['Age'].isna()].head()"
   ]
  },
  {
   "cell_type": "markdown",
   "metadata": {
    "slideshow": {
     "slide_type": "subslide"
    }
   },
   "source": [
    "&emsp;&emsp;5. Найскладнішим способом, що вимагає додаткового аналізу, є заміна на основі значень інших змінних. Наприклад, якби в нас були відсутні значення вартості квитка, то можна було б на підставі класу каюти та місця посадки зробити непогану здогад щодо невідомої вартості:"
   ]
  },
  {
   "cell_type": "code",
   "execution_count": 45,
   "metadata": {
    "slideshow": {
     "slide_type": "subslide"
    }
   },
   "outputs": [
    {
     "name": "stdout",
     "output_type": "stream",
     "text": [
      "<class 'pandas.core.frame.DataFrame'>\n",
      "RangeIndex: 891 entries, 0 to 890\n",
      "Data columns (total 17 columns):\n",
      " #   Column                              Non-Null Count  Dtype  \n",
      "---  ------                              --------------  -----  \n",
      " 0   PassengerId                         891 non-null    int64  \n",
      " 1   Survived                            891 non-null    int64  \n",
      " 2   Pclass                              891 non-null    object \n",
      " 3   Name                                891 non-null    object \n",
      " 4   Sex                                 891 non-null    object \n",
      " 5   Age                                 714 non-null    float64\n",
      " 6   SibSp                               891 non-null    int64  \n",
      " 7   Parch                               891 non-null    int64  \n",
      " 8   Ticket                              891 non-null    object \n",
      " 9   Fare                                891 non-null    float64\n",
      " 10  Cabin                               204 non-null    object \n",
      " 11  Embarked                            889 non-null    object \n",
      " 12  PclassEncoded                       891 non-null    float64\n",
      " 13  GlobalAverage                       891 non-null    float64\n",
      " 14  PclassEncoded_w_Smoothing           891 non-null    float64\n",
      " 15  PclassEncoded_w_Smoothing_external  891 non-null    float64\n",
      " 16  FareWithNulls                       791 non-null    float64\n",
      "dtypes: float64(7), int64(4), object(6)\n",
      "memory usage: 118.5+ KB\n"
     ]
    }
   ],
   "source": [
    "# видалимо деякі значення з колонки, що містить вартість квитка\n",
    "dt = data.copy()\n",
    "dt['FareWithNulls'] = dt['Fare']\n",
    "dt.loc[np.random.choice(dt.index, size=100, replace=False), 'FareWithNulls'] = np.nan\n",
    "dt.info()"
   ]
  },
  {
   "cell_type": "code",
   "execution_count": 46,
   "metadata": {
    "slideshow": {
     "slide_type": "subslide"
    }
   },
   "outputs": [
    {
     "data": {
      "text/html": [
       "<div>\n",
       "<style scoped>\n",
       "    .dataframe tbody tr th:only-of-type {\n",
       "        vertical-align: middle;\n",
       "    }\n",
       "\n",
       "    .dataframe tbody tr th {\n",
       "        vertical-align: top;\n",
       "    }\n",
       "\n",
       "    .dataframe thead th {\n",
       "        text-align: right;\n",
       "    }\n",
       "</style>\n",
       "<table border=\"1\" class=\"dataframe\">\n",
       "  <thead>\n",
       "    <tr style=\"text-align: right;\">\n",
       "      <th></th>\n",
       "      <th>FareWithNulls</th>\n",
       "      <th>Fare</th>\n",
       "      <th>FareGuess</th>\n",
       "    </tr>\n",
       "  </thead>\n",
       "  <tbody>\n",
       "    <tr>\n",
       "      <th>2</th>\n",
       "      <td>NaN</td>\n",
       "      <td>7.9250</td>\n",
       "      <td>8.0500</td>\n",
       "    </tr>\n",
       "    <tr>\n",
       "      <th>19</th>\n",
       "      <td>NaN</td>\n",
       "      <td>7.2250</td>\n",
       "      <td>7.8958</td>\n",
       "    </tr>\n",
       "    <tr>\n",
       "      <th>44</th>\n",
       "      <td>NaN</td>\n",
       "      <td>7.8792</td>\n",
       "      <td>7.7500</td>\n",
       "    </tr>\n",
       "    <tr>\n",
       "      <th>51</th>\n",
       "      <td>NaN</td>\n",
       "      <td>7.8000</td>\n",
       "      <td>8.0500</td>\n",
       "    </tr>\n",
       "    <tr>\n",
       "      <th>63</th>\n",
       "      <td>NaN</td>\n",
       "      <td>27.9000</td>\n",
       "      <td>8.0500</td>\n",
       "    </tr>\n",
       "    <tr>\n",
       "      <th>65</th>\n",
       "      <td>NaN</td>\n",
       "      <td>15.2458</td>\n",
       "      <td>7.8958</td>\n",
       "    </tr>\n",
       "    <tr>\n",
       "      <th>68</th>\n",
       "      <td>NaN</td>\n",
       "      <td>7.9250</td>\n",
       "      <td>8.0500</td>\n",
       "    </tr>\n",
       "    <tr>\n",
       "      <th>84</th>\n",
       "      <td>NaN</td>\n",
       "      <td>10.5000</td>\n",
       "      <td>13.5000</td>\n",
       "    </tr>\n",
       "    <tr>\n",
       "      <th>88</th>\n",
       "      <td>NaN</td>\n",
       "      <td>263.0000</td>\n",
       "      <td>52.0000</td>\n",
       "    </tr>\n",
       "    <tr>\n",
       "      <th>97</th>\n",
       "      <td>NaN</td>\n",
       "      <td>63.3583</td>\n",
       "      <td>78.2667</td>\n",
       "    </tr>\n",
       "    <tr>\n",
       "      <th>102</th>\n",
       "      <td>NaN</td>\n",
       "      <td>77.2875</td>\n",
       "      <td>52.0000</td>\n",
       "    </tr>\n",
       "    <tr>\n",
       "      <th>103</th>\n",
       "      <td>NaN</td>\n",
       "      <td>8.6542</td>\n",
       "      <td>8.0500</td>\n",
       "    </tr>\n",
       "    <tr>\n",
       "      <th>116</th>\n",
       "      <td>NaN</td>\n",
       "      <td>7.7500</td>\n",
       "      <td>7.7500</td>\n",
       "    </tr>\n",
       "    <tr>\n",
       "      <th>119</th>\n",
       "      <td>NaN</td>\n",
       "      <td>31.2750</td>\n",
       "      <td>8.0500</td>\n",
       "    </tr>\n",
       "    <tr>\n",
       "      <th>125</th>\n",
       "      <td>NaN</td>\n",
       "      <td>11.2417</td>\n",
       "      <td>7.8958</td>\n",
       "    </tr>\n",
       "  </tbody>\n",
       "</table>\n",
       "</div>"
      ],
      "text/plain": [
       "     FareWithNulls      Fare  FareGuess\n",
       "2              NaN    7.9250     8.0500\n",
       "19             NaN    7.2250     7.8958\n",
       "44             NaN    7.8792     7.7500\n",
       "51             NaN    7.8000     8.0500\n",
       "63             NaN   27.9000     8.0500\n",
       "65             NaN   15.2458     7.8958\n",
       "68             NaN    7.9250     8.0500\n",
       "84             NaN   10.5000    13.5000\n",
       "88             NaN  263.0000    52.0000\n",
       "97             NaN   63.3583    78.2667\n",
       "102            NaN   77.2875    52.0000\n",
       "103            NaN    8.6542     8.0500\n",
       "116            NaN    7.7500     7.7500\n",
       "119            NaN   31.2750     8.0500\n",
       "125            NaN   11.2417     7.8958"
      ]
     },
     "execution_count": 46,
     "metadata": {},
     "output_type": "execute_result"
    }
   ],
   "source": [
    "dt['FareGuess'] = dt[~dt['Fare'].isna()].groupby(['Pclass', 'Embarked'])['Fare'].transform(np.median)\n",
    "dt[['FareWithNulls', 'Fare', 'FareGuess']][dt['FareWithNulls'].isna()].head(15)"
   ]
  },
  {
   "cell_type": "markdown",
   "metadata": {
    "slideshow": {
     "slide_type": "slide"
    }
   },
   "source": [
    "# Викиди (outliers)"
   ]
  },
  {
   "cell_type": "markdown",
   "metadata": {
    "slideshow": {
     "slide_type": "slide"
    }
   },
   "source": [
    "&emsp;&emsp;Часто в навчальному наборі є спостереження, які дуже сильно вибиваються з шаблону і модель робить дуже великі помилки для них навіть на етапі навчання. Такі спостереження часто негативно впливають на навчання моделі і їх краще позбутися. Інтуїтивно можна зрозуміти це так: є приклади, для яких ми все одно не можемо дати хороший прогноз - варто їх прибрати, щоб допомогти моделі зосередитися на типових випадках.\n",
    "\n",
    "&emsp;&emsp;Для прикладу повернемося до даних про вартість житла:"
   ]
  },
  {
   "cell_type": "code",
   "execution_count": 47,
   "metadata": {
    "slideshow": {
     "slide_type": "subslide"
    }
   },
   "outputs": [
    {
     "name": "stdout",
     "output_type": "stream",
     "text": [
      "Помилка на навчальному наборі:  88.38446412672515\n",
      "Помилка на тестовому наборі:  58.06687255049843\n"
     ]
    }
   ],
   "source": [
    "data = pd.read_csv('RealEstate.csv', sep=',', header=0)\n",
    "\n",
    "X = data[['X2 house age', 'X3 distance to the nearest MRT station',\n",
    "          'X4 number of convenience stores', 'X1 transaction date']]\n",
    "\n",
    "y = data['Y house price of unit area'].values\n",
    "\n",
    "X_train, X_test, y_train, y_test = train_test_split(X, y, test_size=0.2, random_state=13)\n",
    "X_train, X_test = X_train.copy(), X_test.copy()\n",
    "\n",
    "mdl = LinearRegression().fit(X_train, y_train)\n",
    "\n",
    "train_predictions = mdl.predict(X_train)\n",
    "test_predictions = mdl.predict(X_test)\n",
    "\n",
    "print('Помилка на навчальному наборі: ', mean_squared_error(y_train, train_predictions))\n",
    "print('Помилка на тестовому наборі: ', mean_squared_error(y_test, test_predictions))"
   ]
  },
  {
   "cell_type": "markdown",
   "metadata": {
    "slideshow": {
     "slide_type": "subslide"
    }
   },
   "source": [
    "&emsp;&emsp;Зазвичай точки, які вибиваються із загальної тенденції, добре видно на графіку фактичних та прогнозних значень:"
   ]
  },
  {
   "cell_type": "code",
   "execution_count": 48,
   "metadata": {
    "slideshow": {
     "slide_type": "subslide"
    }
   },
   "outputs": [
    {
     "data": {
      "image/png": "[encoded data removed]",
      "text/plain": [
       "<Figure size 432x288 with 1 Axes>"
      ]
     },
     "metadata": {
      "needs_background": "light"
     },
     "output_type": "display_data"
    }
   ],
   "source": [
    "train_errors = np.abs(y_train - train_predictions) # порахуємо помилку як абсолютне відхилення від прогнозу\n",
    "percentile99 = np.percentile(train_errors, 99) # знайдемо значення, менше якого знаходиться 99% помилок\n",
    "is_big_error = np.where(train_errors > percentile99, 1, 0) # відзначимо точки, для яких помилка потрапляє в топ 1%\n",
    "\n",
    "# побудуємо графік фактичних значень проти прогнозних\n",
    "plt.scatter(\n",
    "     y_train,\n",
    "     train_predictions,\n",
    "     c=is_big_error # колір точки залежить від ступеня помилки\n",
    ")\n",
    "\n",
    "plt.show()"
   ]
  },
  {
   "cell_type": "markdown",
   "metadata": {
    "slideshow": {
     "slide_type": "subslide"
    }
   },
   "source": [
    "&emsp;&emsp;Як видно на малюнку, точки, що позначені жовтим дуже сильно вибиваються із шаблону. Спробуємо видалити їх на етапі навчання моделі:"
   ]
  },
  {
   "cell_type": "code",
   "execution_count": 49,
   "metadata": {
    "slideshow": {
     "slide_type": "subslide"
    }
   },
   "outputs": [
    {
     "name": "stdout",
     "output_type": "stream",
     "text": [
      "Помилка на навчальному наборі:  60.854963687766904\n",
      "Помилка на тестовому наборі:  56.9208099918635\n"
     ]
    }
   ],
   "source": [
    "inline_mask = train_errors <= percentile99\n",
    "X_train, y_train = X_train[inline_mask], y_train[inline_mask]\n",
    "\n",
    "mdl = LinearRegression().fit(X_train, y_train)\n",
    "\n",
    "train_predictions = mdl.predict(X_train)\n",
    "test_predictions = mdl.predict(X_test)\n",
    "\n",
    "print('Помилка на навчальному наборі: ', mean_squared_error(y_train, train_predictions))\n",
    "print('Помилка на тестовому наборі: ', mean_squared_error(y_test, test_predictions))"
   ]
  },
  {
   "cell_type": "markdown",
   "metadata": {
    "slideshow": {
     "slide_type": "subslide"
    }
   },
   "source": [
    "&emsp;&emsp;Як бачимо, помилка зменшилася як на навчальному, так і на тестовому наборі. В інших ситуаціях може бути більш відповідним видалити не топ 1%, а більше або не видаляти зовсім. Рішення, як завжди, варто приймати на основі зміни помилки тестового набору."
   ]
  },
  {
   "cell_type": "markdown",
   "metadata": {
    "slideshow": {
     "slide_type": "slide"
    }
   },
   "source": [
    "# Зважування спостережень"
   ]
  },
  {
   "cell_type": "markdown",
   "metadata": {
    "slideshow": {
     "slide_type": "slide"
    }
   },
   "source": [
    "&emsp;&emsp;Часто виникають ситуації, в яких коректні прогнози для одних спостережень важливіші, ніж для інших. Прикладом може бути модель для розпізнавання шахрайської активності, де правильно виявити одного шахрая більш критично, ніж сказати про 10 звичайних користувачів, що з ними все гаразд.\n",
    "\n",
    "&emsp;&emsp;Якщо узагальнити, це правильно майже всім незбалансованих наборів даних - таких, котрим той чи інший клас цільової змінної представлений набагато рідше, ніж інші. Трапляється, що модель бачить сотні негативних прикладів та одиниці позитивних, що може негативно позначитися на розпізнаванні останніх у майбутньому."
   ]
  },
  {
   "cell_type": "markdown",
   "metadata": {
    "slideshow": {
     "slide_type": "subslide"
    }
   },
   "source": [
    "&emsp;&emsp;Зважування спостережень - це спосіб акцентувати увагу моделі на цікавих для нас прикладах. Наприклад розглянемо функцію втрат для логістичної регресії:\n",
    "\n",
    "$$loss = -\\frac {1} {n}\\sum_{i = 1}^{n}\\Big(y_{i}ln(p_{i}) + (1 - y_{i})ln(1 - p_{i})\\Big)$$\n",
    "\n",
    "&emsp;&emsp;У такому формулюванні кожне спостереження моделі рівноважно: помилившись однаково на першому і другому прикладі внесок у загальну помилку (loss) буде однаковим. Переформулюємо функцію так:\n",
    "\n",
    "$$loss = -\\frac {1} {\\sum_{i = 1}^{n}{w_{i}}}\\sum_{i = 1}^{n}{w_{i}\\Big(y_{i}ln(p_{i}) + (1 - y_{i})ln(1 - p_{i})\\Big)}$$\n",
    "\n",
    "&emsp;&emsp;Тут $w_i$ - це вага, яка присвоєна кожному спостереженню окремо. Тепер, при однаковій помилці на першому і другому прикладі їх внесок у загальну функцію втрат буде різним: $w_1$ і $w_2$, відповідно. Таким чином, якщо $w_2$ більше, ніж $w_1$, то для зниження загальної втрати моделі доведеться більше сконцентруватися на другому прикладі, ніж на першому."
   ]
  },
  {
   "cell_type": "markdown",
   "metadata": {
    "slideshow": {
     "slide_type": "subslide"
    }
   },
   "source": [
    "&emsp;&emsp;Для прикладу скористаємося даними про шахрайські дії з кредитними картками. Вважатимемо, що існує додаткова бізнес вимога, яка говорить: \"правильно обчислити одного шахрая в 20 разів важливіше, ніж просто підтвердити для звичайного клієнта, що з ним все ок\"."
   ]
  },
  {
   "cell_type": "code",
   "execution_count": 50,
   "metadata": {
    "slideshow": {
     "slide_type": "subslide"
    }
   },
   "outputs": [
    {
     "data": {
      "text/html": [
       "<div>\n",
       "<style scoped>\n",
       "    .dataframe tbody tr th:only-of-type {\n",
       "        vertical-align: middle;\n",
       "    }\n",
       "\n",
       "    .dataframe tbody tr th {\n",
       "        vertical-align: top;\n",
       "    }\n",
       "\n",
       "    .dataframe thead th {\n",
       "        text-align: right;\n",
       "    }\n",
       "</style>\n",
       "<table border=\"1\" class=\"dataframe\">\n",
       "  <thead>\n",
       "    <tr style=\"text-align: right;\">\n",
       "      <th></th>\n",
       "      <th>Time</th>\n",
       "      <th>V1</th>\n",
       "      <th>V2</th>\n",
       "      <th>V3</th>\n",
       "      <th>V4</th>\n",
       "      <th>V5</th>\n",
       "      <th>V6</th>\n",
       "      <th>V7</th>\n",
       "      <th>V8</th>\n",
       "      <th>V9</th>\n",
       "      <th>...</th>\n",
       "      <th>V21</th>\n",
       "      <th>V22</th>\n",
       "      <th>V23</th>\n",
       "      <th>V24</th>\n",
       "      <th>V25</th>\n",
       "      <th>V26</th>\n",
       "      <th>V27</th>\n",
       "      <th>V28</th>\n",
       "      <th>Amount</th>\n",
       "      <th>Class</th>\n",
       "    </tr>\n",
       "  </thead>\n",
       "  <tbody>\n",
       "    <tr>\n",
       "      <th>count</th>\n",
       "      <td>10492.000000</td>\n",
       "      <td>10492.000000</td>\n",
       "      <td>10492.000000</td>\n",
       "      <td>10492.000000</td>\n",
       "      <td>10492.000000</td>\n",
       "      <td>10492.000000</td>\n",
       "      <td>10492.000000</td>\n",
       "      <td>10492.000000</td>\n",
       "      <td>10492.000000</td>\n",
       "      <td>10492.000000</td>\n",
       "      <td>...</td>\n",
       "      <td>10492.000000</td>\n",
       "      <td>10492.000000</td>\n",
       "      <td>10492.000000</td>\n",
       "      <td>10492.000000</td>\n",
       "      <td>10492.000000</td>\n",
       "      <td>10492.000000</td>\n",
       "      <td>10492.000000</td>\n",
       "      <td>10492.000000</td>\n",
       "      <td>10492.000000</td>\n",
       "      <td>10492.000000</td>\n",
       "    </tr>\n",
       "    <tr>\n",
       "      <th>mean</th>\n",
       "      <td>94587.165841</td>\n",
       "      <td>-0.197476</td>\n",
       "      <td>0.143143</td>\n",
       "      <td>-0.303060</td>\n",
       "      <td>0.203662</td>\n",
       "      <td>-0.139521</td>\n",
       "      <td>-0.059322</td>\n",
       "      <td>-0.258059</td>\n",
       "      <td>0.002513</td>\n",
       "      <td>-0.139406</td>\n",
       "      <td>...</td>\n",
       "      <td>0.040509</td>\n",
       "      <td>-0.001458</td>\n",
       "      <td>0.003243</td>\n",
       "      <td>-0.001884</td>\n",
       "      <td>-0.001850</td>\n",
       "      <td>-0.004254</td>\n",
       "      <td>0.009800</td>\n",
       "      <td>0.003223</td>\n",
       "      <td>90.229797</td>\n",
       "      <td>0.046893</td>\n",
       "    </tr>\n",
       "    <tr>\n",
       "      <th>std</th>\n",
       "      <td>47428.184436</td>\n",
       "      <td>2.561736</td>\n",
       "      <td>1.995360</td>\n",
       "      <td>2.567587</td>\n",
       "      <td>1.790170</td>\n",
       "      <td>1.848872</td>\n",
       "      <td>1.382166</td>\n",
       "      <td>2.250852</td>\n",
       "      <td>1.867192</td>\n",
       "      <td>1.302302</td>\n",
       "      <td>...</td>\n",
       "      <td>1.117863</td>\n",
       "      <td>0.780458</td>\n",
       "      <td>0.677584</td>\n",
       "      <td>0.601804</td>\n",
       "      <td>0.535506</td>\n",
       "      <td>0.477080</td>\n",
       "      <td>0.460587</td>\n",
       "      <td>0.357483</td>\n",
       "      <td>234.750558</td>\n",
       "      <td>0.211419</td>\n",
       "    </tr>\n",
       "    <tr>\n",
       "      <th>min</th>\n",
       "      <td>10.000000</td>\n",
       "      <td>-35.698345</td>\n",
       "      <td>-37.154221</td>\n",
       "      <td>-31.103685</td>\n",
       "      <td>-4.729482</td>\n",
       "      <td>-22.105532</td>\n",
       "      <td>-12.709475</td>\n",
       "      <td>-43.557242</td>\n",
       "      <td>-41.044261</td>\n",
       "      <td>-13.434066</td>\n",
       "      <td>...</td>\n",
       "      <td>-22.797604</td>\n",
       "      <td>-8.887017</td>\n",
       "      <td>-26.751119</td>\n",
       "      <td>-2.836627</td>\n",
       "      <td>-7.495741</td>\n",
       "      <td>-1.732008</td>\n",
       "      <td>-7.263482</td>\n",
       "      <td>-6.098303</td>\n",
       "      <td>0.000000</td>\n",
       "      <td>0.000000</td>\n",
       "    </tr>\n",
       "    <tr>\n",
       "      <th>25%</th>\n",
       "      <td>54351.750000</td>\n",
       "      <td>-0.981819</td>\n",
       "      <td>-0.569167</td>\n",
       "      <td>-1.034622</td>\n",
       "      <td>-0.797326</td>\n",
       "      <td>-0.744341</td>\n",
       "      <td>-0.805949</td>\n",
       "      <td>-0.622936</td>\n",
       "      <td>-0.204754</td>\n",
       "      <td>-0.745114</td>\n",
       "      <td>...</td>\n",
       "      <td>-0.228591</td>\n",
       "      <td>-0.550638</td>\n",
       "      <td>-0.165396</td>\n",
       "      <td>-0.358093</td>\n",
       "      <td>-0.320154</td>\n",
       "      <td>-0.327589</td>\n",
       "      <td>-0.070152</td>\n",
       "      <td>-0.052902</td>\n",
       "      <td>5.000000</td>\n",
       "      <td>0.000000</td>\n",
       "    </tr>\n",
       "    <tr>\n",
       "      <th>50%</th>\n",
       "      <td>85562.000000</td>\n",
       "      <td>-0.063151</td>\n",
       "      <td>0.088127</td>\n",
       "      <td>0.124906</td>\n",
       "      <td>0.045387</td>\n",
       "      <td>-0.074452</td>\n",
       "      <td>-0.294727</td>\n",
       "      <td>0.001617</td>\n",
       "      <td>0.031099</td>\n",
       "      <td>-0.103289</td>\n",
       "      <td>...</td>\n",
       "      <td>-0.018052</td>\n",
       "      <td>0.017246</td>\n",
       "      <td>-0.008594</td>\n",
       "      <td>0.042537</td>\n",
       "      <td>0.009867</td>\n",
       "      <td>-0.058095</td>\n",
       "      <td>0.005066</td>\n",
       "      <td>0.011951</td>\n",
       "      <td>21.205000</td>\n",
       "      <td>0.000000</td>\n",
       "    </tr>\n",
       "    <tr>\n",
       "      <th>75%</th>\n",
       "      <td>139011.250000</td>\n",
       "      <td>1.299732</td>\n",
       "      <td>0.873266</td>\n",
       "      <td>1.006891</td>\n",
       "      <td>0.899029</td>\n",
       "      <td>0.591420</td>\n",
       "      <td>0.388326</td>\n",
       "      <td>0.549715</td>\n",
       "      <td>0.350379</td>\n",
       "      <td>0.549898</td>\n",
       "      <td>...</td>\n",
       "      <td>0.206077</td>\n",
       "      <td>0.534157</td>\n",
       "      <td>0.152902</td>\n",
       "      <td>0.434946</td>\n",
       "      <td>0.349071</td>\n",
       "      <td>0.227664</td>\n",
       "      <td>0.105003</td>\n",
       "      <td>0.083615</td>\n",
       "      <td>79.892500</td>\n",
       "      <td>0.000000</td>\n",
       "    </tr>\n",
       "    <tr>\n",
       "      <th>max</th>\n",
       "      <td>172750.000000</td>\n",
       "      <td>2.420346</td>\n",
       "      <td>22.057729</td>\n",
       "      <td>4.079168</td>\n",
       "      <td>12.114672</td>\n",
       "      <td>16.160824</td>\n",
       "      <td>10.033923</td>\n",
       "      <td>15.109837</td>\n",
       "      <td>20.007208</td>\n",
       "      <td>7.783716</td>\n",
       "      <td>...</td>\n",
       "      <td>27.202839</td>\n",
       "      <td>8.361985</td>\n",
       "      <td>12.225083</td>\n",
       "      <td>3.034593</td>\n",
       "      <td>3.655798</td>\n",
       "      <td>2.952840</td>\n",
       "      <td>4.627655</td>\n",
       "      <td>15.649134</td>\n",
       "      <td>4675.000000</td>\n",
       "      <td>1.000000</td>\n",
       "    </tr>\n",
       "  </tbody>\n",
       "</table>\n",
       "<p>8 rows × 31 columns</p>\n",
       "</div>"
      ],
      "text/plain": [
       "                Time            V1            V2            V3            V4  \\\n",
       "count   10492.000000  10492.000000  10492.000000  10492.000000  10492.000000   \n",
       "mean    94587.165841     -0.197476      0.143143     -0.303060      0.203662   \n",
       "std     47428.184436      2.561736      1.995360      2.567587      1.790170   \n",
       "min        10.000000    -35.698345    -37.154221    -31.103685     -4.729482   \n",
       "25%     54351.750000     -0.981819     -0.569167     -1.034622     -0.797326   \n",
       "50%     85562.000000     -0.063151      0.088127      0.124906      0.045387   \n",
       "75%    139011.250000      1.299732      0.873266      1.006891      0.899029   \n",
       "max    172750.000000      2.420346     22.057729      4.079168     12.114672   \n",
       "\n",
       "                 V5            V6            V7            V8            V9  \\\n",
       "count  10492.000000  10492.000000  10492.000000  10492.000000  10492.000000   \n",
       "mean      -0.139521     -0.059322     -0.258059      0.002513     -0.139406   \n",
       "std        1.848872      1.382166      2.250852      1.867192      1.302302   \n",
       "min      -22.105532    -12.709475    -43.557242    -41.044261    -13.434066   \n",
       "25%       -0.744341     -0.805949     -0.622936     -0.204754     -0.745114   \n",
       "50%       -0.074452     -0.294727      0.001617      0.031099     -0.103289   \n",
       "75%        0.591420      0.388326      0.549715      0.350379      0.549898   \n",
       "max       16.160824     10.033923     15.109837     20.007208      7.783716   \n",
       "\n",
       "       ...           V21           V22           V23           V24  \\\n",
       "count  ...  10492.000000  10492.000000  10492.000000  10492.000000   \n",
       "mean   ...      0.040509     -0.001458      0.003243     -0.001884   \n",
       "std    ...      1.117863      0.780458      0.677584      0.601804   \n",
       "min    ...    -22.797604     -8.887017    -26.751119     -2.836627   \n",
       "25%    ...     -0.228591     -0.550638     -0.165396     -0.358093   \n",
       "50%    ...     -0.018052      0.017246     -0.008594      0.042537   \n",
       "75%    ...      0.206077      0.534157      0.152902      0.434946   \n",
       "max    ...     27.202839      8.361985     12.225083      3.034593   \n",
       "\n",
       "                V25           V26           V27           V28        Amount  \\\n",
       "count  10492.000000  10492.000000  10492.000000  10492.000000  10492.000000   \n",
       "mean      -0.001850     -0.004254      0.009800      0.003223     90.229797   \n",
       "std        0.535506      0.477080      0.460587      0.357483    234.750558   \n",
       "min       -7.495741     -1.732008     -7.263482     -6.098303      0.000000   \n",
       "25%       -0.320154     -0.327589     -0.070152     -0.052902      5.000000   \n",
       "50%        0.009867     -0.058095      0.005066      0.011951     21.205000   \n",
       "75%        0.349071      0.227664      0.105003      0.083615     79.892500   \n",
       "max        3.655798      2.952840      4.627655     15.649134   4675.000000   \n",
       "\n",
       "              Class  \n",
       "count  10492.000000  \n",
       "mean       0.046893  \n",
       "std        0.211419  \n",
       "min        0.000000  \n",
       "25%        0.000000  \n",
       "50%        0.000000  \n",
       "75%        0.000000  \n",
       "max        1.000000  \n",
       "\n",
       "[8 rows x 31 columns]"
      ]
     },
     "execution_count": 50,
     "metadata": {},
     "output_type": "execute_result"
    }
   ],
   "source": [
    "fraud_dt = pd.read_csv('fraud_detection.csv', sep=';', header=0)\n",
    "fraud_dt.describe()"
   ]
  },
  {
   "cell_type": "markdown",
   "metadata": {
    "slideshow": {
     "slide_type": "subslide"
    }
   },
   "source": [
    "&emsp;&emsp;Більшість колонок у цих даних анонімні. У колонці \"Class\" міститься маркер шахрайської поведінки (1 означає шахрайство, 0 - ні). Як бачимо прикладів шахрайства менше ніж 5%.\n",
    "\n",
    "&emsp;&emsp;Почнемо з того, що позбудемося зайвих колонок і розділимо дані на 2 групи:"
   ]
  },
  {
   "cell_type": "code",
   "execution_count": 51,
   "metadata": {
    "slideshow": {
     "slide_type": "subslide"
    }
   },
   "outputs": [
    {
     "name": "stdout",
     "output_type": "stream",
     "text": [
      "Доля позитивних прикладів у навчальному наборі:  0.04694388180626713\n",
      "Доля позитивних прикладів у тестовому наборі:  0.046688899475940925\n"
     ]
    }
   ],
   "source": [
    "X = fraud_dt[[col for col in fraud_dt if col not in {'Time', 'Class'}]]\n",
    "y = fraud_dt['Class'].values\n",
    "\n",
    "X_train, X_test, y_train, y_test = train_test_split(X, y, test_size=0.2, random_state=42, stratify=y)\n",
    "\n",
    "# передавши вище в параметр \"stratify\" значення ми гарантовано отримаємо однакову пропорцію змінної 'Class'\n",
    "# в навчальному та тестовому наборі\n",
    "print('Доля позитивних прикладів у навчальному наборі: ', np.mean(y_train))\n",
    "print('Доля позитивних прикладів у тестовому наборі: ', np.mean(y_test))"
   ]
  },
  {
   "cell_type": "markdown",
   "metadata": {
    "slideshow": {
     "slide_type": "subslide"
    }
   },
   "source": [
    "&emsp;&emsp;Тепер побудуємо модель та оцінимо її якість. Виникає питання, яку метрику якості краще вибрати. До того ж, нам необхідно знати граничне значення для ймовірності, скажімо, якщо ймовірність шахрайства більше 50%, то такого користувача краще заблокувати. Незважаючи на те, що ми хочемо знайти якнайбільше шахраїв, занадто часто блокувати звичайних користувачів теж шкідливо для бізнесу, тому хорошим вибором у даному випадку буде метрика F1, як середня між recall і precision."
   ]
  },
  {
   "cell_type": "code",
   "execution_count": 52,
   "metadata": {
    "slideshow": {
     "slide_type": "subslide"
    }
   },
   "outputs": [
    {
     "name": "stdout",
     "output_type": "stream",
     "text": [
      "Best threshold: 0.1; best F1 score: 0.9568874868559412\n"
     ]
    }
   ],
   "source": [
    "from sklearn.metrics import f1_score\n",
    "\n",
    "FRAUD_WEIGHT = 20  #визначимо вагу одного шахрайського випадку\n",
    "mdl = LogisticRegression(max_iter=1000).fit(X_train, y_train)  # оцінимо звичайну модель без зважування\n",
    "\n",
    "# тепер нам слід знайти ідеальне порогове значення, після якого (імовірно) блокувати користувача\n",
    "# для цього переберемо різні варіанти порогового значення між 0.05 та 0.95 з кроком 0.05 та обчислимо для них F1\n",
    "\n",
    "best_threshold, best_f1 = 0, 0  # ініціалізуємо найкращий поріг і найкращий скор як 0\n",
    "intermediate_results = []  # ініціалізуємо список, в якому зберігатимемо проміжні результати\n",
    "for thr in np.linspace(0.05, 0.95, 19):\n",
    "    \n",
    "    # отримаємо прогноз моделі та округлимо в залежності від поточного порогового значення\n",
    "    test_preds = np.where(mdl.predict_proba(X_test)[:, 1] >= thr, 1, 0)\n",
    "    \n",
    "    # обчислимо F1 враховуючи запропоновану вагу кожного спостереження: 20, якщо позитивне\n",
    "    # і 1 в іншому випадку\n",
    "    f1 = f1_score(y_test, test_preds, sample_weight=np.where(y_test == 1, FRAUD_WEIGHT, 1))\n",
    "    \n",
    "    # оновимо значення кращого порога та F1, якщо поточне значення більше кращого\n",
    "    if f1 > best_f1:\n",
    "        best_threshold, best_f1 = thr, f1\n",
    "        \n",
    "    intermediate_results.append([np.round(thr, 4), np.round(f1, 4)])\n",
    "\n",
    "print(f'Best threshold: {best_threshold}; best F1 score: {best_f1}')"
   ]
  },
  {
   "cell_type": "code",
   "execution_count": 53,
   "metadata": {
    "slideshow": {
     "slide_type": "subslide"
    }
   },
   "outputs": [
    {
     "data": {
      "text/html": [
       "<div>\n",
       "<style scoped>\n",
       "    .dataframe tbody tr th:only-of-type {\n",
       "        vertical-align: middle;\n",
       "    }\n",
       "\n",
       "    .dataframe tbody tr th {\n",
       "        vertical-align: top;\n",
       "    }\n",
       "\n",
       "    .dataframe thead th {\n",
       "        text-align: right;\n",
       "    }\n",
       "</style>\n",
       "<table border=\"1\" class=\"dataframe\">\n",
       "  <thead>\n",
       "    <tr style=\"text-align: right;\">\n",
       "      <th></th>\n",
       "      <th>Threshold</th>\n",
       "      <th>F1 score</th>\n",
       "    </tr>\n",
       "  </thead>\n",
       "  <tbody>\n",
       "    <tr>\n",
       "      <th>0</th>\n",
       "      <td>0.05</td>\n",
       "      <td>0.9519</td>\n",
       "    </tr>\n",
       "    <tr>\n",
       "      <th>1</th>\n",
       "      <td>0.10</td>\n",
       "      <td>0.9569</td>\n",
       "    </tr>\n",
       "    <tr>\n",
       "      <th>2</th>\n",
       "      <td>0.15</td>\n",
       "      <td>0.9365</td>\n",
       "    </tr>\n",
       "    <tr>\n",
       "      <th>3</th>\n",
       "      <td>0.20</td>\n",
       "      <td>0.9267</td>\n",
       "    </tr>\n",
       "    <tr>\n",
       "      <th>4</th>\n",
       "      <td>0.25</td>\n",
       "      <td>0.9208</td>\n",
       "    </tr>\n",
       "    <tr>\n",
       "      <th>5</th>\n",
       "      <td>0.30</td>\n",
       "      <td>0.9218</td>\n",
       "    </tr>\n",
       "    <tr>\n",
       "      <th>6</th>\n",
       "      <td>0.35</td>\n",
       "      <td>0.9223</td>\n",
       "    </tr>\n",
       "    <tr>\n",
       "      <th>7</th>\n",
       "      <td>0.40</td>\n",
       "      <td>0.9226</td>\n",
       "    </tr>\n",
       "    <tr>\n",
       "      <th>8</th>\n",
       "      <td>0.45</td>\n",
       "      <td>0.9226</td>\n",
       "    </tr>\n",
       "    <tr>\n",
       "      <th>9</th>\n",
       "      <td>0.50</td>\n",
       "      <td>0.9106</td>\n",
       "    </tr>\n",
       "    <tr>\n",
       "      <th>10</th>\n",
       "      <td>0.55</td>\n",
       "      <td>0.8984</td>\n",
       "    </tr>\n",
       "    <tr>\n",
       "      <th>11</th>\n",
       "      <td>0.60</td>\n",
       "      <td>0.8922</td>\n",
       "    </tr>\n",
       "    <tr>\n",
       "      <th>12</th>\n",
       "      <td>0.65</td>\n",
       "      <td>0.8922</td>\n",
       "    </tr>\n",
       "    <tr>\n",
       "      <th>13</th>\n",
       "      <td>0.70</td>\n",
       "      <td>0.8922</td>\n",
       "    </tr>\n",
       "    <tr>\n",
       "      <th>14</th>\n",
       "      <td>0.75</td>\n",
       "      <td>0.8859</td>\n",
       "    </tr>\n",
       "    <tr>\n",
       "      <th>15</th>\n",
       "      <td>0.80</td>\n",
       "      <td>0.8861</td>\n",
       "    </tr>\n",
       "    <tr>\n",
       "      <th>16</th>\n",
       "      <td>0.85</td>\n",
       "      <td>0.8797</td>\n",
       "    </tr>\n",
       "    <tr>\n",
       "      <th>17</th>\n",
       "      <td>0.90</td>\n",
       "      <td>0.8536</td>\n",
       "    </tr>\n",
       "    <tr>\n",
       "      <th>18</th>\n",
       "      <td>0.95</td>\n",
       "      <td>0.8261</td>\n",
       "    </tr>\n",
       "  </tbody>\n",
       "</table>\n",
       "</div>"
      ],
      "text/plain": [
       "    Threshold  F1 score\n",
       "0        0.05    0.9519\n",
       "1        0.10    0.9569\n",
       "2        0.15    0.9365\n",
       "3        0.20    0.9267\n",
       "4        0.25    0.9208\n",
       "5        0.30    0.9218\n",
       "6        0.35    0.9223\n",
       "7        0.40    0.9226\n",
       "8        0.45    0.9226\n",
       "9        0.50    0.9106\n",
       "10       0.55    0.8984\n",
       "11       0.60    0.8922\n",
       "12       0.65    0.8922\n",
       "13       0.70    0.8922\n",
       "14       0.75    0.8859\n",
       "15       0.80    0.8861\n",
       "16       0.85    0.8797\n",
       "17       0.90    0.8536\n",
       "18       0.95    0.8261"
      ]
     },
     "execution_count": 53,
     "metadata": {},
     "output_type": "execute_result"
    }
   ],
   "source": [
    "# подивимося на проміжні результати\n",
    "pd.DataFrame(intermediate_results, columns=['Threshold', 'F1 score'])"
   ]
  },
  {
   "cell_type": "markdown",
   "metadata": {
    "slideshow": {
     "slide_type": "subslide"
    }
   },
   "source": [
    "&emsp;&emsp;Виходячи з отриманих результатів, нам варто блокувати користувача до подальших розглядів, якщо модель видає ймовірність шахрайства більше 0.1. У цьому випадку ми отримаємо F1 = 0.9569.\n",
    "\n",
    "&emsp;&emsp;Тепер зробимо все те саме, але додамо вагу на етапі навчання моделі:"
   ]
  },
  {
   "cell_type": "code",
   "execution_count": 54,
   "metadata": {
    "slideshow": {
     "slide_type": "subslide"
    }
   },
   "outputs": [
    {
     "name": "stdout",
     "output_type": "stream",
     "text": [
      "Best threshold: 0.65; best F1 score: 0.9642\n"
     ]
    }
   ],
   "source": [
    "from sklearn.metrics import precision_score, recall_score\n",
    "\n",
    "w = np.where(y_train == 1, FRAUD_WEIGHT, 1)\n",
    "mdl = LogisticRegression(max_iter=1000).fit(X_train, y_train, sample_weight=w)\n",
    "\n",
    "best_threshold, best_f1 = 0, 0\n",
    "intermediate_results = []\n",
    "for thr in np.linspace(0.05, 0.95, 19):\n",
    "    \n",
    "    thr = np.round(thr, 4)\n",
    "    test_preds = np.where(mdl.predict_proba(X_test)[:, 1] >= thr, 1, 0)\n",
    "    f1 = np.round(f1_score(y_test, test_preds, sample_weight=np.where(y_test == 1, FRAUD_WEIGHT, 1)), 4)\n",
    "    \n",
    "    # порахуємо звичайні, незважені, F1/precision/recall\n",
    "    ordinary_f1 = np.round(f1_score(y_test, test_preds), 4)\n",
    "    ordinary_precision = np.round(precision_score(y_test, test_preds), 4)\n",
    "    ordinary_recall = np.round(recall_score(y_test, test_preds), 4)\n",
    "    \n",
    "    if f1 > best_f1:\n",
    "        best_threshold, best_f1 = thr, f1\n",
    "    \n",
    "    intermediate_results.append([thr, f1, ordinary_f1, ordinary_precision, ordinary_recall])\n",
    "\n",
    "print(f'Best threshold: {best_threshold}; best F1 score: {best_f1}')"
   ]
  },
  {
   "cell_type": "code",
   "execution_count": 55,
   "metadata": {
    "slideshow": {
     "slide_type": "subslide"
    }
   },
   "outputs": [
    {
     "data": {
      "text/html": [
       "<div>\n",
       "<style scoped>\n",
       "    .dataframe tbody tr th:only-of-type {\n",
       "        vertical-align: middle;\n",
       "    }\n",
       "\n",
       "    .dataframe tbody tr th {\n",
       "        vertical-align: top;\n",
       "    }\n",
       "\n",
       "    .dataframe thead th {\n",
       "        text-align: right;\n",
       "    }\n",
       "</style>\n",
       "<table border=\"1\" class=\"dataframe\">\n",
       "  <thead>\n",
       "    <tr style=\"text-align: right;\">\n",
       "      <th></th>\n",
       "      <th>Threshold</th>\n",
       "      <th>Weighted F1</th>\n",
       "      <th>Ordinary F1</th>\n",
       "      <th>Ordinary precision</th>\n",
       "      <th>Ordinary recall</th>\n",
       "    </tr>\n",
       "  </thead>\n",
       "  <tbody>\n",
       "    <tr>\n",
       "      <th>0</th>\n",
       "      <td>0.05</td>\n",
       "      <td>0.8261</td>\n",
       "      <td>0.1956</td>\n",
       "      <td>0.1085</td>\n",
       "      <td>0.9898</td>\n",
       "    </tr>\n",
       "    <tr>\n",
       "      <th>1</th>\n",
       "      <td>0.10</td>\n",
       "      <td>0.8797</td>\n",
       "      <td>0.2828</td>\n",
       "      <td>0.1652</td>\n",
       "      <td>0.9796</td>\n",
       "    </tr>\n",
       "    <tr>\n",
       "      <th>2</th>\n",
       "      <td>0.15</td>\n",
       "      <td>0.9095</td>\n",
       "      <td>0.3582</td>\n",
       "      <td>0.2192</td>\n",
       "      <td>0.9796</td>\n",
       "    </tr>\n",
       "    <tr>\n",
       "      <th>3</th>\n",
       "      <td>0.20</td>\n",
       "      <td>0.9277</td>\n",
       "      <td>0.4429</td>\n",
       "      <td>0.2870</td>\n",
       "      <td>0.9694</td>\n",
       "    </tr>\n",
       "    <tr>\n",
       "      <th>4</th>\n",
       "      <td>0.25</td>\n",
       "      <td>0.9415</td>\n",
       "      <td>0.5149</td>\n",
       "      <td>0.3506</td>\n",
       "      <td>0.9694</td>\n",
       "    </tr>\n",
       "    <tr>\n",
       "      <th>5</th>\n",
       "      <td>0.30</td>\n",
       "      <td>0.9483</td>\n",
       "      <td>0.5588</td>\n",
       "      <td>0.3926</td>\n",
       "      <td>0.9694</td>\n",
       "    </tr>\n",
       "    <tr>\n",
       "      <th>6</th>\n",
       "      <td>0.35</td>\n",
       "      <td>0.9545</td>\n",
       "      <td>0.6051</td>\n",
       "      <td>0.4398</td>\n",
       "      <td>0.9694</td>\n",
       "    </tr>\n",
       "    <tr>\n",
       "      <th>7</th>\n",
       "      <td>0.40</td>\n",
       "      <td>0.9608</td>\n",
       "      <td>0.6597</td>\n",
       "      <td>0.5000</td>\n",
       "      <td>0.9694</td>\n",
       "    </tr>\n",
       "    <tr>\n",
       "      <th>8</th>\n",
       "      <td>0.45</td>\n",
       "      <td>0.9635</td>\n",
       "      <td>0.6859</td>\n",
       "      <td>0.5307</td>\n",
       "      <td>0.9694</td>\n",
       "    </tr>\n",
       "    <tr>\n",
       "      <th>9</th>\n",
       "      <td>0.50</td>\n",
       "      <td>0.9570</td>\n",
       "      <td>0.7209</td>\n",
       "      <td>0.5812</td>\n",
       "      <td>0.9490</td>\n",
       "    </tr>\n",
       "    <tr>\n",
       "      <th>10</th>\n",
       "      <td>0.55</td>\n",
       "      <td>0.9602</td>\n",
       "      <td>0.7592</td>\n",
       "      <td>0.6327</td>\n",
       "      <td>0.9490</td>\n",
       "    </tr>\n",
       "    <tr>\n",
       "      <th>11</th>\n",
       "      <td>0.60</td>\n",
       "      <td>0.9627</td>\n",
       "      <td>0.7915</td>\n",
       "      <td>0.6788</td>\n",
       "      <td>0.9490</td>\n",
       "    </tr>\n",
       "    <tr>\n",
       "      <th>12</th>\n",
       "      <td>0.65</td>\n",
       "      <td>0.9642</td>\n",
       "      <td>0.8122</td>\n",
       "      <td>0.7099</td>\n",
       "      <td>0.9490</td>\n",
       "    </tr>\n",
       "    <tr>\n",
       "      <th>13</th>\n",
       "      <td>0.70</td>\n",
       "      <td>0.9611</td>\n",
       "      <td>0.8402</td>\n",
       "      <td>0.7603</td>\n",
       "      <td>0.9388</td>\n",
       "    </tr>\n",
       "    <tr>\n",
       "      <th>14</th>\n",
       "      <td>0.75</td>\n",
       "      <td>0.9626</td>\n",
       "      <td>0.8638</td>\n",
       "      <td>0.8000</td>\n",
       "      <td>0.9388</td>\n",
       "    </tr>\n",
       "    <tr>\n",
       "      <th>15</th>\n",
       "      <td>0.80</td>\n",
       "      <td>0.9417</td>\n",
       "      <td>0.8627</td>\n",
       "      <td>0.8302</td>\n",
       "      <td>0.8980</td>\n",
       "    </tr>\n",
       "    <tr>\n",
       "      <th>16</th>\n",
       "      <td>0.85</td>\n",
       "      <td>0.9378</td>\n",
       "      <td>0.8878</td>\n",
       "      <td>0.8878</td>\n",
       "      <td>0.8878</td>\n",
       "    </tr>\n",
       "    <tr>\n",
       "      <th>17</th>\n",
       "      <td>0.90</td>\n",
       "      <td>0.9274</td>\n",
       "      <td>0.8995</td>\n",
       "      <td>0.9341</td>\n",
       "      <td>0.8673</td>\n",
       "    </tr>\n",
       "    <tr>\n",
       "      <th>18</th>\n",
       "      <td>0.95</td>\n",
       "      <td>0.9161</td>\n",
       "      <td>0.8973</td>\n",
       "      <td>0.9540</td>\n",
       "      <td>0.8469</td>\n",
       "    </tr>\n",
       "  </tbody>\n",
       "</table>\n",
       "</div>"
      ],
      "text/plain": [
       "    Threshold  Weighted F1  Ordinary F1  Ordinary precision  Ordinary recall\n",
       "0        0.05       0.8261       0.1956              0.1085           0.9898\n",
       "1        0.10       0.8797       0.2828              0.1652           0.9796\n",
       "2        0.15       0.9095       0.3582              0.2192           0.9796\n",
       "3        0.20       0.9277       0.4429              0.2870           0.9694\n",
       "4        0.25       0.9415       0.5149              0.3506           0.9694\n",
       "5        0.30       0.9483       0.5588              0.3926           0.9694\n",
       "6        0.35       0.9545       0.6051              0.4398           0.9694\n",
       "7        0.40       0.9608       0.6597              0.5000           0.9694\n",
       "8        0.45       0.9635       0.6859              0.5307           0.9694\n",
       "9        0.50       0.9570       0.7209              0.5812           0.9490\n",
       "10       0.55       0.9602       0.7592              0.6327           0.9490\n",
       "11       0.60       0.9627       0.7915              0.6788           0.9490\n",
       "12       0.65       0.9642       0.8122              0.7099           0.9490\n",
       "13       0.70       0.9611       0.8402              0.7603           0.9388\n",
       "14       0.75       0.9626       0.8638              0.8000           0.9388\n",
       "15       0.80       0.9417       0.8627              0.8302           0.8980\n",
       "16       0.85       0.9378       0.8878              0.8878           0.8878\n",
       "17       0.90       0.9274       0.8995              0.9341           0.8673\n",
       "18       0.95       0.9161       0.8973              0.9540           0.8469"
      ]
     },
     "execution_count": 55,
     "metadata": {},
     "output_type": "execute_result"
    }
   ],
   "source": [
    "# подивимося на проміжні результати\n",
    "pd.DataFrame(intermediate_results,\n",
    "             columns=['Threshold', 'Weighted F1', 'Ordinary F1',\n",
    "                      'Ordinary precision', 'Ordinary recall'])"
   ]
  },
  {
   "cell_type": "markdown",
   "metadata": {
    "slideshow": {
     "slide_type": "subslide"
    }
   },
   "source": [
    "&emsp;&emsp;У другому випадку ми блокуватимемо користувача при ймовірності більше 0.65 і при цьому отримаємо F1 = 0.9642."
   ]
  },
  {
   "cell_type": "markdown",
   "metadata": {
    "slideshow": {
     "slide_type": "subslide"
    }
   },
   "source": [
    "&emsp;&emsp;Зупинимося докладніше на отриманих результатах.\n",
    "\n",
    "&emsp;&emsp;Якби ми дивилися на звичайний, незважений, F1, то варто було б віддати перевагу граничному значення 0.95, що дає максимальний F1 = 0.8973. При такому порозі ми помилково блокували б 5% користувачів, серед тих, яких модель визначила як шахраїв, але пропускали б близько 15% шахрайських випадків.\n",
    "\n",
    "&emsp;&emsp;Вибравши значення 0.65, ми знайдемо 95% шахрайських випадків (замість 85% при порозі 0.95), проте помилково заблокуємо 30% користувачів, серед тих, яких модель визначила як шахраїв. Враховуючи безнеси вимоги, цей варіант нам більше підходить: краще перевіряти ще раз зайвих користувачів, ніж упустити шахрая!\n",
    "\n",
    "&emsp;&emsp;В кінці варто додати, що запропонована процедура зважування спостережень застосовна для будь-якої функції втрат."
   ]
  },
  {
   "cell_type": "markdown",
   "metadata": {
    "slideshow": {
     "slide_type": "slide"
    }
   },
   "source": [
    "# Крос-валідація"
   ]
  },
  {
   "cell_type": "markdown",
   "metadata": {
    "slideshow": {
     "slide_type": "slide"
    }
   },
   "source": [
    "&emsp;&emsp;В усіх прикладах вище для тестування якості моделі ми користувалися окремим тестовим набором даних. Очевидно, що вибравши цей набір випадково, ми отримуємо випадковий результат тесту. Цілком цього уникнути неможливо, проте є спосіб зробити цей результат надійнішим. Ідея полягає в тому, щоб навчити кілька моделей (зазвичай 3-5) на різних навчальних наборах, оцінити їх якість на різних тестових наборах та усереднити результати.\n",
    "\n",
    "&emsp;&emsp;Процедура крос-валідації зазвичай робиться таким чином:\n",
    "\n",
    "&emsp;&emsp;1. Вибираємо кількість навчальних та тестових наборів (folds) для яких будуватимемо окремі моделі\n",
    "\n",
    "&emsp;&emsp;2. Ділимо дані на n рівних частин, що не перетинаються, де n - обрана на попередньому кроці кількість тестових наборів\n",
    "\n",
    "&emsp;&emsp;3. Кожен отриманий фрагмент даних (один із n вибраних на попередньому кроці) стає нашим тестовим набором, а те, що до нього не увійшло - навчальним\n",
    "\n",
    "&emsp;&emsp;4. Для кожного навчального набору будуємо свою модель та оцінюємо її якість на відповідному тестовому наборі\n",
    "\n",
    "&emsp;&emsp;5. Усереднюємо результати всіх отриманих моделей\n",
    "\n",
    "&emsp;&emsp;На практиці вибрати навчальні та тестові набори можна за допомогою класу KFold або StratifiedKFold бібліотеки sklearn. Другий клас відрізняється від першого тим, що дозволяє зберегти пропорцію цільової змінної на всіх отриманих підгрупах.\n",
    "\n",
    "&emsp;&emsp;Приклад (дані про ціни на нерухомість):"
   ]
  },
  {
   "cell_type": "code",
   "execution_count": 56,
   "metadata": {
    "slideshow": {
     "slide_type": "subslide"
    }
   },
   "outputs": [],
   "source": [
    "from sklearn.model_selection import KFold\n",
    "\n",
    "data = pd.read_csv('RealEstate.csv', sep=',', header=0)\n",
    "\n",
    "#оберемо незалежні змінні\n",
    "X = data[['X2 house age', 'X3 distance to the nearest MRT station',\n",
    "          'X4 number of convenience stores', 'X1 transaction date']].copy()\n",
    "\n",
    "# виберемо цільову змінну\n",
    "y = data['Y house price of unit area'].values\n",
    "\n",
    "# ініціалізуємо об'єкт класу, яким користуватимемося для розбивки даних\n",
    "kf = KFold(\n",
    "    n_splits=5,  # кількість окремих тестових наборів\n",
    "    shuffle=True,  # чи перемішувати дані перед тим, як розділити на окремі фрагменти\n",
    "    random_state=42  # фіксація випадкового стану\n",
    ")"
   ]
  },
  {
   "cell_type": "code",
   "execution_count": 57,
   "metadata": {
    "slideshow": {
     "slide_type": "subslide"
    }
   },
   "outputs": [
    {
     "name": "stdout",
     "output_type": "stream",
     "text": [
      "Помилки на навчальних наборах:  [88.67, 84.21, 84.32, 83.45, 69.29]\n",
      "Помилки на тестових наборах:  [56.12, 74.45, 74.12, 78.02, 135.3]\n"
     ]
    }
   ],
   "source": [
    "# ініціалізуємо порожні списки, в яких зберігатимемо значення помилки на кожному фолді\n",
    "train_res, test_res = [], []\n",
    "\n",
    "# отримаємо індекси навчального та тестового набору\n",
    "for train_idx, test_idx in kf.split(X, y):\n",
    "    \n",
    "    # виберемо поточну навчальну та тестову групи\n",
    "    X_train, y_train = X.loc[train_idx], y[train_idx]\n",
    "    X_test, y_test = X.loc[test_idx], y[test_idx]\n",
    "        \n",
    "    # навчимо модель\n",
    "    mdl = LinearRegression().fit(X_train, y_train)\n",
    "    \n",
    "    # виберемо прогнози\n",
    "    y_train_preds, y_test_preds = mdl.predict(X_train), mdl.predict(X_test)\n",
    "    \n",
    "    # порахуємо помилки та збережемо у відповідні списки\n",
    "    train_res.append(np.round(mean_squared_error(y_train, y_train_preds), 2))\n",
    "    test_res.append(np.round(mean_squared_error(y_test, y_test_preds), 2))\n",
    "\n",
    "print('Помилки на навчальних наборах: ', train_res)\n",
    "print('Помилки на тестових наборах: ', test_res)"
   ]
  },
  {
   "cell_type": "markdown",
   "metadata": {
    "slideshow": {
     "slide_type": "subslide"
    }
   },
   "source": [
    "&emsp;&emsp;З отриманих результатів видно, що помилка сильно залежить від того, який тестовий набір нам попався і змінюється в інтервалі від 56 до 135."
   ]
  },
  {
   "cell_type": "code",
   "execution_count": 58,
   "metadata": {
    "slideshow": {
     "slide_type": "subslide"
    }
   },
   "outputs": [
    {
     "name": "stdout",
     "output_type": "stream",
     "text": [
      "Очікувана помилка на навчальному наборі: 81.988 +- 6.609104023995989\n",
      "Очікувана помилка на тестовому наборі: 83.602 +- 26.954664457195534\n"
     ]
    }
   ],
   "source": [
    "print(f'Очікувана помилка на навчальному наборі: {np.mean(train_res)} +- {np.std(train_res)}')\n",
    "print(f'Очікувана помилка на тестовому наборі: {np.mean(test_res)} +- {np.std(test_res)}')"
   ]
  },
  {
   "cell_type": "markdown",
   "metadata": {
    "slideshow": {
     "slide_type": "slide"
    }
   },
   "source": [
    "# Регуляризація"
   ]
  },
  {
   "cell_type": "markdown",
   "metadata": {
    "slideshow": {
     "slide_type": "slide"
    }
   },
   "source": [
    "&emsp;&emsp;У широкому сенсі регуляризація - це будь-які обмеження на параметри моделі. Робиться це з метою, щоб знизити ймовірність перенавчання і поліпшити точність на тесті. Найпопулярнішими формами обмежень є L1 (Lasso) та L2 (Ridge).\n",
    "\n",
    "&emsp;&emsp;Регуляризація L2 (ridge) пердставляє собою додатковий член у функції втрат у вигляді суми квадратів параметрів моделі:\n",
    "\n",
    "$$RegularizedLoss = OrdinaryLoss + \\lambda\\sum{w_{i}^2},$$\n",
    "\n",
    "&emsp;&emsp;де $\\lambda$ - певний параметр регуляризації. Чим більше $\\lambda$, тим більший внесок будуть мати квадрати параметрів на загальну функцію втрат і, тим менше їх значення будуть ставати для її мінімізації (тим сильніше регуляризація).\n",
    "\n",
    "&emsp;&emsp;Значення $\\lambda$ не можна вивчити на основі даних, як будь-який інший параметр, тому що оптимальною функцією втрат завжди буде при $\\lambda$ = 0. Такого типу параметри називаються гіперпараметрами і їх повинен задати користувач самостійно. Найкраще значення прийнято вибирати на основі результатів крос-валідації:"
   ]
  },
  {
   "cell_type": "code",
   "execution_count": 59,
   "metadata": {
    "slideshow": {
     "slide_type": "subslide"
    }
   },
   "outputs": [
    {
     "name": "stdout",
     "output_type": "stream",
     "text": [
      "Regularizatoin: 0.0 -  test error: 83.602 +- 26.9547\n",
      "Regularizatoin: 0.2 -  test error: 83.604 +- 26.9591\n",
      "Regularizatoin: 0.5 -  test error: 83.602 +- 26.9651\n",
      "Regularizatoin: 1.0 -  test error: 83.606 +- 26.9784\n",
      "Regularizatoin: 2.0 -  test error: 83.624 +- 27.0038\n",
      "Regularizatoin: 5.0 -  test error: 83.688 +- 27.063\n",
      "Regularizatoin: 10.0 -  test error: 83.838 +- 27.1352\n"
     ]
    }
   ],
   "source": [
    "from sklearn.linear_model import Ridge\n",
    "\n",
    "def estimate_cv(reg_param):\n",
    "    \"\"\"\n",
    "    Визначимо функцію, яка повертає помилку на крос-валідації залежно від параметра регуляризації\n",
    "    \"\"\"\n",
    "    \n",
    "    test_res = []\n",
    "    for train_idx, test_idx in kf.split(X, y):\n",
    "    \n",
    "        X_train, y_train = X.loc[train_idx], y[train_idx]\n",
    "        X_test, y_test = X.loc[test_idx], y[test_idx]\n",
    "\n",
    "        mdl = Ridge(alpha=reg_param).fit(X_train, y_train)\n",
    "\n",
    "        y_test_preds = mdl.predict(X_test)\n",
    "\n",
    "        test_res.append(np.round(mean_squared_error(y_test, y_test_preds), 2))\n",
    "        \n",
    "    return np.round(np.mean(test_res), 4), np.round(np.std(test_res), 4)\n",
    "\n",
    "# переберемо кілька значень для параметра регуляризації та виберемо найбільш підходяще\n",
    "for reg_param in [0., 0.2, 0.5, 1., 2., 5., 10.]:\n",
    "    test_error, test_error_std = estimate_cv(reg_param)\n",
    "    print(f'Regularizatoin: {reg_param} -  test error: {test_error} +- {test_error_std}')"
   ]
  },
  {
   "cell_type": "markdown",
   "metadata": {
    "slideshow": {
     "slide_type": "subslide"
    }
   },
   "source": [
    "&emsp;&emsp;У цьому випадку найкращим варіантом залишився 0, тобто відсутність регуляризації."
   ]
  },
  {
   "cell_type": "markdown",
   "metadata": {
    "slideshow": {
     "slide_type": "slide"
    }
   },
   "source": [
    "&emsp;&emsp;Регуляризація L1 (Lasso) накладає інше обмеження на параметри додаючи до функції втрат суму їх абсолютних значень:\n",
    "\n",
    "$$RegularizedLoss = OrdinaryLoss + \\lambda\\sum{|w_{i}|}$$\n",
    "\n",
    "&emsp;&emsp;За аналогією з L2 регуляризацією, тут параметр $\\lambda$ зі збільшенням означає більш сильну регуляризацію. Однак, ключовою відмінністю є те, що в такій формі регуляризація намагатиметься повністю прирівняти до 0 деякі параметри, граючи роль помічника у виборі змінних. Спробуємо знайти зайві змінні моделі Титаніка автоматично за допомогою цієї регуляризації:"
   ]
  },
  {
   "cell_type": "code",
   "execution_count": 60,
   "metadata": {
    "slideshow": {
     "slide_type": "subslide"
    }
   },
   "outputs": [],
   "source": [
    "from sklearn.model_selection import StratifiedKFold\n",
    "from sklearn.metrics import roc_auc_score\n",
    "\n",
    "data = pd.read_csv('TitanicDataset.csv', sep=',', header=0)\n",
    "\n",
    "X = data[['Sex', 'Age', 'Fare', 'Pclass']][~data['Age'].isna()].copy().reset_index(drop=True)\n",
    "X['Sex'] = np.where(X['Sex'] == 'male', 1, 0)\n",
    "X['Age'] = np.log1p(X['Age'])\n",
    "X['Fare'] = np.log1p(X['Fare'])\n",
    "X['Pclass'] = X['Pclass'].astype(str)  # для коректної роботи кодувальника дискретних змінних\n",
    "y = data['Survived'][~data['Age'].isna()].values\n",
    "\n",
    "kf = StratifiedKFold(n_splits=5, shuffle=True, random_state=42)"
   ]
  },
  {
   "cell_type": "code",
   "execution_count": 61,
   "metadata": {
    "slideshow": {
     "slide_type": "subslide"
    }
   },
   "outputs": [],
   "source": [
    "def estimate_cv(reg_param):\n",
    "    \"\"\"\n",
    "    Визначимо функцію, яка повертає помилку внаслідок крос-валідації \n",
    "    залежно від параметра регуляризації\n",
    "    \"\"\"\n",
    "    \n",
    "    test_res = []\n",
    "    for train_idx, test_idx in kf.split(X, y):    \n",
    "        X_train, y_train = X.loc[train_idx].copy(), y[train_idx]\n",
    "        X_test, y_test = X.loc[test_idx].copy(), y[test_idx]\n",
    "        \n",
    "        # закодуємо факторну змінну Pclass для кожного набору окремо\n",
    "        encoder = ce.TargetEncoder(min_samples_leaf=10, smoothing=30).fit(X_train['Pclass'], y_train)\n",
    "        \n",
    "        # замінимо оригінальну змінну Pclass на закодоване значення\n",
    "        X_train['Pclass'] = encoder.transform(X_train['Pclass'])\n",
    "        X_test['Pclass'] = encoder.transform(X_test['Pclass'])\n",
    "        \n",
    "        mdl = LogisticRegression(\n",
    "            penalty='l1',  # тип регуляризації\n",
    "            C=1/reg_param,  # у логістичній регресії регуляризація задається як 1/lambda\n",
    "            solver='liblinear',  # для роботи з цим типом регуляризації необхідно спеціальний алгоритм пошуку параметрів\n",
    "        )\n",
    "        \n",
    "        mdl = mdl.fit(X_train, y_train)\n",
    "\n",
    "        y_test_preds = mdl.predict_proba(X_test)[:, 1]\n",
    " \n",
    "        test_res.append(np.round(roc_auc_score(y_test, y_test_preds), 4))\n",
    "        \n",
    "    return np.round(np.mean(test_res), 4), np.round(np.std(test_res), 4)"
   ]
  },
  {
   "cell_type": "code",
   "execution_count": 62,
   "metadata": {
    "slideshow": {
     "slide_type": "subslide"
    }
   },
   "outputs": [
    {
     "name": "stdout",
     "output_type": "stream",
     "text": [
      "Regularizatoin: 0.1 -  test error: 0.8572 +- 0.0276\n",
      "Regularizatoin: 0.5 -  test error: 0.8579 +- 0.0289\n",
      "Regularizatoin: 1 -  test error: 0.8567 +- 0.0306\n",
      "Regularizatoin: 2 -  test error: 0.8529 +- 0.0312\n",
      "Regularizatoin: 3 -  test error: 0.8495 +- 0.0338\n",
      "Regularizatoin: 4 -  test error: 0.8486 +- 0.0359\n",
      "Regularizatoin: 5 -  test error: 0.848 +- 0.0379\n",
      "Regularizatoin: 10 -  test error: 0.8328 +- 0.0437\n",
      "Regularizatoin: 20 -  test error: 0.8333 +- 0.0431\n",
      "Regularizatoin: 50 -  test error: 0.8283 +- 0.0377\n"
     ]
    }
   ],
   "source": [
    "# переберемо кілька значень для параметра регуляризації та виберемо найбільш підходяще\n",
    "for reg_param in [0.1, 0.5, 1, 2, 3, 4, 5, 10, 20, 50]:\n",
    "        \n",
    "    test_error, test_error_std = estimate_cv(reg_param)\n",
    "    print(f'Regularizatoin: {reg_param} -  test error: {test_error} +- {test_error_std}')"
   ]
  },
  {
   "cell_type": "markdown",
   "metadata": {
    "slideshow": {
     "slide_type": "subslide"
    }
   },
   "source": [
    "&emsp;&emsp;Як бачимо, можна залишити невелику регуляризацію з $\\lambda$ = 0.5, але в цілому різниця невелика"
   ]
  },
  {
   "cell_type": "code",
   "execution_count": 63,
   "metadata": {
    "slideshow": {
     "slide_type": "subslide"
    }
   },
   "outputs": [
    {
     "name": "stdout",
     "output_type": "stream",
     "text": [
      "Sex -0.882122350276159\n",
      "Age 0.0\n",
      "Fare 0.07282218951859085\n",
      "Pclass 0.0\n"
     ]
    }
   ],
   "source": [
    "X_train, X_test, y_train, y_test = train_test_split(X, y, test_size=0.2, random_state=42)\n",
    "\n",
    "X_train, X_test = X_train.copy(), X_test.copy()\n",
    "\n",
    "encoder = ce.TargetEncoder(min_samples_leaf=10, smoothing=30).fit(X_train['Pclass'], y_train)\n",
    "\n",
    "X_train['Pclass'] = encoder.transform(X_train['Pclass'])\n",
    "X_test['Pclass'] = encoder.transform(X_test['Pclass'])\n",
    "\n",
    "mdl = LogisticRegression(\n",
    "    penalty='l1',\n",
    "    C=1/50,  # виберемо дуже сильну регуляризацію\n",
    "    solver='liblinear',\n",
    ")\n",
    "\n",
    "mdl = mdl.fit(X_train, y_train)\n",
    "\n",
    "# подивимося на значення коефіцієнтів\n",
    "for col, coef in zip(X_train.columns, mdl.coef_[0]):\n",
    "    print(col, coef)"
   ]
  },
  {
   "cell_type": "markdown",
   "metadata": {
    "slideshow": {
     "slide_type": "subslide"
    }
   },
   "source": [
    "&emsp;&emsp;Як бачимо, при такому рівні регуляризації модель вирішила відмовитися від змінної \"Age\" (ми вже бачили раніше, що вона неважлива) та від змінної \"Pclass\", віддавши перевагу її вартості квитка, яка є близьким покажчиком на клас каюти."
   ]
  },
  {
   "cell_type": "markdown",
   "metadata": {
    "slideshow": {
     "slide_type": "slide"
    }
   },
   "source": [
    "&emsp;&emsp;В одну модель можна додати відразу обидва види регуляризації у вигляді $\\alpha \\cdot L1 + (1 - \\alpha) \\cdot L2$. У такій формі регуляризація називається ElasticNet:"
   ]
  },
  {
   "cell_type": "code",
   "execution_count": 64,
   "metadata": {
    "slideshow": {
     "slide_type": "subslide"
    }
   },
   "outputs": [],
   "source": [
    "def estimate_cv(reg_param):\n",
    "    \"\"\"\n",
    "    Визначимо функцію, яка повертає помилку внаслідок крос-валідації\n",
    "    залежно від параметра регуляризації\n",
    "    \"\"\"\n",
    "    \n",
    "    test_res = []\n",
    "    for train_idx, test_idx in kf.split(X, y):\n",
    "    \n",
    "        X_train, y_train = X.loc[train_idx].copy(), y[train_idx]\n",
    "        X_test, y_test = X.loc[test_idx].copy(), y[test_idx]\n",
    "        \n",
    "        # закодуємо факторну змінну Pclass для кожного набору окремо\n",
    "        encoder = ce.TargetEncoder(min_samples_leaf=10, smoothing=30).fit(X_train['Pclass'], y_train)\n",
    "        \n",
    "        # замінимо оригінальну змінну Pclass на закодоване значення\n",
    "        X_train['Pclass'] = encoder.transform(X_train['Pclass'])\n",
    "        X_test['Pclass'] = encoder.transform(X_test['Pclass'])\n",
    "        \n",
    "        mdl = LogisticRegression(\n",
    "            penalty='elasticnet',  # тип регуляризації\n",
    "            C=1/reg_param,  # в логистичній регрессії регуляризація задаєтся як 1/lambda\n",
    "            solver='saga',  # для роботи з цим типом регуляризації необхідно спеціальний алгоритм пошуку параметрів\n",
    "            l1_ratio=0.5,  # частка L1 регуляризації (параметр alpha з формули вище)\n",
    "            max_iter=1000  # для пошуку рішення у такому формулюванні зазвичай потрібно більше ітерацій\n",
    "        )\n",
    "        \n",
    "        mdl = mdl.fit(X_train, y_train)\n",
    "\n",
    "        y_test_preds = mdl.predict_proba(X_test)[:, 1]\n",
    "\n",
    "        test_res.append(np.round(roc_auc_score(y_test, y_test_preds), 4))\n",
    "        \n",
    "    return np.round(np.mean(test_res), 4), np.round(np.std(test_res), 4)"
   ]
  },
  {
   "cell_type": "code",
   "execution_count": 65,
   "metadata": {
    "slideshow": {
     "slide_type": "subslide"
    }
   },
   "outputs": [
    {
     "name": "stdout",
     "output_type": "stream",
     "text": [
      "Regularizatoin: 0.1 -  test error: 0.8578 +- 0.0283\n",
      "Regularizatoin: 0.3 -  test error: 0.8581 +- 0.0299\n",
      "Regularizatoin: 0.5 -  test error: 0.8576 +- 0.0314\n",
      "Regularizatoin: 1 -  test error: 0.8568 +- 0.0333\n",
      "Regularizatoin: 2 -  test error: 0.8518 +- 0.036\n",
      "Regularizatoin: 3 -  test error: 0.8499 +- 0.0386\n",
      "Regularizatoin: 4 -  test error: 0.8477 +- 0.0396\n",
      "Regularizatoin: 5 -  test error: 0.8458 +- 0.0403\n",
      "Regularizatoin: 10 -  test error: 0.8366 +- 0.0406\n"
     ]
    }
   ],
   "source": [
    "# переберемо кілька значень для параметра регуляризації та виберемо найбільш підходяще\n",
    "for reg_param in [0.1, 0.3, 0.5, 1, 2, 3, 4, 5, 10]:\n",
    "        \n",
    "    test_error, test_error_std = estimate_cv(reg_param)\n",
    "    print(f'Regularizatoin: {reg_param} -  test error: {test_error} +- {test_error_std}')"
   ]
  },
  {
   "cell_type": "markdown",
   "metadata": {
    "slideshow": {
     "slide_type": "subslide"
    }
   },
   "source": [
    "&emsp;&emsp;Як і минулого разу, невелику регуляризацію можна залишити, проте особливої переваги це не дає."
   ]
  },
  {
   "cell_type": "code",
   "execution_count": null,
   "metadata": {},
   "outputs": [],
   "source": []
  }
 ],
 "metadata": {
  "celltoolbar": "Slideshow",
  "kernelspec": {
   "display_name": "Python 3.10.8 64-bit",
   "language": "python",
   "name": "python3"
  },
  "language_info": {
   "codemirror_mode": {
    "name": "ipython",
    "version": 3
   },
   "file_extension": ".py",
   "mimetype": "text/x-python",
   "name": "python",
   "nbconvert_exporter": "python",
   "pygments_lexer": "ipython3",
   "version": "3.10.8 (main, Oct 13 2022, 09:48:40) [Clang 14.0.0 (clang-1400.0.29.102)]"
  },
  "toc": {
   "base_numbering": 1,
   "nav_menu": {},
   "number_sections": true,
   "sideBar": true,
   "skip_h1_title": false,
   "title_cell": "Table of Contents",
   "title_sidebar": "Contents",
   "toc_cell": false,
   "toc_position": {},
   "toc_section_display": true,
   "toc_window_display": false
  },
  "varInspector": {
   "cols": {
    "lenName": 16,
    "lenType": 16,
    "lenVar": 40
   },
   "kernels_config": {
    "python": {
     "delete_cmd_postfix": "",
     "delete_cmd_prefix": "del ",
     "library": "var_list.py",
     "varRefreshCmd": "print(var_dic_list())"
    },
    "r": {
     "delete_cmd_postfix": ") ",
     "delete_cmd_prefix": "rm(",
     "library": "var_list.r",
     "varRefreshCmd": "cat(var_dic_list()) "
    }
   },
   "types_to_exclude": [
    "module",
    "function",
    "builtin_function_or_method",
    "instance",
    "_Feature"
   ],
   "window_display": false
  },
  "vscode": {
   "interpreter": {
    "hash": "b0fa6594d8f4cbf19f97940f81e996739fb7646882a419484c72d19e05852a7e"
   }
  }
 },
 "nbformat": 4,
 "nbformat_minor": 2
}
