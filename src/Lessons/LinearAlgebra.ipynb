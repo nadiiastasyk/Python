{
 "cells": [
  {
   "cell_type": "markdown",
   "metadata": {
    "slideshow": {
     "slide_type": "slide"
    }
   },
   "source": [
    "# Спостереження"
   ]
  },
  {
   "cell_type": "markdown",
   "metadata": {
    "slideshow": {
     "slide_type": "slide"
    }
   },
   "source": [
    "&emsp;&emsp;Статистичне спостереження – це збір статистичних даних про явище чи процес.\n",
    "\t\n",
    "&emsp;&emsp;Одиниця спостереження – первинний елемент об'єкта статистичного спостереження, який є носієм ознак, що підлягають реєстрації та дослідженню.\n",
    "\n",
    "&emsp;&emsp;Приклад: при побудові антифрод-моделі спостереження проводиться за користувачами сервісу. При цьому одиницею спостереження є користувач. У цьому випадку користувач є носій ознак, якими можна визначити шахрайство: кількість акаунтів, країна, середня сума і кількість транзакцій (у разі фінансового сервісу) за певний період тощо."
   ]
  },
  {
   "cell_type": "markdown",
   "metadata": {
    "slideshow": {
     "slide_type": "slide"
    }
   },
   "source": [
    "&emsp;&emsp;При побудові моделі визначення типу активності за сенсорами телефону спостереження проводиться за сигналом акселерометра (можливо інших сенсорів також). Одиницею може бути вікно сигналу тривалістю кілька секунд."
   ]
  },
  {
   "cell_type": "markdown",
   "metadata": {
    "slideshow": {
     "slide_type": "subslide"
    }
   },
   "source": [
    "&emsp;&emsp;Приклад сигналу акселерометра при їзді велосипедом:"
   ]
  },
  {
   "cell_type": "markdown",
   "metadata": {
    "slideshow": {
     "slide_type": "fragment"
    }
   },
   "source": [
    "![title](BikingSignal.png)"
   ]
  },
  {
   "cell_type": "markdown",
   "metadata": {
    "slideshow": {
     "slide_type": "subslide"
    }
   },
   "source": [
    "&emsp;&emsp;Приклад сигнала акселерометра при хотьбі:"
   ]
  },
  {
   "cell_type": "markdown",
   "metadata": {
    "slideshow": {
     "slide_type": "fragment"
    }
   },
   "source": [
    "![title](WalkingSignal.png)"
   ]
  },
  {
   "cell_type": "markdown",
   "metadata": {
    "slideshow": {
     "slide_type": "slide"
    }
   },
   "source": [
    "&emsp;&emsp;Одиницю спостереження зручно представляти як точки. В такому разі з'являється можливість помістити їх на графік.\n",
    "\n",
    "&emsp;&emsp;Приклад: спостереження проводили за ірисами. Одиницею спостереження була квітка, а ознаками, що нас цікавлять, є довжина та ширина суцвіття.\n",
    "\n",
    "&emsp;&emsp;З такого графіка легко зробити висновок, що ірис щетинистий (setosa) має в середньому більш короткі і широкі суцвіття і за цими ознаками його легко відрізнити від інших видів."
   ]
  },
  {
   "cell_type": "markdown",
   "metadata": {
    "slideshow": {
     "slide_type": "fragment"
    }
   },
   "source": [
    "![title](IrisPlot.png)"
   ]
  },
  {
   "cell_type": "markdown",
   "metadata": {
    "slideshow": {
     "slide_type": "slide"
    }
   },
   "source": [
    "&emsp;&emsp;Простором спостереження є набір ознак, асоційованих з одиницями спостереження.\n",
    "\n",
    "&emsp;&emsp;У попередньому прикладі квіти ірисів лежали в просторі {довжина x, ширина y суцвіття}. Якщо позначити одну одиницю спостереження як $\"x\"$, можна записати це як: $x \\in \\bf{R}^{2}_{+}$. Це означає, що точка належить простору розмірності 2 (дві ознаки), а кожна ознака є дійсне число (множина $\\bf{R}$) більше 0 (знак “+” внизу).\n",
    "\n",
    "&emsp;&emsp;Інші приклади просторів:  \n",
    "&emsp;&emsp;$x \\in \\bf{R}^{n}$ - точка належить n-вимірному простору, де кожна ознака є дійсним числом  \n",
    "&emsp;&emsp;$x \\in \\bf{N}^{5}$ - точка належить 5-мірному простору, де кожна ознака є натуральним числом\n",
    "\n",
    "&emsp;&emsp;$x \\in \\{0, 1\\}^{n}$ - точка належить n-вимірному простору, де кожна ознака бінарна: може приймати тільки значення 0 або 1"
   ]
  },
  {
   "cell_type": "markdown",
   "metadata": {
    "slideshow": {
     "slide_type": "slide"
    }
   },
   "source": [
    "&emsp;&emsp;Якщо домовитись, що в нашому просторі ознак вектори (напрямлені відрізки) завжди будуть мати початок у точці (0, 0), то кожну точку простору можна замінити на вектор.\n",
    "\n",
    "&emsp;&emsp;Наприклад, точку з координатами (-1, 1) можна замінити на вектор (-1, 1), який виходить з початку координат і вказує на цю точку (червоний вектор на малюнку нижче)."
   ]
  },
  {
   "cell_type": "markdown",
   "metadata": {
    "slideshow": {
     "slide_type": "fragment"
    }
   },
   "source": [
    "![title](VectorsExample1.png)"
   ]
  },
  {
   "cell_type": "markdown",
   "metadata": {
    "slideshow": {
     "slide_type": "slide"
    }
   },
   "source": [
    "&emsp;&emsp;Робиться такий перехід з метою доступу до арифметичних операцій, доступних вектору. Наприклад точку, на відміну вектора, не можна помножити на число, дві точки не можна додати одну до іншої тощо.\n",
    "\n",
    "&emsp;&emsp;Все, що було сказано вище щодо простору ознак, є ідентичним і у випаду переходу до векторів."
   ]
  },
  {
   "cell_type": "markdown",
   "metadata": {
    "slideshow": {
     "slide_type": "slide"
    }
   },
   "source": [
    "# Масиви numpy як вектори"
   ]
  },
  {
   "cell_type": "markdown",
   "metadata": {
    "slideshow": {
     "slide_type": "slide"
    }
   },
   "source": [
    "&emsp;&emsp;Масиви підтримують усі векторні операції:"
   ]
  },
  {
   "cell_type": "markdown",
   "metadata": {
    "slideshow": {
     "slide_type": "fragment"
    }
   },
   "source": [
    "1. Множення вектора на число: всі елементи вектора множаться на скаляр\n",
    "\n",
    "$$a = \\begin{pmatrix} 1 \\\\ 2 \\end{pmatrix}, a^{*} = 2a = \\begin{pmatrix} 2 \\\\ 4 \\end{pmatrix}, a^{**} = -\\frac{1}{2}a = \\begin{pmatrix} -0.5 \\\\ -1 \\end{pmatrix}.$$"
   ]
  },
  {
   "cell_type": "code",
   "execution_count": 2,
   "metadata": {
    "slideshow": {
     "slide_type": "fragment"
    }
   },
   "outputs": [
    {
     "name": "stdout",
     "output_type": "stream",
     "text": [
      "[1 2]\n",
      "[2 4]\n",
      "[-0.5 -1. ]\n"
     ]
    }
   ],
   "source": [
    "import numpy as np\n",
    "a = np.array([1, 2])\n",
    "\n",
    "print(a)\n",
    "print(2 * a)\n",
    "print(-0.5 * a)"
   ]
  },
  {
   "cell_type": "markdown",
   "metadata": {
    "slideshow": {
     "slide_type": "slide"
    }
   },
   "source": [
    "2. Додавання 2х векторів - результатом буде вектор, елементи якого є сумами елементів доданків:\n",
    "\n",
    "$$a = \\begin{pmatrix} 1 \\\\ 2 \\end{pmatrix},$$\n",
    "$$b = \\begin{pmatrix} 2 \\\\ 1 \\end{pmatrix},$$\n",
    "$$c = a + b = \\begin{pmatrix} 1 \\\\ 2 \\end{pmatrix} + \\begin{pmatrix} 2 \\\\ 1 \\end{pmatrix} = \\begin{pmatrix} 3 \\\\ 3 \\end{pmatrix}.$$"
   ]
  },
  {
   "cell_type": "code",
   "execution_count": 2,
   "metadata": {
    "slideshow": {
     "slide_type": "fragment"
    }
   },
   "outputs": [
    {
     "name": "stdout",
     "output_type": "stream",
     "text": [
      "[3 3]\n"
     ]
    }
   ],
   "source": [
    "a = np.array([1, 2])\n",
    "b = np.array([2, 1])\n",
    "\n",
    "print(a + b)"
   ]
  },
  {
   "cell_type": "markdown",
   "metadata": {
    "slideshow": {
     "slide_type": "slide"
    }
   },
   "source": [
    "3. Скалярний добуток векторів – результатом є скаляр, отриманий як сума почленно перемножених елементів 2х векторів:\n",
    "\n",
    "$$a^{T}b = a_{1}b_{1} + a_{2}b_{2} + ... + a_{n}b_{n}$$"
   ]
  },
  {
   "cell_type": "code",
   "execution_count": 45,
   "metadata": {
    "slideshow": {
     "slide_type": "fragment"
    }
   },
   "outputs": [
    {
     "name": "stdout",
     "output_type": "stream",
     "text": [
      "4\n"
     ]
    }
   ],
   "source": [
    "a = np.array([1, 2])\n",
    "b = np.array([2, 1])\n",
    "scalar_product = a.dot(b)\n",
    "print(scalar_product)"
   ]
  },
  {
   "cell_type": "code",
   "execution_count": 3,
   "metadata": {},
   "outputs": [
    {
     "data": {
      "text/plain": [
       "4"
      ]
     },
     "execution_count": 3,
     "metadata": {},
     "output_type": "execute_result"
    }
   ],
   "source": [
    "np.dot(a, b)"
   ]
  },
  {
   "cell_type": "code",
   "execution_count": 4,
   "metadata": {},
   "outputs": [
    {
     "data": {
      "text/plain": [
       "4"
      ]
     },
     "execution_count": 4,
     "metadata": {},
     "output_type": "execute_result"
    }
   ],
   "source": [
    "a @ b"
   ]
  },
  {
   "cell_type": "markdown",
   "metadata": {
    "slideshow": {
     "slide_type": "fragment"
    }
   },
   "source": [
    "&emsp;&emsp;Зверніть увагу, що синтаксис \"a * b\" призведе не до скалярного добутку, а до поелементного перемноження. Це пов'язано з тим, що масиви \"numpy\" не є чистою імплементацією вектора, а лише підтримують операції з ними."
   ]
  },
  {
   "cell_type": "code",
   "execution_count": 6,
   "metadata": {
    "slideshow": {
     "slide_type": "fragment"
    }
   },
   "outputs": [
    {
     "name": "stdout",
     "output_type": "stream",
     "text": [
      "поелементне перемноження масивів:  [2 2]\n"
     ]
    }
   ],
   "source": [
    "print('поелементне перемноження масивів: ', a * b)"
   ]
  },
  {
   "cell_type": "markdown",
   "metadata": {
    "slideshow": {
     "slide_type": "slide"
    }
   },
   "source": [
    "&emsp;&emsp;Лінійна залежність: Множина $k$ векторів, де $k\\geq2$ називається лінійно залежною, якщо хоч один із елементів множини можна виразити як лінійну комбінацію інших. Приклад:\n",
    "\n",
    "$$a = \\begin{pmatrix} 1 \\\\ 2 \\end{pmatrix} b = \\begin{pmatrix} 3 \\\\ 3 \\end{pmatrix} c = \\begin{pmatrix} 10 \\\\ 14 \\end{pmatrix},$$\n",
    "$$b = \\frac{1}{2}c - 2a$$\n",
    "\n",
    "&emsp;&emsp;Загалом, множина векторів називається лінійно незалежною, якщо єдиним рішенням для рівняння\n",
    "\n",
    "$$\\alpha_{1}b_{1} + \\alpha_{2}b_{2} + ... + \\alpha_{n}b_{n} = 0$$\n",
    "\n",
    "&emsp;&emsp; є\n",
    "\n",
    "$$\\alpha_{1} = \\alpha_{2} = ... = \\alpha_{n} = 0$$"
   ]
  },
  {
   "cell_type": "markdown",
   "metadata": {
    "slideshow": {
     "slide_type": "slide"
    }
   },
   "source": [
    "# Двовимірні numpy масиви як матриці"
   ]
  },
  {
   "cell_type": "markdown",
   "metadata": {
    "slideshow": {
     "slide_type": "slide"
    }
   },
   "source": [
    "&emsp;&emsp;Матриця – це прямокутна таблиця чисел:\n",
    "\n",
    "$$A = [a_{ij}] = [A_{ij}] = \\begin{pmatrix} a_{11} a_{12} ... a_{1k} \\\\ a_{21} a_{22} ... a_{2k} \\\\ ... ... ... ... \\\\ a_{n1} a_{n2} ... a_{nk} \\end{pmatrix}$$"
   ]
  },
  {
   "cell_type": "code",
   "execution_count": 7,
   "metadata": {
    "slideshow": {
     "slide_type": "fragment"
    }
   },
   "outputs": [
    {
     "name": "stdout",
     "output_type": "stream",
     "text": [
      "[[1 2 3]\n",
      " [4 5 6]\n",
      " [7 8 9]]\n",
      "(3, 3)\n"
     ]
    }
   ],
   "source": [
    "my_matrix = np.array([\n",
    "    [1, 2, 3],\n",
    "    [4, 5, 6],\n",
    "    [7, 8, 9]\n",
    "])\n",
    "\n",
    "print(my_matrix)\n",
    "print(my_matrix.shape)"
   ]
  },
  {
   "cell_type": "markdown",
   "metadata": {
    "slideshow": {
     "slide_type": "slide"
    }
   },
   "source": [
    "&emsp;&emsp;Індексування елементів матриці відбувається у порядку рядок – стовпець. Наприклад, елемент $a_{12}$ знаходиться в першому рядку і другому стовпці. Індексація масивів, що представляють матриці, здійснюється в тому ж порядку за винятком, що нумерація починається з 0:"
   ]
  },
  {
   "cell_type": "code",
   "execution_count": 8,
   "metadata": {
    "slideshow": {
     "slide_type": "fragment"
    }
   },
   "outputs": [
    {
     "name": "stdout",
     "output_type": "stream",
     "text": [
      "Елемент матриці, що знаходиться в першому рядку та другому стовпці:  2\n"
     ]
    }
   ],
   "source": [
    "a12 = my_matrix[0][1]\n",
    "print('Елемент матриці, що знаходиться в першому рядку та другому стовпці: ', a12)"
   ]
  },
  {
   "cell_type": "markdown",
   "metadata": {
    "slideshow": {
     "slide_type": "slide"
    }
   },
   "source": [
    "&emsp;&emsp;Розмірність матриці - у її рядків і стовпців. У випадку матриця має розмірність $n\\times k$ (читається $n$ на $k$), оскільки складається з $n$ рядків і $k$ стовпців.\n",
    "\n",
    "&emsp;&emsp;Отримати розмірність матриці можна за допомогою атрибуту \"shape\":"
   ]
  },
  {
   "cell_type": "code",
   "execution_count": 9,
   "metadata": {
    "slideshow": {
     "slide_type": "fragment"
    }
   },
   "outputs": [
    {
     "name": "stdout",
     "output_type": "stream",
     "text": [
      "розмірність (кількість рядків і стовпців) матриці:  (3, 3)\n"
     ]
    }
   ],
   "source": [
    "print('розмірність (кількість рядків і стовпців) матриці: ', my_matrix.shape)"
   ]
  },
  {
   "cell_type": "markdown",
   "metadata": {
    "slideshow": {
     "slide_type": "slide"
    }
   },
   "source": [
    "&emsp;&emsp;Виходячи із запропонованого визначення матриці, вектор може розглядатися як матриця з одним стовпцем або одним рядком. У першому випадку йдеться про вектор-стовпчик, у другому вектор-рядок. Матриця ж може розглядатися як множина векторів-стовпців або векторів-рядків.\n",
    "\n",
    "&emsp;&emsp;У numpy використовувати масив як вектор при алгебраїчних операціях можна, але небажано. Краще в таких випадках створити матрицю з одним стовпцем (вектор-стовпець) або одним рядком (вектор-рядок)."
   ]
  },
  {
   "cell_type": "markdown",
   "metadata": {
    "slideshow": {
     "slide_type": "subslide"
    }
   },
   "source": [
    "&emsp;&emsp;Приклад:"
   ]
  },
  {
   "cell_type": "code",
   "execution_count": 10,
   "metadata": {
    "slideshow": {
     "slide_type": "fragment"
    }
   },
   "outputs": [
    {
     "name": "stdout",
     "output_type": "stream",
     "text": [
      "масив:  [1 2 3]\n",
      "вектор-рядок:  [[1 2 3]]\n",
      "вектор-стовпець:\n",
      "[[1]\n",
      " [2]\n",
      " [3]]\n"
     ]
    }
   ],
   "source": [
    "v1 = np.array([1, 2, 3])  # створення вектора як масив\n",
    "v2 = np.array([[1, 2, 3]])  # вектор-рядок\n",
    "v3 = np.array([\n",
    "    [1],\n",
    "    [2],\n",
    "    [3]\n",
    "])  # вектор-стовпець\n",
    "\n",
    "print('масив: ', v1)\n",
    "print('вектор-рядок: ', v2)\n",
    "print('вектор-стовпець:')\n",
    "print(v3)"
   ]
  },
  {
   "cell_type": "markdown",
   "metadata": {
    "slideshow": {
     "slide_type": "subslide"
    }
   },
   "source": [
    "&emsp;&emsp;Зверніть увагу на розмірності всіх 3 векторів:"
   ]
  },
  {
   "cell_type": "code",
   "execution_count": 12,
   "metadata": {
    "slideshow": {
     "slide_type": "fragment"
    }
   },
   "outputs": [
    {
     "name": "stdout",
     "output_type": "stream",
     "text": [
      "размерність масива:  (3,)\n",
      "размерність вектора-рядка:  (1, 3)\n",
      "размерність вектора-стовпця:  (3, 1)\n"
     ]
    }
   ],
   "source": [
    "print('размерність масива: ', v1.shape)\n",
    "print('размерність вектора-рядка: ', v2.shape)\n",
    "print('размерність вектора-стовпця: ', v3.shape)"
   ]
  },
  {
   "cell_type": "markdown",
   "metadata": {
    "slideshow": {
     "slide_type": "fragment"
    }
   },
   "source": [
    "&emsp;&emsp;Для того, щоб привести масив до вектора-рядка або стовпця, можна скористатися методом \"reshape\":"
   ]
  },
  {
   "cell_type": "code",
   "execution_count": 13,
   "metadata": {
    "slideshow": {
     "slide_type": "fragment"
    }
   },
   "outputs": [
    {
     "name": "stdout",
     "output_type": "stream",
     "text": [
      "[[1]\n",
      " [2]\n",
      " [3]]\n"
     ]
    }
   ],
   "source": [
    "v1 = v1.reshape((3, 1))  # замінити розмірність вектора з поточної на 3 рядки та 1 колонка\n",
    "print(v1)"
   ]
  },
  {
   "cell_type": "markdown",
   "metadata": {
    "slideshow": {
     "slide_type": "slide"
    }
   },
   "source": [
    "# Основні види матриць та методи їх створення:"
   ]
  },
  {
   "cell_type": "markdown",
   "metadata": {
    "slideshow": {
     "slide_type": "slide"
    }
   },
   "source": [
    "1. Квадратна матриця – матриця, в якій кількість рядків дорівнює кількості стовпців"
   ]
  },
  {
   "cell_type": "code",
   "execution_count": 15,
   "metadata": {
    "slideshow": {
     "slide_type": "fragment"
    }
   },
   "outputs": [
    {
     "name": "stdout",
     "output_type": "stream",
     "text": [
      "[[0. 0. 0.]\n",
      " [0. 0. 0.]\n",
      " [0. 0. 0.]]\n"
     ]
    }
   ],
   "source": [
    "# приклад створення квадратної матриці, всі елементи якої дорівнюють 0\n",
    "\n",
    "# аргумент shape приймає кортеж, що визначає кількість рядків і стовпців матриці\n",
    "square_zero_matrix = np.zeros(shape=(3, 3))\n",
    "\n",
    "print(square_zero_matrix)"
   ]
  },
  {
   "cell_type": "markdown",
   "metadata": {
    "slideshow": {
     "slide_type": "slide"
    }
   },
   "source": [
    "2. Симетрична матриця – матриця, у якій для всіх $i$, $j$ виконується рівність $a_{ij}$ = $a_{ji}$ (відображення відносно головної діагоналі)"
   ]
  },
  {
   "cell_type": "code",
   "execution_count": 16,
   "metadata": {
    "slideshow": {
     "slide_type": "fragment"
    }
   },
   "outputs": [
    {
     "name": "stdout",
     "output_type": "stream",
     "text": [
      "[[1 2 3]\n",
      " [2 1 2]\n",
      " [3 2 1]]\n"
     ]
    }
   ],
   "source": [
    "symmetric_matrix = np.array([\n",
    "    [1, 2, 3],\n",
    "    [2, 1, 2],\n",
    "    [3, 2, 1]\n",
    "])\n",
    "\n",
    "print(symmetric_matrix)"
   ]
  },
  {
   "cell_type": "code",
   "execution_count": 17,
   "metadata": {
    "slideshow": {
     "slide_type": "fragment"
    }
   },
   "outputs": [
    {
     "name": "stdout",
     "output_type": "stream",
     "text": [
      "Матрица симетрична!\n"
     ]
    }
   ],
   "source": [
    "# перевірка, чи є матриця симетричною\n",
    "\n",
    "for i in range(symmetric_matrix.shape[0]):\n",
    "    for j in range(symmetric_matrix.shape[1]):\n",
    "        if symmetric_matrix[i][j] != symmetric_matrix[j][i]:\n",
    "            print('Матриця несиметрична!')\n",
    "            break\n",
    "    \n",
    "    # перервати зовнішній цикл у разі, якщо був перерваний внутрішній\n",
    "    else:\n",
    "        continue\n",
    "    break\n",
    "else:\n",
    "    print('Матрица симетрична!')"
   ]
  },
  {
   "cell_type": "markdown",
   "metadata": {
    "slideshow": {
     "slide_type": "slide"
    }
   },
   "source": [
    "3. Діагональна матриця – матриця, єдині ненульові елементи якої знаходяться на головній діагоналі"
   ]
  },
  {
   "cell_type": "code",
   "execution_count": 18,
   "metadata": {
    "slideshow": {
     "slide_type": "fragment"
    }
   },
   "outputs": [
    {
     "name": "stdout",
     "output_type": "stream",
     "text": [
      "[[1 0 0]\n",
      " [0 2 0]\n",
      " [0 0 3]]\n"
     ]
    }
   ],
   "source": [
    "diagonal_matrix = np.array([\n",
    "    [1, 0, 0],\n",
    "    [0, 2, 0],\n",
    "    [0, 0, 3]\n",
    "])\n",
    "\n",
    "print(diagonal_matrix)"
   ]
  },
  {
   "cell_type": "markdown",
   "metadata": {
    "slideshow": {
     "slide_type": "slide"
    }
   },
   "source": [
    "4. Одинична матриця – діагональна матриця, всі діагональні елементи якої дорівнюють 1 (зазвичай позначається як “I”)"
   ]
  },
  {
   "cell_type": "code",
   "execution_count": 19,
   "metadata": {
    "slideshow": {
     "slide_type": "fragment"
    }
   },
   "outputs": [
    {
     "name": "stdout",
     "output_type": "stream",
     "text": [
      "[[1. 0. 0. 0. 0.]\n",
      " [0. 1. 0. 0. 0.]\n",
      " [0. 0. 1. 0. 0.]\n",
      " [0. 0. 0. 1. 0.]\n",
      " [0. 0. 0. 0. 1.]]\n"
     ]
    }
   ],
   "source": [
    "unit_matrix = np.eye(N=5)  \n",
    "\n",
    "# Єдиний параметр N визначає розмірність матриці.\n",
    "# Оскільки одинична матриця завжди квадратна, то достатньо вказати тільки кількість рядків\n",
    "\n",
    "print(unit_matrix)"
   ]
  },
  {
   "cell_type": "markdown",
   "metadata": {
    "slideshow": {
     "slide_type": "slide"
    }
   },
   "source": [
    "5. Скалярна матриця – діагональна матриця, всі елементи якої на головній діагоналі дорівнюють одному числу"
   ]
  },
  {
   "cell_type": "code",
   "execution_count": 20,
   "metadata": {
    "slideshow": {
     "slide_type": "fragment"
    }
   },
   "outputs": [
    {
     "name": "stdout",
     "output_type": "stream",
     "text": [
      "[[2. 0. 0.]\n",
      " [0. 2. 0.]\n",
      " [0. 0. 2.]]\n"
     ]
    }
   ],
   "source": [
    "# скалярну матрицю легко отримати помноживши одиничну на число:\n",
    "scalar_matrix = 2 * np.eye(3)\n",
    "\n",
    "print(scalar_matrix)"
   ]
  },
  {
   "cell_type": "markdown",
   "metadata": {
    "slideshow": {
     "slide_type": "slide"
    }
   },
   "source": [
    "6. Трикутна матриця – матриця, всі елементи якої вищі або нижчі від головної діагоналі дорівнюють 0"
   ]
  },
  {
   "cell_type": "code",
   "execution_count": 21,
   "metadata": {
    "slideshow": {
     "slide_type": "fragment"
    }
   },
   "outputs": [
    {
     "name": "stdout",
     "output_type": "stream",
     "text": [
      "[[1. 1. 1.]\n",
      " [0. 1. 1.]\n",
      " [0. 0. 1.]]\n"
     ]
    }
   ],
   "source": [
    "upper_triangular_matrix = np.ones(shape=(3, 3))  # створимо матрицю розміру 3х3 що складається лише з одиниць\n",
    "\n",
    "for i in range(upper_triangular_matrix.shape[0]):\n",
    "    for j in range(upper_triangular_matrix.shape[1]):\n",
    "        \n",
    "        # замінимо всі елементи нижче головної діагоналі на 0\n",
    "        if i > j:\n",
    "            upper_triangular_matrix[i][j] = 0\n",
    "\n",
    "# отримана матриця називається верхньотрикутною, оскільки ненульові елементи знаходяться \n",
    "# вище головної діагоналі\n",
    "# інакше матриця називалася б нижньотрикутною\n",
    "print(upper_triangular_matrix)"
   ]
  },
  {
   "cell_type": "markdown",
   "metadata": {
    "slideshow": {
     "slide_type": "slide"
    }
   },
   "source": [
    "# Операції над матрицями"
   ]
  },
  {
   "cell_type": "markdown",
   "metadata": {
    "slideshow": {
     "slide_type": "slide"
    }
   },
   "source": [
    "1. Множення матриць\n",
    "\n",
    "При перемноженні 2х матриць результатом буде матриця, всі елементи якої є скалярними добутками рядків першої матриці та стовпців другої:\n",
    "\n",
    "$$C = AB = [c_{ik}] = [a_{i}^{T}b_{k}]$$"
   ]
  },
  {
   "cell_type": "markdown",
   "metadata": {
    "slideshow": {
     "slide_type": "fragment"
    }
   },
   "source": [
    "![title](MatrixMul.png)"
   ]
  },
  {
   "cell_type": "code",
   "execution_count": 15,
   "metadata": {
    "slideshow": {
     "slide_type": "subslide"
    }
   },
   "outputs": [
    {
     "name": "stdout",
     "output_type": "stream",
     "text": [
      "[[ 31  24  47]\n",
      " [ 20  78 110]\n",
      " [ 16  42  62]]\n"
     ]
    }
   ],
   "source": [
    "A = np.array([\n",
    "    [5, 1],\n",
    "    [2, 8],\n",
    "    [2, 4]\n",
    "]) # визначимо матрицю А\n",
    "\n",
    "B = np.array([\n",
    "    [6, 3, 7],\n",
    "    [1, 9, 12]\n",
    "]) # визначимо матрицю B\n",
    "\n",
    "AB = A.dot(B)  # добуток матриць\n",
    "print(AB)"
   ]
  },
  {
   "cell_type": "markdown",
   "metadata": {
    "slideshow": {
     "slide_type": "fragment"
    }
   },
   "source": [
    "&emsp;&emsp;Очевидно, перемножити можна не будь-які 2 матриці. Для того, щоб добуток був можливим кількість стовпців першої матриці має дорівнювати кількості рядків другої. В результаті виходить матриця розмірності \"$n$ рядків першої матриці на $m$ стовпців другий\".\n",
    "\n",
    "&emsp;&emsp;Звідси випливає, що порядок перемноження для матриць важливий, на відміну чисел. Наприклад добуток $AB$ може бути неприпустимим, а $BA$ так. Тому часто уточнюється, що матриця $A$ примножується на $B$ ліворуч або праворуч"
   ]
  },
  {
   "cell_type": "code",
   "execution_count": 23,
   "metadata": {},
   "outputs": [
    {
     "data": {
      "text/plain": [
       "array([[ 50,  58],\n",
       "       [ 47, 121]])"
      ]
     },
     "execution_count": 23,
     "metadata": {},
     "output_type": "execute_result"
    }
   ],
   "source": [
    "B.dot(A)"
   ]
  },
  {
   "cell_type": "code",
   "execution_count": 24,
   "metadata": {},
   "outputs": [
    {
     "name": "stdout",
     "output_type": "stream",
     "text": [
      "[[31 24]\n",
      " [20 78]]\n",
      "[[36 30]\n",
      " [23 73]]\n"
     ]
    }
   ],
   "source": [
    "C = np.array([\n",
    "    [5, 1],\n",
    "    [2, 8]\n",
    "]) # визначимо матрицю C\n",
    "\n",
    "D = np.array([\n",
    "    [6, 3],\n",
    "    [1, 9]\n",
    "]) # визначимо матрицю D\n",
    "print(C.dot(D))\n",
    "print(D.dot(C))"
   ]
  },
  {
   "cell_type": "markdown",
   "metadata": {
    "slideshow": {
     "slide_type": "slide"
    }
   },
   "source": [
    "&emsp;&emsp;Множення матриці на одиничну дає той самий результат, що і множення чисел на 1: другий множник залишається незмінним"
   ]
  },
  {
   "cell_type": "code",
   "execution_count": 26,
   "metadata": {
    "slideshow": {
     "slide_type": "fragment"
    }
   },
   "outputs": [
    {
     "name": "stdout",
     "output_type": "stream",
     "text": [
      "[[1. 0.]\n",
      " [0. 1.]]\n",
      "[[0 2]\n",
      " [4 1]]\n",
      "[[0. 2.]\n",
      " [4. 1.]]\n",
      "[[0. 2.]\n",
      " [4. 1.]]\n"
     ]
    }
   ],
   "source": [
    "original_matrix = np.random.randint(0, 5, (2, 2))  # створимо матрицю випадкових чисел від 0 до 5\n",
    "I = np.eye(2)  # створимо відповідну одиничну матрицю\n",
    "modified_matrix1 = I.dot(original_matrix)  # домножимо початкову матрицю на одиничну ліворуч\n",
    "modified_matrix2 = original_matrix.dot(I) \n",
    "print(I)\n",
    "print(original_matrix)\n",
    "print(modified_matrix1)\n",
    "print(modified_matrix2)"
   ]
  },
  {
   "cell_type": "markdown",
   "metadata": {
    "slideshow": {
     "slide_type": "slide"
    }
   },
   "source": [
    "2. Множення матриці на число: кожен елемент матриці множиться на число\n",
    "\n",
    "$$cA = [ca_{ik}]$$"
   ]
  },
  {
   "cell_type": "code",
   "execution_count": 27,
   "metadata": {
    "slideshow": {
     "slide_type": "fragment"
    }
   },
   "outputs": [
    {
     "name": "stdout",
     "output_type": "stream",
     "text": [
      "[[2. 2.]\n",
      " [2. 2.]]\n"
     ]
    }
   ],
   "source": [
    "m = np.ones((2, 2))  # створення матриці одиниць розмірності 2 на 2\n",
    "\n",
    "print(m * 2)"
   ]
  },
  {
   "cell_type": "markdown",
   "metadata": {
    "slideshow": {
     "slide_type": "slide"
    }
   },
   "source": [
    "3. Додавання матриць: всі елементи матриць додаються один до одного (при цьому розмірності матриць повинні збігатися)\n",
    "\n",
    "$$C = A + B = [a_{ik} + b_{ik}]$$"
   ]
  },
  {
   "cell_type": "code",
   "execution_count": 28,
   "metadata": {
    "slideshow": {
     "slide_type": "fragment"
    }
   },
   "outputs": [
    {
     "name": "stdout",
     "output_type": "stream",
     "text": [
      "[[3. 3.]\n",
      " [3. 3.]]\n"
     ]
    }
   ],
   "source": [
    "m1 = np.ones((2, 2))  # створення матриці одиниць розмірності 2 на 2\n",
    "m2 = 2 * np.ones((2, 2))  # створення матриці двійок розмірності 2 на 2\n",
    "\n",
    "print(m1 + m2)"
   ]
  },
  {
   "cell_type": "markdown",
   "metadata": {
    "slideshow": {
     "slide_type": "slide"
    }
   },
   "source": [
    "4. Транспонування матриці (перестановка рядків та стовпців місцями)\n",
    "\n",
    "$$B = A^{T} <=> b_{ik} = a_{ki}$$"
   ]
  },
  {
   "cell_type": "code",
   "execution_count": 29,
   "metadata": {
    "slideshow": {
     "slide_type": "fragment"
    }
   },
   "outputs": [
    {
     "name": "stdout",
     "output_type": "stream",
     "text": [
      "[[1 2]\n",
      " [3 4]\n",
      " [5 6]]\n",
      "\n",
      "[[1 3 5]\n",
      " [2 4 6]]\n",
      "\n",
      "(3, 2)\n",
      "(2, 3)\n",
      "[[1 2 3]\n",
      " [4 5 6]]\n"
     ]
    }
   ],
   "source": [
    "import numpy as np\n",
    "\n",
    "B = np.array([\n",
    "    [1, 2],\n",
    "    [3, 4],\n",
    "    [5, 6]\n",
    "])\n",
    "print(B)\n",
    "print()\n",
    "print(B.T)\n",
    "print()\n",
    "print(B.shape)\n",
    "print(B.T.shape)\n",
    "print(B.reshape(2, 3))"
   ]
  },
  {
   "cell_type": "markdown",
   "metadata": {
    "slideshow": {
     "slide_type": "slide"
    }
   },
   "source": [
    "&emsp;&emsp;Зверніть увагу, що транспонування можливе лише для двовимірних масивів. Наприклад, ми можемо за допомогою транспонування привести вектор-стовпець до вектора-рядка і навпаки, проте на вектор, представлений у вигляді одновимірного масиву транспонування не матиме жодного ефекту:"
   ]
  },
  {
   "cell_type": "code",
   "execution_count": 31,
   "metadata": {
    "slideshow": {
     "slide_type": "fragment"
    }
   },
   "outputs": [
    {
     "name": "stdout",
     "output_type": "stream",
     "text": [
      "[[1 2]]\n",
      "[[1]\n",
      " [2]]\n",
      "\n",
      "[1 2]\n",
      "[1 2]\n"
     ]
    }
   ],
   "source": [
    "row_vec = np.array([[1, 2]])  # створимо вектор-рядок як двовимірний масив\n",
    "col_vec = row_vec.T  # транспонуємо вектор, щоб отримати вектор-стовпець з тих самих елементів\n",
    "print(row_vec)\n",
    "print(col_vec)\n",
    "print()\n",
    "\n",
    "flat_vec = np.array([1, 2])  # створимо одновимірний масив\n",
    "col_from_flat = flat_vec.T  # транспонування не призведе до змін оригінального вектора\n",
    "print(flat_vec)\n",
    "print(col_from_flat)"
   ]
  },
  {
   "cell_type": "markdown",
   "metadata": {
    "slideshow": {
     "slide_type": "slide"
    }
   },
   "source": [
    "5. Слід матриці (сума елементів головної діагоналі)\n",
    "\n",
    "$$tr(A) = \\sum_{k=1}^{K}{a_{kk}}$$"
   ]
  },
  {
   "cell_type": "code",
   "execution_count": 32,
   "metadata": {
    "slideshow": {
     "slide_type": "fragment"
    }
   },
   "outputs": [
    {
     "name": "stdout",
     "output_type": "stream",
     "text": [
      "171\n"
     ]
    }
   ],
   "source": [
    "print(np.trace(AB))"
   ]
  },
  {
   "cell_type": "markdown",
   "metadata": {
    "slideshow": {
     "slide_type": "slide"
    }
   },
   "source": [
    "6. Знаходження оберненої матриці: якщо для матриці $A$ можна знайти таку матрицю $B$, що виконується рівність $BA = I$ чи $AB=I$, де $I$ - одинична матриця, то $B$ називається оберненою до $A$ і позначається $A^{-1}$\n",
    "$$A\\cdot A^{-1} = A^{-1}\\cdot A =I$$\n"
   ]
  },
  {
   "cell_type": "code",
   "execution_count": 33,
   "metadata": {
    "slideshow": {
     "slide_type": "fragment"
    }
   },
   "outputs": [
    {
     "name": "stdout",
     "output_type": "stream",
     "text": [
      "[[ 0.3016 -0.3016 -0.0952]\n",
      " [-0.0655  0.1905  0.0536]\n",
      " [ 0.0159 -0.0159  0.0476]]\n",
      "[[ 1.  0. -0.]\n",
      " [-0.  1.  0.]\n",
      " [ 0.  0.  1.]]\n",
      "[[ 1. -0.  0.]\n",
      " [-0.  1.  0.]\n",
      " [ 0. -0.  1.]]\n"
     ]
    }
   ],
   "source": [
    "# не використовувати під час друку експоненційну форму запису та виводити лише 4 циир після коми\n",
    "np.set_printoptions(precision=4, suppress=True)\n",
    "\n",
    "# визначимо матрицю А, обернену до якої шукатимемо\n",
    "A = np.array([\n",
    "    [5, 8, 1],\n",
    "    [2, 8, -5],\n",
    "    [-1, 0, 19]\n",
    "])\n",
    "\n",
    "# знаходження оберненої матриці\n",
    "A_inv = np.linalg.inv(A)\n",
    "\n",
    "print(A_inv)\n",
    "print(A_inv.dot(A))\n",
    "print(A.dot(A_inv))"
   ]
  },
  {
   "cell_type": "markdown",
   "metadata": {
    "slideshow": {
     "slide_type": "slide"
    }
   },
   "source": [
    "&emsp;&emsp;При обчисленнях є втрата точності через округлення малих величин. Отримані вище матриці $A.dot(A\\_inv)$ і $A\\_inv.dot(A)$ повинні дорівнювати одиничним матрицям розмірності 3 на 3, однак через округлення з'являються елементи виду -0.\n",
    "\n",
    "&emsp;&emsp;Для того, щоб перевірити, чи це похибка, можна скористатися методом np.allclose, який порівняє всі елементи 2х масивів з точністю, до дуже малого числа:"
   ]
  },
  {
   "cell_type": "code",
   "execution_count": 34,
   "metadata": {
    "slideshow": {
     "slide_type": "fragment"
    }
   },
   "outputs": [
    {
     "name": "stdout",
     "output_type": "stream",
     "text": [
      "True\n"
     ]
    }
   ],
   "source": [
    "expected_output = np.eye(A.shape[0])\n",
    "actual_output = A_inv.dot(A)\n",
    "print(np.allclose(expected_output, actual_output))"
   ]
  },
  {
   "cell_type": "markdown",
   "metadata": {
    "slideshow": {
     "slide_type": "slide"
    }
   },
   "source": [
    "&emsp;&emsp;Обернену матрицю можна знайти тільки для квадратної і тільки якщо всі вектори, з яких вона складається, лінійно незалежні."
   ]
  },
  {
   "cell_type": "code",
   "execution_count": 3,
   "metadata": {
    "slideshow": {
     "slide_type": "fragment"
    }
   },
   "outputs": [
    {
     "ename": "LinAlgError",
     "evalue": "Singular matrix",
     "output_type": "error",
     "traceback": [
      "\u001b[0;31m---------------------------------------------------------------------------\u001b[0m",
      "\u001b[0;31mLinAlgError\u001b[0m                               Traceback (most recent call last)",
      "Cell \u001b[0;32mIn [3], line 6\u001b[0m\n\u001b[1;32m      1\u001b[0m poorA \u001b[39m=\u001b[39m np\u001b[39m.\u001b[39marray([\n\u001b[1;32m      2\u001b[0m     [\u001b[39m1\u001b[39m, \u001b[39m2\u001b[39m, \u001b[39m3\u001b[39m],\n\u001b[1;32m      3\u001b[0m     [\u001b[39m1\u001b[39m, \u001b[39m2\u001b[39m, \u001b[39m3\u001b[39m],\n\u001b[1;32m      4\u001b[0m     [\u001b[39m1\u001b[39m, \u001b[39m2\u001b[39m, \u001b[39m3\u001b[39m]\n\u001b[1;32m      5\u001b[0m ])  \u001b[39m# створимо матрицю, в якій є лінійна залежність між рядками (вони рівні один одному)\u001b[39;00m\n\u001b[0;32m----> 6\u001b[0m poorA_inv \u001b[39m=\u001b[39m np\u001b[39m.\u001b[39;49mlinalg\u001b[39m.\u001b[39;49minv(poorA)\n",
      "File \u001b[0;32m<__array_function__ internals>:180\u001b[0m, in \u001b[0;36minv\u001b[0;34m(*args, **kwargs)\u001b[0m\n",
      "File \u001b[0;32m/opt/homebrew/lib/python3.10/site-packages/numpy/linalg/linalg.py:552\u001b[0m, in \u001b[0;36minv\u001b[0;34m(a)\u001b[0m\n\u001b[1;32m    550\u001b[0m signature \u001b[39m=\u001b[39m \u001b[39m'\u001b[39m\u001b[39mD->D\u001b[39m\u001b[39m'\u001b[39m \u001b[39mif\u001b[39;00m isComplexType(t) \u001b[39melse\u001b[39;00m \u001b[39m'\u001b[39m\u001b[39md->d\u001b[39m\u001b[39m'\u001b[39m\n\u001b[1;32m    551\u001b[0m extobj \u001b[39m=\u001b[39m get_linalg_error_extobj(_raise_linalgerror_singular)\n\u001b[0;32m--> 552\u001b[0m ainv \u001b[39m=\u001b[39m _umath_linalg\u001b[39m.\u001b[39;49minv(a, signature\u001b[39m=\u001b[39;49msignature, extobj\u001b[39m=\u001b[39;49mextobj)\n\u001b[1;32m    553\u001b[0m \u001b[39mreturn\u001b[39;00m wrap(ainv\u001b[39m.\u001b[39mastype(result_t, copy\u001b[39m=\u001b[39m\u001b[39mFalse\u001b[39;00m))\n",
      "File \u001b[0;32m/opt/homebrew/lib/python3.10/site-packages/numpy/linalg/linalg.py:89\u001b[0m, in \u001b[0;36m_raise_linalgerror_singular\u001b[0;34m(err, flag)\u001b[0m\n\u001b[1;32m     88\u001b[0m \u001b[39mdef\u001b[39;00m \u001b[39m_raise_linalgerror_singular\u001b[39m(err, flag):\n\u001b[0;32m---> 89\u001b[0m     \u001b[39mraise\u001b[39;00m LinAlgError(\u001b[39m\"\u001b[39m\u001b[39mSingular matrix\u001b[39m\u001b[39m\"\u001b[39m)\n",
      "\u001b[0;31mLinAlgError\u001b[0m: Singular matrix"
     ]
    }
   ],
   "source": [
    "poorA = np.array([\n",
    "    [1, 2, 3],\n",
    "    [1, 2, 3],\n",
    "    [1, 2, 3]\n",
    "])  # створимо матрицю, в якій є лінійна залежність між рядками (вони рівні один одному)\n",
    "poorA_inv = np.linalg.inv(poorA)  # спроба знайти зворотну призведе до помилки (для матриць це аналог ділення на 0)"
   ]
  },
  {
   "cell_type": "markdown",
   "metadata": {
    "slideshow": {
     "slide_type": "slide"
    }
   },
   "source": [
    "7. Визначник матриці - це скалярна величина, яка може бути обчислена та поставлена в однозначну відповідність будь-якій квадратній матриці."
   ]
  },
  {
   "cell_type": "code",
   "execution_count": 4,
   "metadata": {
    "slideshow": {
     "slide_type": "fragment"
    }
   },
   "outputs": [
    {
     "name": "stdout",
     "output_type": "stream",
     "text": [
      "503.9999999999996\n",
      "0.0019841269841269823\n",
      "0.9999999999999983\n"
     ]
    },
    {
     "ename": "LinAlgError",
     "evalue": "Last 2 dimensions of the array must be square",
     "output_type": "error",
     "traceback": [
      "\u001b[0;31m---------------------------------------------------------------------------\u001b[0m",
      "\u001b[0;31mLinAlgError\u001b[0m                               Traceback (most recent call last)",
      "Cell \u001b[0;32mIn [4], line 16\u001b[0m\n\u001b[1;32m     14\u001b[0m \u001b[39mprint\u001b[39m(np\u001b[39m.\u001b[39mlinalg\u001b[39m.\u001b[39mdet(A_inv))\n\u001b[1;32m     15\u001b[0m \u001b[39mprint\u001b[39m(np\u001b[39m.\u001b[39mlinalg\u001b[39m.\u001b[39mdet(A) \u001b[39m*\u001b[39m np\u001b[39m.\u001b[39mlinalg\u001b[39m.\u001b[39mdet(A_inv))\n\u001b[0;32m---> 16\u001b[0m \u001b[39mprint\u001b[39m(np\u001b[39m.\u001b[39;49mlinalg\u001b[39m.\u001b[39;49mdet(B))\n",
      "File \u001b[0;32m<__array_function__ internals>:180\u001b[0m, in \u001b[0;36mdet\u001b[0;34m(*args, **kwargs)\u001b[0m\n",
      "File \u001b[0;32m/opt/homebrew/lib/python3.10/site-packages/numpy/linalg/linalg.py:2151\u001b[0m, in \u001b[0;36mdet\u001b[0;34m(a)\u001b[0m\n\u001b[1;32m   2149\u001b[0m a \u001b[39m=\u001b[39m asarray(a)\n\u001b[1;32m   2150\u001b[0m _assert_stacked_2d(a)\n\u001b[0;32m-> 2151\u001b[0m _assert_stacked_square(a)\n\u001b[1;32m   2152\u001b[0m t, result_t \u001b[39m=\u001b[39m _commonType(a)\n\u001b[1;32m   2153\u001b[0m signature \u001b[39m=\u001b[39m \u001b[39m'\u001b[39m\u001b[39mD->D\u001b[39m\u001b[39m'\u001b[39m \u001b[39mif\u001b[39;00m isComplexType(t) \u001b[39melse\u001b[39;00m \u001b[39m'\u001b[39m\u001b[39md->d\u001b[39m\u001b[39m'\u001b[39m\n",
      "File \u001b[0;32m/opt/homebrew/lib/python3.10/site-packages/numpy/linalg/linalg.py:204\u001b[0m, in \u001b[0;36m_assert_stacked_square\u001b[0;34m(*arrays)\u001b[0m\n\u001b[1;32m    202\u001b[0m m, n \u001b[39m=\u001b[39m a\u001b[39m.\u001b[39mshape[\u001b[39m-\u001b[39m\u001b[39m2\u001b[39m:]\n\u001b[1;32m    203\u001b[0m \u001b[39mif\u001b[39;00m m \u001b[39m!=\u001b[39m n:\n\u001b[0;32m--> 204\u001b[0m     \u001b[39mraise\u001b[39;00m LinAlgError(\u001b[39m'\u001b[39m\u001b[39mLast 2 dimensions of the array must be square\u001b[39m\u001b[39m'\u001b[39m)\n",
      "\u001b[0;31mLinAlgError\u001b[0m: Last 2 dimensions of the array must be square"
     ]
    }
   ],
   "source": [
    "np.set_printoptions(precision=4, suppress=True)\n",
    "A = np.array([\n",
    "    [5, 8, 1],\n",
    "    [2, 8, -5],\n",
    "    [-1, 0, 19]\n",
    "])\n",
    "B = np.array([\n",
    "    [1, 2],\n",
    "    [3, 4],\n",
    "    [5, 6]\n",
    "])\n",
    "A_inv = np.linalg.inv(A)\n",
    "print(np.linalg.det(A))\n",
    "print(np.linalg.det(A_inv))\n",
    "print(np.linalg.det(A) * np.linalg.det(A_inv))\n",
    "print(np.linalg.det(B))  # видасть помилку, тому що B неквадратна матриця"
   ]
  },
  {
   "cell_type": "markdown",
   "metadata": {
    "slideshow": {
     "slide_type": "slide"
    }
   },
   "source": [
    "&emsp;&emsp;Геометрично визначник квадратної матриці 2х2 наступного виду $\\begin{pmatrix} a & b \\\\ c & d \\end{pmatrix}$ можна уявити як площа паралелограма, заданого векторами $(a, b)$ і $(c, d)$."
   ]
  },
  {
   "cell_type": "markdown",
   "metadata": {
    "slideshow": {
     "slide_type": "fragment"
    }
   },
   "source": [
    "![title](GeometricDet.png)"
   ]
  },
  {
   "cell_type": "code",
   "execution_count": 37,
   "metadata": {},
   "outputs": [
    {
     "data": {
      "text/plain": [
       "2.0"
      ]
     },
     "execution_count": 37,
     "metadata": {},
     "output_type": "execute_result"
    }
   ],
   "source": [
    "E = np.array(\n",
    "    [\n",
    "        [2, 0],\n",
    "        [1, 1]\n",
    "    ]\n",
    ")\n",
    "np.linalg.det(E)"
   ]
  },
  {
   "cell_type": "markdown",
   "metadata": {
    "slideshow": {
     "slide_type": "subslide"
    }
   },
   "source": [
    "&emsp;&emsp;Для матриць, що складаються з трьох векторів, визначник дорівнює об'єму фігури. Якщо вектори, з яких складається матриця, лінійно залежні, то всі вони \"збігаються\" і в паралелограма нічого очікувати площі, тому визначник такий матриці дорівнює 0."
   ]
  },
  {
   "cell_type": "code",
   "execution_count": 38,
   "metadata": {
    "slideshow": {
     "slide_type": "fragment"
    }
   },
   "outputs": [
    {
     "name": "stdout",
     "output_type": "stream",
     "text": [
      "0.0\n"
     ]
    }
   ],
   "source": [
    "D = np.array([\n",
    "    [1, 2],\n",
    "    [1, 2]\n",
    "])\n",
    "print(np.linalg.det(D))"
   ]
  },
  {
   "cell_type": "code",
   "execution_count": 1,
   "metadata": {},
   "outputs": [
    {
     "ename": "NameError",
     "evalue": "name 'np' is not defined",
     "output_type": "error",
     "traceback": [
      "\u001b[0;31m---------------------------------------------------------------------------\u001b[0m",
      "\u001b[0;31mNameError\u001b[0m                                 Traceback (most recent call last)",
      "Cell \u001b[0;32mIn [1], line 1\u001b[0m\n\u001b[0;32m----> 1\u001b[0m D \u001b[39m=\u001b[39m np\u001b[39m.\u001b[39marray([\n\u001b[1;32m      2\u001b[0m     [\u001b[39m1\u001b[39m, \u001b[39m2\u001b[39m, \u001b[39m3\u001b[39m],\n\u001b[1;32m      3\u001b[0m     [\u001b[39m1\u001b[39m, \u001b[39m1\u001b[39m, \u001b[39m1\u001b[39m],\n\u001b[1;32m      4\u001b[0m     [\u001b[39m2\u001b[39m, \u001b[39m3\u001b[39m, \u001b[39m8\u001b[39m]\n\u001b[1;32m      5\u001b[0m ])\n\u001b[1;32m      6\u001b[0m \u001b[39mprint\u001b[39m(np\u001b[39m.\u001b[39mlinalg\u001b[39m.\u001b[39mdet(D))\n",
      "\u001b[0;31mNameError\u001b[0m: name 'np' is not defined"
     ]
    }
   ],
   "source": [
    "D = np.array([\n",
    "    [1, 2, 3],\n",
    "    [1, 1, 1],\n",
    "    [2, 3, 8]\n",
    "])\n",
    "print(np.linalg.det(D))"
   ]
  },
  {
   "cell_type": "markdown",
   "metadata": {
    "slideshow": {
     "slide_type": "slide"
    }
   },
   "source": [
    "8. Ранг матриці – максимальна кількість лінійно незалежних векторів матриці"
   ]
  },
  {
   "cell_type": "code",
   "execution_count": 40,
   "metadata": {
    "slideshow": {
     "slide_type": "fragment"
    }
   },
   "outputs": [
    {
     "name": "stdout",
     "output_type": "stream",
     "text": [
      "матриця А має повний ранг:  3\n",
      "матриця D вироджена, оскільки її ранг менший, ніж розмірність:  2\n"
     ]
    }
   ],
   "source": [
    "print('матриця А має повний ранг: ', np.linalg.matrix_rank(A))\n",
    "print('матриця D вироджена, оскільки її ранг менший, ніж розмірність: ', np.linalg.matrix_rank(D))"
   ]
  },
  {
   "cell_type": "markdown",
   "metadata": {
    "slideshow": {
     "slide_type": "slide"
    }
   },
   "source": [
    "# Розв'язання системи лінійних рівнянь"
   ]
  },
  {
   "cell_type": "markdown",
   "metadata": {
    "slideshow": {
     "slide_type": "slide"
    }
   },
   "source": [
    "&emsp;&emsp;У загальному випадку система лінійних рівнянь виглядає так:\n",
    "\n",
    "$$\\begin{cases} a_{11}x_{1} + a_{12}x_{2} + ... + a_{1k}x_{k} = b_{1} \\\\ a_{21}x_{1} + a_{22}x_{2} + ... + a_{2k}x_{k} = b_{2} \\\\ ... ... ... ... ... ... ... ... ... ... \\\\ a_{n1}x_{1} + a_{n2}x_{2} + ... + a_{nk}x_{k} = b_{n} \\end{cases}$$\n",
    "\n",
    "&emsp;&emsp;Таку систему можна переписати у матричному вигляді як\n",
    "\n",
    "$$Ax = b\\text{, де}$$\n",
    "\n",
    "$$A = \\begin{pmatrix} a_{11} a_{12} ... a_{1k} \\\\ a_{21} a_{22} ... a_{2k} \\\\ ... ... ... ... \\\\ a_{n1} a_{n2} ... a_{nk} \\end{pmatrix}, x = \\begin{pmatrix} x_{1} \\\\ x_{2} \\\\ ... \\\\ x_{k} \\end{pmatrix}, b = \\begin{pmatrix} b_{1} \\\\ b_{2} \\\\ ... \\\\ b_{n} \\end{pmatrix}$$\n",
    "\n",
    "&emsp;&emsp;Тоді, якщо для $A$ існує зворотна матриця, ми можемо знайти рішення для $х$ як:\n",
    "\n",
    "$$A^{-1}Ax = A^{-1}b => x = A^{-1}b$$"
   ]
  },
  {
   "cell_type": "markdown",
   "metadata": {
    "slideshow": {
     "slide_type": "slide"
    }
   },
   "source": [
    "Дано систем рівнянь:"
   ]
  },
  {
   "cell_type": "markdown",
   "metadata": {
    "slideshow": {
     "slide_type": "fragment"
    }
   },
   "source": [
    "$$\n",
    "4x_1 + 7x_2 = 18\\\\\\\n",
    "x_1 - 10x_2 + 13x_3 - 2x_4 = 43\\\\\\\n",
    "x_2 + 17x_4 = 24\\\\\\\n",
    "7x_1 - 40x_3 = -3\\\\\\\n",
    "$$"
   ]
  },
  {
   "cell_type": "markdown",
   "metadata": {
    "slideshow": {
     "slide_type": "subslide"
    }
   },
   "source": [
    "Нехай $x = [x_1, x_2, x_3, x_4]$."
   ]
  },
  {
   "cell_type": "code",
   "execution_count": 13,
   "metadata": {
    "slideshow": {
     "slide_type": "fragment"
    }
   },
   "outputs": [
    {
     "data": {
      "text/plain": [
       "array([[18],\n",
       "       [43],\n",
       "       [24],\n",
       "       [-3]])"
      ]
     },
     "execution_count": 13,
     "metadata": {},
     "output_type": "execute_result"
    }
   ],
   "source": [
    "b = np.array([18, 43, 24, -3]).reshape(-1, 1)  \n",
    "A = np.array([\n",
    "    [4, 7, 0, 0],\n",
    "    [1, -10, 13, -2],\n",
    "    [0, 1, 0, 17],\n",
    "    [7, 0, -40, 0]  \n",
    "])\n",
    "b"
   ]
  },
  {
   "cell_type": "markdown",
   "metadata": {
    "slideshow": {
     "slide_type": "fragment"
    }
   },
   "source": [
    "Тоді\n",
    "$$Ax = b, x = A^{-1}b$$"
   ]
  },
  {
   "cell_type": "code",
   "execution_count": 6,
   "metadata": {
    "slideshow": {
     "slide_type": "fragment"
    }
   },
   "outputs": [
    {
     "name": "stdout",
     "output_type": "stream",
     "text": [
      "[[ 7.8749]\n",
      " [-1.9285]\n",
      " [ 1.4531]\n",
      " [ 1.5252]]\n"
     ]
    }
   ],
   "source": [
    "x = np.linalg.inv(A).dot(b)\n",
    "print(x)"
   ]
  },
  {
   "cell_type": "markdown",
   "metadata": {},
   "source": [
    "&emsp;&emsp; Перевірка:"
   ]
  },
  {
   "cell_type": "code",
   "execution_count": 95,
   "metadata": {
    "slideshow": {
     "slide_type": "fragment"
    }
   },
   "outputs": [
    {
     "name": "stdout",
     "output_type": "stream",
     "text": [
      "18.00000000000001 43.0 24.0 -2.999999999999993\n"
     ]
    }
   ],
   "source": [
    "print(4*x[0] + 7*x[1], x[0] - 10*x[1] + 13*x[2] - 2*x[3], x[1] + 17*x[3], 7*x[0] - 40*x[2])"
   ]
  },
  {
   "cell_type": "code",
   "execution_count": 44,
   "metadata": {},
   "outputs": [
    {
     "data": {
      "text/plain": [
       "array([18.])"
      ]
     },
     "execution_count": 44,
     "metadata": {},
     "output_type": "execute_result"
    }
   ],
   "source": [
    "A[0].dot(x)"
   ]
  },
  {
   "cell_type": "markdown",
   "metadata": {},
   "source": [
    "&emsp;&emsp;Задача. Кондитерська фабрика спеціалізується на виробництві трьох фірмових тортів Т1, Т2, Т3, для чого використовує сировину трьох типів С1, С2 та С3. Витрати сировини на кожен кондитерський виріб та щоденні запаси сировини задані таблицею. Знайти щоденну кількість тортів кожного виду. "
   ]
  },
  {
   "attachments": {
    "image.png": {
     "image/png": "[encoded data removed]"
    }
   },
   "cell_type": "markdown",
   "metadata": {},
   "source": [
    "![image.png](attachment:image.png)"
   ]
  },
  {
   "cell_type": "markdown",
   "metadata": {},
   "source": [
    "$$5x_1 + 3x_2 + 4x_3 = 2700$$\n",
    "$$2x_1 + x_2 + x_3 = 900$$\n",
    "$$3x_1 + 2x_2 + 2x_3 = 1600$$"
   ]
  },
  {
   "cell_type": "code",
   "execution_count": 12,
   "metadata": {},
   "outputs": [
    {
     "data": {
      "text/plain": [
       "array([[200.],\n",
       "       [300.],\n",
       "       [200.]])"
      ]
     },
     "execution_count": 12,
     "metadata": {},
     "output_type": "execute_result"
    }
   ],
   "source": [
    "b = np.array([2700, 900, 1600]).reshape(-1, 1)  \n",
    "A = np.array([\n",
    "    [5, 3, 4],\n",
    "    [2, 1, 1],\n",
    "    [3, 2, 2] \n",
    "])\n",
    "x = np.linalg.inv(A).dot(b)\n",
    "x"
   ]
  },
  {
   "cell_type": "code",
   "execution_count": 46,
   "metadata": {},
   "outputs": [
    {
     "data": {
      "text/plain": [
       "array([[200.],\n",
       "       [300.],\n",
       "       [200.]])"
      ]
     },
     "execution_count": 46,
     "metadata": {},
     "output_type": "execute_result"
    }
   ],
   "source": [
    "np.linalg.solve(A, b)"
   ]
  },
  {
   "cell_type": "code",
   "execution_count": null,
   "metadata": {},
   "outputs": [],
   "source": []
  },
  {
   "cell_type": "markdown",
   "metadata": {
    "slideshow": {
     "slide_type": "slide"
    }
   },
   "source": [
    "&emsp;&emsp;У прикладі вище матриця $АВ$ мала неповний ранг. Це означає, що будь-який її стовпець можна виразити як лінійну комбінацію двох інших. Покажемо, як це можна зробити:"
   ]
  },
  {
   "cell_type": "code",
   "execution_count": 18,
   "metadata": {
    "slideshow": {
     "slide_type": "fragment"
    }
   },
   "outputs": [
    {
     "name": "stdout",
     "output_type": "stream",
     "text": [
      "AB =\n",
      " [[ 31  24  47]\n",
      " [ 20  78 110]\n",
      " [ 16  42  62]]\n",
      "2\n"
     ]
    }
   ],
   "source": [
    "print('AB =\\n', AB)\n",
    "print(np.linalg.matrix_rank(AB))"
   ]
  },
  {
   "cell_type": "code",
   "execution_count": 50,
   "metadata": {
    "slideshow": {
     "slide_type": "subslide"
    }
   },
   "outputs": [
    {
     "name": "stdout",
     "output_type": "stream",
     "text": [
      "[[31 24]\n",
      " [20 78]\n",
      " [16 42]]\n",
      "[ 47 110  62]\n"
     ]
    }
   ],
   "source": [
    "# будемо виражати 3й стовпець через перші 2, для цього визначимо\n",
    "\n",
    "X = AB[:, :2]  # матриця, що складається з перших двох стовпців матриці АВ\n",
    "y = AB[:, -1]  # вектор-стовпець, що дорівнює 3-му стовпцю матриці АВ\n",
    "\n",
    "print(X)\n",
    "print(y)"
   ]
  },
  {
   "cell_type": "markdown",
   "metadata": {
    "slideshow": {
     "slide_type": "subslide"
    }
   },
   "source": [
    "&emsp;&emsp;Лінійну комбінацію векторів у матричній формі можна записати як:\n",
    "\n",
    "$$Xb = y$$\n",
    "\n",
    "&emsp;&emsp;Де, $X$ - матриця, що містить вектори, що беруть участь у комбінації, $b$ - вектор коефіцієнтів, $y$ - лінійна комбінація. Тоді вирішивши цю систему рівнянь, отримаємо, що\n",
    "$$b = X^{-1}y$$"
   ]
  },
  {
   "cell_type": "markdown",
   "metadata": {
    "slideshow": {
     "slide_type": "subslide"
    }
   },
   "source": [
    "&emsp;&emsp;У нашому випадку $X$ – неквадратна матриця і для неї немає оберненої. Спроба отримати обернену матрицю призведе до помилки:"
   ]
  },
  {
   "cell_type": "code",
   "execution_count": 51,
   "metadata": {
    "slideshow": {
     "slide_type": "fragment"
    }
   },
   "outputs": [
    {
     "ename": "LinAlgError",
     "evalue": "Last 2 dimensions of the array must be square",
     "output_type": "error",
     "traceback": [
      "\u001b[1;31m---------------------------------------------------------------------------\u001b[0m",
      "\u001b[1;31mLinAlgError\u001b[0m                               Traceback (most recent call last)",
      "Input \u001b[1;32mIn [51]\u001b[0m, in \u001b[0;36m<cell line: 1>\u001b[1;34m()\u001b[0m\n\u001b[1;32m----> 1\u001b[0m X_inv \u001b[38;5;241m=\u001b[39m \u001b[43mnp\u001b[49m\u001b[38;5;241;43m.\u001b[39;49m\u001b[43mlinalg\u001b[49m\u001b[38;5;241;43m.\u001b[39;49m\u001b[43minv\u001b[49m\u001b[43m(\u001b[49m\u001b[43mX\u001b[49m\u001b[43m)\u001b[49m\n",
      "File \u001b[1;32m<__array_function__ internals>:5\u001b[0m, in \u001b[0;36minv\u001b[1;34m(*args, **kwargs)\u001b[0m\n",
      "File \u001b[1;32mD:\\Anaconda3\\lib\\site-packages\\numpy\\linalg\\linalg.py:540\u001b[0m, in \u001b[0;36minv\u001b[1;34m(a)\u001b[0m\n\u001b[0;32m    538\u001b[0m a, wrap \u001b[38;5;241m=\u001b[39m _makearray(a)\n\u001b[0;32m    539\u001b[0m _assert_stacked_2d(a)\n\u001b[1;32m--> 540\u001b[0m \u001b[43m_assert_stacked_square\u001b[49m\u001b[43m(\u001b[49m\u001b[43ma\u001b[49m\u001b[43m)\u001b[49m\n\u001b[0;32m    541\u001b[0m t, result_t \u001b[38;5;241m=\u001b[39m _commonType(a)\n\u001b[0;32m    543\u001b[0m signature \u001b[38;5;241m=\u001b[39m \u001b[38;5;124m'\u001b[39m\u001b[38;5;124mD->D\u001b[39m\u001b[38;5;124m'\u001b[39m \u001b[38;5;28;01mif\u001b[39;00m isComplexType(t) \u001b[38;5;28;01melse\u001b[39;00m \u001b[38;5;124m'\u001b[39m\u001b[38;5;124md->d\u001b[39m\u001b[38;5;124m'\u001b[39m\n",
      "File \u001b[1;32mD:\\Anaconda3\\lib\\site-packages\\numpy\\linalg\\linalg.py:203\u001b[0m, in \u001b[0;36m_assert_stacked_square\u001b[1;34m(*arrays)\u001b[0m\n\u001b[0;32m    201\u001b[0m m, n \u001b[38;5;241m=\u001b[39m a\u001b[38;5;241m.\u001b[39mshape[\u001b[38;5;241m-\u001b[39m\u001b[38;5;241m2\u001b[39m:]\n\u001b[0;32m    202\u001b[0m \u001b[38;5;28;01mif\u001b[39;00m m \u001b[38;5;241m!=\u001b[39m n:\n\u001b[1;32m--> 203\u001b[0m     \u001b[38;5;28;01mraise\u001b[39;00m LinAlgError(\u001b[38;5;124m'\u001b[39m\u001b[38;5;124mLast 2 dimensions of the array must be square\u001b[39m\u001b[38;5;124m'\u001b[39m)\n",
      "\u001b[1;31mLinAlgError\u001b[0m: Last 2 dimensions of the array must be square"
     ]
    }
   ],
   "source": [
    "X_inv = np.linalg.inv(X)"
   ]
  },
  {
   "cell_type": "markdown",
   "metadata": {
    "slideshow": {
     "slide_type": "subslide"
    }
   },
   "source": [
    "Однак для таких матриць є ліва та права псевдообернені. Ліва псевдооборнена виглядає так:\n",
    "\n",
    "$$B = (X^{T}X)^{-1}X^{T}$$\n",
    "\n",
    "Домножив на такую матрицу зліва отримаємо:\n",
    "\n",
    "$$BX = (X^{T}X)^{-1}X^{T}X = ((X^{T}X))^{-1}(X^{T}X) = I$$\n",
    "\n",
    "Що дає\n",
    "\n",
    "$$b = (X^{T}X)^{-1}X^{T}y$$"
   ]
  },
  {
   "cell_type": "code",
   "execution_count": 52,
   "metadata": {
    "slideshow": {
     "slide_type": "fragment"
    }
   },
   "outputs": [
    {
     "name": "stdout",
     "output_type": "stream",
     "text": [
      "[0.5294 1.2745]\n",
      "[ 47. 110.  62.]\n",
      "[ 47 110  62]\n"
     ]
    }
   ],
   "source": [
    "b = np.linalg.inv(X.T.dot(X)).dot(X.T).dot(y)\n",
    "print(b)\n",
    "\n",
    "print(X[:, 0] * b[0] + X[:, 1] * b[1])\n",
    "print(y)"
   ]
  },
  {
   "cell_type": "markdown",
   "metadata": {
    "slideshow": {
     "slide_type": "slide"
    }
   },
   "source": [
    "# Вправи\n",
    "(використовувати тільки матричні операції)"
   ]
  },
  {
   "cell_type": "markdown",
   "metadata": {
    "slideshow": {
     "slide_type": "slide"
    }
   },
   "source": [
    "1. Отримати суму елементів та суму квадратів елементів вектора:"
   ]
  },
  {
   "cell_type": "code",
   "execution_count": 53,
   "metadata": {
    "slideshow": {
     "slide_type": "fragment"
    }
   },
   "outputs": [],
   "source": [
    "v = np.array([1, 2, 3, 4, 5, 6])"
   ]
  },
  {
   "cell_type": "code",
   "execution_count": 54,
   "metadata": {},
   "outputs": [
    {
     "data": {
      "text/plain": [
       "21"
      ]
     },
     "execution_count": 54,
     "metadata": {},
     "output_type": "execute_result"
    }
   ],
   "source": [
    "# np.sum(v) не можна використовувати"
   ]
  },
  {
   "cell_type": "code",
   "execution_count": 55,
   "metadata": {},
   "outputs": [
    {
     "data": {
      "text/plain": [
       "21.0"
      ]
     },
     "execution_count": 55,
     "metadata": {},
     "output_type": "execute_result"
    }
   ],
   "source": [
    "np.ones(len(v)).dot(v)"
   ]
  },
  {
   "cell_type": "markdown",
   "metadata": {
    "slideshow": {
     "slide_type": "slide"
    }
   },
   "source": [
    "2. Для вектора попереднього завдання побудувати вектор, кожним елементом якого є середнє значення вектора."
   ]
  },
  {
   "cell_type": "markdown",
   "metadata": {
    "slideshow": {
     "slide_type": "slide"
    }
   },
   "source": [
    "3. Написати функцію, яка приймає на вхід довільну кількість матриць, перевіряє, чи можна їх перемножити, і якщо можна, то повертає розмірність результату (можна скористатися циклом). "
   ]
  },
  {
   "cell_type": "code",
   "execution_count": null,
   "metadata": {},
   "outputs": [],
   "source": [
    "def matrix_mult(*args):\n",
    "    args[0].shape[1]"
   ]
  },
  {
   "cell_type": "markdown",
   "metadata": {
    "slideshow": {
     "slide_type": "slide"
    }
   },
   "source": [
    "4.Обчислити вираз:"
   ]
  },
  {
   "cell_type": "markdown",
   "metadata": {
    "slideshow": {
     "slide_type": "fragment"
    }
   },
   "source": [
    "$$\\sum_{i=1}^n(x_{i} - avg(x))^{2}$$"
   ]
  },
  {
   "cell_type": "markdown",
   "metadata": {
    "slideshow": {
     "slide_type": "slide"
    }
   },
   "source": [
    "5. Вивести матрицю, яка при множенні на вектор зліва (Мх) приводить його до форми відхилення від середнього значення. Тобто, кожним елементом вектора-результату буде відповідний елемент вхідного вектора мінус середнє значення. Матриця М не повинна залежати від вхідного вектора x, а лише від його довжини. Іншими словами, для створення такої матриці має бути достатньо лише знання скільки в них елементів."
   ]
  },
  {
   "cell_type": "markdown",
   "metadata": {
    "slideshow": {
     "slide_type": "slide"
    }
   },
   "source": [
    "6. Розв'язати систему рівнянь (можна скористатися функцією кореня):"
   ]
  },
  {
   "cell_type": "markdown",
   "metadata": {
    "slideshow": {
     "slide_type": "fragment"
    }
   },
   "source": [
    "$$\n",
    "47a^{2} + 71b - 2c = 3\\\\\\\n",
    "11b - 8c = 3\\\\\\\n",
    "a^{2} + b + c = 24\\\\\\\n",
    "$$"
   ]
  }
 ],
 "metadata": {
  "celltoolbar": "Slideshow",
  "kernelspec": {
   "display_name": "Python 3.10.8 64-bit",
   "language": "python",
   "name": "python3"
  },
  "language_info": {
   "codemirror_mode": {
    "name": "ipython",
    "version": 3
   },
   "file_extension": ".py",
   "mimetype": "text/x-python",
   "name": "python",
   "nbconvert_exporter": "python",
   "pygments_lexer": "ipython3",
   "version": "3.10.8"
  },
  "toc": {
   "base_numbering": 1,
   "nav_menu": {},
   "number_sections": true,
   "sideBar": true,
   "skip_h1_title": false,
   "title_cell": "Table of Contents",
   "title_sidebar": "Contents",
   "toc_cell": false,
   "toc_position": {},
   "toc_section_display": true,
   "toc_window_display": true
  },
  "varInspector": {
   "cols": {
    "lenName": 16,
    "lenType": 16,
    "lenVar": 40
   },
   "kernels_config": {
    "python": {
     "delete_cmd_postfix": "",
     "delete_cmd_prefix": "del ",
     "library": "var_list.py",
     "varRefreshCmd": "print(var_dic_list())"
    },
    "r": {
     "delete_cmd_postfix": ") ",
     "delete_cmd_prefix": "rm(",
     "library": "var_list.r",
     "varRefreshCmd": "cat(var_dic_list()) "
    }
   },
   "types_to_exclude": [
    "module",
    "function",
    "builtin_function_or_method",
    "instance",
    "_Feature"
   ],
   "window_display": false
  },
  "vscode": {
   "interpreter": {
    "hash": "b0fa6594d8f4cbf19f97940f81e996739fb7646882a419484c72d19e05852a7e"
   }
  }
 },
 "nbformat": 4,
 "nbformat_minor": 2
}
