{
 "cells": [
  {
   "cell_type": "markdown",
   "metadata": {
    "slideshow": {
     "slide_type": "slide"
    }
   },
   "source": [
    "&emsp;&emsp;**Генерація даних з різних розподілів та візуалізація**"
   ]
  },
  {
   "cell_type": "markdown",
   "metadata": {
    "slideshow": {
     "slide_type": "slide"
    }
   },
   "source": [
    "&emsp;&emsp;Більшість розподілів можна згенерувати за допомогою numpy.random: "
   ]
  },
  {
   "cell_type": "code",
   "execution_count": 1,
   "metadata": {},
   "outputs": [
    {
     "data": {
      "text/plain": [
       "0.2460294"
      ]
     },
     "execution_count": 1,
     "metadata": {},
     "output_type": "execute_result"
    }
   ],
   "source": [
    "import numpy as np\n",
    "\n",
    "n = 10\n",
    "p = 0.5\n",
    "k = 5\n",
    "\n",
    "x = np.random.binomial(n, p, 10000000)\n",
    "sum([1 for item in x if item == k]) / len(x)\n"
   ]
  },
  {
   "cell_type": "code",
   "execution_count": 2,
   "metadata": {},
   "outputs": [
    {
     "data": {
      "text/plain": [
       "0.13448"
      ]
     },
     "execution_count": 2,
     "metadata": {},
     "output_type": "execute_result"
    }
   ],
   "source": [
    "x = np.random.poisson(\n",
    "    lam=6, # значення параметра лямбда\n",
    "    size=100000 #кількість прикладів, які потрібно згенерувати\n",
    ")\n",
    "sum([1 for item in x if item == 4]) / len(x)"
   ]
  },
  {
   "cell_type": "code",
   "execution_count": 10,
   "metadata": {},
   "outputs": [
    {
     "data": {
      "text/plain": [
       "0.13385261753998337"
      ]
     },
     "execution_count": 10,
     "metadata": {},
     "output_type": "execute_result"
    }
   ],
   "source": [
    "6 ** 4 / 24 * np.exp(-6)"
   ]
  },
  {
   "cell_type": "code",
   "execution_count": 14,
   "metadata": {},
   "outputs": [
    {
     "data": {
      "text/plain": [
       "0.6856"
      ]
     },
     "execution_count": 14,
     "metadata": {},
     "output_type": "execute_result"
    }
   ],
   "source": [
    "x = np.random.normal(\n",
    "     loc=170, # Середнє значення величини\n",
    "     scale=10, # стандартне відхилення\n",
    "     size=10000 # кількість прикладів, які потрібно згенерувати\n",
    ")\n",
    "x\n",
    "sum([1 for item in x if 160 <= item <= 180]) / len(x)"
   ]
  },
  {
   "cell_type": "code",
   "execution_count": 15,
   "metadata": {
    "slideshow": {
     "slide_type": "fragment"
    }
   },
   "outputs": [],
   "source": [
    "import numpy as np\n",
    "from matplotlib import pyplot as plt # бібліотека для візуалізації в Python\n",
    "\n",
    "# нормально розподілена величина\n",
    "normal_variable = np.random.normal(\n",
    "     loc = 0, # Середнє значення величини\n",
    "     scale=1, # стандартне відхилення\n",
    "     size=10000 # кількість прикладів, які потрібно згенерувати\n",
    ")\n",
    "\n",
    "# біноміально розподілена величина\n",
    "binomial_variable = np.random.binomial(\n",
    "     n=10,\n",
    "     p=0.5,\n",
    "     size=10000 # кількість прикладів, які потрібно згенерувати\n",
    ")\n",
    "\n",
    "# величина, розподілена за законом Пуассона\n",
    "poisson_variable = np.random.poisson(\n",
    "     lam=4, # значення параметра лямбда\n",
    "     size=10000 #кількість прикладів, які потрібно згенерувати\n",
    ")\n",
    "\n",
    "# рівномірно розподілена величина на інтервалі від 10 до 20\n",
    "uniform_10_20 = np.random.uniform(low=10, high=20, size=10000)"
   ]
  },
  {
   "cell_type": "markdown",
   "metadata": {
    "slideshow": {
     "slide_type": "slide"
    }
   },
   "source": [
    "&emsp;&emsp;При генерації випадкових чисел, перезапускаючи програму будуть виходити щоразу інші значення. Для того, щоб значення були однаковими за різних запусків, необхідно зафіксувати випадковий стан:"
   ]
  },
  {
   "cell_type": "code",
   "execution_count": 22,
   "metadata": {},
   "outputs": [
    {
     "data": {
      "text/plain": [
       "array([ 0.47298583, -0.68142588,  0.2424395 , -1.70073563,  0.75314283,\n",
       "       -1.53472134,  0.00512708, -0.12022767, -0.80698188,  2.87181939])"
      ]
     },
     "execution_count": 22,
     "metadata": {},
     "output_type": "execute_result"
    }
   ],
   "source": [
    "np.random.seed(12)\n",
    "np.random.normal(\n",
    "     loc = 0, # Середнє значення величини\n",
    "     scale=1, # стандартне відхилення\n",
    "     size=10 # кількість прикладів, які потрібно згенерувати\n",
    ")"
   ]
  },
  {
   "cell_type": "code",
   "execution_count": 23,
   "metadata": {
    "slideshow": {
     "slide_type": "fragment"
    }
   },
   "outputs": [],
   "source": [
    "np.random.seed(42)  # встановлюємо випадковий стан, що дорівнює довільному числу"
   ]
  },
  {
   "cell_type": "markdown",
   "metadata": {
    "slideshow": {
     "slide_type": "slide"
    }
   },
   "source": [
    "&emsp;&emsp;Для візуалізації розподілу практично користуються гістограмою:"
   ]
  },
  {
   "cell_type": "code",
   "execution_count": 32,
   "metadata": {
    "slideshow": {
     "slide_type": "fragment"
    }
   },
   "outputs": [],
   "source": [
    "from matplotlib import pyplot as plt\n",
    "def display_density(random_variable, var_name='', bins=None):\n",
    "    \n",
    "    # функція для побудови гістограми\n",
    "    plt.hist(\n",
    "        x=random_variable, # змінна, гістограму якої потрібно побудувати\n",
    "        density=True, # параметр, який визначає, чи потрібно уявити гістограму як щільність розподілу\n",
    "        bins=bins # у стовпців у гістограмі\n",
    "    )\n",
    "    \n",
    "    plt.xlabel('Random variable') # помістити на графік назву горизонтальної осі\n",
    "    plt.ylabel('pdf') # помістити на графік назву вертикальної осі\n",
    "    plt.title(f'{var_name} density plot') # назва всього графіка\n",
    "    \n",
    "    plt.show() # виклик функції, яка виведе отриманий графік на екран"
   ]
  },
  {
   "cell_type": "code",
   "execution_count": 33,
   "metadata": {
    "slideshow": {
     "slide_type": "slide"
    }
   },
   "outputs": [
    {
     "data": {
      "image/png": "[encoded data removed]",
      "text/plain": [
       "<Figure size 432x288 with 1 Axes>"
      ]
     },
     "metadata": {
      "needs_background": "light"
     },
     "output_type": "display_data"
    }
   ],
   "source": [
    "display_density(normal_variable, var_name='Normal variable', bins=50)"
   ]
  },
  {
   "cell_type": "code",
   "execution_count": 37,
   "metadata": {},
   "outputs": [
    {
     "data": {
      "image/png": "[encoded data removed]",
      "text/plain": [
       "<Figure size 432x288 with 1 Axes>"
      ]
     },
     "metadata": {
      "needs_background": "light"
     },
     "output_type": "display_data"
    }
   ],
   "source": [
    "display_density(binomial_variable, var_name='Binomial variable', bins=10)"
   ]
  },
  {
   "cell_type": "code",
   "execution_count": 40,
   "metadata": {},
   "outputs": [
    {
     "data": {
      "image/png": "[encoded data removed]",
      "text/plain": [
       "<Figure size 432x288 with 1 Axes>"
      ]
     },
     "metadata": {
      "needs_background": "light"
     },
     "output_type": "display_data"
    }
   ],
   "source": [
    "display_density(poisson_variable, var_name='Poisson variable', bins=70)"
   ]
  },
  {
   "cell_type": "code",
   "execution_count": 41,
   "metadata": {
    "slideshow": {
     "slide_type": "slide"
    }
   },
   "outputs": [
    {
     "data": {
      "image/png": "[encoded data removed]",
      "text/plain": [
       "<Figure size 432x288 with 1 Axes>"
      ]
     },
     "metadata": {
      "needs_background": "light"
     },
     "output_type": "display_data"
    }
   ],
   "source": [
    "display_density(uniform_10_20, var_name='Uniform variable')"
   ]
  },
  {
   "cell_type": "markdown",
   "metadata": {
    "slideshow": {
     "slide_type": "slide"
    }
   },
   "source": [
    "&emsp;&emsp;Для генерації чисел із довільного розподілу зручно користуватися функцією створення вибірки.  \n",
    "&emsp;&emsp;Приклад: зробити вибірку з розподілу, в якому випадкова величина набуває значення 1 c ймовірністю 0.5, 2 з ймовірністю 0.3 та 3 з ймовірністю 0.2:"
   ]
  },
  {
   "cell_type": "code",
   "execution_count": 44,
   "metadata": {
    "slideshow": {
     "slide_type": "fragment"
    }
   },
   "outputs": [
    {
     "name": "stdout",
     "output_type": "stream",
     "text": [
      "{1: 484, 2: 312, 3: 204}\n"
     ]
    }
   ],
   "source": [
    "custom_sample = np.random.choice(\n",
    "    a=[1, 2, 3], # область значень випадкової величини\n",
    "    p=[0.5, 0.3, 0.2], # розподіл ймовірностей\n",
    "    size=1000, # у прикладів, які потрібно згенерувати\n",
    "    replace=True # чи повертати приклад після вибору назад, щоб його можна було ще раз вибрати в майбутньому\n",
    ")\n",
    "\n",
    "unique_values, counts = np.unique(custom_sample, return_counts=True)\n",
    "print(dict(zip(unique_values, counts)))"
   ]
  },
  {
   "cell_type": "code",
   "execution_count": 43,
   "metadata": {},
   "outputs": [
    {
     "data": {
      "text/plain": [
       "array([1, 3, 2, 2, 1, 1, 1, 3, 2, 2, 1, 3, 3, 1, 1, 1, 1, 2, 1, 1, 2, 1,\n",
       "       1, 1, 1, 2, 1, 2, 2, 1, 2, 1, 1, 3, 3, 3, 1, 1, 2, 1, 1, 1, 1, 3,\n",
       "       1, 2, 1, 2, 2, 1, 3, 2, 3, 3, 2, 3, 1, 1, 1, 1, 1, 1, 3, 1, 1, 2,\n",
       "       1, 3, 1, 3, 2, 1, 1, 3, 2, 2, 2, 1, 1, 1, 3, 2, 1, 1, 1, 1, 2, 2,\n",
       "       3, 1, 1, 2, 2, 2, 2, 1, 2, 1, 1, 1, 1, 2, 1, 2, 3, 1, 1, 2, 1, 1,\n",
       "       1, 1, 3, 3, 2, 3, 3, 1, 3, 2, 3, 3, 1, 1, 1, 1, 3, 3, 1, 2, 1, 1,\n",
       "       1, 1, 3, 1, 2, 2, 1, 3, 3, 1, 1, 1, 1, 1, 2, 2, 1, 1, 3, 1, 1, 1,\n",
       "       3, 1, 2, 2, 1, 2, 1, 2, 2, 2, 1, 3, 1, 1, 1, 2, 2, 1, 2, 1, 2, 1,\n",
       "       2, 1, 3, 1, 1, 1, 3, 3, 1, 2, 3, 2, 2, 1, 1, 3, 3, 2, 1, 1, 2, 3,\n",
       "       3, 2, 2, 1, 1, 3, 2, 1, 1, 2, 1, 1, 2, 2, 2, 1, 2, 1, 1, 2, 2, 3,\n",
       "       2, 2, 1, 1, 1, 1, 3, 1, 3, 2, 2, 2, 2, 1, 1, 2, 1, 1, 2, 1, 3, 3,\n",
       "       3, 1, 1, 3, 1, 3, 3, 3, 1, 1, 3, 1, 1, 2, 3, 2, 2, 1, 2, 3, 1, 2,\n",
       "       3, 2, 2, 2, 1, 1, 3, 3, 3, 3, 2, 2, 2, 2, 2, 2, 3, 1, 1, 1, 2, 1,\n",
       "       1, 2, 1, 2, 1, 1, 3, 1, 1, 2, 2, 1, 2, 1, 1, 2, 2, 2, 2, 3, 2, 1,\n",
       "       2, 1, 1, 1, 1, 3, 3, 2, 1, 1, 1, 1, 2, 2, 2, 1, 3, 2, 2, 2, 1, 1,\n",
       "       1, 2, 1, 1, 1, 1, 3, 2, 1, 1, 1, 1, 1, 1, 1, 2, 2, 1, 1, 2, 2, 3,\n",
       "       2, 1, 1, 2, 1, 2, 3, 2, 1, 2, 1, 2, 3, 1, 3, 3, 1, 1, 1, 1, 1, 2,\n",
       "       1, 1, 3, 1, 3, 1, 1, 2, 2, 3, 2, 3, 1, 1, 2, 3, 3, 1, 1, 2, 1, 3,\n",
       "       3, 1, 2, 2, 1, 3, 2, 3, 1, 3, 1, 1, 3, 1, 1, 3, 3, 2, 2, 1, 1, 1,\n",
       "       2, 2, 2, 2, 1, 1, 1, 2, 1, 3, 1, 1, 1, 2, 2, 1, 1, 2, 1, 3, 2, 1,\n",
       "       1, 3, 1, 1, 3, 3, 3, 2, 1, 1, 2, 2, 1, 3, 1, 1, 1, 1, 1, 1, 1, 2,\n",
       "       2, 2, 3, 1, 1, 3, 1, 3, 1, 3, 1, 3, 2, 3, 1, 2, 3, 2, 2, 2, 1, 2,\n",
       "       2, 3, 1, 1, 3, 3, 1, 2, 1, 1, 1, 1, 2, 1, 3, 3, 2, 2, 1, 3, 2, 1,\n",
       "       3, 3, 3, 2, 2, 1, 3, 3, 1, 1, 1, 3, 3, 1, 2, 1, 3, 3, 3, 1, 1, 1,\n",
       "       1, 3, 3, 3, 3, 2, 2, 3, 3, 1, 1, 1, 3, 2, 1, 2, 2, 1, 1, 2, 2, 2,\n",
       "       2, 3, 2, 2, 3, 1, 1, 1, 2, 2, 2, 1, 1, 1, 1, 2, 1, 1, 3, 1, 2, 2,\n",
       "       1, 2, 3, 3, 1, 3, 1, 1, 1, 3, 1, 1, 2, 1, 1, 1, 1, 1, 1, 2, 1, 1,\n",
       "       3, 1, 2, 1, 1, 1, 1, 1, 1, 1, 1, 1, 1, 1, 2, 2, 1, 2, 2, 1, 3, 3,\n",
       "       1, 1, 3, 2, 1, 1, 1, 1, 2, 1, 1, 2, 1, 1, 2, 3, 2, 2, 1, 1, 2, 1,\n",
       "       1, 1, 1, 1, 1, 1, 1, 3, 2, 2, 2, 1, 1, 2, 2, 2, 1, 1, 1, 1, 2, 2,\n",
       "       1, 3, 2, 1, 1, 1, 1, 1, 1, 1, 1, 3, 1, 2, 1, 3, 1, 1, 3, 3, 3, 1,\n",
       "       1, 2, 3, 2, 2, 1, 2, 1, 1, 1, 2, 1, 1, 2, 1, 2, 1, 1, 2, 1, 1, 1,\n",
       "       1, 3, 1, 3, 1, 2, 2, 2, 1, 1, 1, 3, 3, 3, 1, 2, 3, 1, 1, 2, 2, 3,\n",
       "       1, 2, 1, 1, 1, 3, 2, 2, 1, 3, 1, 3, 1, 1, 1, 1, 2, 2, 1, 3, 1, 2,\n",
       "       3, 2, 1, 3, 2, 1, 1, 2, 2, 2, 3, 2, 1, 1, 1, 2, 1, 2, 2, 3, 1, 3,\n",
       "       1, 3, 1, 1, 2, 1, 1, 2, 2, 2, 2, 2, 1, 1, 1, 3, 2, 1, 1, 3, 1, 2,\n",
       "       2, 2, 1, 3, 3, 2, 2, 3, 2, 1, 2, 2, 1, 2, 3, 3, 1, 1, 3, 3, 1, 3,\n",
       "       3, 2, 2, 1, 1, 1, 3, 1, 1, 1, 2, 3, 1, 1, 2, 1, 1, 1, 1, 1, 1, 1,\n",
       "       3, 1, 2, 2, 1, 2, 1, 3, 1, 1, 1, 3, 2, 2, 1, 2, 1, 3, 1, 1, 1, 1,\n",
       "       2, 1, 2, 1, 2, 1, 1, 2, 1, 1, 3, 3, 1, 1, 2, 1, 1, 1, 2, 2, 1, 1,\n",
       "       1, 2, 1, 1, 2, 1, 2, 1, 1, 1, 2, 3, 3, 1, 2, 1, 1, 3, 1, 1, 1, 1,\n",
       "       1, 2, 1, 3, 3, 1, 1, 1, 2, 1, 2, 1, 2, 1, 1, 3, 2, 1, 3, 1, 3, 2,\n",
       "       1, 1, 1, 2, 2, 1, 1, 3, 3, 2, 1, 1, 1, 3, 1, 2, 1, 2, 2, 3, 1, 1,\n",
       "       1, 3, 3, 2, 2, 2, 1, 3, 1, 1, 2, 1, 1, 2, 1, 2, 1, 1, 1, 1, 2, 1,\n",
       "       2, 1, 2, 3, 2, 1, 1, 1, 2, 1, 1, 2, 1, 2, 1, 1, 2, 1, 2, 1, 1, 3,\n",
       "       2, 2, 1, 2, 1, 1, 3, 1, 3, 1])"
      ]
     },
     "execution_count": 43,
     "metadata": {},
     "output_type": "execute_result"
    }
   ],
   "source": [
    "custom_sample"
   ]
  },
  {
   "cell_type": "markdown",
   "metadata": {
    "slideshow": {
     "slide_type": "slide"
    }
   },
   "source": [
    "&emsp;&emsp;Найчастіше функцією \"choice\" користуються, щоб зробити вибірку з вже наявної змінної:"
   ]
  },
  {
   "cell_type": "code",
   "execution_count": 45,
   "metadata": {
    "slideshow": {
     "slide_type": "fragment"
    }
   },
   "outputs": [
    {
     "name": "stdout",
     "output_type": "stream",
     "text": [
      "[-1.57641653  0.20532648  0.88332197  0.43053665  1.13104346 -0.58506215\n",
      "  1.06314381  0.79557164  0.4181949  -1.71885606]\n"
     ]
    }
   ],
   "source": [
    "# створимо вибірку розміру 10 із неповторних значень \"normal_varialbe\"\n",
    "normal_sample = np.random.choice(normal_variable, size=10, replace=False)\n",
    "print(normal_sample)"
   ]
  },
  {
   "cell_type": "markdown",
   "metadata": {
    "slideshow": {
     "slide_type": "slide"
    }
   },
   "source": [
    "&emsp;&emsp;**Характеристики розподілу**"
   ]
  },
  {
   "cell_type": "code",
   "execution_count": 46,
   "metadata": {
    "slideshow": {
     "slide_type": "slide"
    }
   },
   "outputs": [
    {
     "name": "stderr",
     "output_type": "stream",
     "text": [
      "D:\\Anaconda3\\lib\\site-packages\\scipy\\__init__.py:146: UserWarning: A NumPy version >=1.16.5 and <1.23.0 is required for this version of SciPy (detected version 1.23.4\n",
      "  warnings.warn(f\"A NumPy version >={np_minversion} and <{np_maxversion}\"\n"
     ]
    },
    {
     "name": "stdout",
     "output_type": "stream",
     "text": [
      "середнє значення:  4.0166\n",
      "стандартне відхилення: 1.9897046112425834\n",
      "медіана: 4.0\n",
      "мінімальне значення:  0\n",
      "максимальне значення: 12\n",
      "ексцес:  0.06345876991075583\n",
      "асиметрія:  0.4527612216920886\n",
      "мода:  ModeResult(mode=array([4]), count=array([1986]))\n"
     ]
    }
   ],
   "source": [
    "from scipy import stats\n",
    "\n",
    "print('середнє значення: ', np.mean(poisson_variable))\n",
    "print('стандартне відхилення:', np.std(poisson_variable))\n",
    "print('медіана:', np.median(poisson_variable))\n",
    "print('мінімальне значення: ', np.min(poisson_variable))\n",
    "print('максимальне значення:', np.max(poisson_variable))\n",
    "\n",
    "print('ексцес: ', stats.kurtosis(poisson_variable))\n",
    "print('асиметрія: ', stats.skew(poisson_variable))\n",
    "print('мода: ', stats.mode(poisson_variable))"
   ]
  },
  {
   "cell_type": "code",
   "execution_count": 47,
   "metadata": {
    "slideshow": {
     "slide_type": "slide"
    }
   },
   "outputs": [
    {
     "data": {
      "image/png": "[encoded data removed]",
      "text/plain": [
       "<Figure size 432x288 with 1 Axes>"
      ]
     },
     "metadata": {
      "needs_background": "light"
     },
     "output_type": "display_data"
    }
   ],
   "source": [
    "display_density(poisson_variable, var_name='Poisson variable', bins=np.max(poisson_variable))"
   ]
  },
  {
   "cell_type": "markdown",
   "metadata": {
    "slideshow": {
     "slide_type": "slide"
    }
   },
   "source": [
    "&emsp;&emsp;**Зв'язок між двома величинами**"
   ]
  },
  {
   "cell_type": "markdown",
   "metadata": {
    "slideshow": {
     "slide_type": "slide"
    }
   },
   "source": [
    "&emsp;&emsp;При обчисленні коварацій/кореляцій зазвичай їх групують у коварійні/кореляційні матриці.  \n",
    "&emsp;&emsp;У разі коваріації на виході буде симетрична матриця. На головній діагоналі такої матриці (елементи з індесами [i, i]) будуть дисперсії відповідних змінних, а на позиціях [i, j] – коваріації змінної i зі змінною j: "
   ]
  },
  {
   "cell_type": "code",
   "execution_count": 48,
   "metadata": {
    "slideshow": {
     "slide_type": "fragment"
    }
   },
   "outputs": [
    {
     "data": {
      "text/plain": [
       "array([[ 2.55520368, -0.05088557],\n",
       "       [-0.05088557,  3.95932037]])"
      ]
     },
     "execution_count": 48,
     "metadata": {},
     "output_type": "execute_result"
    }
   ],
   "source": [
    "np.cov(binomial_variable, poisson_variable)"
   ]
  },
  {
   "cell_type": "code",
   "execution_count": 50,
   "metadata": {},
   "outputs": [
    {
     "data": {
      "text/plain": [
       "2.55494816"
      ]
     },
     "execution_count": 50,
     "metadata": {},
     "output_type": "execute_result"
    }
   ],
   "source": [
    "np.std(binomial_variable) ** 2"
   ]
  },
  {
   "cell_type": "code",
   "execution_count": 49,
   "metadata": {},
   "outputs": [
    {
     "data": {
      "text/plain": [
       "<matplotlib.collections.PathCollection at 0x17e607fbf70>"
      ]
     },
     "execution_count": 49,
     "metadata": {},
     "output_type": "execute_result"
    },
    {
     "data": {
      "image/png": "[encoded data removed]",
      "text/plain": [
       "<Figure size 432x288 with 1 Axes>"
      ]
     },
     "metadata": {
      "needs_background": "light"
     },
     "output_type": "display_data"
    }
   ],
   "source": [
    "plt.scatter(binomial_variable, poisson_variable)"
   ]
  },
  {
   "cell_type": "markdown",
   "metadata": {
    "slideshow": {
     "slide_type": "slide"
    }
   },
   "source": [
    "&emsp;&emsp;Для кореляційної матриці все так само, але на головній діагоналі завжди буде число 1, а на позиціях [i, j] - коефіцієнти кореляції змінної i і j:"
   ]
  },
  {
   "cell_type": "code",
   "execution_count": 51,
   "metadata": {
    "slideshow": {
     "slide_type": "fragment"
    }
   },
   "outputs": [
    {
     "data": {
      "text/plain": [
       "array([[ 1.        , -0.01599822],\n",
       "       [-0.01599822,  1.        ]])"
      ]
     },
     "execution_count": 51,
     "metadata": {},
     "output_type": "execute_result"
    }
   ],
   "source": [
    "np.corrcoef(binomial_variable, poisson_variable)"
   ]
  },
  {
   "cell_type": "markdown",
   "metadata": {
    "slideshow": {
     "slide_type": "fragment"
    }
   },
   "source": [
    "&emsp;&emsp;З отриманих вище матриць можна легко зробити висновок, що змінні \"binomial_variable\" та \"poisson_variable\" лінійно незалежні."
   ]
  },
  {
   "cell_type": "markdown",
   "metadata": {
    "slideshow": {
     "slide_type": "slide"
    }
   },
   "source": [
    "&emsp;&emsp;**Вправи** (розв'язати завдання на папері та надіслати фото рішення)"
   ]
  },
  {
   "cell_type": "markdown",
   "metadata": {
    "slideshow": {
     "slide_type": "slide"
    }
   },
   "source": [
    "1. Для вибірки $x$ де $x$ - нормально розподілена величина\n",
    "\n",
    "$$f(x) = \\frac{1}{\\sqrt{2\\pi}\\sigma}e^{-\\frac{(x - \\mu)^{2}}{2\\sigma^{2}}}$$\n",
    "\n",
    "&emsp;&emsp;знайти оптимальне значення $\\mu$ i $\\sigma$"
   ]
  },
  {
   "cell_type": "markdown",
   "metadata": {},
   "source": [
    "$x_1, x_2, ..., x_n$\n",
    "$$L(\\mu, \\sigma) = \\ln\\big(\\sum\\limits_{i=1}^{n} f(x_i)\\big) =\\ln\\big(\\sum\\limits_{i=1}^{n} \\frac{1}{\\sqrt{2\\pi}\\sigma}e^{-\\frac{(x_i - \\mu)^{2}}{2\\sigma^{2}}}\\big) $$"
   ]
  },
  {
   "cell_type": "markdown",
   "metadata": {
    "slideshow": {
     "slide_type": "slide"
    }
   },
   "source": [
    "2. Дано випадкову величину $y$, яка залежить від іншої випадкової величини $x$. Ймовірність $y$ визначається як\n",
    "\n",
    "$$P(y_{i}) = \\frac{(ax_{i})^{y_{i}}}{y_{i}!}e^{-ax_{i}}$$\n",
    "\n",
    "&emsp;&emsp;знайти оптимальне значення параметра $a$"
   ]
  },
  {
   "cell_type": "code",
   "execution_count": null,
   "metadata": {},
   "outputs": [],
   "source": []
  }
 ],
 "metadata": {
  "celltoolbar": "Slideshow",
  "kernelspec": {
   "display_name": "Python 3.10.8 64-bit",
   "language": "python",
   "name": "python3"
  },
  "language_info": {
   "codemirror_mode": {
    "name": "ipython",
    "version": 3
   },
   "file_extension": ".py",
   "mimetype": "text/x-python",
   "name": "python",
   "nbconvert_exporter": "python",
   "pygments_lexer": "ipython3",
   "version": "3.10.8"
  },
  "varInspector": {
   "cols": {
    "lenName": 16,
    "lenType": 16,
    "lenVar": 40
   },
   "kernels_config": {
    "python": {
     "delete_cmd_postfix": "",
     "delete_cmd_prefix": "del ",
     "library": "var_list.py",
     "varRefreshCmd": "print(var_dic_list())"
    },
    "r": {
     "delete_cmd_postfix": ") ",
     "delete_cmd_prefix": "rm(",
     "library": "var_list.r",
     "varRefreshCmd": "cat(var_dic_list()) "
    }
   },
   "types_to_exclude": [
    "module",
    "function",
    "builtin_function_or_method",
    "instance",
    "_Feature"
   ],
   "window_display": false
  },
  "vscode": {
   "interpreter": {
    "hash": "b0fa6594d8f4cbf19f97940f81e996739fb7646882a419484c72d19e05852a7e"
   }
  }
 },
 "nbformat": 4,
 "nbformat_minor": 2
}
