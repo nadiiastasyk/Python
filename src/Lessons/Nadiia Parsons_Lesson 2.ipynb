{
 "cells": [
  {
   "cell_type": "code",
   "execution_count": 2,
   "metadata": {},
   "outputs": [],
   "source": [
    "x,y,z=3,4,5"
   ]
  },
  {
   "cell_type": "code",
   "execution_count": 3,
   "id": "b284af05",
   "metadata": {},
   "outputs": [
    {
     "name": "stdout",
     "output_type": "stream",
     "text": [
      "True\n"
     ]
    }
   ],
   "source": [
    "if (x < (y+z)) and (y < (y+x)) and (z < (y+x)):\n",
    "    print(True)"
   ]
  },
  {
   "cell_type": "code",
   "execution_count": 21,
   "id": "b8434b07",
   "metadata": {},
   "outputs": [
    {
     "name": "stdout",
     "output_type": "stream",
     "text": [
      "True\n"
     ]
    }
   ],
   "source": [
    "x = 17\n",
    "for i in range(2, x):\n",
    "  if (x % i == 0):\n",
    "   print(False)\n",
    "   break\n",
    "else:\n",
    "   print(True)"
   ]
  },
  {
   "cell_type": "code",
   "execution_count": 11,
   "id": "3eab191c",
   "metadata": {},
   "outputs": [
    {
     "name": "stdout",
     "output_type": "stream",
     "text": [
      "1666200864.634687\n"
     ]
    },
    {
     "data": {
      "text/plain": [
       "3.141592653589793"
      ]
     },
     "execution_count": 11,
     "metadata": {},
     "output_type": "execute_result"
    }
   ],
   "source": [
    "import numpy as np\n",
    "from time import time\n",
    "\n",
    "\n",
    "np.random.random(3)\n",
    "\n",
    "tick = time()\n",
    "print(tick)\n",
    "\n",
    "sum(1/np.arange(1,101)**2)\n",
    "\n",
    "np.pi"
   ]
  },
  {
   "cell_type": "code",
   "execution_count": 12,
   "id": "8b67a0f5",
   "metadata": {},
   "outputs": [],
   "source": [
    "arr = np.array([1,2,3])"
   ]
  },
  {
   "cell_type": "code",
   "execution_count": 13,
   "id": "899ef54c",
   "metadata": {},
   "outputs": [
    {
     "name": "stdout",
     "output_type": "stream",
     "text": [
      "(3,)\n"
     ]
    }
   ],
   "source": [
    "print(arr.shape)"
   ]
  },
  {
   "cell_type": "code",
   "execution_count": 15,
   "id": "03dc882b",
   "metadata": {},
   "outputs": [
    {
     "name": "stdout",
     "output_type": "stream",
     "text": [
      "[[1 2 3]\n",
      " [4 5 6]]\n",
      "(2, 3)\n"
     ]
    }
   ],
   "source": [
    "arr2d = np.array([\n",
    "    [1,2,3],\n",
    "    [4,5,6]\n",
    "])\n",
    "\n",
    "print(arr2d)\n",
    "print(arr2d.shape)"
   ]
  },
  {
   "cell_type": "code",
   "execution_count": 19,
   "id": "996b5aca",
   "metadata": {},
   "outputs": [
    {
     "name": "stdout",
     "output_type": "stream",
     "text": [
      "(2, 3, 4, 5)\n",
      "[[[[-0.00000000e+000 -0.00000000e+000  3.21142670e-322  0.00000000e+000\n",
      "     0.00000000e+000]\n",
      "   [ 0.00000000e+000  0.00000000e+000  0.00000000e+000  0.00000000e+000\n",
      "     0.00000000e+000]\n",
      "   [ 0.00000000e+000  0.00000000e+000  0.00000000e+000  2.26062991e-314\n",
      "     2.26062991e-314]\n",
      "   [ 0.00000000e+000  0.00000000e+000  0.00000000e+000  0.00000000e+000\n",
      "     0.00000000e+000]]\n",
      "\n",
      "  [[ 0.00000000e+000  0.00000000e+000  0.00000000e+000  0.00000000e+000\n",
      "     0.00000000e+000]\n",
      "   [ 0.00000000e+000  0.00000000e+000  0.00000000e+000  0.00000000e+000\n",
      "     0.00000000e+000]\n",
      "   [ 0.00000000e+000  0.00000000e+000  0.00000000e+000  0.00000000e+000\n",
      "     0.00000000e+000]\n",
      "   [ 0.00000000e+000  0.00000000e+000  0.00000000e+000  0.00000000e+000\n",
      "     0.00000000e+000]]\n",
      "\n",
      "  [[ 0.00000000e+000  0.00000000e+000  0.00000000e+000  0.00000000e+000\n",
      "     0.00000000e+000]\n",
      "   [ 0.00000000e+000  0.00000000e+000  0.00000000e+000  0.00000000e+000\n",
      "     0.00000000e+000]\n",
      "   [ 0.00000000e+000  0.00000000e+000  0.00000000e+000  0.00000000e+000\n",
      "     0.00000000e+000]\n",
      "   [ 0.00000000e+000  0.00000000e+000  0.00000000e+000  0.00000000e+000\n",
      "     0.00000000e+000]]]\n",
      "\n",
      "\n",
      " [[[ 0.00000000e+000  0.00000000e+000  0.00000000e+000  0.00000000e+000\n",
      "     0.00000000e+000]\n",
      "   [ 0.00000000e+000  0.00000000e+000  0.00000000e+000  0.00000000e+000\n",
      "     0.00000000e+000]\n",
      "   [ 0.00000000e+000  0.00000000e+000  0.00000000e+000  0.00000000e+000\n",
      "     0.00000000e+000]\n",
      "   [ 0.00000000e+000  0.00000000e+000  0.00000000e+000  0.00000000e+000\n",
      "     0.00000000e+000]]\n",
      "\n",
      "  [[ 0.00000000e+000  0.00000000e+000  0.00000000e+000  0.00000000e+000\n",
      "     0.00000000e+000]\n",
      "   [ 0.00000000e+000  0.00000000e+000  0.00000000e+000  0.00000000e+000\n",
      "     0.00000000e+000]\n",
      "   [ 0.00000000e+000  0.00000000e+000  0.00000000e+000  0.00000000e+000\n",
      "     0.00000000e+000]\n",
      "   [ 0.00000000e+000              nan  2.12199579e-314  1.33397724e-322\n",
      "     0.00000000e+000]]\n",
      "\n",
      "  [[-0.00000000e+000  2.68156177e+154  2.26038401e-314  2.16288706e-314\n",
      "     2.26040423e-314]\n",
      "   [ 2.16288709e-314  2.26040164e-314  2.16288706e-314 -0.00000000e+000\n",
      "    -0.00000000e+000]\n",
      "   [ 2.26038401e-314  2.16288706e-314  2.26040303e-314  2.16288709e-314\n",
      "     2.26040382e-314]\n",
      "   [ 2.16288706e-314  2.26040028e-314  2.16288709e-314  2.26040544e-314\n",
      "     2.16223676e-314]]]]\n",
      "[[0. 0. 0. 0. 0.]\n",
      " [0. 0. 0. 0. 0.]\n",
      " [0. 0. 0. 0. 0.]\n",
      " [0. 0. 0. 0. 0.]]\n"
     ]
    }
   ],
   "source": [
    "arr4d = np.empty((2,3,4,5))\n",
    "print(arr4d.shape)\n",
    "print(arr4d)\n",
    "print(arr4d[0,1])"
   ]
  },
  {
   "cell_type": "code",
   "execution_count": 22,
   "id": "95027a28",
   "metadata": {},
   "outputs": [
    {
     "name": "stdout",
     "output_type": "stream",
     "text": [
      "середнє значення 2.0\n",
      "2\n",
      "3\n"
     ]
    }
   ],
   "source": [
    "print(\"середнє значення\", np.mean(arr))\n",
    "print(np.argmax(arr))\n",
    "print(np.prod(3))"
   ]
  },
  {
   "cell_type": "code",
   "execution_count": 31,
   "id": "8ba7a787",
   "metadata": {},
   "outputs": [
    {
     "name": "stdout",
     "output_type": "stream",
     "text": [
      "[[4 2]\n",
      " [0 3]\n",
      " [4 1]]\n",
      "[8 6]\n"
     ]
    }
   ],
   "source": [
    "arrNew = np.random.randint(0,5, (3,2))\n",
    "print(arrNew)\n",
    "sum = np.sum(arrNew, axis=0)\n",
    "print(sum)"
   ]
  },
  {
   "cell_type": "code",
   "execution_count": 32,
   "id": "04278d73",
   "metadata": {},
   "outputs": [
    {
     "data": {
      "text/plain": [
       "array([[4, 2, 0],\n",
       "       [3, 4, 1]])"
      ]
     },
     "execution_count": 32,
     "metadata": {},
     "output_type": "execute_result"
    }
   ],
   "source": [
    "arrNew.reshape(2,3)"
   ]
  },
  {
   "cell_type": "code",
   "execution_count": 33,
   "id": "d6057bd3",
   "metadata": {},
   "outputs": [],
   "source": [
    "# стовпці axis = 0\n",
    "# рядки axis = 1"
   ]
  },
  {
   "cell_type": "code",
   "execution_count": 39,
   "id": "a017dcaf",
   "metadata": {},
   "outputs": [
    {
     "name": "stdout",
     "output_type": "stream",
     "text": [
      "[1 2]\n",
      "[2 3 4]\n"
     ]
    }
   ],
   "source": [
    "arr5 = np.array([1,2,3,4])\n",
    "mask = np.array([True,True, False,False])\n",
    "mask2 = (arr5 > 1) & (arr5 < 10)\n",
    "print(arr5[mask])\n",
    "print(arr5[mask2])"
   ]
  },
  {
   "cell_type": "code",
   "execution_count": null,
   "id": "dd8ca10a",
   "metadata": {},
   "outputs": [],
   "source": []
  }
 ],
 "metadata": {
  "kernelspec": {
   "display_name": "Python 3.10.6 64-bit",
   "language": "python",
   "name": "python3"
  },
  "language_info": {
   "codemirror_mode": {
    "name": "ipython",
    "version": 3
   },
   "file_extension": ".py",
   "mimetype": "text/x-python",
   "name": "python",
   "nbconvert_exporter": "python",
   "pygments_lexer": "ipython3",
   "version": "3.10.8"
  },
  "vscode": {
   "interpreter": {
    "hash": "b0fa6594d8f4cbf19f97940f81e996739fb7646882a419484c72d19e05852a7e"
   }
  }
 },
 "nbformat": 4,
 "nbformat_minor": 5
}
