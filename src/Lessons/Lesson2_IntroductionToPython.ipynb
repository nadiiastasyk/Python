{
 "cells": [
  {
   "cell_type": "markdown",
   "metadata": {
    "slideshow": {
     "slide_type": "slide"
    }
   },
   "source": [
    "&emsp;&emsp;**Структура програми**\n",
    "\n",
    "1. Програма містить модулі (modules) - підпрограми, що містяться в окремих файлах\n",
    "\n",
    "\n",
    "2. Модулі містять твердження (statements) – присвоєння змінних значень, визначення функцій та класів, логічні оператори, цикли тощо.\n",
    "\n",
    "\n",
    "3. Твердження містять вирази (expressions) - створення та зміна об'єктів."
   ]
  },
  {
   "cell_type": "markdown",
   "metadata": {
    "slideshow": {
     "slide_type": "slide"
    }
   },
   "source": [
    "&emsp;&emsp;**Умовний оператор**"
   ]
  },
  {
   "cell_type": "code",
   "execution_count": 7,
   "metadata": {},
   "outputs": [
    {
     "ename": "IndentationError",
     "evalue": "unexpected indent (694077603.py, line 4)",
     "output_type": "error",
     "traceback": [
      "\u001b[1;36m  Input \u001b[1;32mIn [7]\u001b[1;36m\u001b[0m\n\u001b[1;33m    z = 3\u001b[0m\n\u001b[1;37m    ^\u001b[0m\n\u001b[1;31mIndentationError\u001b[0m\u001b[1;31m:\u001b[0m unexpected indent\n"
     ]
    }
   ],
   "source": [
    "if 3 < 5:\n",
    "         x = 1\n",
    "         y = 2\n",
    "          z = 3"
   ]
  },
  {
   "cell_type": "markdown",
   "metadata": {
    "slideshow": {
     "slide_type": "slide"
    }
   },
   "source": [
    "Основний шаблон:\n",
    "\n",
    "\tif <test1>:\n",
    "\t\t<statement1>\n",
    "\telif <test2>:\n",
    "\t\t<statement2>\n",
    "\t…\n",
    "\telse:\n",
    "\t\t<statement3>\n",
    "\n",
    "Тернарний оператор:\n",
    "\n",
    "\tresult = <expression1> if <test> else <expression2>"
   ]
  },
  {
   "cell_type": "code",
   "execution_count": 8,
   "metadata": {
    "slideshow": {
     "slide_type": "slide"
    }
   },
   "outputs": [
    {
     "name": "stdout",
     "output_type": "stream",
     "text": [
      "What is your name?\n"
     ]
    }
   ],
   "source": [
    "name = 'Bill'\n",
    "\n",
    "if name == 'Joe':  # преревірка, чи мітить змінна імя Joe\n",
    "    print('Hi Joe!')\n",
    "elif name == 'Helen':  # перевірка, чи містить змінна імя Helen\n",
    "    print('Hi Helen')\n",
    "else:  # дія, яку потрібно виконати у випадку, якщо всі ппопередні тести хибні\n",
    "    print('What is your name?')"
   ]
  },
  {
   "cell_type": "markdown",
   "metadata": {
    "slideshow": {
     "slide_type": "slide"
    }
   },
   "source": [
    "&emsp;&emsp;Предикат - умовний вираз, значення якого визначає розгалуження, має повертати логічне значення True/False. При цьому результат не обов'язково має бути всередині логічного оператора.\n",
    "\n",
    "Приклад:"
   ]
  },
  {
   "cell_type": "code",
   "execution_count": 9,
   "metadata": {
    "slideshow": {
     "slide_type": "fragment"
    }
   },
   "outputs": [
    {
     "name": "stdout",
     "output_type": "stream",
     "text": [
      "значення предиката:  True\n",
      "Тест пройдено!\n"
     ]
    }
   ],
   "source": [
    "test = 5 < 10\n",
    "print('значення предиката: ', test)\n",
    "\n",
    "# використання предикату у логічному виразі\n",
    "if test:\n",
    "    print('Тест пройдено!')\n",
    "else:\n",
    "    print('Тест провалений!')"
   ]
  },
  {
   "cell_type": "markdown",
   "metadata": {
    "slideshow": {
     "slide_type": "slide"
    }
   },
   "source": [
    "Комбінування декількох простих предикатів у складніший вираз відбувається за допомогою наступних операторів:\n",
    "\n",
    "1. and - логічне \"і\"\n",
    "2. or - логічне \"або\"\n",
    "3. not – логічне заперечення\n",
    "\n",
    "Приклад побудови складного предикату:"
   ]
  },
  {
   "cell_type": "code",
   "execution_count": 14,
   "metadata": {
    "slideshow": {
     "slide_type": "fragment"
    }
   },
   "outputs": [
    {
     "name": "stdout",
     "output_type": "stream",
     "text": [
      "Тест провалено\n",
      "Тест пройдено\n"
     ]
    }
   ],
   "source": [
    "# визначимо змінні для експериментів\n",
    "x = 7\n",
    "y = -2\n",
    "\n",
    "# складна перевірка: чи є y менше x і чи є y додатним числом або 10 = 1 і x менше 1500\n",
    "if (y < x and y > 0) or (10 == 1 and x < 1500):\n",
    "    print('Тест пройдено')\n",
    "else:\n",
    "    print('Тест провалено')\n",
    "    \n",
    "# чи є y > x або x дорівнює 7\n",
    "if y > x or x == 7:\n",
    "    print('Тест пройдено')\n",
    "else:\n",
    "    print('Тест провалено')"
   ]
  },
  {
   "cell_type": "markdown",
   "metadata": {
    "slideshow": {
     "slide_type": "slide"
    }
   },
   "source": [
    "&emsp;&emsp;При побудові складного предикату дужки не є обов'язковими, проте їх можна використовувати:"
   ]
  },
  {
   "cell_type": "code",
   "execution_count": 16,
   "metadata": {
    "slideshow": {
     "slide_type": "fragment"
    }
   },
   "outputs": [
    {
     "name": "stdout",
     "output_type": "stream",
     "text": [
      "Тест провалено\n"
     ]
    }
   ],
   "source": [
    "if (x < y) and not (x == 16 or y < 0):\n",
    "    print('Тест пройдено')\n",
    "else:\n",
    "    print('Тест провалено')"
   ]
  },
  {
   "cell_type": "markdown",
   "metadata": {
    "slideshow": {
     "slide_type": "slide"
    }
   },
   "source": [
    "&emsp;&emsp;У Python є \"ледаче\" обчислення логічних виразів. Це означає, що якщо на якомусь етапі обчислення всього виразу можна зробити однозначний висновок про його значення, то решта обчислень буде перервано.\n",
    "\n",
    "&emsp;&emsp;У прикладі вище обчислювати весь вираз (x < y) and not (x == 16 or y < 0) немає сенсу, оскільки перша його частина (х < y) хибна, отже воно все буде хибно. Таким чином, порівняння x == 16, y < 0 не потрібні і не будуть використовуватися."
   ]
  },
  {
   "cell_type": "markdown",
   "metadata": {
    "slideshow": {
     "slide_type": "slide"
    }
   },
   "source": [
    "&emsp;&emsp;Тернарний оператор.\n",
    "\n",
    "&emsp;&emsp;Якщо умовний вираз досить простий, наприклад"
   ]
  },
  {
   "cell_type": "code",
   "execution_count": 17,
   "metadata": {
    "slideshow": {
     "slide_type": "fragment"
    }
   },
   "outputs": [
    {
     "name": "stdout",
     "output_type": "stream",
     "text": [
      "5\n"
     ]
    }
   ],
   "source": [
    "x = 5\n",
    "y = 7\n",
    "\n",
    "if x < y:\n",
    "    z = x\n",
    "else:\n",
    "    z = y\n",
    "    \n",
    "print(z)"
   ]
  },
  {
   "cell_type": "markdown",
   "metadata": {
    "slideshow": {
     "slide_type": "fragment"
    }
   },
   "source": [
    "&emsp;&emsp;то його можно заменити тернарним оператором наступного виду:"
   ]
  },
  {
   "cell_type": "code",
   "execution_count": 19,
   "metadata": {
    "slideshow": {
     "slide_type": "fragment"
    }
   },
   "outputs": [
    {
     "name": "stdout",
     "output_type": "stream",
     "text": [
      "5\n"
     ]
    }
   ],
   "source": [
    "z = x if x < y else y\n",
    "print(z)"
   ]
  },
  {
   "cell_type": "markdown",
   "metadata": {
    "slideshow": {
     "slide_type": "slide"
    }
   },
   "source": [
    "&emsp;&emsp;У Python деякі порожні об'єкти інтерпретуються як False в умовному операторі:"
   ]
  },
  {
   "cell_type": "code",
   "execution_count": 20,
   "metadata": {
    "slideshow": {
     "slide_type": "fragment"
    }
   },
   "outputs": [
    {
     "name": "stdout",
     "output_type": "stream",
     "text": [
      "порожній рядок\n",
      "порожній список\n"
     ]
    }
   ],
   "source": [
    "if not '':\n",
    "    print('порожній рядок')\n",
    "    \n",
    "if not []:\n",
    "    print('порожній список')"
   ]
  },
  {
   "cell_type": "code",
   "execution_count": 27,
   "metadata": {},
   "outputs": [
    {
     "name": "stdout",
     "output_type": "stream",
     "text": [
      "False\n"
     ]
    }
   ],
   "source": [
    "if None:\n",
    "    print(True)\n",
    "else:\n",
    "    print(False)"
   ]
  },
  {
   "cell_type": "markdown",
   "metadata": {
    "slideshow": {
     "slide_type": "slide"
    }
   },
   "source": [
    "**Вправи:**"
   ]
  },
  {
   "cell_type": "markdown",
   "metadata": {
    "slideshow": {
     "slide_type": "slide"
    }
   },
   "source": [
    "1. Дано: довжини 3-х сторін трикутника – x, y, z"
   ]
  },
  {
   "cell_type": "code",
   "execution_count": 28,
   "metadata": {
    "slideshow": {
     "slide_type": "fragment"
    }
   },
   "outputs": [],
   "source": [
    "x, y, z = 3, 4, 5"
   ]
  },
  {
   "cell_type": "markdown",
   "metadata": {
    "slideshow": {
     "slide_type": "fragment"
    }
   },
   "source": [
    "Завдання: перевірити, чи такий трикутник може існувати"
   ]
  },
  {
   "cell_type": "code",
   "execution_count": 29,
   "metadata": {},
   "outputs": [
    {
     "name": "stdout",
     "output_type": "stream",
     "text": [
      "Існує\n"
     ]
    }
   ],
   "source": [
    "x, y, z = 3, 4, 5\n",
    "\n",
    "if x + y > z and x + z > y and y + z > x:\n",
    "    print('Існує')\n",
    "else:\n",
    "    print('Не існує')\n"
   ]
  },
  {
   "cell_type": "code",
   "execution_count": 31,
   "metadata": {},
   "outputs": [
    {
     "name": "stdout",
     "output_type": "stream",
     "text": [
      "True\n"
     ]
    }
   ],
   "source": [
    "if (x < (y+z)) and (y < (z+x)) and (z < (y+x)):\n",
    "    print(True)\n",
    "else:\n",
    "    print(False)"
   ]
  },
  {
   "cell_type": "code",
   "execution_count": 33,
   "metadata": {},
   "outputs": [
    {
     "data": {
      "text/plain": [
       "True"
      ]
     },
     "execution_count": 33,
     "metadata": {},
     "output_type": "execute_result"
    }
   ],
   "source": [
    "def triangle(x, y, z):\n",
    "    if (x < y + z) and (y < x + z) and (z < x + y):\n",
    "        return True\n",
    "    else:\n",
    "        return False\n",
    "triangle(x, y, z)"
   ]
  },
  {
   "cell_type": "code",
   "execution_count": 34,
   "metadata": {},
   "outputs": [
    {
     "data": {
      "text/plain": [
       "True"
      ]
     },
     "execution_count": 34,
     "metadata": {},
     "output_type": "execute_result"
    }
   ],
   "source": [
    "def is_triangle(x, y, z):\n",
    "    if x + y > z and x + z > y and y + z > x:\n",
    "        return True\n",
    "    else:\n",
    "        return False\n",
    "triangle(x, y, z)"
   ]
  },
  {
   "cell_type": "code",
   "execution_count": 36,
   "metadata": {},
   "outputs": [
    {
     "name": "stdout",
     "output_type": "stream",
     "text": [
      "Трикутник побудований\n"
     ]
    }
   ],
   "source": [
    "if z < (x + y) and x < (x + z) and y < (x + z):\n",
    "    print('Трикутник побудований')\n",
    "else:\n",
    "    print('Трикутник ys')\n"
   ]
  },
  {
   "cell_type": "markdown",
   "metadata": {
    "slideshow": {
     "slide_type": "slide"
    }
   },
   "source": [
    "2. Дано: кортеж із 3х чисел - (a, b, c)"
   ]
  },
  {
   "cell_type": "code",
   "execution_count": 11,
   "metadata": {
    "slideshow": {
     "slide_type": "fragment"
    }
   },
   "outputs": [],
   "source": [
    "task_input = (1, 2, 7)"
   ]
  },
  {
   "cell_type": "markdown",
   "metadata": {
    "slideshow": {
     "slide_type": "fragment"
    }
   },
   "source": [
    "Задача: знайти максимальне число не використовуючи метода max()"
   ]
  },
  {
   "cell_type": "markdown",
   "metadata": {
    "slideshow": {
     "slide_type": "slide"
    }
   },
   "source": [
    "3. Дано: рядок, що містить дату у форматі РІК-МІСЯЦЬ-ДЕНЬ"
   ]
  },
  {
   "cell_type": "code",
   "execution_count": 13,
   "metadata": {
    "slideshow": {
     "slide_type": "fragment"
    }
   },
   "outputs": [],
   "source": [
    "input_date = '2019-05-23'"
   ]
  },
  {
   "cell_type": "markdown",
   "metadata": {
    "slideshow": {
     "slide_type": "fragment"
    }
   },
   "source": [
    "Завдання: перевірити, чи рік є високосним. \n",
    "(рік є високосним, якщо він кратний 4, але не кратний 100, а також якщо він кратний 400)"
   ]
  },
  {
   "cell_type": "markdown",
   "metadata": {
    "slideshow": {
     "slide_type": "slide"
    }
   },
   "source": [
    "4. Дано: рядок, що містить букву англійського алфавіту в нижньому регістрі"
   ]
  },
  {
   "cell_type": "code",
   "execution_count": 15,
   "metadata": {
    "slideshow": {
     "slide_type": "fragment"
    }
   },
   "outputs": [],
   "source": [
    "input_letter = 'g'"
   ]
  },
  {
   "cell_type": "markdown",
   "metadata": {
    "slideshow": {
     "slide_type": "fragment"
    }
   },
   "source": [
    "Завдання: перевірити, чи є буква голосною"
   ]
  },
  {
   "cell_type": "markdown",
   "metadata": {
    "slideshow": {
     "slide_type": "slide"
    }
   },
   "source": [
    "5. Дано: коефіцієнти квадратного рівняння у вигляді кортежу (a, b, c), де\n",
    "\n",
    "    $0 = a \\cdot  x^{2} + b \\cdot x + c$"
   ]
  },
  {
   "cell_type": "code",
   "execution_count": 11,
   "metadata": {
    "slideshow": {
     "slide_type": "fragment"
    }
   },
   "outputs": [],
   "source": [
    "input_coefficients = (2, 4, 9)"
   ]
  },
  {
   "cell_type": "markdown",
   "metadata": {
    "slideshow": {
     "slide_type": "fragment"
    }
   },
   "source": [
    "Задача: знайти корені квадратного рівняння"
   ]
  },
  {
   "cell_type": "markdown",
   "metadata": {
    "slideshow": {
     "slide_type": "slide"
    }
   },
   "source": [
    "&emsp;&emsp;**Цикл while**"
   ]
  },
  {
   "cell_type": "markdown",
   "metadata": {
    "slideshow": {
     "slide_type": "slide"
    }
   },
   "source": [
    "Основний шаблон:\n",
    "\n",
    "\twhile <test1>:  - умова продовження циклу\n",
    "\t\t\n",
    "\t\t<statements1> - тіло циклу\n",
    "\n",
    "\t\tif <test2>: break – переривання циклу\n",
    "\n",
    "\t\tif <test3>: continue – перехід до наступної ітерації\n",
    "\telse:\n",
    "\t\t<statements2> - дія якщо цикл не був перерваний"
   ]
  },
  {
   "cell_type": "markdown",
   "metadata": {
    "slideshow": {
     "slide_type": "slide"
    }
   },
   "source": [
    "&emsp;&emsp;Приклад - сумування чисел до 10:"
   ]
  },
  {
   "cell_type": "code",
   "execution_count": 37,
   "metadata": {
    "slideshow": {
     "slide_type": "fragment"
    }
   },
   "outputs": [
    {
     "name": "stdout",
     "output_type": "stream",
     "text": [
      "сума чисел до 10: 45\n"
     ]
    }
   ],
   "source": [
    "x = 1  # ініціалізувати перше число\n",
    "s = 0  # ініціалізувати значення суми\n",
    "\n",
    "while x < 10:  # перевірити умову, чи ми не вийшли за межі 10\n",
    "    \n",
    "    # додати до суми поточне значення\n",
    "    s += x # s = s + x\n",
    "    \n",
    "    # збільшити поточне значення на 1\n",
    "    x += 1\n",
    "    \n",
    "print('сума чисел до 10:', s)"
   ]
  },
  {
   "cell_type": "markdown",
   "metadata": {
    "slideshow": {
     "slide_type": "slide"
    }
   },
   "source": [
    "&emsp;&emsp;Для того, щоб пропустити операцію за певних умов, використовується оператор continue.\n",
    "Якщо кодове слово continue знаходиться в тілі циклу, то все, що йде після нього, не виконується, а цикл триває.\n",
    "\n",
    "&emsp;&emsp;Приклад - заповнення списку парними невід'ємними числами доти, доки його довжина не більше 5:"
   ]
  },
  {
   "cell_type": "code",
   "execution_count": 39,
   "metadata": {
    "slideshow": {
     "slide_type": "fragment"
    }
   },
   "outputs": [
    {
     "name": "stdout",
     "output_type": "stream",
     "text": [
      "[2, 4, 6, 8, 10]\n"
     ]
    }
   ],
   "source": [
    "x = 0 # ініціалізувати перше число\n",
    "result = [] # ініціалізувати порожній список\n",
    "\n",
    "while len(result) < 5: # перевірити умову, чи не вийшли ми за межі 5\n",
    "    \n",
    "    x += 1 # перейти до наступного числа\n",
    "    \n",
    "    if x % 2 != 0: # перевірка, чи число непарним\n",
    "        continue # якщо число непарне, то не виконувати подальших дій\n",
    "    \n",
    "    result.append(x) # додати поточне число до кінця списку\n",
    "\n",
    "print(result)    \n",
    "    \n",
    "    "
   ]
  },
  {
   "cell_type": "markdown",
   "metadata": {
    "slideshow": {
     "slide_type": "slide"
    }
   },
   "source": [
    "&emsp;&emsp;Для того, щоб достроково перервати цикл за певних умов використовується оператор break.\n",
    "\n",
    "&emsp;&emsp;Приклад - заповнити список натуральними числами, сума яких не більше 100:"
   ]
  },
  {
   "cell_type": "code",
   "execution_count": 40,
   "metadata": {
    "slideshow": {
     "slide_type": "fragment"
    }
   },
   "outputs": [
    {
     "name": "stdout",
     "output_type": "stream",
     "text": [
      "91\n",
      "[1, 2, 3, 4, 5, 6, 7, 8, 9, 10, 11, 12, 13]\n"
     ]
    }
   ],
   "source": [
    "x = 1 # ініціалізувати перше число\n",
    "s = 0 # ініціалізувати суму\n",
    "result = [] # ініціалізувати порожній список\n",
    "\n",
    "while True: # Оскільки ми припускаємо вийти з циклу всередині, то умову можна зробити завжди виконуваною\n",
    "    \n",
    "    # перервати цикл, якщо сума після додавання наступного числа буде більшою за 100\n",
    "    if s + x > 100:\n",
    "        break\n",
    "    \n",
    "    result.append(x) # добавити поточне число до кінця списку\n",
    "    s += x # додати до суми поточне значення\n",
    "    x += 1 # перейти до наступного значення\n",
    "    \n",
    "print(s)\n",
    "print(result)"
   ]
  },
  {
   "cell_type": "markdown",
   "metadata": {
    "slideshow": {
     "slide_type": "slide"
    }
   },
   "source": [
    "&emsp;&emsp;Фінальний 'else' у циклі while виконується тільки якщо цикл був успішно завершений без переривання через 'break'.\n",
    "\n",
    "&emsp;&emsp;Наприклад, нам потрібно знайти елемент у списку, що дорівнює 10. При цьому, якщо ми такого елемента не знайшли, то потрібно явно про це повідомити.\n",
    "\n",
    "&emsp;&emsp;От як виглядає таке завдання без використання фінального 'else':"
   ]
  },
  {
   "cell_type": "code",
   "execution_count": 41,
   "metadata": {
    "slideshow": {
     "slide_type": "fragment"
    }
   },
   "outputs": [
    {
     "name": "stdout",
     "output_type": "stream",
     "text": [
      "Not found\n"
     ]
    }
   ],
   "source": [
    "x = [1, 2, 3, 6, 8] # ініціалізувати список, в якому проводитимемо пошук\n",
    "is_found = False # ініціалізувати логічну змінну, яка дорівнює True, тільки якщо ми знайшли елемент\n",
    "\n",
    "while x: # перервати цикл якщо список порожній\n",
    "    \n",
    "    if x[0] == 10: # перевірка, чи є першим елементом списку потрібним нам\n",
    "        \n",
    "        # якщо число знайдено, то повідомити про це і надати 'is_found' значення True\n",
    "        print('Found!')\n",
    "        is_found = True\n",
    "        break # перервати цикл оскільки пошук завершено\n",
    "    else:\n",
    "        x = x[1:] # інакше відкинути перший елемент списку і продовжити\n",
    "        \n",
    "# якщо елемент не знайдено - повідомити про це перевіривши значення змінної 'is_found'\n",
    "if not is_found:\n",
    "    print('Not found')\n",
    "    "
   ]
  },
  {
   "cell_type": "markdown",
   "metadata": {
    "slideshow": {
     "slide_type": "slide"
    }
   },
   "source": [
    "&emsp;&emsp;Та ж задача, але з використанням фінального 'else':"
   ]
  },
  {
   "cell_type": "code",
   "execution_count": 118,
   "metadata": {
    "slideshow": {
     "slide_type": "fragment"
    }
   },
   "outputs": [
    {
     "name": "stdout",
     "output_type": "stream",
     "text": [
      "Not found\n"
     ]
    }
   ],
   "source": [
    "x = [1, 2, 3, 6, 8] # ініціалізувати список, в якому проводитимемо пошук\n",
    "\n",
    "while x: # перервати цикл якщо список порожній\n",
    "    \n",
    "    if x[0] == 10:\n",
    "        # повідомити, якщо елемент був знайдений і перервати цикл\n",
    "        print('Found')\n",
    "        break\n",
    "    else:\n",
    "        x = x[1:] # інакше відкинути перший елемент списку і продовжити\n",
    "else:\n",
    "    print('Not found') # якщо цикл не було перервано - вивести повідомлення про те, що елемент не знайдений"
   ]
  },
  {
   "cell_type": "markdown",
   "metadata": {
    "slideshow": {
     "slide_type": "slide"
    }
   },
   "source": [
    "&emsp;&emsp;**Цикл for**"
   ]
  },
  {
   "cell_type": "markdown",
   "metadata": {
    "slideshow": {
     "slide_type": "slide"
    }
   },
   "source": [
    "Основний шаблон:\n",
    "\n",
    "\tfor <target> in <object>: - перебір елементов в циклі\n",
    "\t\t\n",
    "\t\t<statements1> - тіло цикла\n",
    "\n",
    "\t\tif <test1>: break – преривання цикла \n",
    "\n",
    "\t\tif <test2>: continue – повернення до початку цикла\n",
    "\telse:\n",
    "\t\t<statements2> - дія, якщо цикл не був перерваний"
   ]
  },
  {
   "cell_type": "markdown",
   "metadata": {
    "slideshow": {
     "slide_type": "slide"
    }
   },
   "source": [
    "&emsp;&emsp;Приклад - сумування всіх чисел у списку:"
   ]
  },
  {
   "cell_type": "code",
   "execution_count": 42,
   "metadata": {
    "slideshow": {
     "slide_type": "fragment"
    }
   },
   "outputs": [
    {
     "name": "stdout",
     "output_type": "stream",
     "text": [
      "сума дорівнює: 21\n"
     ]
    }
   ],
   "source": [
    "input_list = [1, 2, 3, 4, 5, 6] # спис чисел, суму яких ми хочемо отримати\n",
    "s = 0 # ініціалізувати значення суми\n",
    "\n",
    "for item in input_list: # у процесі циклу всі елементи списку будуть присвоєні змінній \"item\"\n",
    "    \n",
    "    s += item # додати значення поточного елемента до загальної суми\n",
    "    \n",
    "print('сума дорівнює:', s)"
   ]
  },
  {
   "cell_type": "markdown",
   "metadata": {
    "slideshow": {
     "slide_type": "slide"
    }
   },
   "source": [
    "&emsp;&emsp;Якщо послідовність сама містить послідовності однакової довжини, то елементи цих послідовностей можна присвоїти різним змінним у циклі.\n",
    "&emsp;&emsp;Приклад:"
   ]
  },
  {
   "cell_type": "code",
   "execution_count": 43,
   "metadata": {
    "slideshow": {
     "slide_type": "fragment"
    }
   },
   "outputs": [
    {
     "name": "stdout",
     "output_type": "stream",
     "text": [
      "1 2\n",
      "3 4\n",
      "5 6\n"
     ]
    }
   ],
   "source": [
    "list_of_tuples = [(1, 2), (3, 4), (5, 6)] # список, що містить кортежі\n",
    "\n",
    "for elem1, elem2 in list_of_tuples: # присвоїти 1-й та 2-й елементи кожного кортежу у списку змінним elem1/elem2    \n",
    "    print(elem1, elem2)"
   ]
  },
  {
   "cell_type": "markdown",
   "metadata": {
    "slideshow": {
     "slide_type": "slide"
    }
   },
   "source": [
    "&emsp;&emsp;Приклад перебору всіх комбінацій ключ-значення у словнику:"
   ]
  },
  {
   "cell_type": "code",
   "execution_count": 45,
   "metadata": {
    "slideshow": {
     "slide_type": "fragment"
    }
   },
   "outputs": [
    {
     "name": "stdout",
     "output_type": "stream",
     "text": [
      "a 1\n",
      "b 2\n",
      "c 3\n"
     ]
    }
   ],
   "source": [
    "input_dict = {'a': 1, 'b': 2, 'c': 3}\n",
    "\n",
    "for dict_key, dict_value in input_dict.items():    \n",
    "    print(dict_key, dict_value)"
   ]
  },
  {
   "cell_type": "markdown",
   "metadata": {
    "slideshow": {
     "slide_type": "slide"
    }
   },
   "source": [
    "&emsp;&emsp;Оператори \"break\" та \"continue\" використовуються аналогічним чином.\n",
    "\n",
    "&emsp;&emsp;Приклад: виведення на екран лише парних значення списку."
   ]
  },
  {
   "cell_type": "code",
   "execution_count": 46,
   "metadata": {
    "slideshow": {
     "slide_type": "fragment"
    }
   },
   "outputs": [
    {
     "name": "stdout",
     "output_type": "stream",
     "text": [
      "2\n",
      "4\n"
     ]
    }
   ],
   "source": [
    "input_list = [1, 2, 3, 4, 5] # Список елементів\n",
    "\n",
    "for item in input_list:    \n",
    "    # перевірка, якщо елемент непарний, то не виконувати подальші дії\n",
    "    if item % 2 != 0:\n",
    "        continue\n",
    "    \n",
    "    # виведення елемента на екран\n",
    "    print(item)"
   ]
  },
  {
   "cell_type": "markdown",
   "metadata": {
    "slideshow": {
     "slide_type": "slide"
    }
   },
   "source": [
    "&emsp;&emsp;Приклад: підсумовування значень до першого від'ємного:"
   ]
  },
  {
   "cell_type": "code",
   "execution_count": 47,
   "metadata": {
    "slideshow": {
     "slide_type": "fragment"
    }
   },
   "outputs": [
    {
     "name": "stdout",
     "output_type": "stream",
     "text": [
      "15\n"
     ]
    }
   ],
   "source": [
    "input_list = [5, 2, 7, 1, -6, 9, 11] # список вхідних значення\n",
    "s = 0 # ініціалізувати значення суми\n",
    "\n",
    "for item in input_list:    \n",
    "    # перевірка, якщо елемент негативний - вийти з циклу\n",
    "    if item < 0:\n",
    "        break\n",
    "        \n",
    "    s += item\n",
    "    \n",
    "print(s)"
   ]
  },
  {
   "cell_type": "markdown",
   "metadata": {
    "slideshow": {
     "slide_type": "slide"
    }
   },
   "source": [
    "&emsp;&emsp;Для створення послідовностей у циклі часто використовується функція \"range\". Аргументами функції є перший елемент послідовності, останній (не включно) та крок.\n",
    "\n",
    "&emsp;&emsp;Приклад: вивести на екран усі числа в інтервалі від -5 до 5 (не включно) з кроком 2"
   ]
  },
  {
   "cell_type": "code",
   "execution_count": 48,
   "metadata": {
    "slideshow": {
     "slide_type": "fragment"
    }
   },
   "outputs": [
    {
     "name": "stdout",
     "output_type": "stream",
     "text": [
      "-5\n",
      "-3\n",
      "-1\n",
      "1\n",
      "3\n"
     ]
    }
   ],
   "source": [
    "start_value = -5\n",
    "stop_value = 5\n",
    "step = 2\n",
    "\n",
    "for i in range(start_value, stop_value, step):\n",
    "    print(i)"
   ]
  },
  {
   "cell_type": "markdown",
   "metadata": {
    "slideshow": {
     "slide_type": "slide"
    }
   },
   "source": [
    "&emsp;&emsp;За замовчуванням перший елемент послідовності, що генерується функцією \"range\" дорівнює 0, а крок дорівнює 1. У багатьох прикладах достатньо передати лише останній елемент.\n",
    "\n",
    "&emsp;&emsp;Приклад: збільшити значення списку на 3"
   ]
  },
  {
   "cell_type": "code",
   "execution_count": 49,
   "metadata": {
    "slideshow": {
     "slide_type": "fragment"
    }
   },
   "outputs": [
    {
     "name": "stdout",
     "output_type": "stream",
     "text": [
      "[4, 5, 6, 7]\n"
     ]
    }
   ],
   "source": [
    "input_list = [1, 2, 3, 4] # вхідний список, значення якого потрібно збільшити\n",
    "n = len(input_list) # довжина вхідного списку - 4\n",
    "\n",
    "for i in range(n): # змінна i містить значення від 0 до 3, що відповідає індексам списку    \n",
    "    input_list[i] += 3 # збільшити i-й елемент списку на 3\n",
    "    \n",
    "print(input_list)"
   ]
  },
  {
   "cell_type": "markdown",
   "metadata": {
    "slideshow": {
     "slide_type": "slide"
    }
   },
   "source": [
    "&emsp;&emsp;Еще одна корисна функція в процесі роботи зі списками - \"enumerate\". При передачі послідовності у цю функцію вона повертає об'єкт, ітерування яким дозволяє отримати одночасно елемент послідовності та її індекс (порядковий номер).\n",
    "\n",
    "&emsp;&emsp;Приклад: вивести на екран усі елементи списку та їх індекс"
   ]
  },
  {
   "cell_type": "code",
   "execution_count": 50,
   "metadata": {
    "slideshow": {
     "slide_type": "fragment"
    }
   },
   "outputs": [
    {
     "name": "stdout",
     "output_type": "stream",
     "text": [
      "На 0-му місці у списку стоїть значення 1\n",
      "На 1-му місці у списку стоїть значення 2\n",
      "На 2-му місці у списку стоїть значення 3\n"
     ]
    }
   ],
   "source": [
    "input_list = [1, 2, 3]\n",
    "\n",
    "for i, element in enumerate(input_list):\n",
    "    \n",
    "    print(f'На {i}-му місці у списку стоїть значення {element}')"
   ]
  },
  {
   "cell_type": "markdown",
   "metadata": {
    "slideshow": {
     "slide_type": "slide"
    }
   },
   "source": [
    "&emsp;&emsp;**Вправи**"
   ]
  },
  {
   "cell_type": "markdown",
   "metadata": {
    "slideshow": {
     "slide_type": "slide"
    }
   },
   "source": [
    "1. Дано: ціле число більше 2"
   ]
  },
  {
   "cell_type": "code",
   "execution_count": 56,
   "metadata": {
    "slideshow": {
     "slide_type": "fragment"
    }
   },
   "outputs": [],
   "source": [
    "x = 17"
   ]
  },
  {
   "cell_type": "markdown",
   "metadata": {
    "slideshow": {
     "slide_type": "fragment"
    }
   },
   "source": [
    "Завдання - перевірити, чи це число простим"
   ]
  },
  {
   "cell_type": "code",
   "execution_count": 51,
   "metadata": {},
   "outputs": [
    {
     "name": "stdout",
     "output_type": "stream",
     "text": [
      "True\n",
      "False\n"
     ]
    }
   ],
   "source": [
    "def is_prime(number):\n",
    "    for i in range(2, number):\n",
    "        if number % i == 0:\n",
    "            return False\n",
    "    return True\n",
    "\n",
    "print(is_prime(11))\n",
    "print(is_prime(6))\n"
   ]
  },
  {
   "cell_type": "code",
   "execution_count": 52,
   "metadata": {},
   "outputs": [
    {
     "name": "stdout",
     "output_type": "stream",
     "text": [
      "True\n",
      "False\n"
     ]
    }
   ],
   "source": [
    "def is_prime(num):\n",
    "    res = []\n",
    "    for i in range(2, num):\n",
    "        res.append(num % i)\n",
    "    if 0 in res:\n",
    "        return False\n",
    "    else:\n",
    "        return True\n",
    "    \n",
    "print(is_prime(11))\n",
    "print(is_prime(6))"
   ]
  },
  {
   "cell_type": "code",
   "execution_count": 57,
   "metadata": {},
   "outputs": [
    {
     "name": "stdout",
     "output_type": "stream",
     "text": [
      "True\n"
     ]
    }
   ],
   "source": [
    "def check_num(n):\n",
    "    for i in range(2, n, 1):\n",
    "        if n % i == 0:\n",
    "            return False\n",
    "    return True\n",
    "\n",
    "\n",
    "print(check_num(x))"
   ]
  },
  {
   "cell_type": "code",
   "execution_count": 59,
   "metadata": {},
   "outputs": [
    {
     "name": "stdout",
     "output_type": "stream",
     "text": [
      "Не просте\n"
     ]
    }
   ],
   "source": [
    "x = 17\n",
    "a = 3\n",
    "if x % 2 != 0:\n",
    "    while a <= x**(1/2):\n",
    "        if x % a == 0:\n",
    "            print('Не просте')\n",
    "            break\n",
    "        else:\n",
    "            a += 2\n",
    "    else:\n",
    "        print('Просте')\n",
    "else:\n",
    "    print('Не просте')\n"
   ]
  },
  {
   "cell_type": "code",
   "execution_count": 63,
   "metadata": {},
   "outputs": [
    {
     "name": "stdout",
     "output_type": "stream",
     "text": [
      "False\n"
     ]
    }
   ],
   "source": [
    "x = 20\n",
    "for i in range(2, x):\n",
    " if (x % i == 0):\n",
    "  print(False)\n",
    "  break\n",
    "else:\n",
    "  print(True)\n"
   ]
  },
  {
   "cell_type": "markdown",
   "metadata": {
    "slideshow": {
     "slide_type": "slide"
    }
   },
   "source": [
    "2. Дана матриця розміру 3х3 у вигляді вкладеного списку:"
   ]
  },
  {
   "cell_type": "code",
   "execution_count": 26,
   "metadata": {
    "slideshow": {
     "slide_type": "fragment"
    }
   },
   "outputs": [],
   "source": [
    "input_matrix = [\n",
    "    [1, 2, 3],\n",
    "    [4, 5, 6],\n",
    "    [7, 8, 9]\n",
    "]"
   ]
  },
  {
   "cell_type": "markdown",
   "metadata": {
    "slideshow": {
     "slide_type": "fragment"
    }
   },
   "source": [
    "Завдання – знайти суму елементів головної діагоналі"
   ]
  },
  {
   "cell_type": "markdown",
   "metadata": {
    "slideshow": {
     "slide_type": "slide"
    }
   },
   "source": [
    "3. Дано: ціле число"
   ]
  },
  {
   "cell_type": "code",
   "execution_count": 27,
   "metadata": {
    "slideshow": {
     "slide_type": "fragment"
    }
   },
   "outputs": [],
   "source": [
    "x = 100_000_000"
   ]
  },
  {
   "cell_type": "markdown",
   "metadata": {
    "slideshow": {
     "slide_type": "fragment"
    }
   },
   "source": [
    "Завдання - знайти кількість розрядів числа"
   ]
  },
  {
   "cell_type": "markdown",
   "metadata": {
    "slideshow": {
     "slide_type": "slide"
    }
   },
   "source": [
    "4. Дано: додатне ціле число"
   ]
  },
  {
   "cell_type": "code",
   "execution_count": 28,
   "metadata": {
    "slideshow": {
     "slide_type": "fragment"
    }
   },
   "outputs": [],
   "source": [
    "x = 7"
   ]
  },
  {
   "cell_type": "markdown",
   "metadata": {
    "slideshow": {
     "slide_type": "fragment"
    }
   },
   "source": [
    "Задача - знайти факториал числа"
   ]
  },
  {
   "cell_type": "markdown",
   "metadata": {
    "slideshow": {
     "slide_type": "slide"
    }
   },
   "source": [
    "5. Дано: список чисел"
   ]
  },
  {
   "cell_type": "code",
   "execution_count": 29,
   "metadata": {
    "slideshow": {
     "slide_type": "fragment"
    }
   },
   "outputs": [],
   "source": [
    "input_list = [1, 6, 13, 76, 44, 56, 12, 13, 7, 8, 9]"
   ]
  },
  {
   "cell_type": "markdown",
   "metadata": {
    "slideshow": {
     "slide_type": "fragment"
    }
   },
   "source": [
    "Завдання - вивести на екран усі числа, які більші за середнє значення за списком"
   ]
  },
  {
   "cell_type": "markdown",
   "metadata": {
    "slideshow": {
     "slide_type": "slide"
    }
   },
   "source": [
    "6. Дано список ключів та відповідних їм значень в іншому списку"
   ]
  },
  {
   "cell_type": "code",
   "execution_count": 30,
   "metadata": {
    "slideshow": {
     "slide_type": "fragment"
    }
   },
   "outputs": [],
   "source": [
    "keys_list = ['a', 'b', 'c', 'd', 'e']\n",
    "values_list = [1, 2, 3, 4, 5]"
   ]
  },
  {
   "cell_type": "markdown",
   "metadata": {
    "slideshow": {
     "slide_type": "fragment"
    }
   },
   "source": [
    "Завдання - об'єднати ключі та значення у словник"
   ]
  },
  {
   "cell_type": "markdown",
   "metadata": {
    "slideshow": {
     "slide_type": "slide"
    }
   },
   "source": [
    "&emsp;&emsp;**Конструктори (comprehensions)**"
   ]
  },
  {
   "cell_type": "markdown",
   "metadata": {
    "slideshow": {
     "slide_type": "slide"
    }
   },
   "source": [
    "&emsp;&emsp;Приклад створення списку, що складається з парних чисел від 1 до 10:"
   ]
  },
  {
   "cell_type": "code",
   "execution_count": 64,
   "metadata": {
    "slideshow": {
     "slide_type": "fragment"
    }
   },
   "outputs": [
    {
     "name": "stdout",
     "output_type": "stream",
     "text": [
      "[2, 4, 6, 8, 10]\n"
     ]
    }
   ],
   "source": [
    "arr = [\n",
    "    elem # вираз, що визначає вигляд елемента\n",
    "    for elem in range(1, 11) # цикл, в якому визначається змінна вирази \"elem\"\n",
    "    if elem % 2 == 0 # предикат, умова при виконанні якого результат виразу додається до списку\n",
    "]\n",
    "print(arr)"
   ]
  },
  {
   "cell_type": "markdown",
   "metadata": {
    "slideshow": {
     "slide_type": "slide"
    }
   },
   "source": [
    "&emsp;&emsp;Вираз може містити довільну функцію від змінної циклу.\n",
    "\n",
    "&emsp;&emsp;Приклад: створення списку з рядків, що містять 2 у степені цілих чисел від 1 до 10"
   ]
  },
  {
   "cell_type": "code",
   "execution_count": 65,
   "metadata": {
    "slideshow": {
     "slide_type": "fragment"
    }
   },
   "outputs": [
    {
     "name": "stdout",
     "output_type": "stream",
     "text": [
      "['степінь: 1, результат: 2', 'степінь: 2, результат: 4', 'степінь: 3, результат: 8', 'степінь: 4, результат: 16', 'степінь: 5, результат: 32', 'степінь: 6, результат: 64', 'степінь: 7, результат: 128', 'степінь: 8, результат: 256', 'степінь: 9, результат: 512', 'степінь: 10, результат: 1024']\n"
     ]
    }
   ],
   "source": [
    "pow_list = [f'степінь: {i}, результат: {2**i}' for i in range(1, 11)]\n",
    "print(pow_list)"
   ]
  },
  {
   "cell_type": "markdown",
   "metadata": {
    "slideshow": {
     "slide_type": "slide"
    }
   },
   "source": [
    "&emsp;&emsp;Аналогічним чином створюються множини.\n",
    "\n",
    "&emsp;&emsp;Зверніть увагу, що перебір у циклі може здійснюватися за будь-яким об'єктом, як і зі звичайним \"for\""
   ]
  },
  {
   "cell_type": "code",
   "execution_count": 66,
   "metadata": {
    "slideshow": {
     "slide_type": "fragment"
    }
   },
   "outputs": [
    {
     "name": "stdout",
     "output_type": "stream",
     "text": [
      "{'e', 'n', 's', 'l', 'h', ' ', 'm', 'r', 'i', 'x', 'o', 'a', 'c', 'p'}\n",
      "{'e', 'b', 'f', 'g', 'c'}\n"
     ]
    }
   ],
   "source": [
    "set_example = {'a', 'b', 'c', 'd', 'e', 'f', 'g', 'h'}\n",
    "set_example1 = {letter for letter in 'comprehension example'}\n",
    "set_example2 = {letter for letter in set_example if letter not in {'a', 'd', 'h'}}\n",
    "\n",
    "print(set_example1)\n",
    "print(set_example2)"
   ]
  },
  {
   "cell_type": "markdown",
   "metadata": {
    "slideshow": {
     "slide_type": "slide"
    }
   },
   "source": [
    "&emsp;&emsp;Для створення словників необхідно в циклі визначити одночасно 2 змінні - ключ та значення.\n",
    "\n",
    "&emsp;&emsp;Приклад: створення словника, де ключ - це ціле число від 1 до 10, а значення - квадрат цього числа"
   ]
  },
  {
   "cell_type": "code",
   "execution_count": 67,
   "metadata": {
    "slideshow": {
     "slide_type": "fragment"
    }
   },
   "outputs": [
    {
     "name": "stdout",
     "output_type": "stream",
     "text": [
      "{1: 1, 2: 4, 3: 9, 4: 16, 5: 25, 6: 36, 7: 49, 8: 64, 9: 81}\n"
     ]
    }
   ],
   "source": [
    "example_dict = {\n",
    "    k: k ** 2  # определение пары ключ: значение\n",
    "    for k in range(1, 10)  # перебор ключей в заданном интервале\n",
    "}\n",
    "\n",
    "print(example_dict)"
   ]
  },
  {
   "cell_type": "markdown",
   "metadata": {
    "slideshow": {
     "slide_type": "slide"
    }
   },
   "source": [
    "&emsp;&emsp;Конструктор може містити довільну кількість вкладених циклів for.\n",
    "\n",
    "&emsp;&emsp;Приклад: створення списку всіх можливих комбінацій двох елементів двох множин."
   ]
  },
  {
   "cell_type": "code",
   "execution_count": 69,
   "metadata": {
    "slideshow": {
     "slide_type": "fragment"
    }
   },
   "outputs": [
    {
     "name": "stdout",
     "output_type": "stream",
     "text": [
      "[(1, 4), (1, 5), (1, 6), (2, 4), (2, 5), (2, 6), (3, 4), (3, 5), (3, 6)]\n",
      "[(1, 4), (1, 5), (1, 6), (2, 4), (2, 5), (2, 6), (3, 4), (3, 5), (3, 6)]\n"
     ]
    }
   ],
   "source": [
    "# визначення 2х множин, комбінації елементів яких необхідно отримати\n",
    "set1 = {1, 2, 3}\n",
    "set2 = {4, 5, 6}\n",
    "\n",
    "# створення списку без використання конструктора\n",
    "result1 = [] # ініціалізація порожнього списку\n",
    "for elem1 in set1: # перебір всіх елементів множини \"set1\"\n",
    "    for elem2 in set2: # перебір всіх елементів множини \"set2\"\n",
    "        result1.append((elem1, elem2)) # додавання комбінації до результуючого списку\n",
    "        \n",
    "# створення списку з конструктором\n",
    "result2 = [(elem1, elem2) for elem1 in set1 for elem2 in set2]\n",
    "\n",
    "print(result1)\n",
    "print(result2)"
   ]
  },
  {
   "cell_type": "markdown",
   "metadata": {
    "slideshow": {
     "slide_type": "slide"
    }
   },
   "source": [
    "&emsp;&emsp;Всередині конструктора можна використовувати також тернарний логічний оператор \"if else\".\n",
    "\n",
    "&emsp;&emsp;Приклад: створення списку, в якому для чисел в інтервалі від 1 до 10 для парних чисел стоїть значення 1, а для непарних 0."
   ]
  },
  {
   "cell_type": "code",
   "execution_count": 70,
   "metadata": {
    "slideshow": {
     "slide_type": "fragment"
    }
   },
   "outputs": [
    {
     "name": "stdout",
     "output_type": "stream",
     "text": [
      "[0, 1, 0, 1, 0, 1, 0, 1, 0, 1]\n"
     ]
    }
   ],
   "source": [
    "odd_even_list = [1 if x % 2 == 0 else 0 for x in range(1, 11)]\n",
    "print(odd_even_list)"
   ]
  },
  {
   "cell_type": "markdown",
   "metadata": {
    "slideshow": {
     "slide_type": "slide"
    }
   },
   "source": [
    "&emsp;&emsp;Аналогічним чином можна створювати вкладені конструкції:"
   ]
  },
  {
   "cell_type": "code",
   "execution_count": 71,
   "metadata": {
    "slideshow": {
     "slide_type": "fragment"
    }
   },
   "outputs": [
    {
     "name": "stdout",
     "output_type": "stream",
     "text": [
      "[[0], [0, 1], [0, 1, 2]]\n"
     ]
    }
   ],
   "source": [
    "nested_list = [\n",
    "    [i for i in range(x)]\n",
    "    for x in range(1, 4)\n",
    "]\n",
    "\n",
    "print(nested_list)"
   ]
  },
  {
   "cell_type": "markdown",
   "metadata": {
    "slideshow": {
     "slide_type": "slide"
    }
   },
   "source": [
    "&emsp;&emsp;**Вправи**"
   ]
  },
  {
   "cell_type": "markdown",
   "metadata": {
    "slideshow": {
     "slide_type": "slide"
    }
   },
   "source": [
    "1. Дано: рядок"
   ]
  },
  {
   "cell_type": "code",
   "execution_count": 38,
   "metadata": {
    "slideshow": {
     "slide_type": "fragment"
    }
   },
   "outputs": [],
   "source": [
    "input_sentence = \"the quick brown fox jumps over the lazy dog\""
   ]
  },
  {
   "cell_type": "markdown",
   "metadata": {
    "slideshow": {
     "slide_type": "fragment"
    }
   },
   "source": [
    "Завдання - створити список, що містить усі слова речення, крім слова \"the\""
   ]
  },
  {
   "cell_type": "markdown",
   "metadata": {
    "slideshow": {
     "slide_type": "slide"
    }
   },
   "source": [
    "2. Дано: той самий рядок з попереднього прикладу.\n",
    "\n",
    "Завдання - створити словник, у якому ключами будуть всі слова речення крім \"the\", а значенням кількість літер слова."
   ]
  },
  {
   "cell_type": "markdown",
   "metadata": {
    "slideshow": {
     "slide_type": "slide"
    }
   },
   "source": [
    "3. Дано: 3 множини чисел"
   ]
  },
  {
   "cell_type": "code",
   "execution_count": 39,
   "metadata": {
    "slideshow": {
     "slide_type": "fragment"
    }
   },
   "outputs": [],
   "source": [
    "set1 = {1, 2, 3}\n",
    "set2 = {4, 5, 6}\n",
    "set3 = {1, 5, 9}"
   ]
  },
  {
   "cell_type": "markdown",
   "metadata": {
    "slideshow": {
     "slide_type": "fragment"
    }
   },
   "source": [
    "Завдання - побудувати список із усіх можливих комбінацій, сума елементів яких більша за 7."
   ]
  },
  {
   "cell_type": "markdown",
   "metadata": {
    "slideshow": {
     "slide_type": "slide"
    }
   },
   "source": [
    "&emsp;&emsp;**Функции**"
   ]
  },
  {
   "cell_type": "markdown",
   "metadata": {
    "slideshow": {
     "slide_type": "slide"
    }
   },
   "source": [
    "Основний шаблон:\n",
    "\n",
    "\tdef <name> (arg1, arg2, …, *args, **kwargs):\n",
    "\t\t<statements>\n",
    "\t\treturn <result>\n",
    "\n",
    "Анонімна функція:\n",
    "\n",
    "\tfn = lambda <arguments>, *args, **kwargs: <expression>"
   ]
  },
  {
   "cell_type": "markdown",
   "metadata": {
    "slideshow": {
     "slide_type": "slide"
    }
   },
   "source": [
    "&emsp;&emsp;Приклад визначення функції: сума двох елементів"
   ]
  },
  {
   "cell_type": "code",
   "execution_count": 76,
   "metadata": {
    "slideshow": {
     "slide_type": "fragment"
    }
   },
   "outputs": [
    {
     "name": "stdout",
     "output_type": "stream",
     "text": [
      "3\n",
      "10\n"
     ]
    },
    {
     "data": {
      "text/plain": [
       "'Hi Vasyl!'"
      ]
     },
     "execution_count": 76,
     "metadata": {},
     "output_type": "execute_result"
    }
   ],
   "source": [
    "def add(a: int, b: int): # визначення імені функції \"add\" та списку аргументів \"a\" та \"b\"    \n",
    "    return a + b # точка, в якій повертається результат обчислень\n",
    "\n",
    "print(add(1, 2))\n",
    "print(add(5, 5))\n",
    "add('Hi ', 'Vasyl!')"
   ]
  },
  {
   "cell_type": "markdown",
   "metadata": {
    "slideshow": {
     "slide_type": "slide"
    }
   },
   "source": [
    "&emsp;&emsp;Аргументи функції можна передавати позиційно (у тому порядку, в якому вони визначені для функції або за ім'ям):"
   ]
  },
  {
   "cell_type": "code",
   "execution_count": 77,
   "metadata": {
    "slideshow": {
     "slide_type": "fragment"
    }
   },
   "outputs": [
    {
     "name": "stdout",
     "output_type": "stream",
     "text": [
      "14\n",
      "14\n",
      "14\n"
     ]
    }
   ],
   "source": [
    "print(add(b=4, a=10)) # обидва аргументи передані за ім'ям\n",
    "print(add(4, 10)) # обидва аргументи передані позиційно\n",
    "print(add(4, b=10)) # змішаний варіант"
   ]
  },
  {
   "cell_type": "markdown",
   "metadata": {
    "slideshow": {
     "slide_type": "slide"
    }
   },
   "source": [
    "&emsp;&emsp;Передавати аргумени за ім'ям до позиційних (якщо присутні) не можна. Наприклад:"
   ]
  },
  {
   "cell_type": "code",
   "execution_count": 78,
   "metadata": {
    "slideshow": {
     "slide_type": "fragment"
    }
   },
   "outputs": [
    {
     "ename": "SyntaxError",
     "evalue": "positional argument follows keyword argument (983509748.py, line 1)",
     "output_type": "error",
     "traceback": [
      "\u001b[1;36m  Input \u001b[1;32mIn [78]\u001b[1;36m\u001b[0m\n\u001b[1;33m    add(b=4, 10)  # проблема в тому, що <name>=<value> з'являється раніше, ніж <value> без імені\u001b[0m\n\u001b[1;37m               ^\u001b[0m\n\u001b[1;31mSyntaxError\u001b[0m\u001b[1;31m:\u001b[0m positional argument follows keyword argument\n"
     ]
    }
   ],
   "source": [
    "add(b=4, 10)  # проблема в тому, що <name>=<value> з'являється раніше, ніж <value> без імені"
   ]
  },
  {
   "cell_type": "code",
   "execution_count": 79,
   "metadata": {},
   "outputs": [
    {
     "data": {
      "text/plain": [
       "14"
      ]
     },
     "execution_count": 79,
     "metadata": {},
     "output_type": "execute_result"
    }
   ],
   "source": [
    "add(10, b=4)"
   ]
  },
  {
   "cell_type": "markdown",
   "metadata": {
    "slideshow": {
     "slide_type": "slide"
    }
   },
   "source": [
    "&emsp;&emsp;Для функції ключове слово \"return\" є анаолгом \"break\" для циклів: після того, як функція повернула значення, подальші обчислення не проводяться.\n",
    "\n",
    "&emsp;&emsp;Приклад: функція, яка ділить одне число на інше, але якщо дільник дорівнює 0, повертає None"
   ]
  },
  {
   "cell_type": "code",
   "execution_count": 83,
   "metadata": {
    "slideshow": {
     "slide_type": "fragment"
    }
   },
   "outputs": [
    {
     "name": "stdout",
     "output_type": "stream",
     "text": [
      "None\n",
      "функція виконалася повністю\n",
      "1.0\n"
     ]
    }
   ],
   "source": [
    "def divide(a, b):    \n",
    "    if b == 0:\n",
    "        return # якщо умова виконується, то повернеться значення None та виконання функції припиниться    \n",
    "    print('функція виконалася повністю')\n",
    "    return a/b\n",
    "\n",
    "res1 = divide(2, 0)\n",
    "print(res1)\n",
    "res1 = divide(2, 2)\n",
    "print(res1)"
   ]
  },
  {
   "cell_type": "markdown",
   "metadata": {
    "slideshow": {
     "slide_type": "slide"
    }
   },
   "source": [
    "&emsp;&emsp;Якщо кількість аргументів заздалегідь невідома, їх можна запакувати за допомогою конструкції \"*args\" при визначенні функції.\n",
    "\n",
    "&emsp;&emsp;Приклад: функція, яка приймає довільну кількість аргументів та повертає їх добуток."
   ]
  },
  {
   "cell_type": "code",
   "execution_count": 84,
   "metadata": {
    "slideshow": {
     "slide_type": "fragment"
    }
   },
   "outputs": [
    {
     "name": "stdout",
     "output_type": "stream",
     "text": [
      "передані аргументи:  (1, 2, 3)\n",
      "6\n",
      "передані аргументи:  (1, 2, 3, 4)\n",
      "24\n"
     ]
    }
   ],
   "source": [
    "def multiply(*args):    \n",
    "    print('передані аргументи: ', args) # аргументи, передані функції всередині будуть видні як кортеж\n",
    "    \n",
    "    # блок, у якому обчислюється твір\n",
    "    prod = 1\n",
    "    for elem in args:\n",
    "        prod *= elem # prod = prod * elem\n",
    "        \n",
    "    return prod # повернення результату\n",
    "\n",
    "print(multiply(1, 2, 3))\n",
    "print(multiply(1, 2, 3, 4))"
   ]
  },
  {
   "cell_type": "markdown",
   "metadata": {
    "slideshow": {
     "slide_type": "slide"
    }
   },
   "source": [
    "&emsp;&emsp;Аналогічно можна передати будь-яку кількість аргументів на ім'я (при передачі їх у функцію можна буде використовувати лише варіант <name>=<value>).\n",
    "    \n",
    "&emsp;&emsp;Приклад: попередня функція, але з іменованими аргументами"
   ]
  },
  {
   "cell_type": "code",
   "execution_count": 85,
   "metadata": {
    "slideshow": {
     "slide_type": "fragment"
    }
   },
   "outputs": [
    {
     "name": "stdout",
     "output_type": "stream",
     "text": [
      "передані аргументи:  {'x': 1, 'y': 2, 'z': 3}\n",
      "6\n"
     ]
    }
   ],
   "source": [
    "def multiply(**kwargs):    \n",
    "    print('передані аргументи: ', kwargs) # аргументи, передані функції всередині будуть видні як словник\n",
    "    \n",
    "    # блок, у якому обчислюється твір\n",
    "    prod = 1\n",
    "    for elem in kwargs.values(): # перебір значень у словнику\n",
    "        prod *= elem\n",
    "        \n",
    "    return prod\n",
    "\n",
    "print(multiply(x=1, y=2, z=3))"
   ]
  },
  {
   "cell_type": "code",
   "execution_count": 86,
   "metadata": {},
   "outputs": [
    {
     "ename": "TypeError",
     "evalue": "multiply() takes 0 positional arguments but 3 were given",
     "output_type": "error",
     "traceback": [
      "\u001b[1;31m---------------------------------------------------------------------------\u001b[0m",
      "\u001b[1;31mTypeError\u001b[0m                                 Traceback (most recent call last)",
      "Input \u001b[1;32mIn [86]\u001b[0m, in \u001b[0;36m<cell line: 1>\u001b[1;34m()\u001b[0m\n\u001b[1;32m----> 1\u001b[0m \u001b[43mmultiply\u001b[49m\u001b[43m(\u001b[49m\u001b[38;5;241;43m1\u001b[39;49m\u001b[43m,\u001b[49m\u001b[43m \u001b[49m\u001b[38;5;241;43m2\u001b[39;49m\u001b[43m,\u001b[49m\u001b[43m \u001b[49m\u001b[38;5;241;43m3\u001b[39;49m\u001b[43m)\u001b[49m\n",
      "\u001b[1;31mTypeError\u001b[0m: multiply() takes 0 positional arguments but 3 were given"
     ]
    }
   ],
   "source": [
    "multiply(1, 2, 3)"
   ]
  },
  {
   "cell_type": "markdown",
   "metadata": {
    "slideshow": {
     "slide_type": "slide"
    }
   },
   "source": [
    "&emsp;&emsp;Деякі функції повертають не конкретне значення, а генератор. Генератор - об'єкт, який дозволяє генерувати інші об'єкти певної послідовності за заданим правилом. Для цього використовується кодове слово \"yield\" замість \"return\".\n",
    "\n",
    "&emsp;&emsp;Приклад - модифікована функція \"shift_range\", яка приймає як аргументи початок, кінець і крок послідовності. Але при цьому перший елемент не включено, а останній включено."
   ]
  },
  {
   "cell_type": "code",
   "execution_count": 89,
   "metadata": {
    "slideshow": {
     "slide_type": "fragment"
    }
   },
   "outputs": [
    {
     "name": "stdout",
     "output_type": "stream",
     "text": [
      "<generator object shifted_range at 0x0000019787B56AC0>\n",
      "1\n",
      "2\n",
      "3\n",
      "4\n",
      "5\n",
      "6\n",
      "7\n",
      "8\n",
      "9\n",
      "<class 'generator'>\n"
     ]
    }
   ],
   "source": [
    "def shifted_range(start, stop, step):\n",
    "    \n",
    "    i = start - step\n",
    "    while i + step < stop:        \n",
    "        i += step\n",
    "        yield i\n",
    "        \n",
    "seq = shifted_range(1, 10, 1)\n",
    "print(seq)\n",
    "for elem in seq:\n",
    "    print(elem)\n",
    "print(type(seq))\n"
   ]
  },
  {
   "cell_type": "markdown",
   "metadata": {
    "slideshow": {
     "slide_type": "slide"
    }
   },
   "source": [
    "&emsp;&emsp;При визначенні функції можна задати деякі аргументи за замовчуванням. При виклику такої функції якщо значення аргументів були передані явно - буде використано значення щодо функції.\n",
    "\n",
    "&emsp;&emsp;Приклад: підсумовування 2-х чисел, яке за відсутності аргументів замінить їх на 0"
   ]
  },
  {
   "cell_type": "code",
   "execution_count": 90,
   "metadata": {
    "slideshow": {
     "slide_type": "fragment"
    }
   },
   "outputs": [
    {
     "name": "stdout",
     "output_type": "stream",
     "text": [
      "аргументи не були передані:  0\n",
      "було передано лише 1й аргумент (другий заміниться на 0):  4\n",
      "були передані обидва аргументи (значення за промовчанням проігноруються):  13\n"
     ]
    }
   ],
   "source": [
    "def default_sum(x=0, y=0):    \n",
    "     return x + y\n",
    "\n",
    "\n",
    "print('аргументи не були передані: ', default_sum())\n",
    "print('було передано лише 1й аргумент (другий заміниться на 0): ', default_sum(x=4))\n",
    "print('були передані обидва аргументи (значення за промовчанням проігноруються): ', default_sum(x=4, y=9))"
   ]
  },
  {
   "cell_type": "markdown",
   "metadata": {
    "slideshow": {
     "slide_type": "slide"
    }
   },
   "source": [
    "&emsp;&emsp;При визначенні аргументів за замовчуванням потрібно бути акуратним із об'єктами, що змінюються: зміна такого об'єкта всередині функції призведе до його глобальної зміни.\n",
    "\n",
    "&emsp;&emsp;Приклад:"
   ]
  },
  {
   "cell_type": "code",
   "execution_count": 91,
   "metadata": {
    "slideshow": {
     "slide_type": "fragment"
    }
   },
   "outputs": [
    {
     "name": "stdout",
     "output_type": "stream",
     "text": [
      "значення глобальної змінної до виклику функції: [1, 2, 3]\n",
      "значення локальної змінної:  [1, 2, 3, 1, 2, 3]\n",
      "значення глобальної змінної після виклику функції:  [1, 2, 3, 1, 2, 3]\n"
     ]
    }
   ],
   "source": [
    "arr = [1, 2, 3] # визначимо глобальну змінну\n",
    "\n",
    "print(\"значення глобальної змінної до виклику функції:\", arr)\n",
    "\n",
    "def foo(x=arr):    \n",
    "    x.extend([1, 2, 3]) # зміна локальної змінної\n",
    "    print('значення локальної змінної: ', x)\n",
    "\n",
    "foo()\n",
    "print('значення глобальної змінної після виклику функції: ', arr)"
   ]
  },
  {
   "cell_type": "markdown",
   "metadata": {
    "slideshow": {
     "slide_type": "slide"
    }
   },
   "source": [
    "Області видимості змінних\n",
    "\n",
    "1. Локальна: змінна, яка була визначена всередині функції, доступна тільки в ній."
   ]
  },
  {
   "cell_type": "code",
   "execution_count": 1,
   "metadata": {
    "slideshow": {
     "slide_type": "fragment"
    }
   },
   "outputs": [
    {
     "name": "stdout",
     "output_type": "stream",
     "text": [
      "локальна змінна дорівнює: 3\n",
      "глобальна змінна дорівнює: 10\n"
     ]
    },
    {
     "ename": "NameError",
     "evalue": "name 'z' is not defined",
     "output_type": "error",
     "traceback": [
      "\u001b[1;31m---------------------------------------------------------------------------\u001b[0m",
      "\u001b[1;31mNameError\u001b[0m                                 Traceback (most recent call last)",
      "Input \u001b[1;32mIn [1]\u001b[0m, in \u001b[0;36m<cell line: 10>\u001b[1;34m()\u001b[0m\n\u001b[0;32m      8\u001b[0m foo(\u001b[38;5;241m1\u001b[39m, \u001b[38;5;241m2\u001b[39m) \u001b[38;5;66;03m# виклик функції\u001b[39;00m\n\u001b[0;32m      9\u001b[0m \u001b[38;5;28mprint\u001b[39m(\u001b[38;5;124m'\u001b[39m\u001b[38;5;124mглобальна змінна дорівнює:\u001b[39m\u001b[38;5;124m'\u001b[39m, x)\n\u001b[1;32m---> 10\u001b[0m \u001b[38;5;28mprint\u001b[39m(\u001b[43mz\u001b[49m)\n",
      "\u001b[1;31mNameError\u001b[0m: name 'z' is not defined"
     ]
    }
   ],
   "source": [
    "x = 10 # визначимо глобальну змінну\n",
    "\n",
    "def foo(a, b):\n",
    "    \n",
    "    z = a + b # визначимо локальну змінну рівну сумі аргументів функції\n",
    "    print('локальна змінна дорівнює:', z)\n",
    "\n",
    "foo(1, 2) # виклик функції\n",
    "print('глобальна змінна дорівнює:', x)\n",
    "print(z) # спроба звернутися до локальної змінної приведе до помилки"
   ]
  },
  {
   "cell_type": "markdown",
   "metadata": {
    "slideshow": {
     "slide_type": "slide"
    }
   },
   "source": [
    "2. Глобальна: змінна, яка була визначена поза функцією, видима в її всередині, її можна використовувати при визначенні інших змінних і навіть змінювати, якщо об'єкт це дозволяє. Однак їй не можна надати інше значення:"
   ]
  },
  {
   "cell_type": "code",
   "execution_count": 2,
   "metadata": {
    "slideshow": {
     "slide_type": "fragment"
    }
   },
   "outputs": [
    {
     "name": "stdout",
     "output_type": "stream",
     "text": [
      "глобальна змінна дорівнює: [1, 2, 3]\n",
      "глобальна змінна після зміни функції foo:  [1, 2, 3, 4]\n",
      "[1, 2, 3, 4]\n"
     ]
    }
   ],
   "source": [
    "arr = [1, 2, 3] # визначимо глобальну змінну\n",
    "\n",
    "def foo():\n",
    "\n",
    "    print('глобальна змінна дорівнює:', arr)\n",
    "    arr.append(4) # додамо новий елемент у кінець списку\n",
    "    print('глобальна змінна після зміни функції foo: ', arr)\n",
    "\n",
    "foo()\n",
    "print(arr)"
   ]
  },
  {
   "cell_type": "markdown",
   "metadata": {
    "slideshow": {
     "slide_type": "slide"
    }
   },
   "source": [
    "&emsp;&emsp;Однак спроба змінити нове значення приведе до помилки:"
   ]
  },
  {
   "cell_type": "code",
   "execution_count": 3,
   "metadata": {
    "slideshow": {
     "slide_type": "fragment"
    }
   },
   "outputs": [
    {
     "ename": "UnboundLocalError",
     "evalue": "local variable 'arr' referenced before assignment",
     "output_type": "error",
     "traceback": [
      "\u001b[1;31m---------------------------------------------------------------------------\u001b[0m",
      "\u001b[1;31mUnboundLocalError\u001b[0m                         Traceback (most recent call last)",
      "Input \u001b[1;32mIn [3]\u001b[0m, in \u001b[0;36m<cell line: 9>\u001b[1;34m()\u001b[0m\n\u001b[0;32m      6\u001b[0m     arr \u001b[38;5;241m=\u001b[39m [\u001b[38;5;241m5\u001b[39m, \u001b[38;5;241m6\u001b[39m, \u001b[38;5;241m7\u001b[39m] \u001b[38;5;66;03m# приведе до помилки\u001b[39;00m\n\u001b[0;32m      7\u001b[0m     \u001b[38;5;28mprint\u001b[39m(arr)\n\u001b[1;32m----> 9\u001b[0m \u001b[43mfoo\u001b[49m\u001b[43m(\u001b[49m\u001b[43m)\u001b[49m\n",
      "Input \u001b[1;32mIn [3]\u001b[0m, in \u001b[0;36mfoo\u001b[1;34m()\u001b[0m\n\u001b[0;32m      3\u001b[0m \u001b[38;5;28;01mdef\u001b[39;00m \u001b[38;5;21mfoo\u001b[39m():\n\u001b[1;32m----> 5\u001b[0m     \u001b[38;5;28mprint\u001b[39m(\u001b[38;5;124m'\u001b[39m\u001b[38;5;124mглобальна змінна дорівнює:\u001b[39m\u001b[38;5;124m'\u001b[39m, \u001b[43marr\u001b[49m)\n\u001b[0;32m      6\u001b[0m     arr \u001b[38;5;241m=\u001b[39m [\u001b[38;5;241m5\u001b[39m, \u001b[38;5;241m6\u001b[39m, \u001b[38;5;241m7\u001b[39m] \u001b[38;5;66;03m# приведе до помилки\u001b[39;00m\n\u001b[0;32m      7\u001b[0m     \u001b[38;5;28mprint\u001b[39m(arr)\n",
      "\u001b[1;31mUnboundLocalError\u001b[0m: local variable 'arr' referenced before assignment"
     ]
    }
   ],
   "source": [
    "arr = [1, 2, 3]\n",
    "\n",
    "def foo():\n",
    "    \n",
    "    print('глобальна змінна дорівнює:', arr)\n",
    "    arr = [5, 6, 7] # приведе до помилки\n",
    "    print(arr)\n",
    "    \n",
    "foo()"
   ]
  },
  {
   "cell_type": "markdown",
   "metadata": {
    "slideshow": {
     "slide_type": "slide"
    }
   },
   "source": [
    "&emsp;&emsp;Для того, щоб перевизначити глобальну змінну всередині функції, її потрібно позначити за допомогою оператора \"global\":"
   ]
  },
  {
   "cell_type": "code",
   "execution_count": 4,
   "metadata": {
    "slideshow": {
     "slide_type": "fragment"
    }
   },
   "outputs": [
    {
     "name": "stdout",
     "output_type": "stream",
     "text": [
      "глобальна змінна дорівнює: [1, 2, 3]\n",
      "глобальна змінна перевизначена всередині функції: [5, 6, 7]\n",
      "глобальна змінна після виклику функції: [5, 6, 7]\n"
     ]
    }
   ],
   "source": [
    "arr = [1, 2, 3]\n",
    "\n",
    "def foo():\n",
    "    \n",
    "    global arr\n",
    "    print('глобальна змінна дорівнює:', arr)\n",
    "    arr = [5, 6, 7]\n",
    "    print('глобальна змінна перевизначена всередині функції:', arr)\n",
    "    \n",
    "foo()\n",
    "print('глобальна змінна після виклику функції:', arr)"
   ]
  },
  {
   "cell_type": "markdown",
   "metadata": {
    "slideshow": {
     "slide_type": "slide"
    }
   },
   "source": [
    "3. Нелокальна: за аналогією з глобальною змінною для функції, якщо змінна була визначена всередині функції вона буде нелокальною для іншої функції, визначеної в ній."
   ]
  },
  {
   "cell_type": "code",
   "execution_count": 2,
   "metadata": {
    "slideshow": {
     "slide_type": "fragment"
    }
   },
   "outputs": [
    {
     "name": "stdout",
     "output_type": "stream",
     "text": [
      "локальна змінна зовнішньої функції дорівнює:  3\n"
     ]
    },
    {
     "ename": "UnboundLocalError",
     "evalue": "local variable 't' referenced before assignment",
     "output_type": "error",
     "traceback": [
      "\u001b[1;31m---------------------------------------------------------------------------\u001b[0m",
      "\u001b[1;31mUnboundLocalError\u001b[0m                         Traceback (most recent call last)",
      "Input \u001b[1;32mIn [2]\u001b[0m, in \u001b[0;36m<cell line: 13>\u001b[1;34m()\u001b[0m\n\u001b[0;32m      9\u001b[0m         \u001b[38;5;28mprint\u001b[39m(t)\n\u001b[0;32m     11\u001b[0m     inner_func()\n\u001b[1;32m---> 13\u001b[0m \u001b[43mouter_func\u001b[49m\u001b[43m(\u001b[49m\u001b[38;5;241;43m1\u001b[39;49m\u001b[43m,\u001b[49m\u001b[43m \u001b[49m\u001b[38;5;241;43m2\u001b[39;49m\u001b[43m)\u001b[49m\n",
      "Input \u001b[1;32mIn [2]\u001b[0m, in \u001b[0;36mouter_func\u001b[1;34m(a, b)\u001b[0m\n\u001b[0;32m      8\u001b[0m     t \u001b[38;5;241m+\u001b[39m\u001b[38;5;241m=\u001b[39m \u001b[38;5;241m10\u001b[39m \u001b[38;5;66;03m# змінна t для внутрішньої функції нелокальна і її значення не можна змінити\u001b[39;00m\n\u001b[0;32m      9\u001b[0m     \u001b[38;5;28mprint\u001b[39m(t)\n\u001b[1;32m---> 11\u001b[0m \u001b[43minner_func\u001b[49m\u001b[43m(\u001b[49m\u001b[43m)\u001b[49m\n",
      "Input \u001b[1;32mIn [2]\u001b[0m, in \u001b[0;36mouter_func.<locals>.inner_func\u001b[1;34m()\u001b[0m\n\u001b[0;32m      6\u001b[0m \u001b[38;5;28;01mdef\u001b[39;00m \u001b[38;5;21minner_func\u001b[39m(): \u001b[38;5;66;03m# визначення внутрішньої функції\u001b[39;00m\n\u001b[1;32m----> 8\u001b[0m     t \u001b[38;5;241m+\u001b[39m\u001b[38;5;241m=\u001b[39m \u001b[38;5;241m10\u001b[39m \u001b[38;5;66;03m# змінна t для внутрішньої функції нелокальна і її значення не можна змінити\u001b[39;00m\n\u001b[0;32m      9\u001b[0m     \u001b[38;5;28mprint\u001b[39m(t)\n",
      "\u001b[1;31mUnboundLocalError\u001b[0m: local variable 't' referenced before assignment"
     ]
    }
   ],
   "source": [
    "def outer_func(a, b): # визначення зовнішньої функції\n",
    "\n",
    "    t = a + b # визначення локальної змінної всередині зовнішньої функції\n",
    "    print('локальна змінна зовнішньої функції дорівнює: ', t)\n",
    "\n",
    "    def inner_func(): # визначення внутрішньої функції\n",
    "\n",
    "        t += 10 # змінна t для внутрішньої функції нелокальна і її значення не можна змінити\n",
    "        print(t)\n",
    "\n",
    "    inner_func()\n",
    "\n",
    "outer_func(1, 2)"
   ]
  },
  {
   "cell_type": "markdown",
   "metadata": {
    "slideshow": {
     "slide_type": "slide"
    }
   },
   "source": [
    "&emsp;&emsp;Для того, щоб отримати доступ до локальної змінної внутрішньої функції, необхідно помітити її за допомогою оператора \"nonlocal\":"
   ]
  },
  {
   "cell_type": "code",
   "execution_count": 3,
   "metadata": {
    "slideshow": {
     "slide_type": "fragment"
    }
   },
   "outputs": [
    {
     "name": "stdout",
     "output_type": "stream",
     "text": [
      "локальна змінна зовнішньої функції дорівнює:  3\n",
      "значення нелокальної змінної після виклику внутрішньої функції:  13\n"
     ]
    }
   ],
   "source": [
    "def outer_func(a, b): # визначення зовнішньої функції\n",
    "\n",
    "    t = a + b # визначення локальної змінної всередині зовнішньої функції\n",
    "    print('локальна змінна зовнішньої функції дорівнює: ', t)\n",
    "\n",
    "    def inner_func(): # визначення внутрішньої функції\n",
    "        \n",
    "        nonlocal t\n",
    "        t += 10 # зміна нелокальної змінної, визначеної у зовнішній функції\n",
    "        print('значення нелокальної змінної після виклику внутрішньої функції: ', t)\n",
    "\n",
    "    inner_func()\n",
    "\n",
    "outer_func(1, 2)"
   ]
  },
  {
   "cell_type": "markdown",
   "metadata": {
    "slideshow": {
     "slide_type": "slide"
    }
   },
   "source": [
    "&emsp;&emsp;Після визначення функція є об'єктом, який можна передавати в іншу функцію.\n",
    "\n",
    "&emsp;&emsp;Приклад: задамо функцію, яка застосовує до аргументів передану функцію (яку теж отримує як аргумент) і виводить значення на екран"
   ]
  },
  {
   "cell_type": "code",
   "execution_count": 4,
   "metadata": {
    "slideshow": {
     "slide_type": "fragment"
    }
   },
   "outputs": [
    {
     "name": "stdout",
     "output_type": "stream",
     "text": [
      "У функцію applier було передано функцію суми двох чисел:\n",
      "аргументи:  4 5 результат:  9\n",
      "\n",
      "У функцію applier було передано функцію добутку двох чисел:\n",
      "аргументи:  4 5 результат:  20\n"
     ]
    }
   ],
   "source": [
    "# визначимо першу функцію, яка повертає суму двох аргументів\n",
    "def summ(a, b):\n",
    "    \n",
    "    return a + b\n",
    "\n",
    "# визначимо другу функцію, яка повертає добуток двох аргументів\n",
    "def mul(a, b):\n",
    "    \n",
    "    return a * b\n",
    "\n",
    "# функція applier приймає на вхід іншу функцію (змінна f) і два аргументи, до яких її слід застосувати\n",
    "def applier(f, a, b):\n",
    "    \n",
    "    res = f(a, b) # застосування переданої функції до аргументів\n",
    "    print('аргументи: ', a, b, 'результат: ', res)\n",
    "    \n",
    "\n",
    "print('У функцію applier було передано функцію суми двох чисел:')\n",
    "applier(summ, 4, 5)\n",
    "print()\n",
    "print('У функцію applier було передано функцію добутку двох чисел:')\n",
    "applier(mul, 4, 5)"
   ]
  },
  {
   "cell_type": "markdown",
   "metadata": {
    "slideshow": {
     "slide_type": "slide"
    }
   },
   "source": [
    "&emsp;&emsp;Анонімна функція: якщо тіло функції досить мале, її можна записати в один рядок.\n",
    "\n",
    "&emsp;&emsp;Приклад: альтернативний варіант запису функції суми"
   ]
  },
  {
   "cell_type": "code",
   "execution_count": 5,
   "metadata": {
    "slideshow": {
     "slide_type": "fragment"
    }
   },
   "outputs": [
    {
     "name": "stdout",
     "output_type": "stream",
     "text": [
      "<function <lambda> at 0x000001098E0C21F0>\n"
     ]
    }
   ],
   "source": [
    "f = lambda x, y: x + y\n",
    "\n",
    "print(f(2, 2))"
   ]
  },
  {
   "cell_type": "markdown",
   "metadata": {
    "slideshow": {
     "slide_type": "slide"
    }
   },
   "source": [
    "&emsp;&emsp;Приклад: анонімна функція, у якій за умовчанням аргументи дорівнюють 0. При цьому якщо перший аргумент позитивний, то повернути суму аргументів, інакше - добуток."
   ]
  },
  {
   "cell_type": "code",
   "execution_count": 6,
   "metadata": {
    "slideshow": {
     "slide_type": "fragment"
    }
   },
   "outputs": [
    {
     "name": "stdout",
     "output_type": "stream",
     "text": [
      "-9\n",
      "6\n",
      "2\n"
     ]
    }
   ],
   "source": [
    "f = lambda x=0, y=0: x + y if x > 0 else x * y\n",
    "\n",
    "print(f(-3, 3))\n",
    "print(f(3, 3))\n",
    "print(f(2))"
   ]
  },
  {
   "cell_type": "markdown",
   "metadata": {
    "slideshow": {
     "slide_type": "slide"
    }
   },
   "source": [
    "&emsp;&emsp;Призначення змінним значенням анонімних функцій не рекомендується. Вони використовуються переважно для передачі в іншу функцію.\n",
    "\n",
    "&emsp;&emsp;Приклад: вище ми створили функцію applier та дві функції summ/mul, які в неї передавали. Той самий результат, але без визначення функцій з використанням оператора \"lambda\""
   ]
  },
  {
   "cell_type": "code",
   "execution_count": 45,
   "metadata": {
    "slideshow": {
     "slide_type": "fragment"
    }
   },
   "outputs": [
    {
     "name": "stdout",
     "output_type": "stream",
     "text": [
      "У функцію applier було передано функцію суми двох чисел:\n",
      "аргументи:  4 5 результат:  9\n",
      "\n",
      "У функцію applier було передано функцію добутку двох чисел:\n",
      "аргументи:  4 5 результат:  20\n"
     ]
    }
   ],
   "source": [
    "print('У функцію applier було передано функцію суми двох чисел:')\n",
    "applier(lambda x, y: x + y, 4, 5)\n",
    "print()\n",
    "print('У функцію applier було передано функцію добутку двох чисел:')\n",
    "applier(lambda x, y: x * y, 4, 5)"
   ]
  },
  {
   "cell_type": "markdown",
   "metadata": {
    "slideshow": {
     "slide_type": "slide"
    }
   },
   "source": [
    "Чиста функція - це така, що відповідає наступним 2-м вимогам:\n",
    "\n",
    "1. Вона детермінована - результат завжди залежить від параметрів і для одного параметра завжди повертається однакове значення. Наприклад функція суми 2-х чисел детермінована, а функція, яка повертає вміст папки ні: при одинаковому аргументі (шлях до папки) можуть повернутися різні імена файлів, якщо структура папки змінилася.\n",
    "\n",
    "2. Функція не містить побічних ефектів. Побічні ефекти – це будь-які зміни, які видно зовнішньому середовищу: виведення результату на екран, внесення змін до глобальних змінних."
   ]
  },
  {
   "cell_type": "code",
   "execution_count": 2,
   "metadata": {
    "slideshow": {
     "slide_type": "fragment"
    }
   },
   "outputs": [
    {
     "name": "stdout",
     "output_type": "stream",
     "text": [
      "[1, 2, 3]\n",
      "[1, 2, 3, 2]\n"
     ]
    }
   ],
   "source": [
    "# Приклад функції з побічним ефектом: додавання елемента до списку, який є глобальною змінною\n",
    "arr = [1, 2, 3]\n",
    "\n",
    "def foo():\n",
    "    arr.append(2)\n",
    "    return arr\n",
    "\n",
    "print(arr)\n",
    "foo()\n",
    "print(arr)"
   ]
  },
  {
   "cell_type": "markdown",
   "metadata": {
    "slideshow": {
     "slide_type": "slide"
    }
   },
   "source": [
    "&emsp;&emsp;**Вправи**"
   ]
  },
  {
   "cell_type": "markdown",
   "metadata": {
    "slideshow": {
     "slide_type": "slide"
    }
   },
   "source": [
    "1. Написати функцію, яка генерує послідовність із n чисел Фібоначчі (n приймається як аргумент). Скористайтеся оператором \"yield\"."
   ]
  },
  {
   "cell_type": "markdown",
   "metadata": {
    "slideshow": {
     "slide_type": "slide"
    }
   },
   "source": [
    "2. Написати функцію, яка перевіряє, чи є рядок паліндромом. "
   ]
  },
  {
   "cell_type": "markdown",
   "metadata": {
    "slideshow": {
     "slide_type": "slide"
    }
   },
   "source": [
    "3. Написати функцію, яка приймає необмежену кількість аргументів та повертає максимальний парний аргумент"
   ]
  },
  {
   "cell_type": "markdown",
   "metadata": {
    "slideshow": {
     "slide_type": "slide"
    }
   },
   "source": [
    "4. Написати функцію, яка як аргумент приймає назву (текстом) однієї з 4-х арифметичних операцій (додавання, віднімання, множення, ділення) та повертає іншу функцію, яка виконує цю операцію для 2х змінних"
   ]
  },
  {
   "cell_type": "markdown",
   "metadata": {
    "slideshow": {
     "slide_type": "slide"
    }
   },
   "source": [
    "5. Використовуючи функцію з попереднього завдання створити список з отриманих функцій (виконують арифметичні операції) і застосувати їх по черзі до однієї пари аргументів"
   ]
  },
  {
   "cell_type": "markdown",
   "metadata": {},
   "source": [
    "6. Створити рекурсійну функцію для обчислення $n! = 1 \\cdot 2  \\cdot ...  \\cdot n$"
   ]
  },
  {
   "cell_type": "markdown",
   "metadata": {
    "slideshow": {
     "slide_type": "slide"
    }
   },
   "source": [
    "&emsp;&emsp;**Елементи функціонального програмування**"
   ]
  },
  {
   "cell_type": "markdown",
   "metadata": {
    "slideshow": {
     "slide_type": "slide"
    }
   },
   "source": [
    "&emsp;&emsp;Вбудована функція \"map\" приймає 2 аргументи: функцію, яку потрібно застосувати до послідовності та саму послідовність, а повертає результат застосування функції до всіх елементів.\n",
    "\n",
    "&emsp;&emsp;Приклад: піднесення всіх елементів послідовності до квадрату"
   ]
  },
  {
   "cell_type": "code",
   "execution_count": 9,
   "metadata": {
    "slideshow": {
     "slide_type": "fragment"
    }
   },
   "outputs": [
    {
     "name": "stdout",
     "output_type": "stream",
     "text": [
      "результатом виклику функції map є \"map\"-об'єкт: <map object at 0x000001098D67BE20>\n",
      "1\n",
      "4\n",
      "9\n",
      "16\n",
      "25\n",
      "[1, 4, 9, 16, 25]\n"
     ]
    }
   ],
   "source": [
    "# визначимо функцію, яка підносить аргумент до квадрату\n",
    "def pow2(x):    \n",
    "    return x * x\n",
    "\n",
    "arr = [1, 2, 3, 4, 5]  # визначимо послідовність, до елементів якої будемо застосовувати нашу функцію\n",
    "\n",
    "res = map(pow2, arr)  # приклад застосування функції за допомогою \"map\"\n",
    "print('результатом виклику функції map є \"map\"-об\\'єкт:', res)\n",
    "\n",
    "# по елементам нашого результату можна пройтися циклом:\n",
    "for i in res:\n",
    "    print(i)\n",
    "    \n",
    "# або перетворити до бажаної колекції, наприклад, до списку:\n",
    "res_list = list(map(pow2, arr))\n",
    "print(res_list)"
   ]
  },
  {
   "cell_type": "markdown",
   "metadata": {
    "slideshow": {
     "slide_type": "slide"
    }
   },
   "source": [
    "&emsp;&emsp;Часто в функцію map передають анонімну функцію для скорочення кількості коду:"
   ]
  },
  {
   "cell_type": "code",
   "execution_count": 10,
   "metadata": {
    "slideshow": {
     "slide_type": "fragment"
    }
   },
   "outputs": [
    {
     "data": {
      "text/plain": [
       "[1, 4, 9, 16, 25]"
      ]
     },
     "execution_count": 10,
     "metadata": {},
     "output_type": "execute_result"
    }
   ],
   "source": [
    "list(map(lambda x: x * x, arr))  # нам не довелося окремо визначати функцію pow2"
   ]
  },
  {
   "cell_type": "markdown",
   "metadata": {
    "slideshow": {
     "slide_type": "slide"
    }
   },
   "source": [
    "&emsp;&emsp;Вбудована функція \"filter\" приймає два аргументи: функцію, яка повертає логічне значення та послідовність елементів, до яких цю функцію застосувати. Повертає послідовність, що складається лише з тих елементів, для яких функція-аргумент повернула значення True.  \n",
    "&emsp;&emsp;Приклад: прибрати зі списку всі великі літери"
   ]
  },
  {
   "cell_type": "code",
   "execution_count": 11,
   "metadata": {
    "slideshow": {
     "slide_type": "fragment"
    }
   },
   "outputs": [
    {
     "name": "stdout",
     "output_type": "stream",
     "text": [
      "['a', 'c']\n"
     ]
    }
   ],
   "source": [
    "# визначимо функцію, яка відрізняє велику літеру від звичайної\n",
    "def filter_func(x):    \n",
    "    return not x.isupper()\n",
    "\n",
    "arr = ['a', 'B', 'c', 'D']\n",
    "\n",
    "# за аналогією з \"map\", \"filter\" поверне об'єкт \"filter\", який можна одразу привести до типу список\n",
    "res = list(filter(filter_func, arr))\n",
    "print(res)"
   ]
  },
  {
   "cell_type": "markdown",
   "metadata": {
    "slideshow": {
     "slide_type": "slide"
    }
   },
   "source": [
    "&emsp;&emsp;Вбудована функція \"zip\" приймає на вхід довільну кількість послідовностей і повертає об'єкт \"zip\", який дозволяє ітерації кортежами, що складаються з відповідних елементів послідовностей, що знаходяться на однакових місцях.\n",
    "\n",
    "&emsp;&emsp;Приклад:"
   ]
  },
  {
   "cell_type": "code",
   "execution_count": 12,
   "metadata": {
    "slideshow": {
     "slide_type": "fragment"
    }
   },
   "outputs": [
    {
     "name": "stdout",
     "output_type": "stream",
     "text": [
      "(1, 4)\n",
      "(2, 5)\n",
      "(3, 6)\n"
     ]
    }
   ],
   "source": [
    "arr1 = [1, 2, 3]\n",
    "arr2 = [4, 5, 6]\n",
    "\n",
    "for elem in zip(arr1, arr2):\n",
    "    \n",
    "    print(elem)"
   ]
  },
  {
   "cell_type": "code",
   "execution_count": 13,
   "metadata": {
    "slideshow": {
     "slide_type": "fragment"
    }
   },
   "outputs": [
    {
     "name": "stdout",
     "output_type": "stream",
     "text": [
      "1 4 7\n",
      "2 5 8\n",
      "3 6 9\n"
     ]
    }
   ],
   "source": [
    "arr3 = [7, 8, 9]\n",
    "\n",
    "for i, j, k in zip(arr1, arr2, arr3):\n",
    "    \n",
    "    print(i, j, k)"
   ]
  },
  {
   "cell_type": "markdown",
   "metadata": {
    "slideshow": {
     "slide_type": "slide"
    }
   },
   "source": [
    "&emsp;&emsp;Якщо розміри послідовностей не збігаються, то ітерації можливі до кінця найкоротшої послідовності:"
   ]
  },
  {
   "cell_type": "code",
   "execution_count": 16,
   "metadata": {
    "slideshow": {
     "slide_type": "fragment"
    }
   },
   "outputs": [
    {
     "name": "stdout",
     "output_type": "stream",
     "text": [
      "1 1\n",
      "2 2\n"
     ]
    }
   ],
   "source": [
    "arr1 = [1, 2]\n",
    "arr2 = [1, 2, 3, 4, 5]\n",
    "\n",
    "for i, j in zip(arr1, arr2):\n",
    "    print(i, j)"
   ]
  },
  {
   "cell_type": "markdown",
   "metadata": {
    "slideshow": {
     "slide_type": "slide"
    }
   },
   "source": [
    "&emsp;&emsp;Результат застосування функції \"zip\" можна привести до іншої колекції, наприклад до кортежу:"
   ]
  },
  {
   "cell_type": "code",
   "execution_count": 18,
   "metadata": {
    "slideshow": {
     "slide_type": "fragment"
    }
   },
   "outputs": [
    {
     "name": "stdout",
     "output_type": "stream",
     "text": [
      "(2, 2)\n"
     ]
    }
   ],
   "source": [
    "print(tuple(zip(arr1, arr2)))"
   ]
  },
  {
   "cell_type": "markdown",
   "metadata": {
    "slideshow": {
     "slide_type": "slide"
    }
   },
   "source": [
    "&emsp;&emsp;**Вправи** (всі задачі реалізувати з використанням функції map, filter, zip)"
   ]
  },
  {
   "cell_type": "markdown",
   "metadata": {
    "slideshow": {
     "slide_type": "slide"
    }
   },
   "source": [
    "1. Дано список ключів та окремий список значень:"
   ]
  },
  {
   "cell_type": "code",
   "execution_count": 20,
   "metadata": {
    "slideshow": {
     "slide_type": "fragment"
    }
   },
   "outputs": [],
   "source": [
    "keys_list = [1, 2, 3, 4, 5]\n",
    "values_list = ['a', 'b', 'c', 'd', 'e']"
   ]
  },
  {
   "cell_type": "markdown",
   "metadata": {
    "slideshow": {
     "slide_type": "fragment"
    }
   },
   "source": [
    "Задача: створити словник із запропонованих пар ключ-значення"
   ]
  },
  {
   "cell_type": "code",
   "execution_count": 21,
   "metadata": {},
   "outputs": [
    {
     "data": {
      "text/plain": [
       "{1: 'a', 2: 'b', 3: 'c', 4: 'd', 5: 'e'}"
      ]
     },
     "execution_count": 21,
     "metadata": {},
     "output_type": "execute_result"
    }
   ],
   "source": [
    "prec_dict = dict(zip(keys_list, values_list))\n",
    "prec_dict"
   ]
  },
  {
   "cell_type": "code",
   "execution_count": 23,
   "metadata": {},
   "outputs": [
    {
     "data": {
      "text/plain": [
       "{1: 'a', 2: 'b', 3: 'c', 4: 'd', 5: 'e'}"
      ]
     },
     "execution_count": 23,
     "metadata": {},
     "output_type": "execute_result"
    }
   ],
   "source": [
    "keys_list = [1,2,3,4,5]\n",
    "value_list = ['a','b','c','d','e']\n",
    "slovnuk = dict(zip(keys_list,value_list))\n",
    "slovnuk"
   ]
  },
  {
   "cell_type": "markdown",
   "metadata": {
    "slideshow": {
     "slide_type": "slide"
    }
   },
   "source": [
    "2. Дано кортеж слов"
   ]
  },
  {
   "cell_type": "code",
   "execution_count": 69,
   "metadata": {
    "slideshow": {
     "slide_type": "fragment"
    }
   },
   "outputs": [],
   "source": [
    "words_tuple = (\"demigod\", \"rewire\", \"madam\", \"freer\", \"anutforajaroftuna\", \"kiosk\")"
   ]
  },
  {
   "cell_type": "markdown",
   "metadata": {
    "slideshow": {
     "slide_type": "fragment"
    }
   },
   "source": [
    "Задача: створити список, що складається тільки з паліндромів"
   ]
  },
  {
   "cell_type": "markdown",
   "metadata": {
    "slideshow": {
     "slide_type": "slide"
    }
   },
   "source": [
    "3. Дано: 2 списка чисел"
   ]
  },
  {
   "cell_type": "code",
   "execution_count": 70,
   "metadata": {
    "slideshow": {
     "slide_type": "fragment"
    }
   },
   "outputs": [],
   "source": [
    "list1 = [1, 2, 3]\n",
    "list2 = [3, 4, 5]"
   ]
  },
  {
   "cell_type": "markdown",
   "metadata": {
    "slideshow": {
     "slide_type": "fragment"
    }
   },
   "source": [
    "Задача: створити список, елементи якого дорівнюють добуткам відповідних елементів цих списків"
   ]
  },
  {
   "cell_type": "markdown",
   "metadata": {
    "slideshow": {
     "slide_type": "slide"
    }
   },
   "source": [
    "4. Дано: таблиці з інформацією про співробітників. Кожен вкладений список містить такі елементи: номер співробітника, департамент, ЗП та рік прийому на роботу"
   ]
  },
  {
   "cell_type": "code",
   "execution_count": 71,
   "metadata": {
    "slideshow": {
     "slide_type": "fragment"
    }
   },
   "outputs": [],
   "source": [
    "workers_table = [\n",
    "    [1, 'B', 1000, 2013],\n",
    "    [2, 'B', 1500, 2014],\n",
    "    [3, 'B', 1800, 2012],\n",
    "    [4, 'A', 2500, 2016],\n",
    "    [5, 'A', 3500, 2017],\n",
    "    [6, 'A', 4500, 2011],\n",
    "]"
   ]
  },
  {
   "cell_type": "markdown",
   "metadata": {
    "slideshow": {
     "slide_type": "fragment"
    }
   },
   "source": [
    "Задача: вивести на екран інформацію про співробітників, прийнятих на роботу після 2012 року та із ЗП вище 2000. Інформація має бути в наступному текстовому форматі: \"Number: 1, Dep: B, Salary: 1000, Year: 2019\""
   ]
  },
  {
   "cell_type": "markdown",
   "metadata": {
    "slideshow": {
     "slide_type": "slide"
    }
   },
   "source": [
    "5. Дано: два списка чисел"
   ]
  },
  {
   "cell_type": "code",
   "execution_count": 72,
   "metadata": {
    "slideshow": {
     "slide_type": "fragment"
    }
   },
   "outputs": [],
   "source": [
    "num_list = [1, 2, 3, 4, 5]\n",
    "list_to_add = [1, 2, 3, 10, 100]"
   ]
  },
  {
   "cell_type": "markdown",
   "metadata": {
    "slideshow": {
     "slide_type": "fragment"
    }
   },
   "source": [
    "Задача: добавити з другого списку до першого лише ті елементи, яких у ньому ще немає"
   ]
  },
  {
   "cell_type": "markdown",
   "metadata": {
    "slideshow": {
     "slide_type": "slide"
    }
   },
   "source": [
    "&emsp;&emsp;**Обрабка помилок**"
   ]
  },
  {
   "cell_type": "markdown",
   "metadata": {
    "slideshow": {
     "slide_type": "slide"
    }
   },
   "source": [
    "&emsp;&emsp;Незважаючи на всі старання при розробці програм, уникнути помилок повністю неможливо. Наприклад, користувач може ввести 0 у програму, яка ділить одне число на інше, або файл, який ми намагаємося прочитати, пошкоджено. У разі виникнення помилки у якомусь місці програми її подальше виконання повністю переривається, що часто небажано. Для того, щоб цього уникнути, а також підказати користувачеві про те, де може бути проблема, використовується оператор обробки помилок, який у загальному випадку виглядає наступним чином:"
   ]
  },
  {
   "cell_type": "markdown",
   "metadata": {
    "slideshow": {
     "slide_type": "slide"
    }
   },
   "source": [
    "    try:  \n",
    "        <statements>  # дія, яка потенційно може призвести до помилки  \n",
    "    except (Err1, Err2, ...) as a:  \n",
    "        <statements>  # дії, у разі виникнення помилок Err1, Err2, ...\n",
    "    else:  \n",
    "        <statements>  # дії, якщо помилки не виникли  \n",
    "    finally:  \n",
    "        <statements>  # дії, незалежно від того, виникли помилки чи ні"
   ]
  },
  {
   "cell_type": "markdown",
   "metadata": {
    "slideshow": {
     "slide_type": "slide"
    }
   },
   "source": [
    "&emsp;&emsp;Розберемо обробку помилок на прикладі програми, яка обчислює відношення першого елемента списку до другого:"
   ]
  },
  {
   "cell_type": "code",
   "execution_count": 25,
   "metadata": {
    "slideshow": {
     "slide_type": "fragment"
    }
   },
   "outputs": [
    {
     "name": "stdout",
     "output_type": "stream",
     "text": [
      "1.0\n"
     ]
    }
   ],
   "source": [
    "def list_div(x):  # як аргумент функція очікує список із 2х і більше елементів    \n",
    "    return x[0] / x[1]\n",
    "\n",
    "# виведемо результат при коректному аргументі\n",
    "x = [2, 2]\n",
    "print(list_div(x))"
   ]
  },
  {
   "cell_type": "code",
   "execution_count": 26,
   "metadata": {
    "slideshow": {
     "slide_type": "subslide"
    }
   },
   "outputs": [
    {
     "ename": "ZeroDivisionError",
     "evalue": "division by zero",
     "output_type": "error",
     "traceback": [
      "\u001b[1;31m---------------------------------------------------------------------------\u001b[0m",
      "\u001b[1;31mZeroDivisionError\u001b[0m                         Traceback (most recent call last)",
      "Input \u001b[1;32mIn [26]\u001b[0m, in \u001b[0;36m<cell line: 3>\u001b[1;34m()\u001b[0m\n\u001b[0;32m      1\u001b[0m \u001b[38;5;66;03m# тепер спробуємо зробити те саме, але коли другий елемент списку дорівнює 0\u001b[39;00m\n\u001b[0;32m      2\u001b[0m x \u001b[38;5;241m=\u001b[39m [\u001b[38;5;241m2\u001b[39m, \u001b[38;5;241m0\u001b[39m]\n\u001b[1;32m----> 3\u001b[0m \u001b[38;5;28mprint\u001b[39m(\u001b[43mlist_div\u001b[49m\u001b[43m(\u001b[49m\u001b[43mx\u001b[49m\u001b[43m)\u001b[49m)\n",
      "Input \u001b[1;32mIn [25]\u001b[0m, in \u001b[0;36mlist_div\u001b[1;34m(x)\u001b[0m\n\u001b[0;32m      1\u001b[0m \u001b[38;5;28;01mdef\u001b[39;00m \u001b[38;5;21mlist_div\u001b[39m(x):  \u001b[38;5;66;03m# як аргумент функція очікує список із 2х і більше елементів    \u001b[39;00m\n\u001b[1;32m----> 2\u001b[0m     \u001b[38;5;28;01mreturn\u001b[39;00m \u001b[43mx\u001b[49m\u001b[43m[\u001b[49m\u001b[38;5;241;43m0\u001b[39;49m\u001b[43m]\u001b[49m\u001b[43m \u001b[49m\u001b[38;5;241;43m/\u001b[39;49m\u001b[43m \u001b[49m\u001b[43mx\u001b[49m\u001b[43m[\u001b[49m\u001b[38;5;241;43m1\u001b[39;49m\u001b[43m]\u001b[49m\n",
      "\u001b[1;31mZeroDivisionError\u001b[0m: division by zero"
     ]
    }
   ],
   "source": [
    "# тепер спробуємо зробити те саме, але коли другий елемент списку дорівнює 0\n",
    "x = [2, 0]\n",
    "print(list_div(x))"
   ]
  },
  {
   "cell_type": "markdown",
   "metadata": {
    "slideshow": {
     "slide_type": "subslide"
    }
   },
   "source": [
    "&emsp;&emsp;Очікувано, що ми отримуємо помилку, назва якої вказана в останньому рядку (ZeroDivisionError). Ми можемо її обробити так:"
   ]
  },
  {
   "cell_type": "code",
   "execution_count": 27,
   "metadata": {
    "slideshow": {
     "slide_type": "fragment"
    }
   },
   "outputs": [
    {
     "name": "stdout",
     "output_type": "stream",
     "text": [
      "You tried to pass a list with 0 denominator\n"
     ]
    }
   ],
   "source": [
    "try:\n",
    "    print(list_div(x))\n",
    "except ZeroDivisionError:\n",
    "    print('You tried to pass a list with 0 denominator')"
   ]
  },
  {
   "cell_type": "markdown",
   "metadata": {
    "slideshow": {
     "slide_type": "fragment"
    }
   },
   "source": [
    "&emsp;&emsp;Тепер користувач отримав підказку, що може бути не так і при цьому інші частини програми можуть продовжити виконання"
   ]
  },
  {
   "cell_type": "markdown",
   "metadata": {
    "slideshow": {
     "slide_type": "slide"
    }
   },
   "source": [
    "&emsp;&emsp;Однак потенційних помилок може бути більше, наприклад, у списку-аргументі може бути недостатньо елементів:"
   ]
  },
  {
   "cell_type": "code",
   "execution_count": 28,
   "metadata": {
    "slideshow": {
     "slide_type": "fragment"
    }
   },
   "outputs": [
    {
     "ename": "IndexError",
     "evalue": "list index out of range",
     "output_type": "error",
     "traceback": [
      "\u001b[1;31m---------------------------------------------------------------------------\u001b[0m",
      "\u001b[1;31mIndexError\u001b[0m                                Traceback (most recent call last)",
      "Input \u001b[1;32mIn [28]\u001b[0m, in \u001b[0;36m<cell line: 2>\u001b[1;34m()\u001b[0m\n\u001b[0;32m      1\u001b[0m x \u001b[38;5;241m=\u001b[39m [\u001b[38;5;241m1\u001b[39m]\n\u001b[1;32m----> 2\u001b[0m \u001b[38;5;28mprint\u001b[39m(\u001b[43mlist_div\u001b[49m\u001b[43m(\u001b[49m\u001b[43mx\u001b[49m\u001b[43m)\u001b[49m)\n",
      "Input \u001b[1;32mIn [25]\u001b[0m, in \u001b[0;36mlist_div\u001b[1;34m(x)\u001b[0m\n\u001b[0;32m      1\u001b[0m \u001b[38;5;28;01mdef\u001b[39;00m \u001b[38;5;21mlist_div\u001b[39m(x):  \u001b[38;5;66;03m# як аргумент функція очікує список із 2х і більше елементів    \u001b[39;00m\n\u001b[1;32m----> 2\u001b[0m     \u001b[38;5;28;01mreturn\u001b[39;00m x[\u001b[38;5;241m0\u001b[39m] \u001b[38;5;241m/\u001b[39m \u001b[43mx\u001b[49m\u001b[43m[\u001b[49m\u001b[38;5;241;43m1\u001b[39;49m\u001b[43m]\u001b[49m\n",
      "\u001b[1;31mIndexError\u001b[0m: list index out of range"
     ]
    }
   ],
   "source": [
    "x = [1]\n",
    "print(list_div(x))"
   ]
  },
  {
   "cell_type": "markdown",
   "metadata": {
    "slideshow": {
     "slide_type": "subslide"
    }
   },
   "source": [
    "&emsp;&emsp;Тепер ми отримали іншу помилку (IndexError), яку можемо обробити в окремому except блоці. Таких блоків може бути необмежена кількість:"
   ]
  },
  {
   "cell_type": "code",
   "execution_count": 30,
   "metadata": {
    "slideshow": {
     "slide_type": "fragment"
    }
   },
   "outputs": [
    {
     "name": "stdout",
     "output_type": "stream",
     "text": [
      "You tried to pass a list with 0 denominator\n"
     ]
    }
   ],
   "source": [
    "x = [2, 0]\n",
    "\n",
    "try:\n",
    "    print(list_div(x))\n",
    "except ZeroDivisionError:\n",
    "    print('You tried to pass a list with 0 denominator')\n",
    "except IndexError:\n",
    "    print('Too short list passed')"
   ]
  },
  {
   "cell_type": "markdown",
   "metadata": {
    "slideshow": {
     "slide_type": "slide"
    }
   },
   "source": [
    "&emsp;&emsp;Якщо планується вивести на екран однакове повідомлення при настанні однієї з помилок у списку, всі ці помилки можна перерахувати в одному except блоці через кому:"
   ]
  },
  {
   "cell_type": "code",
   "execution_count": 32,
   "metadata": {
    "slideshow": {
     "slide_type": "fragment"
    }
   },
   "outputs": [
    {
     "name": "stdout",
     "output_type": "stream",
     "text": [
      "You tried to divide by 0 or passed too short list\n"
     ]
    }
   ],
   "source": [
    "try:\n",
    "    print(list_div(x))\n",
    "except (ZeroDivisionError, IndexError):\n",
    "    print('You tried to divide by 0 or passed too short list')"
   ]
  },
  {
   "cell_type": "markdown",
   "metadata": {
    "slideshow": {
     "slide_type": "fragment"
    }
   },
   "source": [
    "&emsp;&emsp;Однак у такому разі не очевидно, яка саме помилка сталася. Щоб сповістити користувача про тип помилки можна дати їй ім'я та вивести на екран разом із повідомленням:"
   ]
  },
  {
   "cell_type": "code",
   "execution_count": 34,
   "metadata": {
    "slideshow": {
     "slide_type": "fragment"
    }
   },
   "outputs": [
    {
     "name": "stdout",
     "output_type": "stream",
     "text": [
      "You tried to divide by 0 or passed too short list\n",
      "In our case: list index out of range\n"
     ]
    }
   ],
   "source": [
    "x = []\n",
    "\n",
    "try:\n",
    "    print(list_div(x))\n",
    "except (IndexError, ZeroDivisionError) as e:\n",
    "    print('You tried to divide by 0 or passed too short list')\n",
    "    print(f'In our case: {e}')"
   ]
  },
  {
   "cell_type": "markdown",
   "metadata": {
    "slideshow": {
     "slide_type": "slide"
    }
   },
   "source": [
    "&emsp;&emsp;Якщо заздалегідь складно передбачити, що саме може піти не так, то є сенс скористатися найзагальнішим типом помилки \"Exception\", який відповідає будь-якій помилці:"
   ]
  },
  {
   "cell_type": "code",
   "execution_count": 36,
   "metadata": {
    "slideshow": {
     "slide_type": "fragment"
    }
   },
   "outputs": [
    {
     "name": "stdout",
     "output_type": "stream",
     "text": [
      "Something happened!!\n",
      "In our case: division by zero\n"
     ]
    }
   ],
   "source": [
    "x = [3, 0]\n",
    "try:\n",
    "    print(list_div(x))\n",
    "except Exception as e:\n",
    "    print('Something happened!!')\n",
    "    print(f'In our case: {e}')"
   ]
  },
  {
   "cell_type": "markdown",
   "metadata": {
    "slideshow": {
     "slide_type": "slide"
    }
   },
   "source": [
    "&emsp;&emsp;Якщо обробка різних помилок та виведення інформації про них на екран не передбачено (що не рекомендується), то можна залишити блок \"except\" порожнім:"
   ]
  },
  {
   "cell_type": "code",
   "execution_count": 39,
   "metadata": {
    "slideshow": {
     "slide_type": "fragment"
    }
   },
   "outputs": [
    {
     "name": "stdout",
     "output_type": "stream",
     "text": [
      "Something happened!!\n"
     ]
    }
   ],
   "source": [
    "try:\n",
    "    print(list_div(x))\n",
    "except:\n",
    "    print('Something happened!!')"
   ]
  },
  {
   "cell_type": "markdown",
   "metadata": {
    "slideshow": {
     "slide_type": "slide"
    }
   },
   "source": [
    "&emsp;&emsp;Якщо блок \"try\" виконався успішно, ми можемо перейти до дій, передбачених у необов'язковому \"else\":"
   ]
  },
  {
   "cell_type": "code",
   "execution_count": 41,
   "metadata": {
    "slideshow": {
     "slide_type": "fragment"
    }
   },
   "outputs": [
    {
     "name": "stdout",
     "output_type": "stream",
     "text": [
      "0.5\n",
      "Nothing happened!\n"
     ]
    }
   ],
   "source": [
    "x = [2, 4]\n",
    "try:\n",
    "    print(list_div(x))\n",
    "except Exception as e:\n",
    "    print('Something happened!!')\n",
    "    print(f'In our case: {e}')\n",
    "else:\n",
    "    print('Nothing happened!')"
   ]
  },
  {
   "cell_type": "markdown",
   "metadata": {
    "slideshow": {
     "slide_type": "slide"
    }
   },
   "source": [
    "&emsp;&emsp;Останній блок \"finally\" виконається завжди незалежно від результату блоку \"try\". Наприклад, це можливо потрібно при роботі з файлами: файл потрібно закрити в кінці роботи з ним, але цього не станеться, якщо в процесі виникла помилка. Для цього команду закрити файл зазвичай вказують у блоці \"finally\"."
   ]
  },
  {
   "cell_type": "code",
   "execution_count": 42,
   "metadata": {
    "slideshow": {
     "slide_type": "fragment"
    }
   },
   "outputs": [
    {
     "name": "stdout",
     "output_type": "stream",
     "text": [
      "0.5\n",
      "Nothing happened!\n",
      "You will always see this message!!!\n"
     ]
    }
   ],
   "source": [
    "x = [2, 4]\n",
    "try:\n",
    "    print(list_div(x))\n",
    "except Exception as e:\n",
    "    print('Something happened!!')\n",
    "    print(f'In our case: {e}')\n",
    "else:\n",
    "    print('Nothing happened!')\n",
    "finally:\n",
    "    print('You will always see this message!!!')"
   ]
  },
  {
   "cell_type": "code",
   "execution_count": null,
   "metadata": {},
   "outputs": [],
   "source": []
  }
 ],
 "metadata": {
  "celltoolbar": "Slideshow",
  "kernelspec": {
   "display_name": "Python 3.10.8 64-bit",
   "language": "python",
   "name": "python3"
  },
  "language_info": {
   "codemirror_mode": {
    "name": "ipython",
    "version": 3
   },
   "file_extension": ".py",
   "mimetype": "text/x-python",
   "name": "python",
   "nbconvert_exporter": "python",
   "pygments_lexer": "ipython3",
   "version": "3.10.8 (main, Oct 13 2022, 09:48:40) [Clang 14.0.0 (clang-1400.0.29.102)]"
  },
  "varInspector": {
   "cols": {
    "lenName": 16,
    "lenType": 16,
    "lenVar": 40
   },
   "kernels_config": {
    "python": {
     "delete_cmd_postfix": "",
     "delete_cmd_prefix": "del ",
     "library": "var_list.py",
     "varRefreshCmd": "print(var_dic_list())"
    },
    "r": {
     "delete_cmd_postfix": ") ",
     "delete_cmd_prefix": "rm(",
     "library": "var_list.r",
     "varRefreshCmd": "cat(var_dic_list()) "
    }
   },
   "types_to_exclude": [
    "module",
    "function",
    "builtin_function_or_method",
    "instance",
    "_Feature"
   ],
   "window_display": false
  },
  "vscode": {
   "interpreter": {
    "hash": "b0fa6594d8f4cbf19f97940f81e996739fb7646882a419484c72d19e05852a7e"
   }
  }
 },
 "nbformat": 4,
 "nbformat_minor": 2
}
