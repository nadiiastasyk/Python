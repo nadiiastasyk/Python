{
 "cells": [
  {
   "cell_type": "markdown",
   "metadata": {
    "slideshow": {
     "slide_type": "slide"
    }
   },
   "source": [
    "# Вправи\n",
    "(використовувати тільки матричні операції)"
   ]
  },
  {
   "cell_type": "markdown",
   "metadata": {
    "slideshow": {
     "slide_type": "slide"
    }
   },
   "source": [
    "1. Отримати суму елементів та суму квадратів елементів вектора:"
   ]
  },
  {
   "cell_type": "code",
   "execution_count": 3,
   "metadata": {},
   "outputs": [],
   "source": [
    "import numpy as np"
   ]
  },
  {
   "cell_type": "code",
   "execution_count": 4,
   "metadata": {
    "slideshow": {
     "slide_type": "fragment"
    }
   },
   "outputs": [],
   "source": [
    "v = np.array([1, 2, 3, 4, 5, 6])"
   ]
  },
  {
   "cell_type": "code",
   "execution_count": 5,
   "metadata": {},
   "outputs": [],
   "source": [
    "# np.sum(v) не можна використовувати"
   ]
  },
  {
   "cell_type": "code",
   "execution_count": 6,
   "metadata": {},
   "outputs": [
    {
     "name": "stdout",
     "output_type": "stream",
     "text": [
      "21.0\n"
     ]
    },
    {
     "data": {
      "text/plain": [
       "91.0"
      ]
     },
     "execution_count": 6,
     "metadata": {},
     "output_type": "execute_result"
    }
   ],
   "source": [
    "# сума елементів вектора v\n",
    "sum = np.ones(len(v)).dot(v)\n",
    "print(sum)\n",
    "\n",
    "# сума квадратів елементів вектора v\n",
    "np.ones(len(v)).dot(v*v)"
   ]
  },
  {
   "cell_type": "markdown",
   "metadata": {
    "slideshow": {
     "slide_type": "slide"
    }
   },
   "source": [
    "2. Для вектора попереднього завдання побудувати вектор, кожним елементом якого є середнє значення вектора."
   ]
  },
  {
   "cell_type": "code",
   "execution_count": 7,
   "metadata": {},
   "outputs": [
    {
     "name": "stdout",
     "output_type": "stream",
     "text": [
      "3.5\n",
      "[3.5 3.5 3.5 3.5 3.5 3.5]\n",
      "[3.5 3.5 3.5 3.5 3.5 3.5]\n"
     ]
    }
   ],
   "source": [
    "mean = sum/len(v)\n",
    "print(mean)\n",
    "print(np.ones(len(v)) * mean)\n",
    "print(np.array([mean for x in range(len(v))]))\n",
    "\n",
    "\n"
   ]
  },
  {
   "cell_type": "markdown",
   "metadata": {
    "slideshow": {
     "slide_type": "slide"
    }
   },
   "source": [
    "3. Написати функцію, яка приймає на вхід довільну кількість матриць, перевіряє, чи можна їх перемножити, і якщо можна, то повертає розмірність результату (можна скористатися циклом). "
   ]
  },
  {
   "cell_type": "code",
   "execution_count": 57,
   "metadata": {},
   "outputs": [],
   "source": [
    "matrix1 = np.array([\n",
    "    [12,7,3],\n",
    "    [4,5,6],\n",
    "    [7 ,8,9]])\n",
    "matrix2 = np.array([\n",
    "    [5,8,1],\n",
    "    [6,7,3],\n",
    "    [4,5,9]])"
   ]
  },
  {
   "cell_type": "code",
   "execution_count": 79,
   "metadata": {},
   "outputs": [
    {
     "name": "stdout",
     "output_type": "stream",
     "text": [
      "[[114 160  60]\n",
      " [ 74  97  73]\n",
      " [119 157 112]]\n"
     ]
    },
    {
     "ename": "ValueError",
     "evalue": "The truth value of an array with more than one element is ambiguous. Use a.any() or a.all()",
     "output_type": "error",
     "traceback": [
      "\u001b[0;31m---------------------------------------------------------------------------\u001b[0m",
      "\u001b[0;31mValueError\u001b[0m                                Traceback (most recent call last)",
      "Cell \u001b[0;32mIn [79], line 29\u001b[0m\n\u001b[1;32m     24\u001b[0m       \u001b[39mcontinue\u001b[39;00m\n\u001b[1;32m     26\u001b[0m    \u001b[39mreturn\u001b[39;00m res\u001b[39m.\u001b[39mshape\n\u001b[0;32m---> 29\u001b[0m \u001b[39mprint\u001b[39m(matrix_mult(matrix1, matrix2))\n",
      "Cell \u001b[0;32mIn [79], line 12\u001b[0m, in \u001b[0;36mmatrix_mult\u001b[0;34m(*args)\u001b[0m\n\u001b[1;32m     10\u001b[0m \u001b[39mfor\u001b[39;00m x \u001b[39min\u001b[39;00m args:\n\u001b[1;32m     11\u001b[0m  length \u001b[39m-\u001b[39m\u001b[39m=\u001b[39m \u001b[39m1\u001b[39m\n\u001b[0;32m---> 12\u001b[0m  \u001b[39mnext\u001b[39m \u001b[39m=\u001b[39m args[args\u001b[39m.\u001b[39;49mindex(x) \u001b[39m+\u001b[39m \u001b[39m1\u001b[39m]\n\u001b[1;32m     13\u001b[0m  \u001b[39mif\u001b[39;00m (current\u001b[39m.\u001b[39mshape[\u001b[39m0\u001b[39m] \u001b[39m==\u001b[39m \u001b[39mnext\u001b[39m\u001b[39m.\u001b[39mshape[\u001b[39m1\u001b[39m]):\n\u001b[1;32m     14\u001b[0m    \u001b[39m# будуємо пусту матрицю для результату множення\u001b[39;00m\n\u001b[1;32m     15\u001b[0m    res \u001b[39m=\u001b[39m np\u001b[39m.\u001b[39marray([[\u001b[39m0\u001b[39m \u001b[39mfor\u001b[39;00m x \u001b[39min\u001b[39;00m \u001b[39mrange\u001b[39m(\u001b[39mlen\u001b[39m(current))] \u001b[39mfor\u001b[39;00m y \u001b[39min\u001b[39;00m \u001b[39mrange\u001b[39m(\u001b[39mlen\u001b[39m(\u001b[39mnext\u001b[39m))])\n",
      "\u001b[0;31mValueError\u001b[0m: The truth value of an array with more than one element is ambiguous. Use a.any() or a.all()"
     ]
    }
   ],
   "source": [
    "def matrix_mult(*args) -> int:\n",
    "  # додаємо кількість аргументів, щоб стежити за останнім елементом\n",
    "  length = len(args)\n",
    "\n",
    "  # ініціюємо пустий масив\n",
    "  res = {}\n",
    "  current = args[0]\n",
    "  # перевірити кінець матриці\n",
    "  while length >= 2:\n",
    "   for x in args:\n",
    "    length -= 1\n",
    "    next = args[args.index(x) + 1]\n",
    "    if (current.shape[0] == next.shape[1]):\n",
    "      # будуємо пусту матрицю для результату множення\n",
    "      res = np.array([[0 for x in range(len(current))] for y in range(len(next))])\n",
    "      # множимо матриці\n",
    "      for a in range(len(current)):\n",
    "          for j in range(len(next[0])):\n",
    "            for b in range(len(next)):\n",
    "              res[a][j] += x[a][b] * next[b][j]\n",
    "      print(res)\n",
    "      current = res\n",
    "    else:\n",
    "      continue\n",
    "    \n",
    "   return res.shape\n",
    "\n",
    "\n",
    "print(matrix_mult(matrix1, matrix2))\n"
   ]
  },
  {
   "cell_type": "markdown",
   "metadata": {
    "slideshow": {
     "slide_type": "slide"
    }
   },
   "source": [
    "4.Обчислити вираз:"
   ]
  },
  {
   "cell_type": "markdown",
   "metadata": {
    "slideshow": {
     "slide_type": "fragment"
    }
   },
   "source": [
    "$$\\sum_{i=1}^n(x_{i} - avg(x))^{2}$$"
   ]
  },
  {
   "cell_type": "code",
   "execution_count": 93,
   "metadata": {},
   "outputs": [
    {
     "name": "stdout",
     "output_type": "stream",
     "text": [
      "4.0\n"
     ]
    }
   ],
   "source": [
    "def sol(x, i = 1, *args):\n",
    "  total = 0\n",
    "  length = 0\n",
    "  \n",
    "  for i in args:\n",
    "    total += i\n",
    "    length += 1\n",
    "    mean = total/length\n",
    "    sum = (x - mean)*(x - mean)\n",
    "  return sum\n",
    "\n",
    "print(sol(1, 2, 3))"
   ]
  },
  {
   "cell_type": "markdown",
   "metadata": {
    "slideshow": {
     "slide_type": "slide"
    }
   },
   "source": [
    "5. Вивести матрицю, яка при множенні на вектор зліва (Мх) приводить його до форми відхилення від середнього значення. Тобто, кожним елементом вектора-результату буде відповідний елемент вхідного вектора мінус середнє значення. Матриця М не повинна залежати від вхідного вектора x, а лише від його довжини. Іншими словами, для створення такої матриці має бути достатньо лише знання скільки в них елементів."
   ]
  },
  {
   "cell_type": "markdown",
   "metadata": {
    "slideshow": {
     "slide_type": "slide"
    }
   },
   "source": [
    "6. Розв'язати систему рівнянь (можна скористатися функцією кореня):"
   ]
  },
  {
   "cell_type": "markdown",
   "metadata": {
    "slideshow": {
     "slide_type": "fragment"
    }
   },
   "source": [
    "$$\n",
    "47a^{2} + 71b - 2c = 3\\\\\\\n",
    "11b - 8c = 3\\\\\\\n",
    "a^{2} + b + c = 24\\\\\\\n",
    "$$"
   ]
  }
 ],
 "metadata": {
  "celltoolbar": "Slideshow",
  "kernelspec": {
   "display_name": "Python 3.10.8 64-bit",
   "language": "python",
   "name": "python3"
  },
  "language_info": {
   "codemirror_mode": {
    "name": "ipython",
    "version": 3
   },
   "file_extension": ".py",
   "mimetype": "text/x-python",
   "name": "python",
   "nbconvert_exporter": "python",
   "pygments_lexer": "ipython3",
   "version": "3.10.8"
  },
  "toc": {
   "base_numbering": 1,
   "nav_menu": {},
   "number_sections": true,
   "sideBar": true,
   "skip_h1_title": false,
   "title_cell": "Table of Contents",
   "title_sidebar": "Contents",
   "toc_cell": false,
   "toc_position": {},
   "toc_section_display": true,
   "toc_window_display": true
  },
  "varInspector": {
   "cols": {
    "lenName": 16,
    "lenType": 16,
    "lenVar": 40
   },
   "kernels_config": {
    "python": {
     "delete_cmd_postfix": "",
     "delete_cmd_prefix": "del ",
     "library": "var_list.py",
     "varRefreshCmd": "print(var_dic_list())"
    },
    "r": {
     "delete_cmd_postfix": ") ",
     "delete_cmd_prefix": "rm(",
     "library": "var_list.r",
     "varRefreshCmd": "cat(var_dic_list()) "
    }
   },
   "types_to_exclude": [
    "module",
    "function",
    "builtin_function_or_method",
    "instance",
    "_Feature"
   ],
   "window_display": false
  },
  "vscode": {
   "interpreter": {
    "hash": "b0fa6594d8f4cbf19f97940f81e996739fb7646882a419484c72d19e05852a7e"
   }
  }
 },
 "nbformat": 4,
 "nbformat_minor": 2
}
