{
 "cells": [
  {
   "cell_type": "markdown",
   "metadata": {},
   "source": [
    "# # Завдання 1\n",
    "Перевірити чи рік є високосний для даного формату змінної (тобто, дата буде подаватися наступного формату)  \n",
    "Якщо він кратний 4, але не кратний 100, а також якщо він кратний 400."
   ]
  },
  {
   "cell_type": "code",
   "execution_count": 22,
   "metadata": {},
   "outputs": [
    {
     "name": "stdout",
     "output_type": "stream",
     "text": [
      "2019 рік не є високосним.\n"
     ]
    }
   ],
   "source": [
    "input_date = '2019-05-23'\n",
    "year = int(input_date[:4])\n",
    "if (year % 4 == 0 and year % 100 != 0) or (year % 400 == 0):\n",
    "    print(\"{} рік є високосним.\".format(year))\n",
    "else:\n",
    "    print(\"{} рік не є високосним.\".format(year))\n"
   ]
  },
  {
   "cell_type": "markdown",
   "metadata": {},
   "source": [
    "# # Завдання 2\n",
    "Вивести на екран всі числа, які більші за середнє значення списка "
   ]
  },
  {
   "cell_type": "code",
   "execution_count": 23,
   "metadata": {},
   "outputs": [
    {
     "name": "stdout",
     "output_type": "stream",
     "text": [
      "[76, 44, 56]\n"
     ]
    }
   ],
   "source": [
    "input_list = [1, 6, 13, 76, 44, 56, 12, 13, 7, 8, 9]\n",
    "print([\n",
    "    n for n in input_list \n",
    "    if n > sum(input_list)/len(input_list)\n",
    "    ])"
   ]
  },
  {
   "cell_type": "markdown",
   "metadata": {},
   "source": [
    "# # Завдання 3\n",
    "Дано рядок слів. Створити словник, ключами якого є слова з дано рядка, а значеннями - кількість появ слова в рядку (пунктуацію попередньо видаліть)."
   ]
  },
  {
   "cell_type": "code",
   "execution_count": 1,
   "metadata": {},
   "outputs": [
    {
     "name": "stdout",
     "output_type": "stream",
     "text": [
      "4\n",
      "{'let': 1, 'me': 2, 'not': 4, 'to': 4, 'the': 4, 'marriage': 1, 'of': 2, 'true': 1, 'minds': 1, 'admit': 1, 'impediments': 1, 'love': 3, 'is': 4, 'which': 1, 'alters': 2, 'when': 1, 'it': 4, 'alteration': 1, 'finds': 1, 'or': 1, 'bends': 1, 'with': 2, 'remover': 1, 'remove': 1, 'o': 1, 'no': 2, 'an': 1, 'ever': 2, 'fixèd': 1, 'mark': 1, 'that': 1, 'looks': 1, 'on': 1, 'tempests': 1, 'and': 4, 'never': 2, 'shaken': 1, 'star': 1, 'every': 1, \"wand'ring\": 1, 'bark': 1, 'whose': 1, \"worth's\": 1, 'unknown': 1, 'although': 1, 'his': 3, 'height': 1, 'be': 2, 'taken': 1, \"love's\": 1, \"time's\": 1, 'fool': 1, 'though': 1, 'rosy': 1, 'lips': 1, 'cheeks': 1, 'within': 1, 'bending': 1, \"sickle's\": 1, 'compass': 1, 'come': 1, 'brief': 1, 'hours': 1, 'weeks': 1, 'but': 1, 'bears': 1, 'out': 1, 'even': 1, 'edge': 1, 'doom': 1, 'if': 1, 'this': 1, 'error': 1, 'upon': 1, 'proved': 1, 'i': 1, 'writ': 1, 'nor': 1, 'man': 1, 'loved': 1}\n"
     ]
    }
   ],
   "source": [
    "text = \"\"\"Let me not to the marriage of true minds. Admit impediments, love is not love. Which alters when it alteration finds, Or bends with the remover to remove. O no, it is an ever fixèd mark. That looks on tempests and is never shaken; It is the star to every wand'ring bark, \n",
    "Whose worth's unknown although his height be taken. Love's not time's fool, though rosy lips and cheeks. Within his bending sickle's compass come, Love alters not with his brief hours and weeks, But bears it out even to the edge of doom: If this be error and upon me proved, I never writ, nor no man ever loved.\"\"\"\n",
    "\n",
    "dictionary = {}\n",
    "word = ''\n",
    "for x in text:\n",
    "    if x != '.' and not x.isspace() and  x != ',' and  x != ':' and x != ';':\n",
    "        word += x.lower()\n",
    "    elif word != '':\n",
    "        if word in dictionary.keys():\n",
    "            dictionary[word] += 1\n",
    "        else:\n",
    "            dictionary.update({word: 1})\n",
    "        word = ''\n",
    "    else: \n",
    "        continue       \n",
    "print(dictionary)\n",
    "\n",
    "# not word.isspace() не працює після elif - не розумію чому, але word != '' спрацювало"
   ]
  },
  {
   "cell_type": "markdown",
   "metadata": {},
   "source": [
    "# # Завдання 4\n",
    "Елементами списку є слова. Знайти слова в списку з найбільшою і найменшою кількістю літер (апостроф літерою не вважати). Якщо найбільших, чи найменших слів є кілька, что надрукувати всі."
   ]
  },
  {
   "cell_type": "code",
   "execution_count": 76,
   "metadata": {},
   "outputs": [
    {
     "name": "stdout",
     "output_type": "stream",
     "text": [
      "Найкоротше слово: it\n",
      "Найкоротше слово: is\n",
      "Найкоротше слово: to\n",
      "Найдовше слово: wand'ring\n",
      "Найдовше слово: although\n",
      "Найкоротше слово: be\n"
     ]
    }
   ],
   "source": [
    "strings = ['it', 'is', 'the', 'star', 'to', 'every', 'wand\\'ring', 'bark', 'whose', \"worth\\'s\", 'unknown', 'although', 'his', 'height', 'be', 'taken']\n",
    "min = 100\n",
    "max = 0\n",
    "dictionary = {}\n",
    "for word in strings:\n",
    "    length = 0\n",
    "    for letter in word:\n",
    "        if letter != \"'\":\n",
    "         length += 1\n",
    "    max = length if length > max else max\n",
    "    min = length if length < min else min  \n",
    "\n",
    "    if word not in dictionary:\n",
    "        dictionary.update({word: length})\n",
    "        \n",
    "for wlen in dictionary:\n",
    "    if dictionary[wlen] == max:\n",
    "        print(\"Найдовше слово: {}\".format(wlen))\n",
    "    elif dictionary[wlen] == min:\n",
    "        print(\"Найкоротше слово: {}\".format(wlen))"
   ]
  },
  {
   "cell_type": "markdown",
   "metadata": {},
   "source": [
    "# # Завдання 5\n",
    "Знайти значення суми\n",
    "1/1<sup>2</sup> + 1/2<sup>2</sup> + 1/3<sup>2</sup> + 1/4<sup>2</sup> + ... + 1/n<sup>2</sup> "
   ]
  },
  {
   "cell_type": "code",
   "execution_count": 3,
   "metadata": {},
   "outputs": [
    {
     "name": "stdout",
     "output_type": "stream",
     "text": [
      "1.6349839001848923\n"
     ]
    }
   ],
   "source": [
    "def findSum(n, i = 1, sum = 0):\n",
    "    while i < n + 1:\n",
    "        sum += 1/pow(i, 2)\n",
    "        i += 1\n",
    "    return sum\n",
    "\n",
    "print(findSum(100))"
   ]
  },
  {
   "cell_type": "code",
   "execution_count": null,
   "metadata": {},
   "outputs": [],
   "source": []
  }
 ],
 "metadata": {
  "kernelspec": {
   "display_name": "Python 3.10.8 64-bit",
   "language": "python",
   "name": "python3"
  },
  "language_info": {
   "codemirror_mode": {
    "name": "ipython",
    "version": 3
   },
   "file_extension": ".py",
   "mimetype": "text/x-python",
   "name": "python",
   "nbconvert_exporter": "python",
   "pygments_lexer": "ipython3",
   "version": "3.10.8"
  },
  "orig_nbformat": 4,
  "vscode": {
   "interpreter": {
    "hash": "b0fa6594d8f4cbf19f97940f81e996739fb7646882a419484c72d19e05852a7e"
   }
  }
 },
 "nbformat": 4,
 "nbformat_minor": 2
}
